{
  "metadata": {
    "kernelspec": {
      "name": "python3",
      "display_name": "Python 3",
      "language": "python"
    },
    "language_info": {
      "name": "python",
      "version": "3.10.12",
      "mimetype": "text/x-python",
      "codemirror_mode": {
        "name": "ipython",
        "version": 3
      },
      "pygments_lexer": "ipython3",
      "nbconvert_exporter": "python",
      "file_extension": ".py"
    },
    "colab": {
      "provenance": [],
      "gpuType": "A100",
      "machine_shape": "hm",
      "name": "i_jepa_aav.ipynb",
      "include_colab_link": true
    },
    "accelerator": "GPU",
    "kaggle": {
      "accelerator": "gpu",
      "dataSources": [
        {
          "sourceId": 11224133,
          "sourceType": "datasetVersion",
          "datasetId": 7010008
        }
      ],
      "isInternetEnabled": true,
      "language": "python",
      "sourceType": "notebook",
      "isGpuEnabled": true
    }
  },
  "nbformat_minor": 0,
  "nbformat": 4,
  "cells": [
    {
      "cell_type": "markdown",
      "metadata": {
        "id": "view-in-github",
        "colab_type": "text"
      },
      "source": [
        "<a href=\"https://colab.research.google.com/github/raihanewubd/selfSupervised/blob/main/i_jepa_aav.ipynb\" target=\"_parent\"><img src=\"https://colab.research.google.com/assets/colab-badge.svg\" alt=\"Open In Colab\"/></a>"
      ]
    },
    {
      "source": [
        "# IMPORTANT: SOME KAGGLE DATA SOURCES ARE PRIVATE\n",
        "# RUN THIS CELL IN ORDER TO IMPORT YOUR KAGGLE DATA SOURCES.\n",
        "import kagglehub\n",
        "kagglehub.login()\n"
      ],
      "metadata": {
        "id": "ECaBLnsn8qKX"
      },
      "cell_type": "code",
      "outputs": [],
      "execution_count": null
    },
    {
      "source": [
        "# IMPORTANT: RUN THIS CELL IN ORDER TO IMPORT YOUR KAGGLE DATA SOURCES,\n",
        "# THEN FEEL FREE TO DELETE THIS CELL.\n",
        "# NOTE: THIS NOTEBOOK ENVIRONMENT DIFFERS FROM KAGGLE'S PYTHON\n",
        "# ENVIRONMENT SO THERE MAY BE MISSING LIBRARIES USED BY YOUR\n",
        "# NOTEBOOK.\n",
        "\n",
        "beautifulminnd_aav_spectrogram_path = kagglehub.dataset_download('beautifulminnd/aav-spectrogram')\n",
        "\n",
        "print('Data source import complete.')\n"
      ],
      "metadata": {
        "id": "qlsmrDvX8qKm"
      },
      "cell_type": "code",
      "outputs": [],
      "execution_count": null
    },
    {
      "cell_type": "code",
      "source": [
        "from google.colab import drive\n",
        "from torchvision import datasets, transforms\n",
        "from torch.utils.data import DataLoader, random_split\n",
        "from transformers import ViTForImageClassification, ViTImageProcessor\n",
        "from collections import Counter\n",
        "import torch.nn.functional as F\n",
        "import numpy as np\n",
        "import torch\n",
        "import torch.nn as nn\n",
        "import torch.optim as optim\n",
        "import torch.optim as optim\n",
        "import time\n",
        "from tqdm import tqdm\n",
        "import torch\n",
        "import timm\n",
        "import matplotlib.pyplot as plt\n",
        "import copy\n",
        "from torchvision.models import vit_b_16\n",
        "from collections import Counter\n",
        "from tqdm import tqdm # for progress bar\n",
        "import random\n",
        "import os"
      ],
      "metadata": {
        "_uuid": "ab0f765f-50d0-4e71-934b-69036f927618",
        "_cell_guid": "1b74e769-17ce-492e-bbf7-eb90938bae5d",
        "id": "7Qm5o5BpuTyt",
        "jupyter": {
          "outputs_hidden": false
        },
        "trusted": true
      },
      "outputs": [],
      "execution_count": 1
    },
    {
      "cell_type": "code",
      "source": [
        "drive.mount('/content/drive')"
      ],
      "metadata": {
        "_uuid": "b02bcb6e-1d67-4b0c-9d11-a22f3ab07a61",
        "_cell_guid": "d0758325-ed5a-4988-b20a-51539395a900",
        "trusted": true,
        "id": "Gxnc6znruQbZ",
        "outputId": "c20e3674-31ee-4dfa-b8af-7c2709764844",
        "jupyter": {
          "outputs_hidden": false
        },
        "colab": {
          "base_uri": "https://localhost:8080/"
        }
      },
      "outputs": [
        {
          "output_type": "stream",
          "name": "stdout",
          "text": [
            "Mounted at /content/drive\n"
          ]
        }
      ],
      "execution_count": 2
    },
    {
      "cell_type": "code",
      "source": [
        "data_dir = '/kaggle/input/aav-spectrogram/spectrogram'\n",
        "data_dir = '/content/drive/MyDrive/AAVDATASET/spectrogram'\n",
        "transform = transforms.Compose([\n",
        "    transforms.Resize((224, 224)),\n",
        "    transforms.ToTensor(),\n",
        "    transforms.Normalize(mean=[0.5], std=[0.5])\n",
        "])\n",
        "\n",
        "dataset = datasets.ImageFolder(root=data_dir, transform=transform)\n",
        "dataloader = DataLoader(dataset, batch_size=16, shuffle=True)"
      ],
      "metadata": {
        "_uuid": "2bb0d814-c433-4069-b2de-b8afb06f8c33",
        "_cell_guid": "cfbd3054-08ff-4e37-a1dd-a9816ded260d",
        "trusted": true,
        "id": "fKthbkn-t67J",
        "jupyter": {
          "outputs_hidden": false
        }
      },
      "outputs": [],
      "execution_count": 3
    },
    {
      "cell_type": "code",
      "source": [
        "# Test loading\n",
        "images, labels = next(iter(dataloader))\n",
        "print(\"Batch shape:\", images.shape)  # Should be [B, C, 224, 224]"
      ],
      "metadata": {
        "_uuid": "5d688a1b-2546-4240-bbb7-5aec8d108cfc",
        "_cell_guid": "a8f3ba24-1e87-429a-bbee-4909d3832d58",
        "trusted": true,
        "id": "C9kEg-mIKiF3",
        "outputId": "cfaa7ca3-2da0-4458-be3f-250d96642f9c",
        "jupyter": {
          "outputs_hidden": false
        },
        "colab": {
          "base_uri": "https://localhost:8080/"
        }
      },
      "outputs": [
        {
          "output_type": "stream",
          "name": "stdout",
          "text": [
            "Batch shape: torch.Size([16, 3, 224, 224])\n"
          ]
        }
      ],
      "execution_count": 4
    },
    {
      "cell_type": "code",
      "source": [
        "batch_size = 32\n",
        "train_size = int(0.8 * len(dataset))\n",
        "val_size = len(dataset) - train_size\n",
        "train_dataset, val_dataset = random_split(dataset, [train_size, val_size])\n",
        "\n",
        "train_loader = DataLoader(train_dataset, batch_size=batch_size, shuffle=True)\n",
        "val_loader = DataLoader(val_dataset, batch_size=batch_size)"
      ],
      "metadata": {
        "_uuid": "ebcd8a59-646f-41d1-98a2-6111730750c6",
        "_cell_guid": "577f43b2-192c-4d42-9928-3612f02483bc",
        "trusted": true,
        "id": "N2As1-TPux9B",
        "jupyter": {
          "outputs_hidden": false
        }
      },
      "outputs": [],
      "execution_count": 5
    },
    {
      "cell_type": "code",
      "source": [
        "plt.figure(figsize=(10, 4))\n",
        "for i in range(6):\n",
        "    img = images[i].permute(1, 2, 0) * 0.5 + 0.5  # Unnormalize\n",
        "    plt.subplot(2, 3, i+1)\n",
        "    plt.imshow(img.squeeze(), cmap='viridis')\n",
        "    plt.axis('off')\n",
        "plt.suptitle(\"Sample Spectrograms (Resized to 224×224)\")\n",
        "plt.tight_layout()\n",
        "plt.show()"
      ],
      "metadata": {
        "_uuid": "7b5e6218-b07f-4701-a372-28b857d114d6",
        "_cell_guid": "551e8024-3177-4665-896d-27a3497990e0",
        "trusted": true,
        "id": "rRDzaHnJKw9k",
        "jupyter": {
          "outputs_hidden": false
        }
      },
      "outputs": [],
      "execution_count": null
    },
    {
      "cell_type": "code",
      "source": [
        "\n",
        "\n",
        "def count_images_per_class(train_loader):\n",
        "    \"\"\"Counts the number of images per class in a train_loader.\n",
        "\n",
        "    Args:\n",
        "        train_loader: The DataLoader for the training dataset.\n",
        "\n",
        "    Returns:\n",
        "        A dictionary where keys are class labels and values are the corresponding counts.\n",
        "    \"\"\"\n",
        "\n",
        "    all_labels = []\n",
        "    for images, labels in tqdm(train_loader, desc=\"Counting images per class\"):\n",
        "        all_labels.extend(labels.tolist())  # Extend the list with labels from the batch\n",
        "\n",
        "    class_counts = Counter(all_labels)  # Count occurrences of each label\n",
        "\n",
        "    return class_counts"
      ],
      "metadata": {
        "_uuid": "c9b49613-e5e4-4a6f-ae14-7287ae13e3a4",
        "_cell_guid": "68672c2b-407b-42e6-a744-2523bf327831",
        "trusted": true,
        "jupyter": {
          "outputs_hidden": false
        },
        "id": "ktzymg7h8qKy"
      },
      "outputs": [],
      "execution_count": null
    },
    {
      "cell_type": "code",
      "source": [
        "# Get the counts and print them\n",
        "class_counts = count_images_per_class(train_loader)\n",
        "\n",
        "print(\"Images per class in train_loader:\")\n",
        "for class_label, count in class_counts.items():\n",
        "    print(f\"Class {class_label}: {count} images\")"
      ],
      "metadata": {
        "_uuid": "3e31c353-e70e-4e37-a58f-1a4d5ffab8d1",
        "_cell_guid": "46c3eb6b-6513-46a0-a732-946df9564d7e",
        "trusted": true,
        "jupyter": {
          "outputs_hidden": false
        },
        "id": "1X3l3kJ08qKy"
      },
      "outputs": [],
      "execution_count": null
    },
    {
      "cell_type": "code",
      "source": [
        "# Get the counts and print them\n",
        "class_counts = count_images_per_class(val_loader)\n",
        "\n",
        "print(\"Images per class in train_loader:\")\n",
        "for class_label, count in class_counts.items():\n",
        "    print(f\"Class {class_label}: {count} images\")"
      ],
      "metadata": {
        "_uuid": "f66b9f67-0023-42ea-bea2-456f7146ab2e",
        "_cell_guid": "a8f02f58-fcb6-4234-9407-45f1c6e3e11e",
        "trusted": true,
        "jupyter": {
          "outputs_hidden": false
        },
        "id": "t4ieAvgL8qKz"
      },
      "outputs": [],
      "execution_count": null
    },
    {
      "cell_type": "code",
      "source": [
        "def extract_blocks(image, context_scale=0.85, target_scale=0.2, num_targets=4, max_overlap=0.5):\n",
        "    # Extract a central context block.\n",
        "    _, H, W = image.shape\n",
        "    context_size = int(context_scale * H)\n",
        "    top = (H - context_size) // 2\n",
        "    left = (W - context_size) // 2\n",
        "    context_block = image[:, top:top+context_size, left:left+context_size]\n",
        "    context_block = torch.nn.functional.interpolate(context_block.unsqueeze(0), size=(224, 224), mode='bilinear', align_corners=False).squeeze(0)\n",
        "\n",
        "    # Extract num_targets target blocks randomly.\n",
        "    target_blocks = []\n",
        "    for _ in range(num_targets):\n",
        "        target_size = int(target_scale * H)\n",
        "        top_t = random.randint(0, H - target_size)\n",
        "        left_t = random.randint(0, W - target_size)\n",
        "        target_block = image[:, top_t:top_t+target_size, left_t:left_t+target_size]\n",
        "        target_block = torch.nn.functional.interpolate(target_block.unsqueeze(0), size=(224, 224), mode='bilinear', align_corners=False).squeeze(0)\n",
        "        target_blocks.append(target_block)\n",
        "    target_blocks = torch.stack(target_blocks)\n",
        "    return context_block, target_blocks, (top, left, context_size), None"
      ],
      "metadata": {
        "_uuid": "472ec271-36da-4330-89d9-beef8fa03a65",
        "_cell_guid": "88bb8d1b-8f77-4ef0-9561-13154dfc48ed",
        "trusted": true,
        "jupyter": {
          "outputs_hidden": false
        },
        "id": "fB1mtdS58qKz"
      },
      "outputs": [],
      "execution_count": 6
    },
    {
      "cell_type": "code",
      "source": [
        "class IJEPADataset(torch.utils.data.Dataset):\n",
        "    def __init__(self, base_dataset, context_scale=0.85, target_scale=0.2, num_targets=4):\n",
        "        self.base_dataset = base_dataset\n",
        "        self.context_scale = context_scale\n",
        "        self.target_scale = target_scale\n",
        "        self.num_targets = num_targets\n",
        "\n",
        "    def __len__(self):\n",
        "        return len(self.base_dataset)\n",
        "\n",
        "    def __getitem__(self, idx):\n",
        "        image, label = self.base_dataset[idx]\n",
        "        context_block, target_blocks, _, _ = extract_blocks(image, self.context_scale, self.target_scale, self.num_targets)\n",
        "        return context_block, target_blocks, label"
      ],
      "metadata": {
        "_uuid": "772f2dc6-6685-4a8d-beda-dc9089423fbf",
        "_cell_guid": "208fc17d-fc86-444d-9d21-464f592a9cd0",
        "trusted": true,
        "jupyter": {
          "outputs_hidden": false
        },
        "id": "zv6kmoK88qK0"
      },
      "outputs": [],
      "execution_count": 7
    },
    {
      "cell_type": "code",
      "source": [
        "train_ijepa_dataset = IJEPADataset(train_dataset)\n",
        "val_ijepa_dataset   = IJEPADataset(val_dataset)\n",
        "\n",
        "\n",
        "train_loader = DataLoader(train_ijepa_dataset, batch_size=32, shuffle=False)\n",
        "val_loader   = DataLoader(val_ijepa_dataset, batch_size=32, shuffle=False)"
      ],
      "metadata": {
        "_uuid": "67fe58d3-5076-436c-99b4-5350a172b545",
        "_cell_guid": "db9f91fa-4c3f-4929-a2d0-2569fce8e7d6",
        "trusted": true,
        "jupyter": {
          "outputs_hidden": false
        },
        "id": "4TjuwcOV8qK0"
      },
      "outputs": [],
      "execution_count": 8
    },
    {
      "cell_type": "markdown",
      "source": [
        "# Compare Direct Loading vs Preprossed blocks"
      ],
      "metadata": {
        "id": "IKla3laPxTdE"
      }
    },
    {
      "cell_type": "code",
      "source": [
        "n_samples = 100\n",
        "extract_times = []\n",
        "for i in range(n_samples):\n",
        "    img, label = train_dataset[i]  # Assumes train_base_dataset is already defined.\n",
        "    start = time.perf_counter()\n",
        "    # Call the extraction function (adjust parameters as needed)\n",
        "    context_block, target_blocks, _, _ = extract_blocks(img, context_scale=0.85, target_scale=0.2, num_targets=4)\n",
        "    end = time.perf_counter()\n",
        "    extract_times.append(end - start)\n",
        "\n",
        "avg_extract_time = sum(extract_times) / len(extract_times)\n",
        "print(f\"Average extract_blocks time over {n_samples} samples: {avg_extract_time:.6f} seconds\")"
      ],
      "metadata": {
        "colab": {
          "base_uri": "https://localhost:8080/"
        },
        "id": "zQmM4ioFxa_R",
        "outputId": "7db636c6-e63a-4dee-ef4b-dfd36f1b836e"
      },
      "execution_count": 12,
      "outputs": [
        {
          "output_type": "stream",
          "name": "stdout",
          "text": [
            "Average extract_blocks time over 100 samples: 0.002441 seconds\n"
          ]
        }
      ]
    },
    {
      "cell_type": "code",
      "source": [
        "import time\n",
        "import torch\n",
        "from torch.utils.data import Dataset, DataLoader\n",
        "import pickle\n",
        "import os\n",
        "\n",
        "# Assume extract_blocks and train_base_dataset are defined.\n",
        "\n",
        "class PrecomputedIJEPADataset(Dataset):\n",
        "    def __init__(self, base_dataset, context_scale=0.85, target_scale=0.2, num_targets=4, cache_file=None):\n",
        "        self.cache_file = cache_file\n",
        "        if cache_file and os.path.exists(cache_file):\n",
        "            # Load precomputed data from disk.\n",
        "            with open(cache_file, 'rb') as f:\n",
        "                self.data = pickle.load(f)\n",
        "        else:\n",
        "            self.data = []\n",
        "            for img, label in base_dataset:\n",
        "                context_block, target_blocks, _, _ = extract_blocks(img, context_scale, target_scale, num_targets)\n",
        "                self.data.append((context_block, target_blocks, label))\n",
        "            if cache_file:\n",
        "                with open(cache_file, 'wb') as f:\n",
        "                    pickle.dump(self.data, f)\n",
        "\n",
        "    def __len__(self):\n",
        "        return len(self.data)\n",
        "\n",
        "    def __getitem__(self, idx):\n",
        "        return self.data[idx]\n",
        "\n",
        "# Timing the loading of the dataset and DataLoader\n",
        "cache_path = 'precomputed_aav.pkl'\n",
        "start_time = time.time()\n",
        "\n",
        "train_ijepa_dataset = PrecomputedIJEPADataset(train_dataset, cache_file=cache_path)\n",
        "end_time_train_ijepa_dataset = time.time()\n",
        "train_loader = DataLoader(train_ijepa_dataset, batch_size=32, shuffle=True)\n",
        "\n",
        "end_time = time.time()\n",
        "print(f\"Time taken to load dataset: {end_time_train_ijepa_dataset - start_time:.4f} seconds and DataLoader: {end_time - start_time:.4f} seconds\")\n"
      ],
      "metadata": {
        "colab": {
          "base_uri": "https://localhost:8080/"
        },
        "id": "aCLTXWwhysQu",
        "outputId": "6e42ad6d-062b-4019-8eeb-50b547345bde"
      },
      "execution_count": 9,
      "outputs": [
        {
          "output_type": "stream",
          "name": "stdout",
          "text": [
            "Time taken to load dataset: 2246.4051 seconds and DataLoader: 2246.4054 seconds\n"
          ]
        }
      ]
    },
    {
      "cell_type": "code",
      "source": [
        "import time\n",
        "import pickle\n",
        "import os\n",
        "# ----- Measure cache file reading time -----\n",
        "cache_path = 'precomputed_aav.pkl'\n",
        "read_times = []\n",
        "n_reads = 10  # Number of times to load the cache file.\n",
        "\n",
        "for i in range(n_reads):\n",
        "    start = time.perf_counter()\n",
        "    with open(cache_path, 'rb') as f:\n",
        "        data = pickle.load(f)\n",
        "    end = time.perf_counter()\n",
        "    read_times.append(end - start)\n",
        "\n",
        "avg_read_time = sum(read_times) / len(read_times)\n",
        "print(f\"Average time to load cache file over {n_reads} runs: {avg_read_time:.6f} seconds\")"
      ],
      "metadata": {
        "colab": {
          "base_uri": "https://localhost:8080/"
        },
        "id": "_x7wLJhOyV0V",
        "outputId": "14dce3ad-f481-4329-f063-e518ef847a56"
      },
      "execution_count": 10,
      "outputs": [
        {
          "output_type": "stream",
          "name": "stdout",
          "text": [
            "Average time to load cache file over 10 runs: 5.557618 seconds\n"
          ]
        }
      ]
    },
    {
      "cell_type": "code",
      "source": [
        "# Timing the loading of the dataset and DataLoader\n",
        "cache_path = 'precomputed_aav.pkl'\n",
        "start_time = time.time()\n",
        "\n",
        "train_ijepa_dataset = PrecomputedIJEPADataset(train_dataset, cache_file=cache_path)\n",
        "end_time_train_ijepa_dataset = time.time()\n",
        "train_loader = DataLoader(train_ijepa_dataset, batch_size=32, shuffle=True)\n",
        "\n",
        "end_time = time.time()\n",
        "print(f\"Time taken to load dataset: {end_time_train_ijepa_dataset - start_time:.4f} seconds and DataLoader: {end_time - start_time:.4f} seconds\")"
      ],
      "metadata": {
        "colab": {
          "base_uri": "https://localhost:8080/"
        },
        "id": "PCVlnbMXGDRb",
        "outputId": "78d69080-083f-4ffa-e083-cd1d0515e7c8"
      },
      "execution_count": 11,
      "outputs": [
        {
          "output_type": "stream",
          "name": "stdout",
          "text": [
            "Time taken to load dataset: 4.4704 seconds and DataLoader: 4.4706 seconds\n"
          ]
        }
      ]
    },
    {
      "cell_type": "code",
      "source": [
        "n_samples = 100\n",
        "extract_times = []\n",
        "for i in range(n_samples):\n",
        "    start = time.perf_counter()\n",
        "    context_block, target_blocks, label = train_ijepa_dataset[i]  # Assumes train_base_dataset is already defined.\n",
        "\n",
        "    # Call the extraction function (adjust parameters as needed)\n",
        "    #context_block, target_blocks, _, _ = extract_blocks(img, context_scale=0.85, target_scale=0.2, num_targets=4)\n",
        "    end = time.perf_counter()\n",
        "    extract_times.append(end - start)\n",
        "\n",
        "avg_extract_time = sum(extract_times) / len(extract_times)\n",
        "print(f\"Average extract_blocks time over {n_samples} samples: {avg_extract_time:.6f} seconds\")"
      ],
      "metadata": {
        "colab": {
          "base_uri": "https://localhost:8080/"
        },
        "id": "hp6aB0qzGzTw",
        "outputId": "d19013a2-f61f-488b-e1ca-cae8d79c5214"
      },
      "execution_count": 12,
      "outputs": [
        {
          "output_type": "stream",
          "name": "stdout",
          "text": [
            "Average extract_blocks time over 100 samples: 0.000001 seconds\n"
          ]
        }
      ]
    },
    {
      "cell_type": "code",
      "source": [
        "def get_vit_encoder():\n",
        "    model = vit_b_16(pretrained=False)\n",
        "    model.heads = nn.Identity()  # remove classification head\n",
        "    return model"
      ],
      "metadata": {
        "_uuid": "f3ad3daa-80ba-4ae8-8b4e-770815bad02e",
        "_cell_guid": "7aeb9d44-2fd8-4da1-87c0-4b992adb53db",
        "trusted": true,
        "jupyter": {
          "outputs_hidden": false
        },
        "id": "YQIK4mND8qK1"
      },
      "outputs": [],
      "execution_count": 13
    },
    {
      "cell_type": "code",
      "source": [
        "\n",
        "context_encoder = get_vit_encoder().cuda()\n",
        "target_encoder  = get_vit_encoder().cuda()\n",
        "target_encoder.load_state_dict(context_encoder.state_dict())"
      ],
      "metadata": {
        "_uuid": "b79e21b1-3b97-4dfc-958f-bddb3c94c746",
        "_cell_guid": "2d8198b7-dbf5-4228-975a-8c733cea1a07",
        "trusted": true,
        "jupyter": {
          "outputs_hidden": false
        },
        "colab": {
          "base_uri": "https://localhost:8080/"
        },
        "id": "rkq_fT7g8qK1",
        "outputId": "3e158636-e448-44ea-a708-bd6d14c3fe2f"
      },
      "outputs": [
        {
          "output_type": "stream",
          "name": "stderr",
          "text": [
            "/usr/local/lib/python3.11/dist-packages/torchvision/models/_utils.py:208: UserWarning: The parameter 'pretrained' is deprecated since 0.13 and may be removed in the future, please use 'weights' instead.\n",
            "  warnings.warn(\n",
            "/usr/local/lib/python3.11/dist-packages/torchvision/models/_utils.py:223: UserWarning: Arguments other than a weight enum or `None` for 'weights' are deprecated since 0.13 and may be removed in the future. The current behavior is equivalent to passing `weights=None`.\n",
            "  warnings.warn(msg)\n"
          ]
        },
        {
          "output_type": "execute_result",
          "data": {
            "text/plain": [
              "<All keys matched successfully>"
            ]
          },
          "metadata": {},
          "execution_count": 14
        }
      ],
      "execution_count": 14
    },
    {
      "cell_type": "code",
      "source": [
        "class Predictor(nn.Module):\n",
        "    def __init__(self, input_dim=768, hidden_dim=768, output_dim=768, num_targets=4):\n",
        "        super().__init__()\n",
        "        self.num_targets = num_targets\n",
        "        self.mlp = nn.Sequential(\n",
        "            nn.Linear(input_dim, hidden_dim),\n",
        "            nn.ReLU(),\n",
        "            nn.Linear(hidden_dim, output_dim * num_targets)\n",
        "        )\n",
        "    def forward(self, context_repr):\n",
        "        pred = self.mlp(context_repr)\n",
        "        # Reshape to [B, num_targets, output_dim]\n",
        "        return pred.view(-1, self.num_targets, pred.size(-1) // self.num_targets)"
      ],
      "metadata": {
        "_uuid": "e303f4ac-a09b-4f56-b997-6b364d63a675",
        "_cell_guid": "9206cc42-0845-4604-ab30-6852e28e2dcb",
        "trusted": true,
        "jupyter": {
          "outputs_hidden": false
        },
        "id": "OApD7Fy68qK1"
      },
      "outputs": [],
      "execution_count": 15
    },
    {
      "cell_type": "code",
      "source": [
        "# 6. Set up optimizer, loss, and EMA update (same as your CIFAR code).\n",
        "predictor = Predictor().cuda()\n",
        "optimizer = optim.Adam(list(context_encoder.parameters()) + list(predictor.parameters()), lr=1e-3)\n",
        "criterion = nn.MSELoss()\n",
        "ema_decay = 0.99"
      ],
      "metadata": {
        "_uuid": "66d2337f-fb52-4652-9da7-242ce9d9d5e1",
        "_cell_guid": "e10ef302-1659-4a97-9bbb-2de90ac902c9",
        "trusted": true,
        "jupyter": {
          "outputs_hidden": false
        },
        "id": "ZsZNIdEk8qK2"
      },
      "outputs": [],
      "execution_count": 16
    },
    {
      "cell_type": "code",
      "source": [
        "@torch.no_grad()\n",
        "def update_ema(model, model_ema, beta):\n",
        "    for param, param_ema in zip(model.parameters(), model_ema.parameters()):\n",
        "        param_ema.data.mul_(beta).add_(param.data, alpha=1 - beta)"
      ],
      "metadata": {
        "_uuid": "0e90599a-d03d-4231-a58a-1272a3613cc3",
        "_cell_guid": "aece458a-d1da-4334-804f-b054cf8ed0fc",
        "trusted": true,
        "jupyter": {
          "outputs_hidden": false
        },
        "id": "kM60lfOw8qK2"
      },
      "outputs": [],
      "execution_count": 17
    },
    {
      "cell_type": "code",
      "source": [
        "# Create a directory for visualizations if it doesn't exist.\n",
        "#viz_dir = \"/kaggle/working/viz\"\n",
        "#os.makedirs(viz_dir, exist_ok=True)\n",
        "\n",
        "num_epochs = 100\n",
        "ema_decay = 0.99\n",
        "best_loss = float('inf')\n",
        "total_start_time = time.time()\n",
        "\n",
        "for epoch in range(num_epochs):\n",
        "    epoch_start_time = time.time()\n",
        "    context_encoder.train()\n",
        "    predictor.train()\n",
        "    running_loss = 0.0\n",
        "\n",
        "    # Enumerate over batches with a progress bar.\n",
        "    for batch_idx, (context_block, target_blocks, _) in enumerate(tqdm(train_loader, desc=f\"Epoch {epoch+1}/{num_epochs}\", leave=False)):\n",
        "        context_block = context_block.cuda()            # [B, C, 224, 224]\n",
        "        target_blocks = target_blocks.cuda()              # [B, num_targets, C, 224, 224]\n",
        "\n",
        "        # Forward pass through context encoder and predictor.\n",
        "        context_repr = context_encoder(context_block)     # [B, 768]\n",
        "        preds = predictor(context_repr)                   # [B, num_targets, 768]\n",
        "\n",
        "        B, num_targets, C, Ht, Wt = target_blocks.shape\n",
        "        target_blocks_flat = target_blocks.view(B * num_targets, C, Ht, Wt)\n",
        "        with torch.no_grad():\n",
        "            target_repr_flat = target_encoder(target_blocks_flat)\n",
        "        target_repr = target_repr_flat.view(B, num_targets, -1)\n",
        "\n",
        "        loss = criterion(preds, target_repr)\n",
        "        optimizer.zero_grad()\n",
        "        loss.backward()\n",
        "        optimizer.step()\n",
        "        update_ema(context_encoder, target_encoder, ema_decay)\n",
        "        running_loss += loss.item() * context_block.size(0)\n",
        "\n",
        "        # --- Visualization for first image of the current batch ---\n",
        "        '''with torch.no_grad():\n",
        "            # Get the first sample's context block and compute its feature vector.\n",
        "            context_img = context_block[0].cpu()  # shape: [C, 224, 224]\n",
        "            context_feat = context_encoder(context_block[0].unsqueeze(0)).cpu().squeeze(0)  # shape: [768]\n",
        "            # Reshape feature vector to a 2D heatmap (24x32).\n",
        "            context_heat = context_feat.view(24, 32).numpy()\n",
        "\n",
        "            # For target, choose the first target block of the first sample.\n",
        "            target_img = target_blocks[0][0].cpu()  # shape: [C, 224, 224]\n",
        "            target_feat = target_encoder(target_blocks[0][0].unsqueeze(0).to(context_block.device)).cpu().squeeze(0)\n",
        "            target_heat = target_feat.view(24, 32).numpy()\n",
        "\n",
        "            # Plot the images and corresponding heatmaps.\n",
        "            fig, axs = plt.subplots(2, 2, figsize=(10, 8))\n",
        "\n",
        "            # Display context block image.\n",
        "            if context_img.shape[0] == 1:\n",
        "                axs[0, 0].imshow(context_img.squeeze(), cmap='gray')\n",
        "            else:\n",
        "                axs[0, 0].imshow(context_img.permute(1, 2, 0))\n",
        "            axs[0, 0].set_title(\"Context Block\")\n",
        "            axs[0, 0].axis(\"off\")\n",
        "\n",
        "            # Display context feature heatmap.\n",
        "            im0 = axs[0, 1].imshow(context_heat, cmap=\"viridis\")\n",
        "            axs[0, 1].set_title(\"Context Feature Heatmap\")\n",
        "            axs[0, 1].axis(\"off\")\n",
        "            fig.colorbar(im0, ax=axs[0, 1])\n",
        "\n",
        "            # Display target block image.\n",
        "            if target_img.shape[0] == 1:\n",
        "                axs[1, 0].imshow(target_img.squeeze(), cmap='gray')\n",
        "            else:\n",
        "                axs[1, 0].imshow(target_img.permute(1, 2, 0))\n",
        "            axs[1, 0].set_title(\"Target Block\")\n",
        "            axs[1, 0].axis(\"off\")\n",
        "\n",
        "            # Display target feature heatmap.\n",
        "            im1 = axs[1, 1].imshow(target_heat, cmap=\"viridis\")\n",
        "            axs[1, 1].set_title(\"Target Feature Heatmap\")\n",
        "            axs[1, 1].axis(\"off\")\n",
        "            fig.colorbar(im1, ax=axs[1, 1])\n",
        "\n",
        "            # Save the visualization figure with epoch and batch number.\n",
        "            viz_path = os.path.join(viz_dir, f\"epoch{epoch+1}_batch{batch_idx+1}.png\")\n",
        "            plt.savefig(viz_path)\n",
        "            plt.close(fig)'''\n",
        "\n",
        "    epoch_loss = running_loss / len(train_ijepa_dataset)\n",
        "    epoch_time = time.time() - epoch_start_time\n",
        "    print(f\"Epoch {epoch+1}/{num_epochs} - Train Loss: {epoch_loss:.10f} - Epoch Time: {epoch_time:.2f}s\")\n",
        "\n",
        "    # Save checkpoint if current epoch loss is lower than previous best.\n",
        "    if epoch_loss < best_loss:\n",
        "        best_loss = epoch_loss\n",
        "        checkpoint = {\n",
        "            'epoch': epoch+1,\n",
        "            'context_encoder_state_dict': context_encoder.state_dict(),\n",
        "            'target_encoder_state_dict': target_encoder.state_dict(),\n",
        "            'predictor_state_dict': predictor.state_dict(),\n",
        "            'optimizer_state_dict': optimizer.state_dict(),\n",
        "            'loss': epoch_loss\n",
        "        }\n",
        "        torch.save(checkpoint, \"/content/drive/MyDrive/AAVDATASET/spectrogram/ijepa_checkpoint_best.pth\")\n",
        "        print(f\"Checkpoint saved at epoch {epoch+1} with loss {epoch_loss:.4f}\")\n",
        "\n",
        "\n",
        "total_train_time = time.time() - total_start_time\n",
        "print(f\"Total Training Time: {total_train_time:.2f}s\")"
      ],
      "metadata": {
        "_uuid": "c8659b2c-5286-4027-b97b-c1ac887bb5f6",
        "_cell_guid": "0182b713-044f-4839-9cfc-0369f1eec96d",
        "trusted": true,
        "jupyter": {
          "outputs_hidden": false
        },
        "colab": {
          "base_uri": "https://localhost:8080/",
          "height": 211
        },
        "id": "IjnBW1lE8qK2",
        "outputId": "24c0aab8-21da-4f5d-d816-37f23b478699"
      },
      "outputs": [
        {
          "output_type": "stream",
          "name": "stderr",
          "text": []
        },
        {
          "output_type": "error",
          "ename": "KeyboardInterrupt",
          "evalue": "",
          "traceback": [
            "\u001b[0;31m---------------------------------------------------------------------------\u001b[0m",
            "\u001b[0;31mKeyboardInterrupt\u001b[0m                         Traceback (most recent call last)",
            "\u001b[0;32m<ipython-input-20-f4b5d891e5b3>\u001b[0m in \u001b[0;36m<cell line: 0>\u001b[0;34m()\u001b[0m\n\u001b[1;32m     34\u001b[0m         \u001b[0moptimizer\u001b[0m\u001b[0;34m.\u001b[0m\u001b[0mstep\u001b[0m\u001b[0;34m(\u001b[0m\u001b[0;34m)\u001b[0m\u001b[0;34m\u001b[0m\u001b[0;34m\u001b[0m\u001b[0m\n\u001b[1;32m     35\u001b[0m         \u001b[0mupdate_ema\u001b[0m\u001b[0;34m(\u001b[0m\u001b[0mcontext_encoder\u001b[0m\u001b[0;34m,\u001b[0m \u001b[0mtarget_encoder\u001b[0m\u001b[0;34m,\u001b[0m \u001b[0mema_decay\u001b[0m\u001b[0;34m)\u001b[0m\u001b[0;34m\u001b[0m\u001b[0;34m\u001b[0m\u001b[0m\n\u001b[0;32m---> 36\u001b[0;31m         \u001b[0mrunning_loss\u001b[0m \u001b[0;34m+=\u001b[0m \u001b[0mloss\u001b[0m\u001b[0;34m.\u001b[0m\u001b[0mitem\u001b[0m\u001b[0;34m(\u001b[0m\u001b[0;34m)\u001b[0m \u001b[0;34m*\u001b[0m \u001b[0mcontext_block\u001b[0m\u001b[0;34m.\u001b[0m\u001b[0msize\u001b[0m\u001b[0;34m(\u001b[0m\u001b[0;36m0\u001b[0m\u001b[0;34m)\u001b[0m\u001b[0;34m\u001b[0m\u001b[0;34m\u001b[0m\u001b[0m\n\u001b[0m\u001b[1;32m     37\u001b[0m \u001b[0;34m\u001b[0m\u001b[0m\n\u001b[1;32m     38\u001b[0m         \u001b[0;31m# --- Visualization for first image of the current batch ---\u001b[0m\u001b[0;34m\u001b[0m\u001b[0;34m\u001b[0m\u001b[0m\n",
            "\u001b[0;31mKeyboardInterrupt\u001b[0m: "
          ]
        }
      ],
      "execution_count": 20
    },
    {
      "cell_type": "markdown",
      "source": [
        "# Grid Search EMA Decay"
      ],
      "metadata": {
        "id": "0iwRsWF2Jam_"
      }
    },
    {
      "cell_type": "code",
      "source": [
        "import os\n",
        "import time\n",
        "import torch\n",
        "from torch.utils.data import DataLoader\n",
        "import matplotlib.pyplot as plt\n",
        "from tqdm import tqdm\n",
        "\n",
        "# Define candidate EMA decay values.\n",
        "ema_decay_candidates = [0.1, 0.3, 0.5, 0.7, 0.95, 0.97, 0.99, 0.999]\n",
        "num_epochs_grid = 10  # Use fewer epochs for grid search.\n",
        "grid_results = {}      # To record the best loss for each candidate.\n",
        "training_curves = {}   # To store epoch loss curves for each candidate.\n",
        "\n",
        "# Loop over each EMA decay candidate.\n",
        "for candidate in ema_decay_candidates:\n",
        "    print(f\"\\nTraining with ema_decay = {candidate}\")\n",
        "\n",
        "    # Reinitialize models for each candidate.\n",
        "    context_encoder_candidate = get_vit_encoder().cuda()\n",
        "    target_encoder_candidate = get_vit_encoder().cuda()\n",
        "    target_encoder_candidate.load_state_dict(context_encoder_candidate.state_dict())\n",
        "    predictor_candidate = Predictor().cuda()\n",
        "\n",
        "    # Set up a new optimizer.\n",
        "    optimizer_candidate = torch.optim.Adam(\n",
        "        list(context_encoder_candidate.parameters()) + list(predictor_candidate.parameters()),\n",
        "        lr=1e-3\n",
        "    )\n",
        "\n",
        "    best_loss_candidate = float('inf')\n",
        "    candidate_losses = []  # To store epoch losses for this candidate.\n",
        "\n",
        "    for epoch in range(num_epochs_grid):\n",
        "        context_encoder_candidate.train()\n",
        "        predictor_candidate.train()\n",
        "        running_loss = 0.0\n",
        "        epoch_start_time = time.time()\n",
        "\n",
        "        for batch_idx, (context_block, target_blocks, _) in enumerate(\n",
        "            tqdm(train_loader, desc=f\"Candidate {candidate} Epoch {epoch+1}/{num_epochs_grid}\", leave=False)\n",
        "        ):\n",
        "            context_block = context_block.cuda()            # [B, C, 224, 224]\n",
        "            target_blocks = target_blocks.cuda()              # [B, num_targets, C, 224, 224]\n",
        "\n",
        "            # Forward pass.\n",
        "            context_repr = context_encoder_candidate(context_block)  # [B, 768]\n",
        "            preds = predictor_candidate(context_repr)                # [B, num_targets, 768]\n",
        "\n",
        "            B, num_targets, C, Ht, Wt = target_blocks.shape\n",
        "            target_blocks_flat = target_blocks.view(B * num_targets, C, Ht, Wt)\n",
        "            with torch.no_grad():\n",
        "                target_repr_flat = target_encoder_candidate(target_blocks_flat)\n",
        "            target_repr = target_repr_flat.view(B, num_targets, -1)\n",
        "\n",
        "            loss = criterion(preds, target_repr)\n",
        "            optimizer_candidate.zero_grad()\n",
        "            loss.backward()\n",
        "            optimizer_candidate.step()\n",
        "\n",
        "            # Update target encoder with the candidate's EMA decay.\n",
        "            update_ema(context_encoder_candidate, target_encoder_candidate, candidate)\n",
        "\n",
        "            running_loss += loss.item() * context_block.size(0)\n",
        "\n",
        "        epoch_loss = running_loss / len(train_ijepa_dataset)\n",
        "        candidate_losses.append(epoch_loss)\n",
        "        epoch_time = time.time() - epoch_start_time\n",
        "        print(f\"ema_decay={candidate}, Epoch {epoch+1}/{num_epochs_grid} - Loss: {epoch_loss:.10f} - Epoch Time: {epoch_time:.2f}s\")\n",
        "\n",
        "        if epoch_loss < best_loss_candidate:\n",
        "            best_loss_candidate = epoch_loss\n",
        "\n",
        "    training_curves[candidate] = candidate_losses\n",
        "    grid_results[candidate] = best_loss_candidate\n",
        "    print(f\"Candidate ema_decay = {candidate} achieved best loss: {best_loss_candidate:.10f}\")\n",
        "\n",
        "# Print grid search results.\n",
        "print(\"\\nGrid Search Results:\")\n",
        "for candidate, loss in grid_results.items():\n",
        "    print(f\"ema_decay {candidate}: Best Loss = {loss:.10f}\")\n",
        "\n",
        "# ---------------------------\n",
        "# Plot learning curves for all EMA decay candidates.\n",
        "# ---------------------------\n",
        "plt.figure(figsize=(10, 6))\n",
        "epochs = range(1, num_epochs_grid + 1)\n",
        "for candidate, losses in training_curves.items():\n",
        "    plt.plot(epochs, losses, marker='o', label=f\"ema_decay = {candidate}\")\n",
        "plt.xlabel(\"Epoch\")\n",
        "plt.ylabel(\"Training Loss\")\n",
        "plt.title(\"EMA Decay Grid Search - Training Loss Curves\")\n",
        "plt.legend()\n",
        "plt.grid(True)\n",
        "plt.tight_layout()\n",
        "plt.savefig(\"/content/drive/MyDrive/AAVDATASET/spectrogram/ema_decay_grid_search.png\")\n",
        "plt.show()\n"
      ],
      "metadata": {
        "colab": {
          "base_uri": "https://localhost:8080/",
          "height": 1000
        },
        "id": "h3j3XL5yJlI7",
        "outputId": "ff426123-3f0b-4b50-c328-4a4f8680db00"
      },
      "execution_count": 22,
      "outputs": [
        {
          "output_type": "stream",
          "name": "stdout",
          "text": [
            "\n",
            "Training with ema_decay = 0.1\n"
          ]
        },
        {
          "output_type": "stream",
          "name": "stderr",
          "text": [
            "/usr/local/lib/python3.11/dist-packages/torchvision/models/_utils.py:208: UserWarning: The parameter 'pretrained' is deprecated since 0.13 and may be removed in the future, please use 'weights' instead.\n",
            "  warnings.warn(\n",
            "/usr/local/lib/python3.11/dist-packages/torchvision/models/_utils.py:223: UserWarning: Arguments other than a weight enum or `None` for 'weights' are deprecated since 0.13 and may be removed in the future. The current behavior is equivalent to passing `weights=None`.\n",
            "  warnings.warn(msg)\n"
          ]
        },
        {
          "output_type": "stream",
          "name": "stdout",
          "text": [
            "ema_decay=0.1, Epoch 1/10 - Loss: 0.0784310110 - Epoch Time: 46.16s\n"
          ]
        },
        {
          "output_type": "stream",
          "name": "stderr",
          "text": []
        },
        {
          "output_type": "stream",
          "name": "stdout",
          "text": [
            "ema_decay=0.1, Epoch 2/10 - Loss: 0.0000022074 - Epoch Time: 46.13s\n"
          ]
        },
        {
          "output_type": "stream",
          "name": "stderr",
          "text": []
        },
        {
          "output_type": "stream",
          "name": "stdout",
          "text": [
            "ema_decay=0.1, Epoch 3/10 - Loss: 0.0000003072 - Epoch Time: 46.11s\n"
          ]
        },
        {
          "output_type": "stream",
          "name": "stderr",
          "text": []
        },
        {
          "output_type": "stream",
          "name": "stdout",
          "text": [
            "ema_decay=0.1, Epoch 4/10 - Loss: 0.0004379737 - Epoch Time: 46.14s\n"
          ]
        },
        {
          "output_type": "stream",
          "name": "stderr",
          "text": []
        },
        {
          "output_type": "stream",
          "name": "stdout",
          "text": [
            "ema_decay=0.1, Epoch 5/10 - Loss: 0.0000003881 - Epoch Time: 46.12s\n"
          ]
        },
        {
          "output_type": "stream",
          "name": "stderr",
          "text": []
        },
        {
          "output_type": "stream",
          "name": "stdout",
          "text": [
            "ema_decay=0.1, Epoch 6/10 - Loss: 0.0000002436 - Epoch Time: 46.13s\n"
          ]
        },
        {
          "output_type": "stream",
          "name": "stderr",
          "text": []
        },
        {
          "output_type": "stream",
          "name": "stdout",
          "text": [
            "ema_decay=0.1, Epoch 7/10 - Loss: 0.0003283348 - Epoch Time: 46.12s\n"
          ]
        },
        {
          "output_type": "stream",
          "name": "stderr",
          "text": []
        },
        {
          "output_type": "stream",
          "name": "stdout",
          "text": [
            "ema_decay=0.1, Epoch 8/10 - Loss: 0.0000008968 - Epoch Time: 46.13s\n"
          ]
        },
        {
          "output_type": "stream",
          "name": "stderr",
          "text": []
        },
        {
          "output_type": "stream",
          "name": "stdout",
          "text": [
            "ema_decay=0.1, Epoch 9/10 - Loss: 0.0000002289 - Epoch Time: 46.18s\n"
          ]
        },
        {
          "output_type": "stream",
          "name": "stderr",
          "text": []
        },
        {
          "output_type": "stream",
          "name": "stdout",
          "text": [
            "ema_decay=0.1, Epoch 10/10 - Loss: 0.0001838212 - Epoch Time: 46.13s\n",
            "Candidate ema_decay = 0.1 achieved best loss: 0.0000002289\n",
            "\n",
            "Training with ema_decay = 0.3\n"
          ]
        },
        {
          "output_type": "stream",
          "name": "stderr",
          "text": []
        },
        {
          "output_type": "stream",
          "name": "stdout",
          "text": [
            "ema_decay=0.3, Epoch 1/10 - Loss: 0.0700226839 - Epoch Time: 46.13s\n"
          ]
        },
        {
          "output_type": "stream",
          "name": "stderr",
          "text": []
        },
        {
          "output_type": "stream",
          "name": "stdout",
          "text": [
            "ema_decay=0.3, Epoch 2/10 - Loss: 0.0004385214 - Epoch Time: 46.09s\n"
          ]
        },
        {
          "output_type": "stream",
          "name": "stderr",
          "text": []
        },
        {
          "output_type": "stream",
          "name": "stdout",
          "text": [
            "ema_decay=0.3, Epoch 3/10 - Loss: 0.0000645120 - Epoch Time: 46.10s\n"
          ]
        },
        {
          "output_type": "stream",
          "name": "stderr",
          "text": []
        },
        {
          "output_type": "stream",
          "name": "stdout",
          "text": [
            "ema_decay=0.3, Epoch 4/10 - Loss: 0.0000002573 - Epoch Time: 46.13s\n"
          ]
        },
        {
          "output_type": "stream",
          "name": "stderr",
          "text": []
        },
        {
          "output_type": "stream",
          "name": "stdout",
          "text": [
            "ema_decay=0.3, Epoch 5/10 - Loss: 0.0006256667 - Epoch Time: 46.12s\n"
          ]
        },
        {
          "output_type": "stream",
          "name": "stderr",
          "text": []
        },
        {
          "output_type": "stream",
          "name": "stdout",
          "text": [
            "ema_decay=0.3, Epoch 6/10 - Loss: 0.0000011275 - Epoch Time: 46.10s\n"
          ]
        },
        {
          "output_type": "stream",
          "name": "stderr",
          "text": []
        },
        {
          "output_type": "stream",
          "name": "stdout",
          "text": [
            "ema_decay=0.3, Epoch 7/10 - Loss: 0.0000002301 - Epoch Time: 46.11s\n"
          ]
        },
        {
          "output_type": "stream",
          "name": "stderr",
          "text": []
        },
        {
          "output_type": "stream",
          "name": "stdout",
          "text": [
            "ema_decay=0.3, Epoch 8/10 - Loss: 0.0000002313 - Epoch Time: 46.12s\n"
          ]
        },
        {
          "output_type": "stream",
          "name": "stderr",
          "text": []
        },
        {
          "output_type": "stream",
          "name": "stdout",
          "text": [
            "ema_decay=0.3, Epoch 9/10 - Loss: 0.0001898884 - Epoch Time: 46.11s\n"
          ]
        },
        {
          "output_type": "stream",
          "name": "stderr",
          "text": []
        },
        {
          "output_type": "stream",
          "name": "stdout",
          "text": [
            "ema_decay=0.3, Epoch 10/10 - Loss: 0.0000863488 - Epoch Time: 46.07s\n",
            "Candidate ema_decay = 0.3 achieved best loss: 0.0000002301\n",
            "\n",
            "Training with ema_decay = 0.5\n"
          ]
        },
        {
          "output_type": "stream",
          "name": "stderr",
          "text": []
        },
        {
          "output_type": "stream",
          "name": "stdout",
          "text": [
            "ema_decay=0.5, Epoch 1/10 - Loss: 0.0675618922 - Epoch Time: 46.14s\n"
          ]
        },
        {
          "output_type": "stream",
          "name": "stderr",
          "text": []
        },
        {
          "output_type": "stream",
          "name": "stdout",
          "text": [
            "ema_decay=0.5, Epoch 2/10 - Loss: 0.0002461277 - Epoch Time: 46.11s\n"
          ]
        },
        {
          "output_type": "stream",
          "name": "stderr",
          "text": []
        },
        {
          "output_type": "stream",
          "name": "stdout",
          "text": [
            "ema_decay=0.5, Epoch 3/10 - Loss: 0.0002542916 - Epoch Time: 46.10s\n"
          ]
        },
        {
          "output_type": "stream",
          "name": "stderr",
          "text": []
        },
        {
          "output_type": "stream",
          "name": "stdout",
          "text": [
            "ema_decay=0.5, Epoch 4/10 - Loss: 0.0004119619 - Epoch Time: 46.12s\n"
          ]
        },
        {
          "output_type": "stream",
          "name": "stderr",
          "text": []
        },
        {
          "output_type": "stream",
          "name": "stdout",
          "text": [
            "ema_decay=0.5, Epoch 5/10 - Loss: 0.0000006873 - Epoch Time: 46.12s\n"
          ]
        },
        {
          "output_type": "stream",
          "name": "stderr",
          "text": []
        },
        {
          "output_type": "stream",
          "name": "stdout",
          "text": [
            "ema_decay=0.5, Epoch 6/10 - Loss: 0.0004438784 - Epoch Time: 46.13s\n"
          ]
        },
        {
          "output_type": "stream",
          "name": "stderr",
          "text": []
        },
        {
          "output_type": "stream",
          "name": "stdout",
          "text": [
            "ema_decay=0.5, Epoch 7/10 - Loss: 0.0000712131 - Epoch Time: 46.11s\n"
          ]
        },
        {
          "output_type": "stream",
          "name": "stderr",
          "text": []
        },
        {
          "output_type": "stream",
          "name": "stdout",
          "text": [
            "ema_decay=0.5, Epoch 8/10 - Loss: 0.0000003021 - Epoch Time: 46.12s\n"
          ]
        },
        {
          "output_type": "stream",
          "name": "stderr",
          "text": []
        },
        {
          "output_type": "stream",
          "name": "stdout",
          "text": [
            "ema_decay=0.5, Epoch 9/10 - Loss: 0.0000002980 - Epoch Time: 46.12s\n"
          ]
        },
        {
          "output_type": "stream",
          "name": "stderr",
          "text": []
        },
        {
          "output_type": "stream",
          "name": "stdout",
          "text": [
            "ema_decay=0.5, Epoch 10/10 - Loss: 0.0000003078 - Epoch Time: 46.11s\n",
            "Candidate ema_decay = 0.5 achieved best loss: 0.0000002980\n",
            "\n",
            "Training with ema_decay = 0.7\n"
          ]
        },
        {
          "output_type": "stream",
          "name": "stderr",
          "text": []
        },
        {
          "output_type": "stream",
          "name": "stdout",
          "text": [
            "ema_decay=0.7, Epoch 1/10 - Loss: 0.0688861864 - Epoch Time: 46.16s\n"
          ]
        },
        {
          "output_type": "stream",
          "name": "stderr",
          "text": []
        },
        {
          "output_type": "stream",
          "name": "stdout",
          "text": [
            "ema_decay=0.7, Epoch 2/10 - Loss: 0.0007176568 - Epoch Time: 46.13s\n"
          ]
        },
        {
          "output_type": "stream",
          "name": "stderr",
          "text": []
        },
        {
          "output_type": "stream",
          "name": "stdout",
          "text": [
            "ema_decay=0.7, Epoch 3/10 - Loss: 0.0000073857 - Epoch Time: 46.14s\n"
          ]
        },
        {
          "output_type": "stream",
          "name": "stderr",
          "text": []
        },
        {
          "output_type": "stream",
          "name": "stdout",
          "text": [
            "ema_decay=0.7, Epoch 4/10 - Loss: 0.0004270519 - Epoch Time: 46.14s\n"
          ]
        },
        {
          "output_type": "stream",
          "name": "stderr",
          "text": []
        },
        {
          "output_type": "stream",
          "name": "stdout",
          "text": [
            "ema_decay=0.7, Epoch 5/10 - Loss: 0.0000394836 - Epoch Time: 46.13s\n"
          ]
        },
        {
          "output_type": "stream",
          "name": "stderr",
          "text": []
        },
        {
          "output_type": "stream",
          "name": "stdout",
          "text": [
            "ema_decay=0.7, Epoch 6/10 - Loss: 0.0000004578 - Epoch Time: 46.07s\n"
          ]
        },
        {
          "output_type": "stream",
          "name": "stderr",
          "text": []
        },
        {
          "output_type": "stream",
          "name": "stdout",
          "text": [
            "ema_decay=0.7, Epoch 7/10 - Loss: 0.0004078798 - Epoch Time: 46.11s\n"
          ]
        },
        {
          "output_type": "stream",
          "name": "stderr",
          "text": []
        },
        {
          "output_type": "stream",
          "name": "stdout",
          "text": [
            "ema_decay=0.7, Epoch 8/10 - Loss: 0.0000036086 - Epoch Time: 46.11s\n"
          ]
        },
        {
          "output_type": "stream",
          "name": "stderr",
          "text": []
        },
        {
          "output_type": "stream",
          "name": "stdout",
          "text": [
            "ema_decay=0.7, Epoch 9/10 - Loss: 0.0000003904 - Epoch Time: 46.10s\n"
          ]
        },
        {
          "output_type": "stream",
          "name": "stderr",
          "text": []
        },
        {
          "output_type": "stream",
          "name": "stdout",
          "text": [
            "ema_decay=0.7, Epoch 10/10 - Loss: 0.0000162674 - Epoch Time: 46.13s\n",
            "Candidate ema_decay = 0.7 achieved best loss: 0.0000003904\n",
            "\n",
            "Training with ema_decay = 0.95\n"
          ]
        },
        {
          "output_type": "stream",
          "name": "stderr",
          "text": []
        },
        {
          "output_type": "stream",
          "name": "stdout",
          "text": [
            "ema_decay=0.95, Epoch 1/10 - Loss: 0.0639305694 - Epoch Time: 46.16s\n"
          ]
        },
        {
          "output_type": "stream",
          "name": "stderr",
          "text": []
        },
        {
          "output_type": "stream",
          "name": "stdout",
          "text": [
            "ema_decay=0.95, Epoch 2/10 - Loss: 0.0000024178 - Epoch Time: 46.13s\n"
          ]
        },
        {
          "output_type": "stream",
          "name": "stderr",
          "text": []
        },
        {
          "output_type": "stream",
          "name": "stdout",
          "text": [
            "ema_decay=0.95, Epoch 3/10 - Loss: 0.0000003071 - Epoch Time: 46.14s\n"
          ]
        },
        {
          "output_type": "stream",
          "name": "stderr",
          "text": []
        },
        {
          "output_type": "stream",
          "name": "stdout",
          "text": [
            "ema_decay=0.95, Epoch 4/10 - Loss: 0.0004783561 - Epoch Time: 46.11s\n"
          ]
        },
        {
          "output_type": "stream",
          "name": "stderr",
          "text": []
        },
        {
          "output_type": "stream",
          "name": "stdout",
          "text": [
            "ema_decay=0.95, Epoch 5/10 - Loss: 0.0000235722 - Epoch Time: 46.12s\n"
          ]
        },
        {
          "output_type": "stream",
          "name": "stderr",
          "text": []
        },
        {
          "output_type": "stream",
          "name": "stdout",
          "text": [
            "ema_decay=0.95, Epoch 6/10 - Loss: 0.0000003004 - Epoch Time: 46.13s\n"
          ]
        },
        {
          "output_type": "stream",
          "name": "stderr",
          "text": []
        },
        {
          "output_type": "stream",
          "name": "stdout",
          "text": [
            "ema_decay=0.95, Epoch 7/10 - Loss: 0.0003493669 - Epoch Time: 46.11s\n"
          ]
        },
        {
          "output_type": "stream",
          "name": "stderr",
          "text": []
        },
        {
          "output_type": "stream",
          "name": "stdout",
          "text": [
            "ema_decay=0.95, Epoch 8/10 - Loss: 0.0000157483 - Epoch Time: 46.10s\n"
          ]
        },
        {
          "output_type": "stream",
          "name": "stderr",
          "text": []
        },
        {
          "output_type": "stream",
          "name": "stdout",
          "text": [
            "ema_decay=0.95, Epoch 9/10 - Loss: 0.0000002845 - Epoch Time: 46.14s\n"
          ]
        },
        {
          "output_type": "stream",
          "name": "stderr",
          "text": []
        },
        {
          "output_type": "stream",
          "name": "stdout",
          "text": [
            "ema_decay=0.95, Epoch 10/10 - Loss: 0.0001868156 - Epoch Time: 46.14s\n",
            "Candidate ema_decay = 0.95 achieved best loss: 0.0000002845\n",
            "\n",
            "Training with ema_decay = 0.97\n"
          ]
        },
        {
          "output_type": "stream",
          "name": "stderr",
          "text": []
        },
        {
          "output_type": "stream",
          "name": "stdout",
          "text": [
            "ema_decay=0.97, Epoch 1/10 - Loss: 0.0612728220 - Epoch Time: 46.15s\n"
          ]
        },
        {
          "output_type": "stream",
          "name": "stderr",
          "text": []
        },
        {
          "output_type": "stream",
          "name": "stdout",
          "text": [
            "ema_decay=0.97, Epoch 2/10 - Loss: 0.0004886564 - Epoch Time: 46.11s\n"
          ]
        },
        {
          "output_type": "stream",
          "name": "stderr",
          "text": []
        },
        {
          "output_type": "stream",
          "name": "stdout",
          "text": [
            "ema_decay=0.97, Epoch 3/10 - Loss: 0.0005727063 - Epoch Time: 46.11s\n"
          ]
        },
        {
          "output_type": "stream",
          "name": "stderr",
          "text": []
        },
        {
          "output_type": "stream",
          "name": "stdout",
          "text": [
            "ema_decay=0.97, Epoch 4/10 - Loss: 0.0000440036 - Epoch Time: 46.08s\n"
          ]
        },
        {
          "output_type": "stream",
          "name": "stderr",
          "text": []
        },
        {
          "output_type": "stream",
          "name": "stdout",
          "text": [
            "ema_decay=0.97, Epoch 5/10 - Loss: 0.0000006971 - Epoch Time: 46.12s\n"
          ]
        },
        {
          "output_type": "stream",
          "name": "stderr",
          "text": []
        },
        {
          "output_type": "stream",
          "name": "stdout",
          "text": [
            "ema_decay=0.97, Epoch 6/10 - Loss: 0.0003727488 - Epoch Time: 46.13s\n"
          ]
        },
        {
          "output_type": "stream",
          "name": "stderr",
          "text": []
        },
        {
          "output_type": "stream",
          "name": "stdout",
          "text": [
            "ema_decay=0.97, Epoch 7/10 - Loss: 0.0000091222 - Epoch Time: 46.10s\n"
          ]
        },
        {
          "output_type": "stream",
          "name": "stderr",
          "text": []
        },
        {
          "output_type": "stream",
          "name": "stdout",
          "text": [
            "ema_decay=0.97, Epoch 8/10 - Loss: 0.0000006807 - Epoch Time: 46.17s\n"
          ]
        },
        {
          "output_type": "stream",
          "name": "stderr",
          "text": []
        },
        {
          "output_type": "stream",
          "name": "stdout",
          "text": [
            "ema_decay=0.97, Epoch 9/10 - Loss: 0.0003711778 - Epoch Time: 46.06s\n"
          ]
        },
        {
          "output_type": "stream",
          "name": "stderr",
          "text": []
        },
        {
          "output_type": "stream",
          "name": "stdout",
          "text": [
            "ema_decay=0.97, Epoch 10/10 - Loss: 0.0000093919 - Epoch Time: 46.10s\n",
            "Candidate ema_decay = 0.97 achieved best loss: 0.0000006807\n",
            "\n",
            "Training with ema_decay = 0.99\n"
          ]
        },
        {
          "output_type": "stream",
          "name": "stderr",
          "text": []
        },
        {
          "output_type": "stream",
          "name": "stdout",
          "text": [
            "ema_decay=0.99, Epoch 1/10 - Loss: 0.0576062427 - Epoch Time: 46.14s\n"
          ]
        },
        {
          "output_type": "stream",
          "name": "stderr",
          "text": []
        },
        {
          "output_type": "stream",
          "name": "stdout",
          "text": [
            "ema_decay=0.99, Epoch 2/10 - Loss: 0.0003909118 - Epoch Time: 46.14s\n"
          ]
        },
        {
          "output_type": "stream",
          "name": "stderr",
          "text": []
        },
        {
          "output_type": "stream",
          "name": "stdout",
          "text": [
            "ema_decay=0.99, Epoch 3/10 - Loss: 0.0003433895 - Epoch Time: 46.18s\n"
          ]
        },
        {
          "output_type": "stream",
          "name": "stderr",
          "text": []
        },
        {
          "output_type": "stream",
          "name": "stdout",
          "text": [
            "ema_decay=0.99, Epoch 4/10 - Loss: 0.0000127078 - Epoch Time: 46.12s\n"
          ]
        },
        {
          "output_type": "stream",
          "name": "stderr",
          "text": []
        },
        {
          "output_type": "stream",
          "name": "stdout",
          "text": [
            "ema_decay=0.99, Epoch 5/10 - Loss: 0.0004761853 - Epoch Time: 46.09s\n"
          ]
        },
        {
          "output_type": "stream",
          "name": "stderr",
          "text": []
        },
        {
          "output_type": "stream",
          "name": "stdout",
          "text": [
            "ema_decay=0.99, Epoch 6/10 - Loss: 0.0000064072 - Epoch Time: 46.07s\n"
          ]
        },
        {
          "output_type": "stream",
          "name": "stderr",
          "text": []
        },
        {
          "output_type": "stream",
          "name": "stdout",
          "text": [
            "ema_decay=0.99, Epoch 7/10 - Loss: 0.0000007598 - Epoch Time: 46.12s\n"
          ]
        },
        {
          "output_type": "stream",
          "name": "stderr",
          "text": []
        },
        {
          "output_type": "stream",
          "name": "stdout",
          "text": [
            "ema_decay=0.99, Epoch 8/10 - Loss: 0.0000858958 - Epoch Time: 46.13s\n"
          ]
        },
        {
          "output_type": "stream",
          "name": "stderr",
          "text": []
        },
        {
          "output_type": "stream",
          "name": "stdout",
          "text": [
            "ema_decay=0.99, Epoch 9/10 - Loss: 0.0000210222 - Epoch Time: 46.16s\n"
          ]
        },
        {
          "output_type": "stream",
          "name": "stderr",
          "text": []
        },
        {
          "output_type": "stream",
          "name": "stdout",
          "text": [
            "ema_decay=0.99, Epoch 10/10 - Loss: 0.0003163939 - Epoch Time: 46.12s\n",
            "Candidate ema_decay = 0.99 achieved best loss: 0.0000007598\n",
            "\n",
            "Training with ema_decay = 0.999\n"
          ]
        },
        {
          "output_type": "stream",
          "name": "stderr",
          "text": []
        },
        {
          "output_type": "stream",
          "name": "stdout",
          "text": [
            "ema_decay=0.999, Epoch 1/10 - Loss: 0.0524903805 - Epoch Time: 46.13s\n"
          ]
        },
        {
          "output_type": "stream",
          "name": "stderr",
          "text": []
        },
        {
          "output_type": "stream",
          "name": "stdout",
          "text": [
            "ema_decay=0.999, Epoch 2/10 - Loss: 0.0008814383 - Epoch Time: 46.11s\n"
          ]
        },
        {
          "output_type": "stream",
          "name": "stderr",
          "text": []
        },
        {
          "output_type": "stream",
          "name": "stdout",
          "text": [
            "ema_decay=0.999, Epoch 3/10 - Loss: 0.0000694917 - Epoch Time: 46.09s\n"
          ]
        },
        {
          "output_type": "stream",
          "name": "stderr",
          "text": []
        },
        {
          "output_type": "stream",
          "name": "stdout",
          "text": [
            "ema_decay=0.999, Epoch 4/10 - Loss: 0.0002007506 - Epoch Time: 46.15s\n"
          ]
        },
        {
          "output_type": "stream",
          "name": "stderr",
          "text": []
        },
        {
          "output_type": "stream",
          "name": "stdout",
          "text": [
            "ema_decay=0.999, Epoch 5/10 - Loss: 0.0001751897 - Epoch Time: 46.07s\n"
          ]
        },
        {
          "output_type": "stream",
          "name": "stderr",
          "text": []
        },
        {
          "output_type": "stream",
          "name": "stdout",
          "text": [
            "ema_decay=0.999, Epoch 6/10 - Loss: 0.0004407998 - Epoch Time: 46.12s\n"
          ]
        },
        {
          "output_type": "stream",
          "name": "stderr",
          "text": []
        },
        {
          "output_type": "stream",
          "name": "stdout",
          "text": [
            "ema_decay=0.999, Epoch 7/10 - Loss: 0.0000127813 - Epoch Time: 46.13s\n"
          ]
        },
        {
          "output_type": "stream",
          "name": "stderr",
          "text": []
        },
        {
          "output_type": "stream",
          "name": "stdout",
          "text": [
            "ema_decay=0.999, Epoch 8/10 - Loss: 0.0000065032 - Epoch Time: 46.13s\n"
          ]
        },
        {
          "output_type": "stream",
          "name": "stderr",
          "text": []
        },
        {
          "output_type": "stream",
          "name": "stdout",
          "text": [
            "ema_decay=0.999, Epoch 9/10 - Loss: 0.0000053758 - Epoch Time: 46.12s\n"
          ]
        },
        {
          "output_type": "stream",
          "name": "stderr",
          "text": []
        },
        {
          "output_type": "stream",
          "name": "stdout",
          "text": [
            "ema_decay=0.999, Epoch 10/10 - Loss: 0.0003105117 - Epoch Time: 46.11s\n",
            "Candidate ema_decay = 0.999 achieved best loss: 0.0000053758\n",
            "\n",
            "Grid Search Results:\n",
            "ema_decay 0.1: Best Loss = 0.0000002289\n",
            "ema_decay 0.3: Best Loss = 0.0000002301\n",
            "ema_decay 0.5: Best Loss = 0.0000002980\n",
            "ema_decay 0.7: Best Loss = 0.0000003904\n",
            "ema_decay 0.95: Best Loss = 0.0000002845\n",
            "ema_decay 0.97: Best Loss = 0.0000006807\n",
            "ema_decay 0.99: Best Loss = 0.0000007598\n",
            "ema_decay 0.999: Best Loss = 0.0000053758\n"
          ]
        },
        {
          "output_type": "display_data",
          "data": {
            "text/plain": [
              "<Figure size 1000x600 with 1 Axes>"
            ],
            "image/png": "[encoded data removed]"
          },
          "metadata": {}
        }
      ]
    },
    {
      "cell_type": "markdown",
      "source": [
        "# Grid Search of learning rate for the best EMA decay"
      ],
      "metadata": {
        "id": "ydZM4o4DZen6"
      }
    },
    {
      "cell_type": "code",
      "source": [
        "import os\n",
        "import time\n",
        "import torch\n",
        "from torch.utils.data import DataLoader\n",
        "import matplotlib.pyplot as plt\n",
        "from tqdm import tqdm\n",
        "\n",
        "# Define candidate learning rate values.\n",
        "lr_candidates = [1e-4, 1e-3, 1e-2, 1e-1]\n",
        "num_epochs_grid = 10  # Use a smaller number of epochs for the grid search.\n",
        "grid_results = {}      # To record the best loss for each candidate.\n",
        "training_curves = {}   # To store per-epoch loss curves for each candidate.\n",
        "\n",
        "# Loop over each learning rate candidate.\n",
        "for lr in lr_candidates:\n",
        "    print(f\"\\nTraining with learning rate = {lr}\")\n",
        "\n",
        "    # Reinitialize models for each candidate.\n",
        "    context_encoder_candidate = get_vit_encoder().cuda()\n",
        "    target_encoder_candidate = get_vit_encoder().cuda()\n",
        "    target_encoder_candidate.load_state_dict(context_encoder_candidate.state_dict())\n",
        "    predictor_candidate = Predictor().cuda()\n",
        "\n",
        "    # Set up a new optimizer with the current learning rate.\n",
        "    optimizer_candidate = torch.optim.Adam(\n",
        "        list(context_encoder_candidate.parameters()) + list(predictor_candidate.parameters()),\n",
        "        lr=lr\n",
        "    )\n",
        "\n",
        "    best_loss_candidate = float('inf')\n",
        "    candidate_losses = []  # To store the epoch loss for this candidate.\n",
        "\n",
        "    for epoch in range(num_epochs_grid):\n",
        "        context_encoder_candidate.train()\n",
        "        predictor_candidate.train()\n",
        "        running_loss = 0.0\n",
        "        epoch_start_time = time.time()\n",
        "\n",
        "        for batch_idx, (context_block, target_blocks, _) in enumerate(\n",
        "            tqdm(train_loader, desc=f\"LR {lr} Epoch {epoch+1}/{num_epochs_grid}\", leave=False)\n",
        "        ):\n",
        "            context_block = context_block.cuda()            # [B, C, 224, 224]\n",
        "            target_blocks = target_blocks.cuda()              # [B, num_targets, C, 224, 224]\n",
        "\n",
        "            # Forward pass.\n",
        "            context_repr = context_encoder_candidate(context_block)  # [B, 768]\n",
        "            preds = predictor_candidate(context_repr)                # [B, num_targets, 768]\n",
        "\n",
        "            B, num_targets, C, Ht, Wt = target_blocks.shape\n",
        "            target_blocks_flat = target_blocks.view(B * num_targets, C, Ht, Wt)\n",
        "            with torch.no_grad():\n",
        "                target_repr_flat = target_encoder_candidate(target_blocks_flat)\n",
        "            target_repr = target_repr_flat.view(B, num_targets, -1)\n",
        "\n",
        "            loss = criterion(preds, target_repr)\n",
        "            optimizer_candidate.zero_grad()\n",
        "            loss.backward()\n",
        "            optimizer_candidate.step()\n",
        "\n",
        "            # For this grid search over learning rate, we keep the EMA update constant (e.g. using a fixed value).\n",
        "            update_ema(context_encoder_candidate, target_encoder_candidate, 0.1)\n",
        "\n",
        "            running_loss += loss.item() * context_block.size(0)\n",
        "\n",
        "        epoch_loss = running_loss / len(train_ijepa_dataset)\n",
        "        candidate_losses.append(epoch_loss)\n",
        "        epoch_time = time.time() - epoch_start_time\n",
        "        print(f\"LR {lr}, Epoch {epoch+1}/{num_epochs_grid} - Loss: {epoch_loss:.15f} - Epoch Time: {epoch_time:.2f}s\")\n",
        "\n",
        "        if epoch_loss < best_loss_candidate:\n",
        "            best_loss_candidate = epoch_loss\n",
        "\n",
        "    training_curves[lr] = candidate_losses\n",
        "    grid_results[lr] = best_loss_candidate\n",
        "    print(f\"Candidate lr = {lr} achieved best loss: {best_loss_candidate:.15f}\")\n",
        "\n",
        "# Print grid search results.\n",
        "print(\"\\nGrid Search Results:\")\n",
        "for candidate, loss in grid_results.items():\n",
        "    print(f\"Learning Rate {candidate}: Best Loss = {loss:.15f}\")\n",
        "\n",
        "# ---------------------------\n",
        "# Plot learning curves for all learning rate candidates.\n",
        "# ---------------------------\n",
        "plt.figure(figsize=(10, 6))\n",
        "epochs = range(1, num_epochs_grid + 1)\n",
        "for lr, losses in training_curves.items():\n",
        "    plt.plot(epochs, losses, marker='o', label=f\"lr = {lr}\")\n",
        "plt.xlabel(\"Epoch\")\n",
        "plt.ylabel(\"Training Loss\")\n",
        "plt.title(\"Learning Rate Grid Search - Training Loss Curves\")\n",
        "plt.legend()\n",
        "plt.grid(True)\n",
        "plt.tight_layout()\n",
        "plt.savefig(\"/content/drive/MyDrive/AAVDATASET/spectrogram/learning_rate_grid_search.png\")\n",
        "plt.show()\n"
      ],
      "metadata": {
        "colab": {
          "base_uri": "https://localhost:8080/",
          "height": 1000
        },
        "id": "qIXX-3rXZkHH",
        "outputId": "69344120-89a9-455f-bc8a-6228b2621d6d"
      },
      "execution_count": 25,
      "outputs": [
        {
          "output_type": "stream",
          "name": "stdout",
          "text": [
            "\n",
            "Training with learning rate = 0.0001\n"
          ]
        },
        {
          "output_type": "stream",
          "name": "stderr",
          "text": []
        },
        {
          "output_type": "stream",
          "name": "stdout",
          "text": [
            "LR 0.0001, Epoch 1/10 - Loss: 0.498063963439541 - Epoch Time: 46.14s\n"
          ]
        },
        {
          "output_type": "stream",
          "name": "stderr",
          "text": []
        },
        {
          "output_type": "stream",
          "name": "stdout",
          "text": [
            "LR 0.0001, Epoch 2/10 - Loss: 0.014219712249080 - Epoch Time: 46.11s\n"
          ]
        },
        {
          "output_type": "stream",
          "name": "stderr",
          "text": []
        },
        {
          "output_type": "stream",
          "name": "stdout",
          "text": [
            "LR 0.0001, Epoch 3/10 - Loss: 0.000540569737614 - Epoch Time: 46.12s\n"
          ]
        },
        {
          "output_type": "stream",
          "name": "stderr",
          "text": []
        },
        {
          "output_type": "stream",
          "name": "stdout",
          "text": [
            "LR 0.0001, Epoch 4/10 - Loss: 0.000160704426655 - Epoch Time: 46.12s\n"
          ]
        },
        {
          "output_type": "stream",
          "name": "stderr",
          "text": []
        },
        {
          "output_type": "stream",
          "name": "stdout",
          "text": [
            "LR 0.0001, Epoch 5/10 - Loss: 0.000124237333110 - Epoch Time: 46.11s\n"
          ]
        },
        {
          "output_type": "stream",
          "name": "stderr",
          "text": []
        },
        {
          "output_type": "stream",
          "name": "stdout",
          "text": [
            "LR 0.0001, Epoch 6/10 - Loss: 0.000136127216958 - Epoch Time: 46.12s\n"
          ]
        },
        {
          "output_type": "stream",
          "name": "stderr",
          "text": []
        },
        {
          "output_type": "stream",
          "name": "stdout",
          "text": [
            "LR 0.0001, Epoch 7/10 - Loss: 0.000239846976685 - Epoch Time: 46.12s\n"
          ]
        },
        {
          "output_type": "stream",
          "name": "stderr",
          "text": []
        },
        {
          "output_type": "stream",
          "name": "stdout",
          "text": [
            "LR 0.0001, Epoch 8/10 - Loss: 0.000641506814706 - Epoch Time: 46.13s\n"
          ]
        },
        {
          "output_type": "stream",
          "name": "stderr",
          "text": []
        },
        {
          "output_type": "stream",
          "name": "stdout",
          "text": [
            "LR 0.0001, Epoch 9/10 - Loss: 0.001284850918517 - Epoch Time: 46.15s\n"
          ]
        },
        {
          "output_type": "stream",
          "name": "stderr",
          "text": []
        },
        {
          "output_type": "stream",
          "name": "stdout",
          "text": [
            "LR 0.0001, Epoch 10/10 - Loss: 0.000487358888526 - Epoch Time: 46.13s\n",
            "Candidate lr = 0.0001 achieved best loss: 0.000124237333110\n",
            "\n",
            "Training with learning rate = 0.001\n"
          ]
        },
        {
          "output_type": "stream",
          "name": "stderr",
          "text": []
        },
        {
          "output_type": "stream",
          "name": "stdout",
          "text": [
            "LR 0.001, Epoch 1/10 - Loss: 0.072202424068591 - Epoch Time: 46.16s\n"
          ]
        },
        {
          "output_type": "stream",
          "name": "stderr",
          "text": []
        },
        {
          "output_type": "stream",
          "name": "stdout",
          "text": [
            "LR 0.001, Epoch 2/10 - Loss: 0.000551784663904 - Epoch Time: 46.10s\n"
          ]
        },
        {
          "output_type": "stream",
          "name": "stderr",
          "text": []
        },
        {
          "output_type": "stream",
          "name": "stdout",
          "text": [
            "LR 0.001, Epoch 3/10 - Loss: 0.000002770265308 - Epoch Time: 46.11s\n"
          ]
        },
        {
          "output_type": "stream",
          "name": "stderr",
          "text": []
        },
        {
          "output_type": "stream",
          "name": "stdout",
          "text": [
            "LR 0.001, Epoch 4/10 - Loss: 0.000492774643466 - Epoch Time: 46.09s\n"
          ]
        },
        {
          "output_type": "stream",
          "name": "stderr",
          "text": []
        },
        {
          "output_type": "stream",
          "name": "stdout",
          "text": [
            "LR 0.001, Epoch 5/10 - Loss: 0.000040934064353 - Epoch Time: 46.13s\n"
          ]
        },
        {
          "output_type": "stream",
          "name": "stderr",
          "text": []
        },
        {
          "output_type": "stream",
          "name": "stdout",
          "text": [
            "LR 0.001, Epoch 6/10 - Loss: 0.000000229584469 - Epoch Time: 46.12s\n"
          ]
        },
        {
          "output_type": "stream",
          "name": "stderr",
          "text": []
        },
        {
          "output_type": "stream",
          "name": "stdout",
          "text": [
            "LR 0.001, Epoch 7/10 - Loss: 0.000000230804334 - Epoch Time: 46.10s\n"
          ]
        },
        {
          "output_type": "stream",
          "name": "stderr",
          "text": []
        },
        {
          "output_type": "stream",
          "name": "stdout",
          "text": [
            "LR 0.001, Epoch 8/10 - Loss: 0.000440038617076 - Epoch Time: 46.12s\n"
          ]
        },
        {
          "output_type": "stream",
          "name": "stderr",
          "text": []
        },
        {
          "output_type": "stream",
          "name": "stdout",
          "text": [
            "LR 0.001, Epoch 9/10 - Loss: 0.000005090014799 - Epoch Time: 46.11s\n"
          ]
        },
        {
          "output_type": "stream",
          "name": "stderr",
          "text": []
        },
        {
          "output_type": "stream",
          "name": "stdout",
          "text": [
            "LR 0.001, Epoch 10/10 - Loss: 0.000000230879737 - Epoch Time: 46.11s\n",
            "Candidate lr = 0.001 achieved best loss: 0.000000229584469\n",
            "\n",
            "Training with learning rate = 0.01\n"
          ]
        },
        {
          "output_type": "stream",
          "name": "stderr",
          "text": []
        },
        {
          "output_type": "stream",
          "name": "stdout",
          "text": [
            "LR 0.01, Epoch 1/10 - Loss: 4.794489257405547 - Epoch Time: 46.18s\n"
          ]
        },
        {
          "output_type": "stream",
          "name": "stderr",
          "text": []
        },
        {
          "output_type": "stream",
          "name": "stdout",
          "text": [
            "LR 0.01, Epoch 2/10 - Loss: 0.000509592689505 - Epoch Time: 46.14s\n"
          ]
        },
        {
          "output_type": "stream",
          "name": "stderr",
          "text": []
        },
        {
          "output_type": "stream",
          "name": "stdout",
          "text": [
            "LR 0.01, Epoch 3/10 - Loss: 0.000404409178069 - Epoch Time: 46.14s\n"
          ]
        },
        {
          "output_type": "stream",
          "name": "stderr",
          "text": []
        },
        {
          "output_type": "stream",
          "name": "stdout",
          "text": [
            "LR 0.01, Epoch 4/10 - Loss: 0.000519562512666 - Epoch Time: 46.13s\n"
          ]
        },
        {
          "output_type": "stream",
          "name": "stderr",
          "text": []
        },
        {
          "output_type": "stream",
          "name": "stdout",
          "text": [
            "LR 0.01, Epoch 5/10 - Loss: 0.000000080805028 - Epoch Time: 46.13s\n"
          ]
        },
        {
          "output_type": "stream",
          "name": "stderr",
          "text": []
        },
        {
          "output_type": "stream",
          "name": "stdout",
          "text": [
            "LR 0.01, Epoch 6/10 - Loss: 0.001388133084067 - Epoch Time: 46.12s\n"
          ]
        },
        {
          "output_type": "stream",
          "name": "stderr",
          "text": []
        },
        {
          "output_type": "stream",
          "name": "stdout",
          "text": [
            "LR 0.01, Epoch 7/10 - Loss: 0.000003924084707 - Epoch Time: 46.13s\n"
          ]
        },
        {
          "output_type": "stream",
          "name": "stderr",
          "text": []
        },
        {
          "output_type": "stream",
          "name": "stdout",
          "text": [
            "LR 0.01, Epoch 8/10 - Loss: 0.000000021398943 - Epoch Time: 46.13s\n"
          ]
        },
        {
          "output_type": "stream",
          "name": "stderr",
          "text": []
        },
        {
          "output_type": "stream",
          "name": "stdout",
          "text": [
            "LR 0.01, Epoch 9/10 - Loss: 0.002202777306152 - Epoch Time: 46.14s\n"
          ]
        },
        {
          "output_type": "stream",
          "name": "stderr",
          "text": []
        },
        {
          "output_type": "stream",
          "name": "stdout",
          "text": [
            "LR 0.01, Epoch 10/10 - Loss: 0.000003295848366 - Epoch Time: 46.14s\n",
            "Candidate lr = 0.01 achieved best loss: 0.000000021398943\n",
            "\n",
            "Training with learning rate = 0.1\n"
          ]
        },
        {
          "output_type": "stream",
          "name": "stderr",
          "text": []
        },
        {
          "output_type": "stream",
          "name": "stdout",
          "text": [
            "LR 0.1, Epoch 1/10 - Loss: 203713.621873604453867 - Epoch Time: 46.18s\n"
          ]
        },
        {
          "output_type": "stream",
          "name": "stderr",
          "text": []
        },
        {
          "output_type": "stream",
          "name": "stdout",
          "text": [
            "LR 0.1, Epoch 2/10 - Loss: 1.207524002407797 - Epoch Time: 46.13s\n"
          ]
        },
        {
          "output_type": "stream",
          "name": "stderr",
          "text": []
        },
        {
          "output_type": "stream",
          "name": "stdout",
          "text": [
            "LR 0.1, Epoch 3/10 - Loss: 0.000269088017088 - Epoch Time: 46.15s\n"
          ]
        },
        {
          "output_type": "stream",
          "name": "stderr",
          "text": []
        },
        {
          "output_type": "stream",
          "name": "stdout",
          "text": [
            "LR 0.1, Epoch 4/10 - Loss: 0.000131968522193 - Epoch Time: 46.09s\n"
          ]
        },
        {
          "output_type": "stream",
          "name": "stderr",
          "text": []
        },
        {
          "output_type": "stream",
          "name": "stdout",
          "text": [
            "LR 0.1, Epoch 5/10 - Loss: 0.000148296969008 - Epoch Time: 46.13s\n"
          ]
        },
        {
          "output_type": "stream",
          "name": "stderr",
          "text": []
        },
        {
          "output_type": "stream",
          "name": "stdout",
          "text": [
            "LR 0.1, Epoch 6/10 - Loss: 0.000132987314694 - Epoch Time: 46.08s\n"
          ]
        },
        {
          "output_type": "stream",
          "name": "stderr",
          "text": []
        },
        {
          "output_type": "stream",
          "name": "stdout",
          "text": [
            "LR 0.1, Epoch 7/10 - Loss: 0.000136187865021 - Epoch Time: 46.12s\n"
          ]
        },
        {
          "output_type": "stream",
          "name": "stderr",
          "text": []
        },
        {
          "output_type": "stream",
          "name": "stdout",
          "text": [
            "LR 0.1, Epoch 8/10 - Loss: 0.000139452444604 - Epoch Time: 46.14s\n"
          ]
        },
        {
          "output_type": "stream",
          "name": "stderr",
          "text": []
        },
        {
          "output_type": "stream",
          "name": "stdout",
          "text": [
            "LR 0.1, Epoch 9/10 - Loss: 0.000142599534354 - Epoch Time: 46.15s\n"
          ]
        },
        {
          "output_type": "stream",
          "name": "stderr",
          "text": []
        },
        {
          "output_type": "stream",
          "name": "stdout",
          "text": [
            "LR 0.1, Epoch 10/10 - Loss: 0.000137863225002 - Epoch Time: 46.12s\n",
            "Candidate lr = 0.1 achieved best loss: 0.000131968522193\n",
            "\n",
            "Grid Search Results:\n",
            "Learning Rate 0.0001: Best Loss = 0.000124237333110\n",
            "Learning Rate 0.001: Best Loss = 0.000000229584469\n",
            "Learning Rate 0.01: Best Loss = 0.000000021398943\n",
            "Learning Rate 0.1: Best Loss = 0.000131968522193\n"
          ]
        },
        {
          "output_type": "display_data",
          "data": {
            "text/plain": [
              "<Figure size 1000x600 with 1 Axes>"
            ],
            "image/png": "[encoded data removed]"
          },
          "metadata": {}
        }
      ]
    },
    {
      "cell_type": "code",
      "source": [
        "from google.colab import output\n",
        "output.eval_js('google.colab.kernel.disconnect()')"
      ],
      "metadata": {
        "id": "OfvaWDggmMKX"
      },
      "execution_count": null,
      "outputs": []
    },
    {
      "cell_type": "code",
      "source": [
        "!kill -9 -1"
      ],
      "metadata": {
        "id": "TDqi8kpNuRWV"
      },
      "execution_count": null,
      "outputs": []
    }
  ]
}