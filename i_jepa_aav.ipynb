{
  "metadata": {
    "kernelspec": {
      "name": "python3",
      "display_name": "Python 3"
    },
    "language_info": {
      "name": "python",
      "version": "3.10.12",
      "mimetype": "text/x-python",
      "codemirror_mode": {
        "name": "ipython",
        "version": 3
      },
      "pygments_lexer": "ipython3",
      "nbconvert_exporter": "python",
      "file_extension": ".py"
    },
    "colab": {
      "provenance": [],
      "machine_shape": "hm",
      "name": "i_jepa_aav.ipynb",
      "include_colab_link": true
    },
    "kaggle": {
      "accelerator": "gpu",
      "dataSources": [
        {
          "sourceId": 11224133,
          "sourceType": "datasetVersion",
          "datasetId": 7010008
        }
      ],
      "isInternetEnabled": true,
      "language": "python",
      "sourceType": "notebook",
      "isGpuEnabled": true
    }
  },
  "nbformat_minor": 0,
  "nbformat": 4,
  "cells": [
    {
      "cell_type": "markdown",
      "metadata": {
        "id": "view-in-github",
        "colab_type": "text"
      },
      "source": [
        "<a href=\"https://colab.research.google.com/github/raihanewubd/selfSupervised/blob/main/i_jepa_aav.ipynb\" target=\"_parent\"><img src=\"https://colab.research.google.com/assets/colab-badge.svg\" alt=\"Open In Colab\"/></a>"
      ]
    },
    {
      "source": [
        "# IMPORTANT: SOME KAGGLE DATA SOURCES ARE PRIVATE\n",
        "# RUN THIS CELL IN ORDER TO IMPORT YOUR KAGGLE DATA SOURCES.\n",
        "import kagglehub\n",
        "kagglehub.login()\n"
      ],
      "metadata": {
        "id": "ECaBLnsn8qKX"
      },
      "cell_type": "code",
      "outputs": [],
      "execution_count": null
    },
    {
      "source": [
        "# IMPORTANT: RUN THIS CELL IN ORDER TO IMPORT YOUR KAGGLE DATA SOURCES,\n",
        "# THEN FEEL FREE TO DELETE THIS CELL.\n",
        "# NOTE: THIS NOTEBOOK ENVIRONMENT DIFFERS FROM KAGGLE'S PYTHON\n",
        "# ENVIRONMENT SO THERE MAY BE MISSING LIBRARIES USED BY YOUR\n",
        "# NOTEBOOK.\n",
        "\n",
        "beautifulminnd_aav_spectrogram_path = kagglehub.dataset_download('beautifulminnd/aav-spectrogram')\n",
        "\n",
        "print('Data source import complete.')\n"
      ],
      "metadata": {
        "id": "qlsmrDvX8qKm"
      },
      "cell_type": "code",
      "outputs": [],
      "execution_count": null
    },
    {
      "cell_type": "code",
      "source": [
        "from google.colab import drive\n",
        "from torchvision import datasets, transforms\n",
        "from torch.utils.data import DataLoader, random_split\n",
        "from transformers import ViTForImageClassification, ViTImageProcessor\n",
        "from collections import Counter\n",
        "import torch.nn.functional as F\n",
        "import numpy as np\n",
        "import torch\n",
        "import torch.nn as nn\n",
        "import torch.optim as optim\n",
        "import torch.optim as optim\n",
        "import time\n",
        "from tqdm import tqdm\n",
        "import torch\n",
        "import timm\n",
        "import matplotlib.pyplot as plt\n",
        "import copy\n",
        "from torchvision.models import vit_b_16\n",
        "from collections import Counter\n",
        "from tqdm import tqdm # for progress bar\n",
        "import random\n",
        "import os"
      ],
      "metadata": {
        "_uuid": "ab0f765f-50d0-4e71-934b-69036f927618",
        "_cell_guid": "1b74e769-17ce-492e-bbf7-eb90938bae5d",
        "id": "7Qm5o5BpuTyt",
        "jupyter": {
          "outputs_hidden": false
        },
        "trusted": true
      },
      "outputs": [],
      "execution_count": 1
    },
    {
      "cell_type": "code",
      "source": [
        "import os\n",
        "print(\"Number of CPU cores:\", os.cpu_count())\n"
      ],
      "metadata": {
        "id": "c78ELuxxevt5"
      },
      "execution_count": null,
      "outputs": []
    },
    {
      "cell_type": "code",
      "source": [
        "import multiprocessing\n",
        "print(\"Number of CPU cores:\", multiprocessing.cpu_count())\n"
      ],
      "metadata": {
        "id": "Y67lvNw1exxB"
      },
      "execution_count": null,
      "outputs": []
    },
    {
      "cell_type": "code",
      "source": [
        "drive.mount('/content/drive')"
      ],
      "metadata": {
        "_uuid": "b02bcb6e-1d67-4b0c-9d11-a22f3ab07a61",
        "_cell_guid": "d0758325-ed5a-4988-b20a-51539395a900",
        "trusted": true,
        "id": "Gxnc6znruQbZ",
        "outputId": "038864c0-7489-4d9b-f757-db88fea7e0c5",
        "jupyter": {
          "outputs_hidden": false
        },
        "colab": {
          "base_uri": "https://localhost:8080/"
        }
      },
      "outputs": [
        {
          "output_type": "stream",
          "name": "stdout",
          "text": [
            "Mounted at /content/drive\n"
          ]
        }
      ],
      "execution_count": 2
    },
    {
      "cell_type": "code",
      "source": [
        "# Define base directory and file name for saving the classifier checkpoint.\n",
        "base_dir = \"/kaggle/working/AAVDATASET/spectrogram\"\n",
        "base_dir = '/content/drive/MyDrive/AAVDATASET/spectrogram'"
      ],
      "metadata": {
        "id": "51MrUfzzXm_a"
      },
      "execution_count": 3,
      "outputs": []
    },
    {
      "cell_type": "code",
      "source": [
        "data_dir = '/kaggle/input/aav-spectrogram/spectrogram'\n",
        "data_dir = '/content/drive/MyDrive/AAVDATASET/spectrogram/dataset'\n",
        "transform = transforms.Compose([\n",
        "    transforms.Resize((224, 224)),\n",
        "    transforms.ToTensor(),\n",
        "    transforms.Normalize(mean=[0.5], std=[0.5])\n",
        "])\n",
        "\n",
        "dataset = datasets.ImageFolder(root=data_dir, transform=transform)\n",
        "dataloader = DataLoader(dataset, batch_size=16, shuffle=True)"
      ],
      "metadata": {
        "_uuid": "2bb0d814-c433-4069-b2de-b8afb06f8c33",
        "_cell_guid": "cfbd3054-08ff-4e37-a1dd-a9816ded260d",
        "trusted": true,
        "id": "fKthbkn-t67J",
        "jupyter": {
          "outputs_hidden": false
        }
      },
      "outputs": [],
      "execution_count": 4
    },
    {
      "cell_type": "code",
      "source": [
        "import os\n",
        "import pickle\n",
        "import torch\n",
        "import random\n",
        "from torch.utils.data import Dataset\n",
        "from tqdm import tqdm\n",
        "\n",
        "# Set device for GPU acceleration if available.\n",
        "device = torch.device(\"cuda\" if torch.cuda.is_available() else \"cpu\")\n",
        "\n",
        "def extract_blocks(image, context_scale=0.85, target_scale=0.2, num_targets=4, max_overlap=0.5):\n",
        "    # Extract a central context block.\n",
        "    _, H, W = image.shape\n",
        "    context_size = int(context_scale * H)\n",
        "    top = (H - context_size) // 2\n",
        "    left = (W - context_size) // 2\n",
        "    context_block = image[:, top:top+context_size, left:left+context_size]\n",
        "    context_block = torch.nn.functional.interpolate(\n",
        "        context_block.unsqueeze(0),\n",
        "        size=(224, 224),\n",
        "        mode='bilinear',\n",
        "        align_corners=False\n",
        "    ).squeeze(0)\n",
        "\n",
        "    # Extract num_targets target blocks randomly.\n",
        "    target_blocks = []\n",
        "    for _ in range(num_targets):\n",
        "        target_size = int(target_scale * H)\n",
        "        top_t = random.randint(0, H - target_size)\n",
        "        left_t = random.randint(0, W - target_size)\n",
        "        target_block = image[:, top_t:top_t+target_size, left_t:left_t+target_size]\n",
        "        target_block = torch.nn.functional.interpolate(\n",
        "            target_block.unsqueeze(0),\n",
        "            size=(224, 224),\n",
        "            mode='bilinear',\n",
        "            align_corners=False\n",
        "        ).squeeze(0)\n",
        "        target_blocks.append(target_block)\n",
        "    target_blocks = torch.stack(target_blocks)\n",
        "    return context_block, target_blocks, (top, left, context_size), None\n",
        "\n",
        "def process_sample(sample, context_scale, target_scale, num_targets):\n",
        "    # Unpack sample: sample is ((img, label), image_path)\n",
        "    (img, label), image_path = sample\n",
        "    # Move image to GPU if available.\n",
        "    img = img.to(device)\n",
        "    context_block, target_blocks, _, _ = extract_blocks(img, context_scale, target_scale, num_targets)\n",
        "    # Bring results back to CPU before caching.\n",
        "    return (context_block.cpu(), target_blocks.cpu(), label, image_path)\n",
        "\n",
        "class PrecomputedIJEPADataset(Dataset):\n",
        "    def __init__(self, base_dataset, context_scale=0.85, target_scale=0.2, num_targets=4, cache_file=None):\n",
        "        self.cache_file = cache_file\n",
        "        if cache_file and os.path.exists(cache_file):\n",
        "            # Load precomputed data from disk.\n",
        "            with open(cache_file, 'rb') as f:\n",
        "                self.data = pickle.load(f)\n",
        "        else:\n",
        "            # Create a list of samples along with their original image paths (if available) using a progress bar.\n",
        "            if hasattr(base_dataset, 'samples'):\n",
        "                base_samples = [\n",
        "                    (base_dataset[i], base_dataset.samples[i][0])\n",
        "                    for i in tqdm(range(len(base_dataset)), desc=\"Loading samples\")\n",
        "                ]\n",
        "            else:\n",
        "                base_samples = [\n",
        "                    (sample, None) for sample in tqdm(base_dataset, desc=\"Loading samples\")\n",
        "                ]\n",
        "\n",
        "            # Process samples sequentially with a progress bar.\n",
        "            self.data = []\n",
        "            for sample in tqdm(base_samples, desc=\"Processing samples\"):\n",
        "                result = process_sample(sample, context_scale, target_scale, num_targets)\n",
        "                self.data.append(result)\n",
        "\n",
        "            if cache_file:\n",
        "                with open(cache_file, 'wb') as f:\n",
        "                    pickle.dump(self.data, f)\n",
        "\n",
        "    def __len__(self):\n",
        "        return len(self.data)\n",
        "\n",
        "    def __getitem__(self, idx):\n",
        "        return self.data[idx]\n"
      ],
      "metadata": {
        "id": "w3876qql71lv"
      },
      "execution_count": 5,
      "outputs": []
    },
    {
      "cell_type": "code",
      "source": [
        "\n",
        "\n",
        "# Timing the loading of the dataset and DataLoader\n",
        "cache_path = os.path.join(base_dir,\"precomputed_fulldataset_aav.pkl\")\n",
        "print(cache_path)\n",
        "start_time = time.time()\n",
        "dataset_aav_ijepa = PrecomputedIJEPADataset(dataset, cache_file=cache_path)\n",
        "end_time_train_ijepa_dataset = time.time()\n",
        "dataloader_aav_ijepa = DataLoader(dataset_aav_ijepa, batch_size=32, shuffle=True)\n",
        "end_time = time.time()\n",
        "print(f\"Time taken to load dataset: {end_time_train_ijepa_dataset - start_time:.4f} seconds and DataLoader: {end_time - start_time:.4f} seconds\")\n"
      ],
      "metadata": {
        "colab": {
          "base_uri": "https://localhost:8080/"
        },
        "id": "54OBcd7SgFde",
        "outputId": "b08e434b-ffda-4a03-c9f9-e2c274f84a69"
      },
      "execution_count": 8,
      "outputs": [
        {
          "output_type": "stream",
          "name": "stdout",
          "text": [
            "/content/drive/MyDrive/AAVDATASET/spectrogram/precomputed_fulldataset_aav.pkl\n",
            "Time taken to load dataset: 71.7497 seconds and DataLoader: 71.7502 seconds\n"
          ]
        }
      ]
    },
    {
      "cell_type": "code",
      "source": [
        "total_batches = len(dataloader_aav_ijepa)\n",
        "print(\"Total number of batches:\", total_batches)"
      ],
      "metadata": {
        "colab": {
          "base_uri": "https://localhost:8080/"
        },
        "id": "7pXBRPzuZPZH",
        "outputId": "694ad32a-27c6-4e5f-a2b1-f483958f5827"
      },
      "execution_count": 9,
      "outputs": [
        {
          "output_type": "stream",
          "name": "stdout",
          "text": [
            "Total number of batches: 110\n"
          ]
        }
      ]
    },
    {
      "cell_type": "code",
      "source": [
        "num_images = len(dataset_aav_ijepa)\n",
        "print(f\"Number of images in the dataset: {num_images}\")"
      ],
      "metadata": {
        "id": "KEaXCJIKJLBt",
        "outputId": "6fd2622d-fe59-4c94-bde9-8939225c49d8",
        "colab": {
          "base_uri": "https://localhost:8080/"
        }
      },
      "execution_count": 16,
      "outputs": [
        {
          "output_type": "stream",
          "name": "stdout",
          "text": [
            "Number of images in the dataset: 3513\n"
          ]
        }
      ]
    },
    {
      "cell_type": "code",
      "source": [
        "# Extract the labels from the dataset:\n",
        "labels = [sample[2] for sample in dataset_aav_ijepa.data]\n",
        "\n",
        "# Count the occurrences of each label using Counter:\n",
        "class_counts = Counter(labels)\n",
        "\n",
        "# Get the class labels and their corresponding counts:\n",
        "class_labels, counts = zip(*class_counts.items())\n",
        "\n",
        "# Create the bar graph:\n",
        "plt.figure(figsize=(10, 6))\n",
        "plt.bar(class_labels, counts)\n",
        "plt.xlabel(\"Class Label\")\n",
        "plt.ylabel(\"Number of Images\")\n",
        "plt.title(\"Number of Images per Class\")\n",
        "plt.xticks(rotation=45, ha='right')\n",
        "plt.tight_layout()\n",
        "\n",
        "# Add text labels above the bars:\n",
        "for i, count in enumerate(counts):\n",
        "    plt.text(class_labels[i], count + 5,  # Adjust vertical position as needed\n",
        "             str(count), ha='center', va='bottom')\n",
        "\n",
        "# Add text labels for class names below the x-axis:\n",
        "for i, label in enumerate(class_labels):\n",
        "    plt.text(label, -10,  # Adjust vertical position as needed\n",
        "             dataset.classes[label], ha='center', va='top', rotation=45)  # Assuming dataset has 'classes' attribute\n",
        "\n",
        "plt.show()"
      ],
      "metadata": {
        "id": "_k0oMvPiJZBF",
        "outputId": "495cca0d-bc9d-4032-f6c7-ec728c9ab054",
        "colab": {
          "base_uri": "https://localhost:8080/",
          "height": 607
        }
      },
      "execution_count": 18,
      "outputs": [
        {
          "output_type": "display_data",
          "data": {
            "text/plain": [
              "<Figure size 1000x600 with 1 Axes>"
            ],
            "image/png": "[encoded data removed]"
          },
          "metadata": {}
        }
      ]
    },
    {
      "cell_type": "code",
      "source": [
        "import matplotlib.pyplot as plt\n",
        "from collections import Counter\n",
        "\n",
        "# Limit to a few batches for clarity (e.g., first 5 batches)\n",
        "num_batches_to_plot = 100\n",
        "batch_dists = []  # list to store counts per batch\n",
        "batch_labels = [] # list to store batch labels\n",
        "\n",
        "for batch_idx, (images, labels) in enumerate(dataloader):\n",
        "    if batch_idx >= num_batches_to_plot:\n",
        "        break\n",
        "    # Count labels in the current batch\n",
        "    batch_counts = Counter(labels.numpy())\n",
        "    # Ensure counts are in order of class indices; assumes dataset.classes exist\n",
        "    counts = [batch_counts.get(i, 0) for i in range(len(dataset.classes))]\n",
        "    batch_dists.append(counts)\n",
        "    batch_labels.append(f'Batch {batch_idx}')\n",
        "\n",
        "# Create subplots: one row per batch\n",
        "fig, axes = plt.subplots(nrows=num_batches_to_plot, ncols=1, figsize=(6, num_batches_to_plot * 3))\n",
        "\n",
        "# Handle the case when there's only one subplot (axes is not a list)\n",
        "if num_batches_to_plot == 1:\n",
        "    axes = [axes]\n",
        "\n",
        "# Plot a bar chart for each batch's class distribution\n",
        "for ax, counts, label in zip(axes, batch_dists, batch_labels):\n",
        "    ax.bar(range(len(counts)), counts)\n",
        "    ax.set_xticks(range(len(counts)))\n",
        "    ax.set_xticklabels(dataset.classes, rotation=45)\n",
        "    ax.set_ylabel('Count')\n",
        "    ax.set_title(label)\n",
        "\n",
        "plt.tight_layout()\n",
        "plt.show()"
      ],
      "metadata": {
        "id": "kyw7ucooKGy_"
      },
      "execution_count": null,
      "outputs": []
    },
    {
      "cell_type": "code",
      "source": [
        "# Each sample in dataset.imgs is a tuple (image_path, class_index)\n",
        "#class_counts = Counter(label for _, label in dataset_aav_ijepa.imgs)\n",
        "#print(\"Total images per class:\", class_counts)\n",
        "\n",
        "# Optionally, map indices back to class names using dataset.class_to_idx\n",
        "idx_to_class = {v: k for k, v in dataset_aav_ijepa.class_to_idx.items()}\n",
        "for idx, count in class_counts.items():\n",
        "    print(f\"Class '{idx_to_class[idx]}': {count} images\")"
      ],
      "metadata": {
        "colab": {
          "base_uri": "https://localhost:8080/",
          "height": 211
        },
        "id": "sxi1FoatY1m-",
        "outputId": "863d545c-9a0a-40b8-85a3-fe58491eff16"
      },
      "execution_count": 11,
      "outputs": [
        {
          "output_type": "error",
          "ename": "AttributeError",
          "evalue": "'PrecomputedIJEPADataset' object has no attribute 'class_to_idx'",
          "traceback": [
            "\u001b[0;31m---------------------------------------------------------------------------\u001b[0m",
            "\u001b[0;31mAttributeError\u001b[0m                            Traceback (most recent call last)",
            "\u001b[0;32m<ipython-input-11-e1190dabb739>\u001b[0m in \u001b[0;36m<cell line: 0>\u001b[0;34m()\u001b[0m\n\u001b[1;32m      4\u001b[0m \u001b[0;34m\u001b[0m\u001b[0m\n\u001b[1;32m      5\u001b[0m \u001b[0;31m# Optionally, map indices back to class names using dataset.class_to_idx\u001b[0m\u001b[0;34m\u001b[0m\u001b[0;34m\u001b[0m\u001b[0m\n\u001b[0;32m----> 6\u001b[0;31m \u001b[0midx_to_class\u001b[0m \u001b[0;34m=\u001b[0m \u001b[0;34m{\u001b[0m\u001b[0mv\u001b[0m\u001b[0;34m:\u001b[0m \u001b[0mk\u001b[0m \u001b[0;32mfor\u001b[0m \u001b[0mk\u001b[0m\u001b[0;34m,\u001b[0m \u001b[0mv\u001b[0m \u001b[0;32min\u001b[0m \u001b[0mdataset_aav_ijepa\u001b[0m\u001b[0;34m.\u001b[0m\u001b[0mclass_to_idx\u001b[0m\u001b[0;34m.\u001b[0m\u001b[0mitems\u001b[0m\u001b[0;34m(\u001b[0m\u001b[0;34m)\u001b[0m\u001b[0;34m}\u001b[0m\u001b[0;34m\u001b[0m\u001b[0;34m\u001b[0m\u001b[0m\n\u001b[0m\u001b[1;32m      7\u001b[0m \u001b[0;32mfor\u001b[0m \u001b[0midx\u001b[0m\u001b[0;34m,\u001b[0m \u001b[0mcount\u001b[0m \u001b[0;32min\u001b[0m \u001b[0mclass_counts\u001b[0m\u001b[0;34m.\u001b[0m\u001b[0mitems\u001b[0m\u001b[0;34m(\u001b[0m\u001b[0;34m)\u001b[0m\u001b[0;34m:\u001b[0m\u001b[0;34m\u001b[0m\u001b[0;34m\u001b[0m\u001b[0m\n\u001b[1;32m      8\u001b[0m     \u001b[0mprint\u001b[0m\u001b[0;34m(\u001b[0m\u001b[0;34mf\"Class '{idx_to_class[idx]}': {count} images\"\u001b[0m\u001b[0;34m)\u001b[0m\u001b[0;34m\u001b[0m\u001b[0;34m\u001b[0m\u001b[0m\n",
            "\u001b[0;31mAttributeError\u001b[0m: 'PrecomputedIJEPADataset' object has no attribute 'class_to_idx'"
          ]
        }
      ]
    },
    {
      "cell_type": "code",
      "source": [
        "for images, labels,_,_ in dataloader_aav_ijepa:\n",
        "    # Convert the labels tensor to a list of integers\n",
        "    labels_list = labels.cpu().numpy().tolist()\n",
        "    # Flatten the list (if necessary)\n",
        "    labels_flat = [item for sublist in labels_list for item in sublist]\n",
        "    # Count occurrences using Counter\n",
        "    batch_counts = Counter(labels_flat)\n",
        "    print(\"Images per class in this batch:\", batch_counts)\n",
        "    break  # Remove break to inspect more batches"
      ],
      "metadata": {
        "id": "fCjlDzprI7mV",
        "outputId": "b1d170bd-67d6-46ca-faf6-4cba2916ba53",
        "colab": {
          "base_uri": "https://localhost:8080/",
          "height": 356
        }
      },
      "execution_count": 15,
      "outputs": [
        {
          "output_type": "error",
          "ename": "TypeError",
          "evalue": "unhashable type: 'list'",
          "traceback": [
            "\u001b[0;31m---------------------------------------------------------------------------\u001b[0m",
            "\u001b[0;31mTypeError\u001b[0m                                 Traceback (most recent call last)",
            "\u001b[0;32m<ipython-input-15-401cb5dc8125>\u001b[0m in \u001b[0;36m<cell line: 0>\u001b[0;34m()\u001b[0m\n\u001b[1;32m      5\u001b[0m     \u001b[0mlabels_flat\u001b[0m \u001b[0;34m=\u001b[0m \u001b[0;34m[\u001b[0m\u001b[0mitem\u001b[0m \u001b[0;32mfor\u001b[0m \u001b[0msublist\u001b[0m \u001b[0;32min\u001b[0m \u001b[0mlabels_list\u001b[0m \u001b[0;32mfor\u001b[0m \u001b[0mitem\u001b[0m \u001b[0;32min\u001b[0m \u001b[0msublist\u001b[0m\u001b[0;34m]\u001b[0m\u001b[0;34m\u001b[0m\u001b[0;34m\u001b[0m\u001b[0m\n\u001b[1;32m      6\u001b[0m     \u001b[0;31m# Count occurrences using Counter\u001b[0m\u001b[0;34m\u001b[0m\u001b[0;34m\u001b[0m\u001b[0m\n\u001b[0;32m----> 7\u001b[0;31m     \u001b[0mbatch_counts\u001b[0m \u001b[0;34m=\u001b[0m \u001b[0mCounter\u001b[0m\u001b[0;34m(\u001b[0m\u001b[0mlabels_flat\u001b[0m\u001b[0;34m)\u001b[0m\u001b[0;34m\u001b[0m\u001b[0;34m\u001b[0m\u001b[0m\n\u001b[0m\u001b[1;32m      8\u001b[0m     \u001b[0mprint\u001b[0m\u001b[0;34m(\u001b[0m\u001b[0;34m\"Images per class in this batch:\"\u001b[0m\u001b[0;34m,\u001b[0m \u001b[0mbatch_counts\u001b[0m\u001b[0;34m)\u001b[0m\u001b[0;34m\u001b[0m\u001b[0;34m\u001b[0m\u001b[0m\n\u001b[1;32m      9\u001b[0m     \u001b[0;32mbreak\u001b[0m  \u001b[0;31m# Remove break to inspect more batches\u001b[0m\u001b[0;34m\u001b[0m\u001b[0;34m\u001b[0m\u001b[0m\n",
            "\u001b[0;32m/usr/lib/python3.11/collections/__init__.py\u001b[0m in \u001b[0;36m__init__\u001b[0;34m(self, iterable, **kwds)\u001b[0m\n\u001b[1;32m    597\u001b[0m         '''\n\u001b[1;32m    598\u001b[0m         \u001b[0msuper\u001b[0m\u001b[0;34m(\u001b[0m\u001b[0;34m)\u001b[0m\u001b[0;34m.\u001b[0m\u001b[0m__init__\u001b[0m\u001b[0;34m(\u001b[0m\u001b[0;34m)\u001b[0m\u001b[0;34m\u001b[0m\u001b[0;34m\u001b[0m\u001b[0m\n\u001b[0;32m--> 599\u001b[0;31m         \u001b[0mself\u001b[0m\u001b[0;34m.\u001b[0m\u001b[0mupdate\u001b[0m\u001b[0;34m(\u001b[0m\u001b[0miterable\u001b[0m\u001b[0;34m,\u001b[0m \u001b[0;34m**\u001b[0m\u001b[0mkwds\u001b[0m\u001b[0;34m)\u001b[0m\u001b[0;34m\u001b[0m\u001b[0;34m\u001b[0m\u001b[0m\n\u001b[0m\u001b[1;32m    600\u001b[0m \u001b[0;34m\u001b[0m\u001b[0m\n\u001b[1;32m    601\u001b[0m     \u001b[0;32mdef\u001b[0m \u001b[0m__missing__\u001b[0m\u001b[0;34m(\u001b[0m\u001b[0mself\u001b[0m\u001b[0;34m,\u001b[0m \u001b[0mkey\u001b[0m\u001b[0;34m)\u001b[0m\u001b[0;34m:\u001b[0m\u001b[0;34m\u001b[0m\u001b[0;34m\u001b[0m\u001b[0m\n",
            "\u001b[0;32m/usr/lib/python3.11/collections/__init__.py\u001b[0m in \u001b[0;36mupdate\u001b[0;34m(self, iterable, **kwds)\u001b[0m\n\u001b[1;32m    688\u001b[0m                     \u001b[0msuper\u001b[0m\u001b[0;34m(\u001b[0m\u001b[0;34m)\u001b[0m\u001b[0;34m.\u001b[0m\u001b[0mupdate\u001b[0m\u001b[0;34m(\u001b[0m\u001b[0miterable\u001b[0m\u001b[0;34m)\u001b[0m\u001b[0;34m\u001b[0m\u001b[0;34m\u001b[0m\u001b[0m\n\u001b[1;32m    689\u001b[0m             \u001b[0;32melse\u001b[0m\u001b[0;34m:\u001b[0m\u001b[0;34m\u001b[0m\u001b[0;34m\u001b[0m\u001b[0m\n\u001b[0;32m--> 690\u001b[0;31m                 \u001b[0m_count_elements\u001b[0m\u001b[0;34m(\u001b[0m\u001b[0mself\u001b[0m\u001b[0;34m,\u001b[0m \u001b[0miterable\u001b[0m\u001b[0;34m)\u001b[0m\u001b[0;34m\u001b[0m\u001b[0;34m\u001b[0m\u001b[0m\n\u001b[0m\u001b[1;32m    691\u001b[0m         \u001b[0;32mif\u001b[0m \u001b[0mkwds\u001b[0m\u001b[0;34m:\u001b[0m\u001b[0;34m\u001b[0m\u001b[0;34m\u001b[0m\u001b[0m\n\u001b[1;32m    692\u001b[0m             \u001b[0mself\u001b[0m\u001b[0;34m.\u001b[0m\u001b[0mupdate\u001b[0m\u001b[0;34m(\u001b[0m\u001b[0mkwds\u001b[0m\u001b[0;34m)\u001b[0m\u001b[0;34m\u001b[0m\u001b[0;34m\u001b[0m\u001b[0m\n",
            "\u001b[0;31mTypeError\u001b[0m: unhashable type: 'list'"
          ]
        }
      ]
    },
    {
      "cell_type": "code",
      "source": [
        "for images, labels,_,_ in dataloader_aav_ijepa:\n",
        "    batch_counts = Counter(labels.tolist())\n",
        "    print(\"Images per class in this batch:\", batch_counts)\n",
        "    break  # Remove break to inspect more batches"
      ],
      "metadata": {
        "colab": {
          "base_uri": "https://localhost:8080/",
          "height": 339
        },
        "id": "WVM17LOzZBG3",
        "outputId": "cc1a1c56-8d5f-485d-b333-2d92e77b8d33"
      },
      "execution_count": 14,
      "outputs": [
        {
          "output_type": "error",
          "ename": "TypeError",
          "evalue": "unhashable type: 'list'",
          "traceback": [
            "\u001b[0;31m---------------------------------------------------------------------------\u001b[0m",
            "\u001b[0;31mTypeError\u001b[0m                                 Traceback (most recent call last)",
            "\u001b[0;32m<ipython-input-14-abda322764ac>\u001b[0m in \u001b[0;36m<cell line: 0>\u001b[0;34m()\u001b[0m\n\u001b[1;32m      1\u001b[0m \u001b[0;32mfor\u001b[0m \u001b[0mimages\u001b[0m\u001b[0;34m,\u001b[0m \u001b[0mlabels\u001b[0m\u001b[0;34m,\u001b[0m\u001b[0m_\u001b[0m\u001b[0;34m,\u001b[0m\u001b[0m_\u001b[0m \u001b[0;32min\u001b[0m \u001b[0mdataloader_aav_ijepa\u001b[0m\u001b[0;34m:\u001b[0m\u001b[0;34m\u001b[0m\u001b[0;34m\u001b[0m\u001b[0m\n\u001b[0;32m----> 2\u001b[0;31m     \u001b[0mbatch_counts\u001b[0m \u001b[0;34m=\u001b[0m \u001b[0mCounter\u001b[0m\u001b[0;34m(\u001b[0m\u001b[0mlabels\u001b[0m\u001b[0;34m.\u001b[0m\u001b[0mtolist\u001b[0m\u001b[0;34m(\u001b[0m\u001b[0;34m)\u001b[0m\u001b[0;34m)\u001b[0m\u001b[0;34m\u001b[0m\u001b[0;34m\u001b[0m\u001b[0m\n\u001b[0m\u001b[1;32m      3\u001b[0m     \u001b[0mprint\u001b[0m\u001b[0;34m(\u001b[0m\u001b[0;34m\"Images per class in this batch:\"\u001b[0m\u001b[0;34m,\u001b[0m \u001b[0mbatch_counts\u001b[0m\u001b[0;34m)\u001b[0m\u001b[0;34m\u001b[0m\u001b[0;34m\u001b[0m\u001b[0m\n\u001b[1;32m      4\u001b[0m     \u001b[0;32mbreak\u001b[0m  \u001b[0;31m# Remove break to inspect more batches\u001b[0m\u001b[0;34m\u001b[0m\u001b[0;34m\u001b[0m\u001b[0m\n",
            "\u001b[0;32m/usr/lib/python3.11/collections/__init__.py\u001b[0m in \u001b[0;36m__init__\u001b[0;34m(self, iterable, **kwds)\u001b[0m\n\u001b[1;32m    597\u001b[0m         '''\n\u001b[1;32m    598\u001b[0m         \u001b[0msuper\u001b[0m\u001b[0;34m(\u001b[0m\u001b[0;34m)\u001b[0m\u001b[0;34m.\u001b[0m\u001b[0m__init__\u001b[0m\u001b[0;34m(\u001b[0m\u001b[0;34m)\u001b[0m\u001b[0;34m\u001b[0m\u001b[0;34m\u001b[0m\u001b[0m\n\u001b[0;32m--> 599\u001b[0;31m         \u001b[0mself\u001b[0m\u001b[0;34m.\u001b[0m\u001b[0mupdate\u001b[0m\u001b[0;34m(\u001b[0m\u001b[0miterable\u001b[0m\u001b[0;34m,\u001b[0m \u001b[0;34m**\u001b[0m\u001b[0mkwds\u001b[0m\u001b[0;34m)\u001b[0m\u001b[0;34m\u001b[0m\u001b[0;34m\u001b[0m\u001b[0m\n\u001b[0m\u001b[1;32m    600\u001b[0m \u001b[0;34m\u001b[0m\u001b[0m\n\u001b[1;32m    601\u001b[0m     \u001b[0;32mdef\u001b[0m \u001b[0m__missing__\u001b[0m\u001b[0;34m(\u001b[0m\u001b[0mself\u001b[0m\u001b[0;34m,\u001b[0m \u001b[0mkey\u001b[0m\u001b[0;34m)\u001b[0m\u001b[0;34m:\u001b[0m\u001b[0;34m\u001b[0m\u001b[0;34m\u001b[0m\u001b[0m\n",
            "\u001b[0;32m/usr/lib/python3.11/collections/__init__.py\u001b[0m in \u001b[0;36mupdate\u001b[0;34m(self, iterable, **kwds)\u001b[0m\n\u001b[1;32m    688\u001b[0m                     \u001b[0msuper\u001b[0m\u001b[0;34m(\u001b[0m\u001b[0;34m)\u001b[0m\u001b[0;34m.\u001b[0m\u001b[0mupdate\u001b[0m\u001b[0;34m(\u001b[0m\u001b[0miterable\u001b[0m\u001b[0;34m)\u001b[0m\u001b[0;34m\u001b[0m\u001b[0;34m\u001b[0m\u001b[0m\n\u001b[1;32m    689\u001b[0m             \u001b[0;32melse\u001b[0m\u001b[0;34m:\u001b[0m\u001b[0;34m\u001b[0m\u001b[0;34m\u001b[0m\u001b[0m\n\u001b[0;32m--> 690\u001b[0;31m                 \u001b[0m_count_elements\u001b[0m\u001b[0;34m(\u001b[0m\u001b[0mself\u001b[0m\u001b[0;34m,\u001b[0m \u001b[0miterable\u001b[0m\u001b[0;34m)\u001b[0m\u001b[0;34m\u001b[0m\u001b[0;34m\u001b[0m\u001b[0m\n\u001b[0m\u001b[1;32m    691\u001b[0m         \u001b[0;32mif\u001b[0m \u001b[0mkwds\u001b[0m\u001b[0;34m:\u001b[0m\u001b[0;34m\u001b[0m\u001b[0;34m\u001b[0m\u001b[0m\n\u001b[1;32m    692\u001b[0m             \u001b[0mself\u001b[0m\u001b[0;34m.\u001b[0m\u001b[0mupdate\u001b[0m\u001b[0;34m(\u001b[0m\u001b[0mkwds\u001b[0m\u001b[0;34m)\u001b[0m\u001b[0;34m\u001b[0m\u001b[0;34m\u001b[0m\u001b[0m\n",
            "\u001b[0;31mTypeError\u001b[0m: unhashable type: 'list'"
          ]
        }
      ]
    },
    {
      "cell_type": "code",
      "source": [
        "import matplotlib.pyplot as plt\n",
        "from collections import Counter\n",
        "\n",
        "# Limit to a few batches for clarity (e.g., first 5 batches)\n",
        "num_batches_to_plot = 5\n",
        "batch_dists = []  # list to store counts per batch\n",
        "batch_labels = [] # list to store batch labels\n",
        "\n",
        "for batch_idx, (images, labels) in enumerate(dataloader):\n",
        "    if batch_idx >= num_batches_to_plot:\n",
        "        break\n",
        "    # Count labels in the current batch\n",
        "    batch_counts = Counter(labels.numpy())\n",
        "    # Ensure counts are in order of class indices; assumes dataset.classes exist\n",
        "    counts = [batch_counts.get(i, 0) for i in range(len(dataset.classes))]\n",
        "    batch_dists.append(counts)\n",
        "    batch_labels.append(f'Batch {batch_idx}')\n",
        "\n",
        "# Create subplots: one row per batch\n",
        "fig, axes = plt.subplots(nrows=num_batches_to_plot, ncols=1, figsize=(6, num_batches_to_plot * 3))\n",
        "\n",
        "# Handle the case when there's only one subplot (axes is not a list)\n",
        "if num_batches_to_plot == 1:\n",
        "    axes = [axes]\n",
        "\n",
        "# Plot a bar chart for each batch's class distribution\n",
        "for ax, counts, label in zip(axes, batch_dists, batch_labels):\n",
        "    ax.bar(range(len(counts)), counts)\n",
        "    ax.set_xticks(range(len(counts)))\n",
        "    ax.set_xticklabels(dataset.classes, rotation=45)\n",
        "    ax.set_ylabel('Count')\n",
        "    ax.set_title(label)\n",
        "\n",
        "plt.tight_layout()\n",
        "plt.show()\n"
      ],
      "metadata": {
        "id": "v_zDv05YZwwk"
      },
      "execution_count": null,
      "outputs": []
    },
    {
      "cell_type": "code",
      "source": [
        "# Test loading\n",
        "images, labels = next(iter(dataloader))\n",
        "print(\"Batch shape:\", images.shape)  # Should be [B, C, 224, 224]"
      ],
      "metadata": {
        "_uuid": "5d688a1b-2546-4240-bbb7-5aec8d108cfc",
        "_cell_guid": "a8f3ba24-1e87-429a-bbee-4909d3832d58",
        "trusted": true,
        "id": "C9kEg-mIKiF3",
        "jupyter": {
          "outputs_hidden": false
        }
      },
      "outputs": [],
      "execution_count": null
    },
    {
      "cell_type": "code",
      "source": [
        "batch_size = 32\n",
        "train_size = int(0.8 * len(dataset))\n",
        "val_size = len(dataset) - train_size\n",
        "train_dataset, val_dataset = random_split(dataset, [train_size, val_size])\n",
        "\n",
        "train_loader = DataLoader(train_dataset, batch_size=batch_size, shuffle=True)\n",
        "val_loader = DataLoader(val_dataset, batch_size=batch_size)"
      ],
      "metadata": {
        "_uuid": "ebcd8a59-646f-41d1-98a2-6111730750c6",
        "_cell_guid": "577f43b2-192c-4d42-9928-3612f02483bc",
        "trusted": true,
        "id": "N2As1-TPux9B",
        "jupyter": {
          "outputs_hidden": false
        }
      },
      "outputs": [],
      "execution_count": null
    },
    {
      "cell_type": "code",
      "source": [
        "plt.figure(figsize=(10, 4))\n",
        "for i in range(6):\n",
        "    img = images[i].permute(1, 2, 0) * 0.5 + 0.5  # Unnormalize\n",
        "    plt.subplot(2, 3, i+1)\n",
        "    plt.imshow(img.squeeze(), cmap='viridis')\n",
        "    plt.axis('off')\n",
        "plt.suptitle(\"Sample Spectrograms (Resized to 224×224)\")\n",
        "plt.tight_layout()\n",
        "plt.show()"
      ],
      "metadata": {
        "_uuid": "7b5e6218-b07f-4701-a372-28b857d114d6",
        "_cell_guid": "551e8024-3177-4665-896d-27a3497990e0",
        "trusted": true,
        "id": "rRDzaHnJKw9k",
        "jupyter": {
          "outputs_hidden": false
        }
      },
      "outputs": [],
      "execution_count": null
    },
    {
      "cell_type": "code",
      "source": [
        "\n",
        "\n",
        "def count_images_per_class(train_loader):\n",
        "    \"\"\"Counts the number of images per class in a train_loader.\n",
        "\n",
        "    Args:\n",
        "        train_loader: The DataLoader for the training dataset.\n",
        "\n",
        "    Returns:\n",
        "        A dictionary where keys are class labels and values are the corresponding counts.\n",
        "    \"\"\"\n",
        "\n",
        "    all_labels = []\n",
        "    for images, labels in tqdm(train_loader, desc=\"Counting images per class\"):\n",
        "        all_labels.extend(labels.tolist())  # Extend the list with labels from the batch\n",
        "\n",
        "    class_counts = Counter(all_labels)  # Count occurrences of each label\n",
        "\n",
        "    return class_counts"
      ],
      "metadata": {
        "_uuid": "c9b49613-e5e4-4a6f-ae14-7287ae13e3a4",
        "_cell_guid": "68672c2b-407b-42e6-a744-2523bf327831",
        "trusted": true,
        "jupyter": {
          "outputs_hidden": false
        },
        "id": "ktzymg7h8qKy"
      },
      "outputs": [],
      "execution_count": null
    },
    {
      "cell_type": "code",
      "source": [
        "# Get the counts and print them\n",
        "class_counts = count_images_per_class(train_loader)\n",
        "\n",
        "print(\"Images per class in train_loader:\")\n",
        "for class_label, count in class_counts.items():\n",
        "    print(f\"Class {class_label}: {count} images\")"
      ],
      "metadata": {
        "_uuid": "3e31c353-e70e-4e37-a58f-1a4d5ffab8d1",
        "_cell_guid": "46c3eb6b-6513-46a0-a732-946df9564d7e",
        "trusted": true,
        "jupyter": {
          "outputs_hidden": false
        },
        "id": "1X3l3kJ08qKy"
      },
      "outputs": [],
      "execution_count": null
    },
    {
      "cell_type": "code",
      "source": [
        "# Get the counts and print them\n",
        "class_counts = count_images_per_class(val_loader)\n",
        "\n",
        "print(\"Images per class in train_loader:\")\n",
        "for class_label, count in class_counts.items():\n",
        "    print(f\"Class {class_label}: {count} images\")"
      ],
      "metadata": {
        "_uuid": "f66b9f67-0023-42ea-bea2-456f7146ab2e",
        "_cell_guid": "a8f02f58-fcb6-4234-9407-45f1c6e3e11e",
        "trusted": true,
        "jupyter": {
          "outputs_hidden": false
        },
        "id": "t4ieAvgL8qKz"
      },
      "outputs": [],
      "execution_count": null
    },
    {
      "cell_type": "code",
      "source": [
        "def extract_blocks(image, context_scale=0.85, target_scale=0.2, num_targets=4, max_overlap=0.5):\n",
        "    # Extract a central context block.\n",
        "    _, H, W = image.shape\n",
        "    context_size = int(context_scale * H)\n",
        "    top = (H - context_size) // 2\n",
        "    left = (W - context_size) // 2\n",
        "    context_block = image[:, top:top+context_size, left:left+context_size]\n",
        "    context_block = torch.nn.functional.interpolate(context_block.unsqueeze(0), size=(224, 224), mode='bilinear', align_corners=False).squeeze(0)\n",
        "\n",
        "    # Extract num_targets target blocks randomly.\n",
        "    target_blocks = []\n",
        "    for _ in range(num_targets):\n",
        "        target_size = int(target_scale * H)\n",
        "        top_t = random.randint(0, H - target_size)\n",
        "        left_t = random.randint(0, W - target_size)\n",
        "        target_block = image[:, top_t:top_t+target_size, left_t:left_t+target_size]\n",
        "        target_block = torch.nn.functional.interpolate(target_block.unsqueeze(0), size=(224, 224), mode='bilinear', align_corners=False).squeeze(0)\n",
        "        target_blocks.append(target_block)\n",
        "    target_blocks = torch.stack(target_blocks)\n",
        "    return context_block, target_blocks, (top, left, context_size), None"
      ],
      "metadata": {
        "_uuid": "472ec271-36da-4330-89d9-beef8fa03a65",
        "_cell_guid": "88bb8d1b-8f77-4ef0-9561-13154dfc48ed",
        "trusted": true,
        "jupyter": {
          "outputs_hidden": false
        },
        "id": "fB1mtdS58qKz"
      },
      "outputs": [],
      "execution_count": null
    },
    {
      "cell_type": "code",
      "source": [
        "class IJEPADataset(torch.utils.data.Dataset):\n",
        "    def __init__(self, base_dataset, context_scale=0.85, target_scale=0.2, num_targets=4):\n",
        "        self.base_dataset = base_dataset\n",
        "        self.context_scale = context_scale\n",
        "        self.target_scale = target_scale\n",
        "        self.num_targets = num_targets\n",
        "\n",
        "    def __len__(self):\n",
        "        return len(self.base_dataset)\n",
        "\n",
        "    def __getitem__(self, idx):\n",
        "        image, label = self.base_dataset[idx]\n",
        "        context_block, target_blocks, _, _ = extract_blocks(image, self.context_scale, self.target_scale, self.num_targets)\n",
        "        return context_block, target_blocks, label"
      ],
      "metadata": {
        "_uuid": "772f2dc6-6685-4a8d-beda-dc9089423fbf",
        "_cell_guid": "208fc17d-fc86-444d-9d21-464f592a9cd0",
        "trusted": true,
        "jupyter": {
          "outputs_hidden": false
        },
        "id": "zv6kmoK88qK0"
      },
      "outputs": [],
      "execution_count": null
    },
    {
      "cell_type": "code",
      "source": [
        "train_ijepa_dataset = IJEPADataset(train_dataset)\n",
        "val_ijepa_dataset   = IJEPADataset(val_dataset)\n",
        "\n",
        "\n",
        "train_loader = DataLoader(train_ijepa_dataset, batch_size=32, shuffle=False)\n",
        "val_loader   = DataLoader(val_ijepa_dataset, batch_size=32, shuffle=False)"
      ],
      "metadata": {
        "_uuid": "67fe58d3-5076-436c-99b4-5350a172b545",
        "_cell_guid": "db9f91fa-4c3f-4929-a2d0-2569fce8e7d6",
        "trusted": true,
        "jupyter": {
          "outputs_hidden": false
        },
        "id": "4TjuwcOV8qK0"
      },
      "outputs": [],
      "execution_count": null
    },
    {
      "cell_type": "markdown",
      "source": [
        "# Compare Direct Loading vs Preprossed blocks"
      ],
      "metadata": {
        "id": "IKla3laPxTdE"
      }
    },
    {
      "cell_type": "code",
      "source": [
        "n_samples = 100\n",
        "extract_times = []\n",
        "for i in range(n_samples):\n",
        "    img, label = train_dataset[i]  # Assumes train_base_dataset is already defined.\n",
        "    start = time.perf_counter()\n",
        "    # Call the extraction function (adjust parameters as needed)\n",
        "    context_block, target_blocks, _, _ = extract_blocks(img, context_scale=0.85, target_scale=0.2, num_targets=4)\n",
        "    end = time.perf_counter()\n",
        "    extract_times.append(end - start)\n",
        "\n",
        "avg_extract_time = sum(extract_times) / len(extract_times)\n",
        "print(f\"Average extract_blocks time over {n_samples} samples: {avg_extract_time:.6f} seconds\")"
      ],
      "metadata": {
        "id": "zQmM4ioFxa_R"
      },
      "execution_count": null,
      "outputs": []
    },
    {
      "cell_type": "code",
      "source": [
        "'''import os\n",
        "import pickle\n",
        "import torch\n",
        "import random\n",
        "from torch.utils.data import Dataset\n",
        "import concurrent.futures\n",
        "import functools\n",
        "\n",
        "# Set device for GPU acceleration if available.\n",
        "device = torch.device(\"cuda\" if torch.cuda.is_available() else \"cpu\")\n",
        "\n",
        "def extract_blocks(image, context_scale=0.85, target_scale=0.2, num_targets=4, max_overlap=0.5):\n",
        "    # Extract a central context block.\n",
        "    _, H, W = image.shape\n",
        "    context_size = int(context_scale * H)\n",
        "    top = (H - context_size) // 2\n",
        "    left = (W - context_size) // 2\n",
        "    context_block = image[:, top:top+context_size, left:left+context_size]\n",
        "    context_block = torch.nn.functional.interpolate(\n",
        "        context_block.unsqueeze(0),\n",
        "        size=(224, 224),\n",
        "        mode='bilinear',\n",
        "        align_corners=False\n",
        "    ).squeeze(0)\n",
        "\n",
        "    # Extract num_targets target blocks randomly.\n",
        "    target_blocks = []\n",
        "    for _ in range(num_targets):\n",
        "        target_size = int(target_scale * H)\n",
        "        top_t = random.randint(0, H - target_size)\n",
        "        left_t = random.randint(0, W - target_size)\n",
        "        target_block = image[:, top_t:top_t+target_size, left_t:left_t+target_size]\n",
        "        target_block = torch.nn.functional.interpolate(\n",
        "            target_block.unsqueeze(0),\n",
        "            size=(224, 224),\n",
        "            mode='bilinear',\n",
        "            align_corners=False\n",
        "        ).squeeze(0)\n",
        "        target_blocks.append(target_block)\n",
        "    target_blocks = torch.stack(target_blocks)\n",
        "    return context_block, target_blocks, (top, left, context_size), None\n",
        "\n",
        "def process_sample(args, context_scale, target_scale, num_targets):\n",
        "    sample, image_path = args\n",
        "    img, label = sample\n",
        "    # Move image to GPU if available.\n",
        "    img = img.to(device)\n",
        "    context_block, target_blocks, _, _ = extract_blocks(img, context_scale, target_scale, num_targets)\n",
        "    # Bring results back to CPU and return along with label and original image path.\n",
        "    print(f\"image_path:{image_path}\")\n",
        "    return (context_block.cpu(), target_blocks.cpu(), label, image_path)\n",
        "\n",
        "class PrecomputedIJEPADataset(Dataset):\n",
        "    def __init__(self, base_dataset, context_scale=0.85, target_scale=0.2, num_targets=4, cache_file=None):\n",
        "        self.cache_file = cache_file\n",
        "        if cache_file and os.path.exists(cache_file):\n",
        "            # Load precomputed data from disk.\n",
        "            with open(cache_file, 'rb') as f:\n",
        "                self.data = pickle.load(f)\n",
        "        else:\n",
        "            # Create a list of samples along with their original image paths (if available).\n",
        "            if hasattr(base_dataset, 'samples'):\n",
        "                #base_samples = [(base_dataset[i], base_dataset.samples[i][0]) for i in range(len(base_dataset))]\n",
        "                base_samples = [(base_dataset[i], base_dataset.samples[i][0]) for i in tqdm(range(len(base_dataset)))]\n",
        "            else:\n",
        "                base_samples = [(sample, None) for sample in base_dataset]\n",
        "            print(f\"Processing {len(base_samples)} samples...\")\n",
        "            partial_process_sample = functools.partial(\n",
        "                process_sample,\n",
        "                context_scale=context_scale,\n",
        "                target_scale=target_scale,\n",
        "                num_targets=num_targets\n",
        "            )\n",
        "            # Submit tasks for each sample and store the corresponding future with its index.\n",
        "            with concurrent.futures.ProcessPoolExecutor(max_workers=8) as executor:\n",
        "                futures = {executor.submit(partial_process_sample, sample): idx for idx, sample in enumerate(base_samples)}\n",
        "                results = [None] * len(base_samples)\n",
        "                # Iterate over completed futures with a progress bar.\n",
        "                for future in tqdm(concurrent.futures.as_completed(futures), total=len(futures), desc=\"Processing samples\"):\n",
        "                    idx = futures[future]\n",
        "                    results[idx] = future.result()\n",
        "                self.data = results\n",
        "            # Use 8 CPU cores for parallel processing with a progress bar.\n",
        "            #with concurrent.futures.ProcessPoolExecutor(max_workers=8) as executor:\n",
        "            #    results = list(tqdm(executor.map(partial_process_sample, base_samples),\n",
        "            #                        total=len(base_samples),\n",
        "            #                        desc=\"Processing samples\"))\n",
        "                self.data = results\n",
        "        if cache_file:\n",
        "            with open(cache_file, 'wb') as f:\n",
        "                pickle.dump(self.data, f)\n",
        "\n",
        "    def __len__(self):\n",
        "        return len(self.data)\n",
        "\n",
        "    def __getitem__(self, idx):\n",
        "        return self.data[idx]\n",
        "'''"
      ],
      "metadata": {
        "id": "n5MKyh1loxFU"
      },
      "execution_count": null,
      "outputs": []
    },
    {
      "cell_type": "code",
      "source": [
        "print(base_dir)"
      ],
      "metadata": {
        "colab": {
          "base_uri": "https://localhost:8080/"
        },
        "id": "rE6-L2V79Ej-",
        "outputId": "fd0f4ba4-e03e-40c1-f03f-3c10dcd86440"
      },
      "execution_count": 6,
      "outputs": [
        {
          "output_type": "stream",
          "name": "stdout",
          "text": [
            "/content/drive/MyDrive/AAVDATASET/spectrogram\n"
          ]
        }
      ]
    },
    {
      "cell_type": "code",
      "source": [
        "import time\n",
        "import torch\n",
        "from torch.utils.data import Dataset, DataLoader\n",
        "import pickle\n",
        "import os\n",
        "\n",
        "# Assume extract_blocks and train_base_dataset are defined.\n",
        "\n",
        "class PrecomputedIJEPADataset(Dataset):\n",
        "    def __init__(self, base_dataset, context_scale=0.85, target_scale=0.2, num_targets=4, cache_file=None):\n",
        "        self.cache_file = cache_file\n",
        "        if cache_file and os.path.exists(cache_file):\n",
        "            # Load precomputed data from disk.\n",
        "            with open(cache_file, 'rb') as f:\n",
        "                self.data = pickle.load(f)\n",
        "        else:\n",
        "            self.data = []\n",
        "            for img, label in base_dataset:\n",
        "                context_block, target_blocks, _, _ = extract_blocks(img, context_scale, target_scale, num_targets)\n",
        "                self.data.append((context_block, target_blocks, label))\n",
        "            if cache_file:\n",
        "                with open(cache_file, 'wb') as f:\n",
        "                    pickle.dump(self.data, f)\n",
        "\n",
        "    def __len__(self):\n",
        "        return len(self.data)\n",
        "\n",
        "    def __getitem__(self, idx):\n",
        "        return self.data[idx]\n",
        "\n",
        "# Timing the loading of the dataset and DataLoader\n",
        "cache_path = os.path.join(base_dir,\"precomputed_fulldataset_aav.pkl\")\n",
        "\n",
        "start_time = time.time()\n",
        "dataset_aav_ijepa = PrecomputedIJEPADataset(dataset, cache_file=cache_path)\n",
        "end_time_train_ijepa_dataset = time.time()\n",
        "dataloader_aav_ijepa = DataLoader(train_ijepa_dataset, batch_size=32, shuffle=True)\n",
        "end_time = time.time()\n",
        "print(f\"Time taken to load dataset: {end_time_train_ijepa_dataset - start_time:.4f} seconds and DataLoader: {end_time - start_time:.4f} seconds\")\n"
      ],
      "metadata": {
        "id": "aCLTXWwhysQu"
      },
      "execution_count": null,
      "outputs": []
    },
    {
      "cell_type": "code",
      "source": [
        "from collections import Counter\n",
        "counter = Counter()\n",
        "for _, _, label in train_ijepa_dataset:\n",
        "    counter[label] += 1\n",
        "\n",
        "print(counter)"
      ],
      "metadata": {
        "id": "D4QkFEExZw4m"
      },
      "execution_count": null,
      "outputs": []
    },
    {
      "cell_type": "code",
      "source": [
        "import time\n",
        "import pickle\n",
        "import os\n",
        "# ----- Measure cache file reading time -----\n",
        "cache_path = 'precomputed_aav.pkl'\n",
        "read_times = []\n",
        "n_reads = 10  # Number of times to load the cache file.\n",
        "\n",
        "for i in range(n_reads):\n",
        "    start = time.perf_counter()\n",
        "    with open(cache_path, 'rb') as f:\n",
        "        data = pickle.load(f)\n",
        "    end = time.perf_counter()\n",
        "    read_times.append(end - start)\n",
        "\n",
        "avg_read_time = sum(read_times) / len(read_times)\n",
        "print(f\"Average time to load cache file over {n_reads} runs: {avg_read_time:.6f} seconds\")"
      ],
      "metadata": {
        "id": "_x7wLJhOyV0V"
      },
      "execution_count": null,
      "outputs": []
    },
    {
      "cell_type": "code",
      "source": [
        "# Timing the loading of the dataset and DataLoader\n",
        "cache_path = 'precomputed_aav.pkl'\n",
        "start_time = time.time()\n",
        "\n",
        "train_ijepa_dataset = PrecomputedIJEPADataset(train_dataset, cache_file=cache_path)\n",
        "end_time_train_ijepa_dataset = time.time()\n",
        "train_loader = DataLoader(train_ijepa_dataset, batch_size=32, shuffle=True)\n",
        "\n",
        "end_time = time.time()\n",
        "print(f\"Time taken to load dataset: {end_time_train_ijepa_dataset - start_time:.4f} seconds and DataLoader: {end_time - start_time:.4f} seconds\")"
      ],
      "metadata": {
        "id": "PCVlnbMXGDRb"
      },
      "execution_count": null,
      "outputs": []
    },
    {
      "cell_type": "code",
      "source": [
        "n_samples = 100\n",
        "extract_times = []\n",
        "for i in range(n_samples):\n",
        "    start = time.perf_counter()\n",
        "    context_block, target_blocks, label = train_ijepa_dataset[i]  # Assumes train_base_dataset is already defined.\n",
        "\n",
        "    # Call the extraction function (adjust parameters as needed)\n",
        "    #context_block, target_blocks, _, _ = extract_blocks(img, context_scale=0.85, target_scale=0.2, num_targets=4)\n",
        "    end = time.perf_counter()\n",
        "    extract_times.append(end - start)\n",
        "\n",
        "avg_extract_time = sum(extract_times) / len(extract_times)\n",
        "print(f\"Average extract_blocks time over {n_samples} samples: {avg_extract_time:.6f} seconds\")"
      ],
      "metadata": {
        "id": "hp6aB0qzGzTw"
      },
      "execution_count": null,
      "outputs": []
    },
    {
      "cell_type": "code",
      "source": [
        "def get_vit_encoder():\n",
        "    model = vit_b_16(pretrained=False)\n",
        "    model.heads = nn.Identity()  # remove classification head\n",
        "    return model"
      ],
      "metadata": {
        "_uuid": "f3ad3daa-80ba-4ae8-8b4e-770815bad02e",
        "_cell_guid": "7aeb9d44-2fd8-4da1-87c0-4b992adb53db",
        "trusted": true,
        "jupyter": {
          "outputs_hidden": false
        },
        "id": "YQIK4mND8qK1"
      },
      "outputs": [],
      "execution_count": null
    },
    {
      "cell_type": "code",
      "source": [
        "\n",
        "context_encoder = get_vit_encoder().cuda()\n",
        "target_encoder  = get_vit_encoder().cuda()\n",
        "target_encoder.load_state_dict(context_encoder.state_dict())"
      ],
      "metadata": {
        "_uuid": "b79e21b1-3b97-4dfc-958f-bddb3c94c746",
        "_cell_guid": "2d8198b7-dbf5-4228-975a-8c733cea1a07",
        "trusted": true,
        "jupyter": {
          "outputs_hidden": false
        },
        "id": "rkq_fT7g8qK1"
      },
      "outputs": [],
      "execution_count": null
    },
    {
      "cell_type": "code",
      "source": [
        "class Predictor(nn.Module):\n",
        "    def __init__(self, input_dim=768, hidden_dim=768, output_dim=768, num_targets=4):\n",
        "        super().__init__()\n",
        "        self.num_targets = num_targets\n",
        "        self.mlp = nn.Sequential(\n",
        "            nn.Linear(input_dim, hidden_dim),\n",
        "            nn.ReLU(),\n",
        "            nn.Linear(hidden_dim, output_dim * num_targets)\n",
        "        )\n",
        "    def forward(self, context_repr):\n",
        "        pred = self.mlp(context_repr)\n",
        "        # Reshape to [B, num_targets, output_dim]\n",
        "        return pred.view(-1, self.num_targets, pred.size(-1) // self.num_targets)"
      ],
      "metadata": {
        "_uuid": "e303f4ac-a09b-4f56-b997-6b364d63a675",
        "_cell_guid": "9206cc42-0845-4604-ab30-6852e28e2dcb",
        "trusted": true,
        "jupyter": {
          "outputs_hidden": false
        },
        "id": "OApD7Fy68qK1"
      },
      "outputs": [],
      "execution_count": null
    },
    {
      "cell_type": "code",
      "source": [
        "# 6. Set up optimizer, loss, and EMA update (same as your CIFAR code).\n",
        "predictor = Predictor().cuda()\n",
        "optimizer = optim.Adam(list(context_encoder.parameters()) + list(predictor.parameters()), lr=1e-3)\n",
        "criterion = nn.MSELoss()\n",
        "ema_decay = 0.99"
      ],
      "metadata": {
        "_uuid": "66d2337f-fb52-4652-9da7-242ce9d9d5e1",
        "_cell_guid": "e10ef302-1659-4a97-9bbb-2de90ac902c9",
        "trusted": true,
        "jupyter": {
          "outputs_hidden": false
        },
        "id": "ZsZNIdEk8qK2"
      },
      "outputs": [],
      "execution_count": null
    },
    {
      "cell_type": "code",
      "source": [
        "@torch.no_grad()\n",
        "def update_ema(model, model_ema, beta):\n",
        "    for param, param_ema in zip(model.parameters(), model_ema.parameters()):\n",
        "        param_ema.data.mul_(beta).add_(param.data, alpha=1 - beta)"
      ],
      "metadata": {
        "_uuid": "0e90599a-d03d-4231-a58a-1272a3613cc3",
        "_cell_guid": "aece458a-d1da-4334-804f-b054cf8ed0fc",
        "trusted": true,
        "jupyter": {
          "outputs_hidden": false
        },
        "id": "kM60lfOw8qK2"
      },
      "outputs": [],
      "execution_count": null
    },
    {
      "cell_type": "code",
      "source": [
        "# Create a directory for visualizations if it doesn't exist.\n",
        "#viz_dir = \"/kaggle/working/viz\"\n",
        "#os.makedirs(viz_dir, exist_ok=True)\n",
        "\n",
        "num_epochs = 100\n",
        "ema_decay = 0.99\n",
        "best_loss = float('inf')\n",
        "total_start_time = time.time()\n",
        "\n",
        "for epoch in range(num_epochs):\n",
        "    epoch_start_time = time.time()\n",
        "    context_encoder.train()\n",
        "    predictor.train()\n",
        "    running_loss = 0.0\n",
        "\n",
        "    # Enumerate over batches with a progress bar.\n",
        "    for batch_idx, (context_block, target_blocks, _) in enumerate(tqdm(train_loader, desc=f\"Epoch {epoch+1}/{num_epochs}\", leave=False)):\n",
        "        context_block = context_block.cuda()            # [B, C, 224, 224]\n",
        "        target_blocks = target_blocks.cuda()              # [B, num_targets, C, 224, 224]\n",
        "\n",
        "        # Forward pass through context encoder and predictor.\n",
        "        context_repr = context_encoder(context_block)     # [B, 768]\n",
        "        preds = predictor(context_repr)                   # [B, num_targets, 768]\n",
        "\n",
        "        B, num_targets, C, Ht, Wt = target_blocks.shape\n",
        "        target_blocks_flat = target_blocks.view(B * num_targets, C, Ht, Wt)\n",
        "        with torch.no_grad():\n",
        "            target_repr_flat = target_encoder(target_blocks_flat)\n",
        "        target_repr = target_repr_flat.view(B, num_targets, -1)\n",
        "\n",
        "        loss = criterion(preds, target_repr)\n",
        "        optimizer.zero_grad()\n",
        "        loss.backward()\n",
        "        optimizer.step()\n",
        "        update_ema(context_encoder, target_encoder, ema_decay)\n",
        "        running_loss += loss.item() * context_block.size(0)\n",
        "\n",
        "        # --- Visualization for first image of the current batch ---\n",
        "        '''with torch.no_grad():\n",
        "            # Get the first sample's context block and compute its feature vector.\n",
        "            context_img = context_block[0].cpu()  # shape: [C, 224, 224]\n",
        "            context_feat = context_encoder(context_block[0].unsqueeze(0)).cpu().squeeze(0)  # shape: [768]\n",
        "            # Reshape feature vector to a 2D heatmap (24x32).\n",
        "            context_heat = context_feat.view(24, 32).numpy()\n",
        "\n",
        "            # For target, choose the first target block of the first sample.\n",
        "            target_img = target_blocks[0][0].cpu()  # shape: [C, 224, 224]\n",
        "            target_feat = target_encoder(target_blocks[0][0].unsqueeze(0).to(context_block.device)).cpu().squeeze(0)\n",
        "            target_heat = target_feat.view(24, 32).numpy()\n",
        "\n",
        "            # Plot the images and corresponding heatmaps.\n",
        "            fig, axs = plt.subplots(2, 2, figsize=(10, 8))\n",
        "\n",
        "            # Display context block image.\n",
        "            if context_img.shape[0] == 1:\n",
        "                axs[0, 0].imshow(context_img.squeeze(), cmap='gray')\n",
        "            else:\n",
        "                axs[0, 0].imshow(context_img.permute(1, 2, 0))\n",
        "            axs[0, 0].set_title(\"Context Block\")\n",
        "            axs[0, 0].axis(\"off\")\n",
        "\n",
        "            # Display context feature heatmap.\n",
        "            im0 = axs[0, 1].imshow(context_heat, cmap=\"viridis\")\n",
        "            axs[0, 1].set_title(\"Context Feature Heatmap\")\n",
        "            axs[0, 1].axis(\"off\")\n",
        "            fig.colorbar(im0, ax=axs[0, 1])\n",
        "\n",
        "            # Display target block image.\n",
        "            if target_img.shape[0] == 1:\n",
        "                axs[1, 0].imshow(target_img.squeeze(), cmap='gray')\n",
        "            else:\n",
        "                axs[1, 0].imshow(target_img.permute(1, 2, 0))\n",
        "            axs[1, 0].set_title(\"Target Block\")\n",
        "            axs[1, 0].axis(\"off\")\n",
        "\n",
        "            # Display target feature heatmap.\n",
        "            im1 = axs[1, 1].imshow(target_heat, cmap=\"viridis\")\n",
        "            axs[1, 1].set_title(\"Target Feature Heatmap\")\n",
        "            axs[1, 1].axis(\"off\")\n",
        "            fig.colorbar(im1, ax=axs[1, 1])\n",
        "\n",
        "            # Save the visualization figure with epoch and batch number.\n",
        "            viz_path = os.path.join(viz_dir, f\"epoch{epoch+1}_batch{batch_idx+1}.png\")\n",
        "            plt.savefig(viz_path)\n",
        "            plt.close(fig)'''\n",
        "\n",
        "    epoch_loss = running_loss / len(train_ijepa_dataset)\n",
        "    epoch_time = time.time() - epoch_start_time\n",
        "    print(f\"Epoch {epoch+1}/{num_epochs} - Train Loss: {epoch_loss:.10f} - Epoch Time: {epoch_time:.2f}s\")\n",
        "\n",
        "    # Save checkpoint if current epoch loss is lower than previous best.\n",
        "    if epoch_loss < best_loss:\n",
        "        best_loss = epoch_loss\n",
        "        checkpoint = {\n",
        "            'epoch': epoch+1,\n",
        "            'context_encoder_state_dict': context_encoder.state_dict(),\n",
        "            'target_encoder_state_dict': target_encoder.state_dict(),\n",
        "            'predictor_state_dict': predictor.state_dict(),\n",
        "            'optimizer_state_dict': optimizer.state_dict(),\n",
        "            'loss': epoch_loss\n",
        "        }\n",
        "        torch.save(checkpoint, \"/content/drive/MyDrive/AAVDATASET/spectrogram/ijepa_checkpoint_best.pth\")\n",
        "        print(f\"Checkpoint saved at epoch {epoch+1} with loss {epoch_loss:.4f}\")\n",
        "\n",
        "\n",
        "total_train_time = time.time() - total_start_time\n",
        "print(f\"Total Training Time: {total_train_time:.2f}s\")"
      ],
      "metadata": {
        "_uuid": "c8659b2c-5286-4027-b97b-c1ac887bb5f6",
        "_cell_guid": "0182b713-044f-4839-9cfc-0369f1eec96d",
        "trusted": true,
        "jupyter": {
          "outputs_hidden": false
        },
        "id": "IjnBW1lE8qK2"
      },
      "outputs": [],
      "execution_count": null
    },
    {
      "cell_type": "markdown",
      "source": [
        "# Grid Search EMA Decay"
      ],
      "metadata": {
        "id": "0iwRsWF2Jam_"
      }
    },
    {
      "cell_type": "code",
      "source": [
        "import os\n",
        "import time\n",
        "import torch\n",
        "from torch.utils.data import DataLoader\n",
        "import matplotlib.pyplot as plt\n",
        "from tqdm import tqdm\n",
        "\n",
        "# Define candidate EMA decay values.\n",
        "ema_decay_candidates = [0.1, 0.3, 0.5, 0.7, 0.95, 0.97, 0.99, 0.999]\n",
        "num_epochs_grid = 10  # Use fewer epochs for grid search.\n",
        "grid_results = {}      # To record the best loss for each candidate.\n",
        "training_curves = {}   # To store epoch loss curves for each candidate.\n",
        "\n",
        "# Loop over each EMA decay candidate.\n",
        "for candidate in ema_decay_candidates:\n",
        "    print(f\"\\nTraining with ema_decay = {candidate}\")\n",
        "\n",
        "    # Reinitialize models for each candidate.\n",
        "    context_encoder_candidate = get_vit_encoder().cuda()\n",
        "    target_encoder_candidate = get_vit_encoder().cuda()\n",
        "    target_encoder_candidate.load_state_dict(context_encoder_candidate.state_dict())\n",
        "    predictor_candidate = Predictor().cuda()\n",
        "\n",
        "    # Set up a new optimizer.\n",
        "    optimizer_candidate = torch.optim.Adam(\n",
        "        list(context_encoder_candidate.parameters()) + list(predictor_candidate.parameters()),\n",
        "        lr=1e-3\n",
        "    )\n",
        "\n",
        "    best_loss_candidate = float('inf')\n",
        "    candidate_losses = []  # To store epoch losses for this candidate.\n",
        "\n",
        "    for epoch in range(num_epochs_grid):\n",
        "        context_encoder_candidate.train()\n",
        "        predictor_candidate.train()\n",
        "        running_loss = 0.0\n",
        "        epoch_start_time = time.time()\n",
        "\n",
        "        for batch_idx, (context_block, target_blocks, _) in enumerate(\n",
        "            tqdm(train_loader, desc=f\"Candidate {candidate} Epoch {epoch+1}/{num_epochs_grid}\", leave=False)\n",
        "        ):\n",
        "            context_block = context_block.cuda()            # [B, C, 224, 224]\n",
        "            target_blocks = target_blocks.cuda()              # [B, num_targets, C, 224, 224]\n",
        "\n",
        "            # Forward pass.\n",
        "            context_repr = context_encoder_candidate(context_block)  # [B, 768]\n",
        "            preds = predictor_candidate(context_repr)                # [B, num_targets, 768]\n",
        "\n",
        "            B, num_targets, C, Ht, Wt = target_blocks.shape\n",
        "            target_blocks_flat = target_blocks.view(B * num_targets, C, Ht, Wt)\n",
        "            with torch.no_grad():\n",
        "                target_repr_flat = target_encoder_candidate(target_blocks_flat)\n",
        "            target_repr = target_repr_flat.view(B, num_targets, -1)\n",
        "\n",
        "            loss = criterion(preds, target_repr)\n",
        "            optimizer_candidate.zero_grad()\n",
        "            loss.backward()\n",
        "            optimizer_candidate.step()\n",
        "\n",
        "            # Update target encoder with the candidate's EMA decay.\n",
        "            update_ema(context_encoder_candidate, target_encoder_candidate, candidate)\n",
        "\n",
        "            running_loss += loss.item() * context_block.size(0)\n",
        "\n",
        "        epoch_loss = running_loss / len(train_ijepa_dataset)\n",
        "        candidate_losses.append(epoch_loss)\n",
        "        epoch_time = time.time() - epoch_start_time\n",
        "        print(f\"ema_decay={candidate}, Epoch {epoch+1}/{num_epochs_grid} - Loss: {epoch_loss:.10f} - Epoch Time: {epoch_time:.2f}s\")\n",
        "\n",
        "        if epoch_loss < best_loss_candidate:\n",
        "            best_loss_candidate = epoch_loss\n",
        "\n",
        "    training_curves[candidate] = candidate_losses\n",
        "    grid_results[candidate] = best_loss_candidate\n",
        "    print(f\"Candidate ema_decay = {candidate} achieved best loss: {best_loss_candidate:.10f}\")\n",
        "\n",
        "# Print grid search results.\n",
        "print(\"\\nGrid Search Results:\")\n",
        "for candidate, loss in grid_results.items():\n",
        "    print(f\"ema_decay {candidate}: Best Loss = {loss:.10f}\")\n",
        "\n",
        "# ---------------------------\n",
        "# Plot learning curves for all EMA decay candidates.\n",
        "# ---------------------------\n",
        "plt.figure(figsize=(10, 6))\n",
        "epochs = range(1, num_epochs_grid + 1)\n",
        "for candidate, losses in training_curves.items():\n",
        "    plt.plot(epochs, losses, marker='o', label=f\"ema_decay = {candidate}\")\n",
        "plt.xlabel(\"Epoch\")\n",
        "plt.ylabel(\"Training Loss\")\n",
        "plt.title(\"EMA Decay Grid Search - Training Loss Curves\")\n",
        "plt.legend()\n",
        "plt.grid(True)\n",
        "plt.tight_layout()\n",
        "plt.savefig(\"/content/drive/MyDrive/AAVDATASET/spectrogram/ema_decay_grid_search.png\")\n",
        "plt.show()\n"
      ],
      "metadata": {
        "id": "h3j3XL5yJlI7"
      },
      "execution_count": null,
      "outputs": []
    },
    {
      "cell_type": "markdown",
      "source": [
        "# Grid Search of learning rate for the best EMA decay"
      ],
      "metadata": {
        "id": "ydZM4o4DZen6"
      }
    },
    {
      "cell_type": "code",
      "source": [
        "import os\n",
        "import time\n",
        "import torch\n",
        "from torch.utils.data import DataLoader\n",
        "import matplotlib.pyplot as plt\n",
        "from tqdm import tqdm\n",
        "\n",
        "# Define candidate learning rate values.\n",
        "lr_candidates = [1e-4, 1e-3, 1e-2, 1e-1]\n",
        "num_epochs_grid = 10  # Use a smaller number of epochs for the grid search.\n",
        "grid_results = {}      # To record the best loss for each candidate.\n",
        "training_curves = {}   # To store per-epoch loss curves for each candidate.\n",
        "\n",
        "# Loop over each learning rate candidate.\n",
        "for lr in lr_candidates:\n",
        "    print(f\"\\nTraining with learning rate = {lr}\")\n",
        "\n",
        "    # Reinitialize models for each candidate.\n",
        "    context_encoder_candidate = get_vit_encoder().cuda()\n",
        "    target_encoder_candidate = get_vit_encoder().cuda()\n",
        "    target_encoder_candidate.load_state_dict(context_encoder_candidate.state_dict())\n",
        "    predictor_candidate = Predictor().cuda()\n",
        "\n",
        "    # Set up a new optimizer with the current learning rate.\n",
        "    optimizer_candidate = torch.optim.Adam(\n",
        "        list(context_encoder_candidate.parameters()) + list(predictor_candidate.parameters()),\n",
        "        lr=lr\n",
        "    )\n",
        "\n",
        "    best_loss_candidate = float('inf')\n",
        "    candidate_losses = []  # To store the epoch loss for this candidate.\n",
        "\n",
        "    for epoch in range(num_epochs_grid):\n",
        "        context_encoder_candidate.train()\n",
        "        predictor_candidate.train()\n",
        "        running_loss = 0.0\n",
        "        epoch_start_time = time.time()\n",
        "\n",
        "        for batch_idx, (context_block, target_blocks, _) in enumerate(\n",
        "            tqdm(train_loader, desc=f\"LR {lr} Epoch {epoch+1}/{num_epochs_grid}\", leave=False)\n",
        "        ):\n",
        "            context_block = context_block.cuda()            # [B, C, 224, 224]\n",
        "            target_blocks = target_blocks.cuda()              # [B, num_targets, C, 224, 224]\n",
        "\n",
        "            # Forward pass.\n",
        "            context_repr = context_encoder_candidate(context_block)  # [B, 768]\n",
        "            preds = predictor_candidate(context_repr)                # [B, num_targets, 768]\n",
        "\n",
        "            B, num_targets, C, Ht, Wt = target_blocks.shape\n",
        "            target_blocks_flat = target_blocks.view(B * num_targets, C, Ht, Wt)\n",
        "            with torch.no_grad():\n",
        "                target_repr_flat = target_encoder_candidate(target_blocks_flat)\n",
        "            target_repr = target_repr_flat.view(B, num_targets, -1)\n",
        "\n",
        "            loss = criterion(preds, target_repr)\n",
        "            optimizer_candidate.zero_grad()\n",
        "            loss.backward()\n",
        "            optimizer_candidate.step()\n",
        "\n",
        "            # For this grid search over learning rate, we keep the EMA update constant (e.g. using a fixed value).\n",
        "            update_ema(context_encoder_candidate, target_encoder_candidate, 0.1)\n",
        "\n",
        "            running_loss += loss.item() * context_block.size(0)\n",
        "\n",
        "        epoch_loss = running_loss / len(train_ijepa_dataset)\n",
        "        candidate_losses.append(epoch_loss)\n",
        "        epoch_time = time.time() - epoch_start_time\n",
        "        print(f\"LR {lr}, Epoch {epoch+1}/{num_epochs_grid} - Loss: {epoch_loss:.15f} - Epoch Time: {epoch_time:.2f}s\")\n",
        "\n",
        "        if epoch_loss < best_loss_candidate:\n",
        "            best_loss_candidate = epoch_loss\n",
        "\n",
        "    training_curves[lr] = candidate_losses\n",
        "    grid_results[lr] = best_loss_candidate\n",
        "    print(f\"Candidate lr = {lr} achieved best loss: {best_loss_candidate:.15f}\")\n",
        "\n",
        "# Print grid search results.\n",
        "print(\"\\nGrid Search Results:\")\n",
        "for candidate, loss in grid_results.items():\n",
        "    print(f\"Learning Rate {candidate}: Best Loss = {loss:.15f}\")\n",
        "\n",
        "# ---------------------------\n",
        "# Plot learning curves for all learning rate candidates.\n",
        "# ---------------------------\n",
        "plt.figure(figsize=(10, 6))\n",
        "epochs = range(1, num_epochs_grid + 1)\n",
        "for lr, losses in training_curves.items():\n",
        "    plt.plot(epochs, losses, marker='o', label=f\"lr = {lr}\")\n",
        "plt.xlabel(\"Epoch\")\n",
        "plt.ylabel(\"Training Loss\")\n",
        "plt.title(\"Learning Rate Grid Search - Training Loss Curves\")\n",
        "plt.legend()\n",
        "plt.grid(True)\n",
        "plt.tight_layout()\n",
        "plt.savefig(\"/content/drive/MyDrive/AAVDATASET/spectrogram/learning_rate_grid_search.png\")\n",
        "plt.show()\n"
      ],
      "metadata": {
        "id": "qIXX-3rXZkHH"
      },
      "execution_count": null,
      "outputs": []
    },
    {
      "cell_type": "markdown",
      "source": [
        "# Train the Classifier"
      ],
      "metadata": {
        "id": "clZWxsbpZ9EO"
      }
    },
    {
      "cell_type": "markdown",
      "source": [
        "## 1. Load the Saved Checkpoint for the Self-Supervised Model"
      ],
      "metadata": {
        "id": "GQnzVW9aaDL4"
      }
    },
    {
      "cell_type": "code",
      "source": [
        "checkpoint = torch.load(os.path.join(base_dir, \"ijepa_checkpoint_best.pth\"))\n",
        "context_encoder.load_state_dict(checkpoint['context_encoder_state_dict'])\n",
        "# Freeze the context encoder.\n",
        "context_encoder.eval()\n",
        "for param in context_encoder.parameters():\n",
        "    param.requires_grad = False"
      ],
      "metadata": {
        "id": "TXG_-3UPaHTE"
      },
      "execution_count": null,
      "outputs": []
    },
    {
      "cell_type": "markdown",
      "source": [
        "## 2. Define the Classifier"
      ],
      "metadata": {
        "id": "W4p4tYAraGVn"
      }
    },
    {
      "cell_type": "code",
      "source": [
        "num_classes = 3  # Adjust this number based on your dataset.\n",
        "classifier = nn.Linear(768, num_classes).cuda()\n"
      ],
      "metadata": {
        "id": "rGFXEjdsaOW1"
      },
      "execution_count": null,
      "outputs": []
    },
    {
      "cell_type": "markdown",
      "source": [
        "## 3. Set Up Optimizer and Loss Criterion"
      ],
      "metadata": {
        "id": "X0ZKbi8UaQig"
      }
    },
    {
      "cell_type": "code",
      "source": [
        "clf_optimizer = optim.Adam(classifier.parameters(), lr=1e-3)\n",
        "criterion_cls = nn.CrossEntropyLoss()\n"
      ],
      "metadata": {
        "id": "R19laeJNaTp9"
      },
      "execution_count": null,
      "outputs": []
    },
    {
      "cell_type": "markdown",
      "source": [
        "## 4. Training Loop for the Classifier (Using Training Data Only)"
      ],
      "metadata": {
        "id": "1L2khmV-aWGm"
      }
    },
    {
      "cell_type": "code",
      "source": [
        "num_epochs_clf = 500\n",
        "best_train_acc = 0.0  # Best training accuracy so far.\n",
        "\n",
        "for epoch in range(num_epochs_clf):\n",
        "    epoch_start_time = time.time()\n",
        "    classifier.train()\n",
        "    running_loss = 0.0\n",
        "    correct_train = 0\n",
        "    total_train = 0\n",
        "\n",
        "    for context_block, _, label in train_loader:\n",
        "        context_block = context_block.cuda()  # [B, C, 224, 224]\n",
        "        label = label.cuda()\n",
        "\n",
        "        with torch.no_grad():\n",
        "            features = context_encoder(context_block)  # [B, 768]\n",
        "\n",
        "        logits = classifier(features)  # [B, num_classes]\n",
        "        loss = criterion_cls(logits, label)\n",
        "\n",
        "        clf_optimizer.zero_grad()\n",
        "        loss.backward()\n",
        "        clf_optimizer.step()\n",
        "\n",
        "        running_loss += loss.item() * context_block.size(0)\n",
        "        preds = logits.argmax(dim=1)\n",
        "        correct_train += (preds == label).sum().item()\n",
        "        total_train += label.size(0)\n",
        "\n",
        "    epoch_train_loss = running_loss / len(train_ijepa_dataset)\n",
        "    epoch_train_acc = correct_train / total_train\n",
        "    epoch_time = time.time() - epoch_start_time\n",
        "\n",
        "    print(f\"Epoch {epoch+1}/{num_epochs_clf} - Train Loss: {epoch_train_loss:.10f} | Train Acc: {epoch_train_acc*100:.10f}% | Time: {epoch_time:.2f}s\")\n",
        "\n",
        "    # Save checkpoint if training accuracy improves.\n",
        "    if epoch_train_acc > best_train_acc:\n",
        "        best_train_acc = epoch_train_acc\n",
        "        checkpoint = {\n",
        "            'epoch': epoch+1,\n",
        "            'classifier_state_dict': classifier.state_dict(),\n",
        "            'optimizer_state_dict': clf_optimizer.state_dict(),\n",
        "            'train_loss': epoch_train_loss,\n",
        "            'train_acc': epoch_train_acc\n",
        "        }\n",
        "        torch.save(checkpoint, os.path.join(base_dir,\"ijepa_classifier_best.pth\"))\n",
        "        print(f\"Checkpoint saved at epoch {epoch+1} with Train Acc: {epoch_train_acc*100:.10f}%\")\n",
        "\n",
        "print(\"Classifier training complete!\")"
      ],
      "metadata": {
        "id": "3nQoDWvwaZ4g"
      },
      "execution_count": null,
      "outputs": []
    },
    {
      "cell_type": "code",
      "source": [
        "from google.colab import output\n",
        "output.eval_js('google.colab.kernel.disconnect()')"
      ],
      "metadata": {
        "id": "OfvaWDggmMKX"
      },
      "execution_count": null,
      "outputs": []
    },
    {
      "cell_type": "code",
      "source": [
        "!kill -9 -1"
      ],
      "metadata": {
        "id": "TDqi8kpNuRWV"
      },
      "execution_count": null,
      "outputs": []
    }
  ]
}