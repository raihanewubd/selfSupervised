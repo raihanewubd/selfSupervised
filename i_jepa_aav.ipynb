{
  "metadata": {
    "kernelspec": {
      "name": "python3",
      "display_name": "Python 3",
      "language": "python"
    },
    "language_info": {
      "name": "python",
      "version": "3.10.12",
      "mimetype": "text/x-python",
      "codemirror_mode": {
        "name": "ipython",
        "version": 3
      },
      "pygments_lexer": "ipython3",
      "nbconvert_exporter": "python",
      "file_extension": ".py"
    },
    "colab": {
      "provenance": [],
      "gpuType": "A100",
      "machine_shape": "hm",
      "name": "i_jepa_aav.ipynb",
      "include_colab_link": true
    },
    "kaggle": {
      "accelerator": "gpu",
      "dataSources": [
        {
          "sourceId": 11224133,
          "sourceType": "datasetVersion",
          "datasetId": 7010008
        }
      ],
      "isInternetEnabled": true,
      "language": "python",
      "sourceType": "notebook",
      "isGpuEnabled": true
    },
    "widgets": {
      "application/vnd.jupyter.widget-state+json": {
        "95d195914ee941c09427b56869b8b76d": {
          "model_module": "@jupyter-widgets/controls",
          "model_name": "VBoxModel",
          "model_module_version": "1.5.0",
          "state": {
            "_dom_classes": [],
            "_model_module": "@jupyter-widgets/controls",
            "_model_module_version": "1.5.0",
            "_model_name": "VBoxModel",
            "_view_count": null,
            "_view_module": "@jupyter-widgets/controls",
            "_view_module_version": "1.5.0",
            "_view_name": "VBoxView",
            "box_style": "",
            "children": [
              "IPY_MODEL_cfd3325551914d54ab497ae080a128a4",
              "IPY_MODEL_19ee729db53447889a17a100e638a30c",
              "IPY_MODEL_2450cd62cd6549db8dc3023189436183",
              "IPY_MODEL_df8a3d0c68384b8db837d834c6bee2ee",
              "IPY_MODEL_9b0c29fa029f4a348fbdf3d916327df2"
            ],
            "layout": "IPY_MODEL_6533b4765b064b87880f880008b66fb8"
          }
        },
        "cfd3325551914d54ab497ae080a128a4": {
          "model_module": "@jupyter-widgets/controls",
          "model_name": "HTMLModel",
          "model_module_version": "1.5.0",
          "state": {
            "_dom_classes": [],
            "_model_module": "@jupyter-widgets/controls",
            "_model_module_version": "1.5.0",
            "_model_name": "HTMLModel",
            "_view_count": null,
            "_view_module": "@jupyter-widgets/controls",
            "_view_module_version": "1.5.0",
            "_view_name": "HTMLView",
            "description": "",
            "description_tooltip": null,
            "layout": "IPY_MODEL_c49e5a8a273e43e58d31d8ea34136e1c",
            "placeholder": "​",
            "style": "IPY_MODEL_e013a82ffcdc40a995cd550f46100534",
            "value": "<center> <img\nsrc=https://www.kaggle.com/static/images/site-logo.png\nalt='Kaggle'> <br> Create an API token from <a\nhref=\"https://www.kaggle.com/settings/account\" target=\"_blank\">your Kaggle\nsettings page</a> and paste it below along with your Kaggle username. <br> </center>"
          }
        },
        "19ee729db53447889a17a100e638a30c": {
          "model_module": "@jupyter-widgets/controls",
          "model_name": "TextModel",
          "model_module_version": "1.5.0",
          "state": {
            "_dom_classes": [],
            "_model_module": "@jupyter-widgets/controls",
            "_model_module_version": "1.5.0",
            "_model_name": "TextModel",
            "_view_count": null,
            "_view_module": "@jupyter-widgets/controls",
            "_view_module_version": "1.5.0",
            "_view_name": "TextView",
            "continuous_update": true,
            "description": "Username:",
            "description_tooltip": null,
            "disabled": false,
            "layout": "IPY_MODEL_41ae26b4bd1a470c9945f35dcd5ff603",
            "placeholder": "​",
            "style": "IPY_MODEL_f167b3cd4ef848d0b1324231442f1a49",
            "value": ""
          }
        },
        "2450cd62cd6549db8dc3023189436183": {
          "model_module": "@jupyter-widgets/controls",
          "model_name": "PasswordModel",
          "model_module_version": "1.5.0",
          "state": {
            "_dom_classes": [],
            "_model_module": "@jupyter-widgets/controls",
            "_model_module_version": "1.5.0",
            "_model_name": "PasswordModel",
            "_view_count": null,
            "_view_module": "@jupyter-widgets/controls",
            "_view_module_version": "1.5.0",
            "_view_name": "PasswordView",
            "continuous_update": true,
            "description": "Token:",
            "description_tooltip": null,
            "disabled": false,
            "layout": "IPY_MODEL_f3e2827520084d40b100f888448125df",
            "placeholder": "​",
            "style": "IPY_MODEL_d155776feedb48d9bce88d5c1c1f30c2",
            "value": ""
          }
        },
        "df8a3d0c68384b8db837d834c6bee2ee": {
          "model_module": "@jupyter-widgets/controls",
          "model_name": "ButtonModel",
          "model_module_version": "1.5.0",
          "state": {
            "_dom_classes": [],
            "_model_module": "@jupyter-widgets/controls",
            "_model_module_version": "1.5.0",
            "_model_name": "ButtonModel",
            "_view_count": null,
            "_view_module": "@jupyter-widgets/controls",
            "_view_module_version": "1.5.0",
            "_view_name": "ButtonView",
            "button_style": "",
            "description": "Login",
            "disabled": false,
            "icon": "",
            "layout": "IPY_MODEL_f3538abb2d3641d79add7bd1adf18d5c",
            "style": "IPY_MODEL_94f9cbf2f6744dadaedc37b05e5fc89a",
            "tooltip": ""
          }
        },
        "9b0c29fa029f4a348fbdf3d916327df2": {
          "model_module": "@jupyter-widgets/controls",
          "model_name": "HTMLModel",
          "model_module_version": "1.5.0",
          "state": {
            "_dom_classes": [],
            "_model_module": "@jupyter-widgets/controls",
            "_model_module_version": "1.5.0",
            "_model_name": "HTMLModel",
            "_view_count": null,
            "_view_module": "@jupyter-widgets/controls",
            "_view_module_version": "1.5.0",
            "_view_name": "HTMLView",
            "description": "",
            "description_tooltip": null,
            "layout": "IPY_MODEL_2314bee787ef4b12bc6ce5e8d67be362",
            "placeholder": "​",
            "style": "IPY_MODEL_5c859dfe88704249a8dc4c10632097f0",
            "value": "\n<b>Thank You</b></center>"
          }
        },
        "6533b4765b064b87880f880008b66fb8": {
          "model_module": "@jupyter-widgets/base",
          "model_name": "LayoutModel",
          "model_module_version": "1.2.0",
          "state": {
            "_model_module": "@jupyter-widgets/base",
            "_model_module_version": "1.2.0",
            "_model_name": "LayoutModel",
            "_view_count": null,
            "_view_module": "@jupyter-widgets/base",
            "_view_module_version": "1.2.0",
            "_view_name": "LayoutView",
            "align_content": null,
            "align_items": "center",
            "align_self": null,
            "border": null,
            "bottom": null,
            "display": "flex",
            "flex": null,
            "flex_flow": "column",
            "grid_area": null,
            "grid_auto_columns": null,
            "grid_auto_flow": null,
            "grid_auto_rows": null,
            "grid_column": null,
            "grid_gap": null,
            "grid_row": null,
            "grid_template_areas": null,
            "grid_template_columns": null,
            "grid_template_rows": null,
            "height": null,
            "justify_content": null,
            "justify_items": null,
            "left": null,
            "margin": null,
            "max_height": null,
            "max_width": null,
            "min_height": null,
            "min_width": null,
            "object_fit": null,
            "object_position": null,
            "order": null,
            "overflow": null,
            "overflow_x": null,
            "overflow_y": null,
            "padding": null,
            "right": null,
            "top": null,
            "visibility": null,
            "width": "50%"
          }
        },
        "c49e5a8a273e43e58d31d8ea34136e1c": {
          "model_module": "@jupyter-widgets/base",
          "model_name": "LayoutModel",
          "model_module_version": "1.2.0",
          "state": {
            "_model_module": "@jupyter-widgets/base",
            "_model_module_version": "1.2.0",
            "_model_name": "LayoutModel",
            "_view_count": null,
            "_view_module": "@jupyter-widgets/base",
            "_view_module_version": "1.2.0",
            "_view_name": "LayoutView",
            "align_content": null,
            "align_items": null,
            "align_self": null,
            "border": null,
            "bottom": null,
            "display": null,
            "flex": null,
            "flex_flow": null,
            "grid_area": null,
            "grid_auto_columns": null,
            "grid_auto_flow": null,
            "grid_auto_rows": null,
            "grid_column": null,
            "grid_gap": null,
            "grid_row": null,
            "grid_template_areas": null,
            "grid_template_columns": null,
            "grid_template_rows": null,
            "height": null,
            "justify_content": null,
            "justify_items": null,
            "left": null,
            "margin": null,
            "max_height": null,
            "max_width": null,
            "min_height": null,
            "min_width": null,
            "object_fit": null,
            "object_position": null,
            "order": null,
            "overflow": null,
            "overflow_x": null,
            "overflow_y": null,
            "padding": null,
            "right": null,
            "top": null,
            "visibility": null,
            "width": null
          }
        },
        "e013a82ffcdc40a995cd550f46100534": {
          "model_module": "@jupyter-widgets/controls",
          "model_name": "DescriptionStyleModel",
          "model_module_version": "1.5.0",
          "state": {
            "_model_module": "@jupyter-widgets/controls",
            "_model_module_version": "1.5.0",
            "_model_name": "DescriptionStyleModel",
            "_view_count": null,
            "_view_module": "@jupyter-widgets/base",
            "_view_module_version": "1.2.0",
            "_view_name": "StyleView",
            "description_width": ""
          }
        },
        "41ae26b4bd1a470c9945f35dcd5ff603": {
          "model_module": "@jupyter-widgets/base",
          "model_name": "LayoutModel",
          "model_module_version": "1.2.0",
          "state": {
            "_model_module": "@jupyter-widgets/base",
            "_model_module_version": "1.2.0",
            "_model_name": "LayoutModel",
            "_view_count": null,
            "_view_module": "@jupyter-widgets/base",
            "_view_module_version": "1.2.0",
            "_view_name": "LayoutView",
            "align_content": null,
            "align_items": null,
            "align_self": null,
            "border": null,
            "bottom": null,
            "display": null,
            "flex": null,
            "flex_flow": null,
            "grid_area": null,
            "grid_auto_columns": null,
            "grid_auto_flow": null,
            "grid_auto_rows": null,
            "grid_column": null,
            "grid_gap": null,
            "grid_row": null,
            "grid_template_areas": null,
            "grid_template_columns": null,
            "grid_template_rows": null,
            "height": null,
            "justify_content": null,
            "justify_items": null,
            "left": null,
            "margin": null,
            "max_height": null,
            "max_width": null,
            "min_height": null,
            "min_width": null,
            "object_fit": null,
            "object_position": null,
            "order": null,
            "overflow": null,
            "overflow_x": null,
            "overflow_y": null,
            "padding": null,
            "right": null,
            "top": null,
            "visibility": null,
            "width": null
          }
        },
        "f167b3cd4ef848d0b1324231442f1a49": {
          "model_module": "@jupyter-widgets/controls",
          "model_name": "DescriptionStyleModel",
          "model_module_version": "1.5.0",
          "state": {
            "_model_module": "@jupyter-widgets/controls",
            "_model_module_version": "1.5.0",
            "_model_name": "DescriptionStyleModel",
            "_view_count": null,
            "_view_module": "@jupyter-widgets/base",
            "_view_module_version": "1.2.0",
            "_view_name": "StyleView",
            "description_width": ""
          }
        },
        "f3e2827520084d40b100f888448125df": {
          "model_module": "@jupyter-widgets/base",
          "model_name": "LayoutModel",
          "model_module_version": "1.2.0",
          "state": {
            "_model_module": "@jupyter-widgets/base",
            "_model_module_version": "1.2.0",
            "_model_name": "LayoutModel",
            "_view_count": null,
            "_view_module": "@jupyter-widgets/base",
            "_view_module_version": "1.2.0",
            "_view_name": "LayoutView",
            "align_content": null,
            "align_items": null,
            "align_self": null,
            "border": null,
            "bottom": null,
            "display": null,
            "flex": null,
            "flex_flow": null,
            "grid_area": null,
            "grid_auto_columns": null,
            "grid_auto_flow": null,
            "grid_auto_rows": null,
            "grid_column": null,
            "grid_gap": null,
            "grid_row": null,
            "grid_template_areas": null,
            "grid_template_columns": null,
            "grid_template_rows": null,
            "height": null,
            "justify_content": null,
            "justify_items": null,
            "left": null,
            "margin": null,
            "max_height": null,
            "max_width": null,
            "min_height": null,
            "min_width": null,
            "object_fit": null,
            "object_position": null,
            "order": null,
            "overflow": null,
            "overflow_x": null,
            "overflow_y": null,
            "padding": null,
            "right": null,
            "top": null,
            "visibility": null,
            "width": null
          }
        },
        "d155776feedb48d9bce88d5c1c1f30c2": {
          "model_module": "@jupyter-widgets/controls",
          "model_name": "DescriptionStyleModel",
          "model_module_version": "1.5.0",
          "state": {
            "_model_module": "@jupyter-widgets/controls",
            "_model_module_version": "1.5.0",
            "_model_name": "DescriptionStyleModel",
            "_view_count": null,
            "_view_module": "@jupyter-widgets/base",
            "_view_module_version": "1.2.0",
            "_view_name": "StyleView",
            "description_width": ""
          }
        },
        "f3538abb2d3641d79add7bd1adf18d5c": {
          "model_module": "@jupyter-widgets/base",
          "model_name": "LayoutModel",
          "model_module_version": "1.2.0",
          "state": {
            "_model_module": "@jupyter-widgets/base",
            "_model_module_version": "1.2.0",
            "_model_name": "LayoutModel",
            "_view_count": null,
            "_view_module": "@jupyter-widgets/base",
            "_view_module_version": "1.2.0",
            "_view_name": "LayoutView",
            "align_content": null,
            "align_items": null,
            "align_self": null,
            "border": null,
            "bottom": null,
            "display": null,
            "flex": null,
            "flex_flow": null,
            "grid_area": null,
            "grid_auto_columns": null,
            "grid_auto_flow": null,
            "grid_auto_rows": null,
            "grid_column": null,
            "grid_gap": null,
            "grid_row": null,
            "grid_template_areas": null,
            "grid_template_columns": null,
            "grid_template_rows": null,
            "height": null,
            "justify_content": null,
            "justify_items": null,
            "left": null,
            "margin": null,
            "max_height": null,
            "max_width": null,
            "min_height": null,
            "min_width": null,
            "object_fit": null,
            "object_position": null,
            "order": null,
            "overflow": null,
            "overflow_x": null,
            "overflow_y": null,
            "padding": null,
            "right": null,
            "top": null,
            "visibility": null,
            "width": null
          }
        },
        "94f9cbf2f6744dadaedc37b05e5fc89a": {
          "model_module": "@jupyter-widgets/controls",
          "model_name": "ButtonStyleModel",
          "model_module_version": "1.5.0",
          "state": {
            "_model_module": "@jupyter-widgets/controls",
            "_model_module_version": "1.5.0",
            "_model_name": "ButtonStyleModel",
            "_view_count": null,
            "_view_module": "@jupyter-widgets/base",
            "_view_module_version": "1.2.0",
            "_view_name": "StyleView",
            "button_color": null,
            "font_weight": ""
          }
        },
        "2314bee787ef4b12bc6ce5e8d67be362": {
          "model_module": "@jupyter-widgets/base",
          "model_name": "LayoutModel",
          "model_module_version": "1.2.0",
          "state": {
            "_model_module": "@jupyter-widgets/base",
            "_model_module_version": "1.2.0",
            "_model_name": "LayoutModel",
            "_view_count": null,
            "_view_module": "@jupyter-widgets/base",
            "_view_module_version": "1.2.0",
            "_view_name": "LayoutView",
            "align_content": null,
            "align_items": null,
            "align_self": null,
            "border": null,
            "bottom": null,
            "display": null,
            "flex": null,
            "flex_flow": null,
            "grid_area": null,
            "grid_auto_columns": null,
            "grid_auto_flow": null,
            "grid_auto_rows": null,
            "grid_column": null,
            "grid_gap": null,
            "grid_row": null,
            "grid_template_areas": null,
            "grid_template_columns": null,
            "grid_template_rows": null,
            "height": null,
            "justify_content": null,
            "justify_items": null,
            "left": null,
            "margin": null,
            "max_height": null,
            "max_width": null,
            "min_height": null,
            "min_width": null,
            "object_fit": null,
            "object_position": null,
            "order": null,
            "overflow": null,
            "overflow_x": null,
            "overflow_y": null,
            "padding": null,
            "right": null,
            "top": null,
            "visibility": null,
            "width": null
          }
        },
        "5c859dfe88704249a8dc4c10632097f0": {
          "model_module": "@jupyter-widgets/controls",
          "model_name": "DescriptionStyleModel",
          "model_module_version": "1.5.0",
          "state": {
            "_model_module": "@jupyter-widgets/controls",
            "_model_module_version": "1.5.0",
            "_model_name": "DescriptionStyleModel",
            "_view_count": null,
            "_view_module": "@jupyter-widgets/base",
            "_view_module_version": "1.2.0",
            "_view_name": "StyleView",
            "description_width": ""
          }
        }
      }
    }
  },
  "nbformat_minor": 0,
  "nbformat": 4,
  "cells": [
    {
      "cell_type": "markdown",
      "metadata": {
        "id": "view-in-github",
        "colab_type": "text"
      },
      "source": [
        "<a href=\"https://colab.research.google.com/github/raihanewubd/selfSupervised/blob/main/i_jepa_aav.ipynb\" target=\"_parent\"><img src=\"https://colab.research.google.com/assets/colab-badge.svg\" alt=\"Open In Colab\"/></a>"
      ]
    },
    {
      "source": [
        "# IMPORTANT: SOME KAGGLE DATA SOURCES ARE PRIVATE\n",
        "# RUN THIS CELL IN ORDER TO IMPORT YOUR KAGGLE DATA SOURCES.\n",
        "import kagglehub\n",
        "kagglehub.login()\n"
      ],
      "metadata": {
        "id": "ECaBLnsn8qKX",
        "outputId": "2ca4c30c-9b1f-499c-e117-549a67445a31",
        "colab": {
          "base_uri": "https://localhost:8080/",
          "height": 301,
          "referenced_widgets": [
            "95d195914ee941c09427b56869b8b76d",
            "cfd3325551914d54ab497ae080a128a4",
            "19ee729db53447889a17a100e638a30c",
            "2450cd62cd6549db8dc3023189436183",
            "df8a3d0c68384b8db837d834c6bee2ee",
            "9b0c29fa029f4a348fbdf3d916327df2",
            "6533b4765b064b87880f880008b66fb8",
            "c49e5a8a273e43e58d31d8ea34136e1c",
            "e013a82ffcdc40a995cd550f46100534",
            "41ae26b4bd1a470c9945f35dcd5ff603",
            "f167b3cd4ef848d0b1324231442f1a49",
            "f3e2827520084d40b100f888448125df",
            "d155776feedb48d9bce88d5c1c1f30c2",
            "f3538abb2d3641d79add7bd1adf18d5c",
            "94f9cbf2f6744dadaedc37b05e5fc89a",
            "2314bee787ef4b12bc6ce5e8d67be362",
            "5c859dfe88704249a8dc4c10632097f0"
          ]
        }
      },
      "cell_type": "code",
      "outputs": [
        {
          "output_type": "display_data",
          "data": {
            "text/plain": [
              "VBox(children=(HTML(value='<center> <img\\nsrc=https://www.kaggle.com/static/images/site-logo.png\\nalt=\\'Kaggle…"
            ],
            "application/vnd.jupyter.widget-view+json": {
              "version_major": 2,
              "version_minor": 0,
              "model_id": "95d195914ee941c09427b56869b8b76d"
            }
          },
          "metadata": {}
        }
      ],
      "execution_count": 1
    },
    {
      "source": [
        "# IMPORTANT: RUN THIS CELL IN ORDER TO IMPORT YOUR KAGGLE DATA SOURCES,\n",
        "# THEN FEEL FREE TO DELETE THIS CELL.\n",
        "# NOTE: THIS NOTEBOOK ENVIRONMENT DIFFERS FROM KAGGLE'S PYTHON\n",
        "# ENVIRONMENT SO THERE MAY BE MISSING LIBRARIES USED BY YOUR\n",
        "# NOTEBOOK.\n",
        "\n",
        "beautifulminnd_aav_spectrogram_path = kagglehub.dataset_download('beautifulminnd/aav-spectrogram')\n",
        "\n",
        "print('Data source import complete.')\n"
      ],
      "metadata": {
        "id": "qlsmrDvX8qKm"
      },
      "cell_type": "code",
      "outputs": [],
      "execution_count": null
    },
    {
      "cell_type": "code",
      "source": [
        "from google.colab import drive\n",
        "from torchvision import datasets, transforms\n",
        "from torch.utils.data import DataLoader, random_split\n",
        "from transformers import ViTForImageClassification, ViTImageProcessor\n",
        "from collections import Counter\n",
        "import torch.nn.functional as F\n",
        "import numpy as np\n",
        "import torch\n",
        "import torch.nn as nn\n",
        "import torch.optim as optim\n",
        "import torch.optim as optim\n",
        "import time\n",
        "from tqdm import tqdm\n",
        "import torch\n",
        "import timm\n",
        "import matplotlib.pyplot as plt\n",
        "import copy\n",
        "from torchvision.models import vit_b_16\n",
        "from collections import Counter\n",
        "from tqdm import tqdm # for progress bar\n",
        "import random\n",
        "import os"
      ],
      "metadata": {
        "_uuid": "ab0f765f-50d0-4e71-934b-69036f927618",
        "_cell_guid": "1b74e769-17ce-492e-bbf7-eb90938bae5d",
        "id": "7Qm5o5BpuTyt",
        "jupyter": {
          "outputs_hidden": false
        },
        "trusted": true
      },
      "outputs": [],
      "execution_count": 1
    },
    {
      "cell_type": "code",
      "source": [
        "import os\n",
        "print(\"Number of CPU cores:\", os.cpu_count())\n"
      ],
      "metadata": {
        "id": "c78ELuxxevt5",
        "outputId": "e0a92956-1db4-4817-f794-04341c3db437",
        "colab": {
          "base_uri": "https://localhost:8080/"
        }
      },
      "execution_count": 13,
      "outputs": [
        {
          "output_type": "stream",
          "name": "stdout",
          "text": [
            "Number of CPU cores: 8\n"
          ]
        }
      ]
    },
    {
      "cell_type": "code",
      "source": [
        "import multiprocessing\n",
        "print(\"Number of CPU cores:\", multiprocessing.cpu_count())\n"
      ],
      "metadata": {
        "id": "Y67lvNw1exxB",
        "outputId": "c3e619a0-931d-4951-f995-c724147d3337",
        "colab": {
          "base_uri": "https://localhost:8080/"
        }
      },
      "execution_count": 14,
      "outputs": [
        {
          "output_type": "stream",
          "name": "stdout",
          "text": [
            "Number of CPU cores: 8\n"
          ]
        }
      ]
    },
    {
      "cell_type": "code",
      "source": [
        "drive.mount('/content/drive')"
      ],
      "metadata": {
        "_uuid": "b02bcb6e-1d67-4b0c-9d11-a22f3ab07a61",
        "_cell_guid": "d0758325-ed5a-4988-b20a-51539395a900",
        "trusted": true,
        "id": "Gxnc6znruQbZ",
        "outputId": "3c094d89-ab19-4b24-987e-19a32175bf86",
        "jupyter": {
          "outputs_hidden": false
        },
        "colab": {
          "base_uri": "https://localhost:8080/"
        }
      },
      "outputs": [
        {
          "output_type": "stream",
          "name": "stdout",
          "text": [
            "Mounted at /content/drive\n"
          ]
        }
      ],
      "execution_count": 2
    },
    {
      "cell_type": "code",
      "source": [
        "# Define base directory and file name for saving the classifier checkpoint.\n",
        "base_dir = \"/kaggle/working/AAVDATASET/spectrogram\"\n",
        "base_dir = '/content/drive/MyDrive/AAVDATASET/spectrogram'"
      ],
      "metadata": {
        "id": "51MrUfzzXm_a"
      },
      "execution_count": 3,
      "outputs": []
    },
    {
      "cell_type": "code",
      "source": [
        "data_dir = '/kaggle/input/aav-spectrogram/spectrogram'\n",
        "data_dir = '/content/drive/MyDrive/AAVDATASET/spectrogram/dataset'\n",
        "transform = transforms.Compose([\n",
        "    transforms.Resize((224, 224)),\n",
        "    transforms.ToTensor(),\n",
        "    transforms.Normalize(mean=[0.5], std=[0.5])\n",
        "])\n",
        "\n",
        "dataset = datasets.ImageFolder(root=data_dir, transform=transform)\n",
        "dataloader = DataLoader(dataset, batch_size=16, shuffle=True)"
      ],
      "metadata": {
        "_uuid": "2bb0d814-c433-4069-b2de-b8afb06f8c33",
        "_cell_guid": "cfbd3054-08ff-4e37-a1dd-a9816ded260d",
        "trusted": true,
        "id": "fKthbkn-t67J",
        "jupyter": {
          "outputs_hidden": false
        }
      },
      "outputs": [],
      "execution_count": 4
    },
    {
      "cell_type": "code",
      "source": [
        "# Each sample in dataset.imgs is a tuple (image_path, class_index)\n",
        "class_counts = Counter(label for _, label in dataset.imgs)\n",
        "print(\"Total images per class:\", class_counts)\n",
        "\n",
        "# Optionally, map indices back to class names using dataset.class_to_idx\n",
        "idx_to_class = {v: k for k, v in dataset.class_to_idx.items()}\n",
        "for idx, count in class_counts.items():\n",
        "    print(f\"Class '{idx_to_class[idx]}': {count} images\")"
      ],
      "metadata": {
        "id": "sxi1FoatY1m-",
        "outputId": "5345014f-794c-469e-8f31-8ded168a5b8e",
        "colab": {
          "base_uri": "https://localhost:8080/"
        }
      },
      "execution_count": 5,
      "outputs": [
        {
          "output_type": "stream",
          "name": "stdout",
          "text": [
            "Total images per class: Counter({2: 1556, 0: 1035, 1: 922})\n",
            "Class 'double': 1035 images\n",
            "Class 'empty': 922 images\n",
            "Class 'single': 1556 images\n"
          ]
        }
      ]
    },
    {
      "cell_type": "code",
      "source": [
        "total_batches = len(dataloader)\n",
        "print(\"Total number of batches:\", total_batches)"
      ],
      "metadata": {
        "id": "7pXBRPzuZPZH",
        "outputId": "09f0ff62-80f9-47b2-bb7a-2e17767504e4",
        "colab": {
          "base_uri": "https://localhost:8080/"
        }
      },
      "execution_count": 6,
      "outputs": [
        {
          "output_type": "stream",
          "name": "stdout",
          "text": [
            "Total number of batches: 220\n"
          ]
        }
      ]
    },
    {
      "cell_type": "code",
      "source": [
        "for images, labels in dataloader:\n",
        "    batch_counts = Counter(labels.numpy())\n",
        "    print(\"Images per class in this batch:\", batch_counts)\n",
        "    break  # Remove break to inspect more batches"
      ],
      "metadata": {
        "id": "WVM17LOzZBG3",
        "outputId": "fbbfc394-b46c-4fde-ec29-6ceff2b2bfe6",
        "colab": {
          "base_uri": "https://localhost:8080/"
        }
      },
      "execution_count": 7,
      "outputs": [
        {
          "output_type": "stream",
          "name": "stdout",
          "text": [
            "Images per class in this batch: Counter({np.int64(2): 7, np.int64(1): 5, np.int64(0): 4})\n"
          ]
        }
      ]
    },
    {
      "cell_type": "code",
      "source": [
        "import matplotlib.pyplot as plt\n",
        "from collections import Counter\n",
        "\n",
        "# Limit to a few batches for clarity (e.g., first 5 batches)\n",
        "num_batches_to_plot = 5\n",
        "batch_dists = []  # list to store counts per batch\n",
        "batch_labels = [] # list to store batch labels\n",
        "\n",
        "for batch_idx, (images, labels) in enumerate(dataloader):\n",
        "    if batch_idx >= num_batches_to_plot:\n",
        "        break\n",
        "    # Count labels in the current batch\n",
        "    batch_counts = Counter(labels.numpy())\n",
        "    # Ensure counts are in order of class indices; assumes dataset.classes exist\n",
        "    counts = [batch_counts.get(i, 0) for i in range(len(dataset.classes))]\n",
        "    batch_dists.append(counts)\n",
        "    batch_labels.append(f'Batch {batch_idx}')\n",
        "\n",
        "# Create subplots: one row per batch\n",
        "fig, axes = plt.subplots(nrows=num_batches_to_plot, ncols=1, figsize=(6, num_batches_to_plot * 3))\n",
        "\n",
        "# Handle the case when there's only one subplot (axes is not a list)\n",
        "if num_batches_to_plot == 1:\n",
        "    axes = [axes]\n",
        "\n",
        "# Plot a bar chart for each batch's class distribution\n",
        "for ax, counts, label in zip(axes, batch_dists, batch_labels):\n",
        "    ax.bar(range(len(counts)), counts)\n",
        "    ax.set_xticks(range(len(counts)))\n",
        "    ax.set_xticklabels(dataset.classes, rotation=45)\n",
        "    ax.set_ylabel('Count')\n",
        "    ax.set_title(label)\n",
        "\n",
        "plt.tight_layout()\n",
        "plt.show()\n"
      ],
      "metadata": {
        "id": "v_zDv05YZwwk",
        "outputId": "6071fc1c-72e3-43e4-bb00-6cc6e4f8540a",
        "colab": {
          "base_uri": "https://localhost:8080/",
          "height": 1000
        }
      },
      "execution_count": 8,
      "outputs": [
        {
          "output_type": "display_data",
          "data": {
            "text/plain": [
              "<Figure size 600x1500 with 5 Axes>"
            ],
            "image/png": "[encoded data removed]"
          },
          "metadata": {}
        }
      ]
    },
    {
      "cell_type": "code",
      "source": [
        "# Test loading\n",
        "images, labels = next(iter(dataloader))\n",
        "print(\"Batch shape:\", images.shape)  # Should be [B, C, 224, 224]"
      ],
      "metadata": {
        "_uuid": "5d688a1b-2546-4240-bbb7-5aec8d108cfc",
        "_cell_guid": "a8f3ba24-1e87-429a-bbee-4909d3832d58",
        "trusted": true,
        "id": "C9kEg-mIKiF3",
        "outputId": "043b5518-7c6b-442d-f4cd-692d28878f76",
        "jupyter": {
          "outputs_hidden": false
        },
        "colab": {
          "base_uri": "https://localhost:8080/"
        }
      },
      "outputs": [
        {
          "output_type": "stream",
          "name": "stdout",
          "text": [
            "Batch shape: torch.Size([16, 3, 224, 224])\n"
          ]
        }
      ],
      "execution_count": null
    },
    {
      "cell_type": "code",
      "source": [
        "batch_size = 32\n",
        "train_size = int(0.8 * len(dataset))\n",
        "val_size = len(dataset) - train_size\n",
        "train_dataset, val_dataset = random_split(dataset, [train_size, val_size])\n",
        "\n",
        "train_loader = DataLoader(train_dataset, batch_size=batch_size, shuffle=True)\n",
        "val_loader = DataLoader(val_dataset, batch_size=batch_size)"
      ],
      "metadata": {
        "_uuid": "ebcd8a59-646f-41d1-98a2-6111730750c6",
        "_cell_guid": "577f43b2-192c-4d42-9928-3612f02483bc",
        "trusted": true,
        "id": "N2As1-TPux9B",
        "jupyter": {
          "outputs_hidden": false
        }
      },
      "outputs": [],
      "execution_count": null
    },
    {
      "cell_type": "code",
      "source": [
        "plt.figure(figsize=(10, 4))\n",
        "for i in range(6):\n",
        "    img = images[i].permute(1, 2, 0) * 0.5 + 0.5  # Unnormalize\n",
        "    plt.subplot(2, 3, i+1)\n",
        "    plt.imshow(img.squeeze(), cmap='viridis')\n",
        "    plt.axis('off')\n",
        "plt.suptitle(\"Sample Spectrograms (Resized to 224×224)\")\n",
        "plt.tight_layout()\n",
        "plt.show()"
      ],
      "metadata": {
        "_uuid": "7b5e6218-b07f-4701-a372-28b857d114d6",
        "_cell_guid": "551e8024-3177-4665-896d-27a3497990e0",
        "trusted": true,
        "id": "rRDzaHnJKw9k",
        "jupyter": {
          "outputs_hidden": false
        }
      },
      "outputs": [],
      "execution_count": null
    },
    {
      "cell_type": "code",
      "source": [
        "\n",
        "\n",
        "def count_images_per_class(train_loader):\n",
        "    \"\"\"Counts the number of images per class in a train_loader.\n",
        "\n",
        "    Args:\n",
        "        train_loader: The DataLoader for the training dataset.\n",
        "\n",
        "    Returns:\n",
        "        A dictionary where keys are class labels and values are the corresponding counts.\n",
        "    \"\"\"\n",
        "\n",
        "    all_labels = []\n",
        "    for images, labels in tqdm(train_loader, desc=\"Counting images per class\"):\n",
        "        all_labels.extend(labels.tolist())  # Extend the list with labels from the batch\n",
        "\n",
        "    class_counts = Counter(all_labels)  # Count occurrences of each label\n",
        "\n",
        "    return class_counts"
      ],
      "metadata": {
        "_uuid": "c9b49613-e5e4-4a6f-ae14-7287ae13e3a4",
        "_cell_guid": "68672c2b-407b-42e6-a744-2523bf327831",
        "trusted": true,
        "jupyter": {
          "outputs_hidden": false
        },
        "id": "ktzymg7h8qKy"
      },
      "outputs": [],
      "execution_count": null
    },
    {
      "cell_type": "code",
      "source": [
        "# Get the counts and print them\n",
        "class_counts = count_images_per_class(train_loader)\n",
        "\n",
        "print(\"Images per class in train_loader:\")\n",
        "for class_label, count in class_counts.items():\n",
        "    print(f\"Class {class_label}: {count} images\")"
      ],
      "metadata": {
        "_uuid": "3e31c353-e70e-4e37-a58f-1a4d5ffab8d1",
        "_cell_guid": "46c3eb6b-6513-46a0-a732-946df9564d7e",
        "trusted": true,
        "jupyter": {
          "outputs_hidden": false
        },
        "id": "1X3l3kJ08qKy"
      },
      "outputs": [],
      "execution_count": null
    },
    {
      "cell_type": "code",
      "source": [
        "# Get the counts and print them\n",
        "class_counts = count_images_per_class(val_loader)\n",
        "\n",
        "print(\"Images per class in train_loader:\")\n",
        "for class_label, count in class_counts.items():\n",
        "    print(f\"Class {class_label}: {count} images\")"
      ],
      "metadata": {
        "_uuid": "f66b9f67-0023-42ea-bea2-456f7146ab2e",
        "_cell_guid": "a8f02f58-fcb6-4234-9407-45f1c6e3e11e",
        "trusted": true,
        "jupyter": {
          "outputs_hidden": false
        },
        "id": "t4ieAvgL8qKz"
      },
      "outputs": [],
      "execution_count": null
    },
    {
      "cell_type": "code",
      "source": [
        "def extract_blocks(image, context_scale=0.85, target_scale=0.2, num_targets=4, max_overlap=0.5):\n",
        "    # Extract a central context block.\n",
        "    _, H, W = image.shape\n",
        "    context_size = int(context_scale * H)\n",
        "    top = (H - context_size) // 2\n",
        "    left = (W - context_size) // 2\n",
        "    context_block = image[:, top:top+context_size, left:left+context_size]\n",
        "    context_block = torch.nn.functional.interpolate(context_block.unsqueeze(0), size=(224, 224), mode='bilinear', align_corners=False).squeeze(0)\n",
        "\n",
        "    # Extract num_targets target blocks randomly.\n",
        "    target_blocks = []\n",
        "    for _ in range(num_targets):\n",
        "        target_size = int(target_scale * H)\n",
        "        top_t = random.randint(0, H - target_size)\n",
        "        left_t = random.randint(0, W - target_size)\n",
        "        target_block = image[:, top_t:top_t+target_size, left_t:left_t+target_size]\n",
        "        target_block = torch.nn.functional.interpolate(target_block.unsqueeze(0), size=(224, 224), mode='bilinear', align_corners=False).squeeze(0)\n",
        "        target_blocks.append(target_block)\n",
        "    target_blocks = torch.stack(target_blocks)\n",
        "    return context_block, target_blocks, (top, left, context_size), None"
      ],
      "metadata": {
        "_uuid": "472ec271-36da-4330-89d9-beef8fa03a65",
        "_cell_guid": "88bb8d1b-8f77-4ef0-9561-13154dfc48ed",
        "trusted": true,
        "jupyter": {
          "outputs_hidden": false
        },
        "id": "fB1mtdS58qKz"
      },
      "outputs": [],
      "execution_count": 12
    },
    {
      "cell_type": "code",
      "source": [
        "class IJEPADataset(torch.utils.data.Dataset):\n",
        "    def __init__(self, base_dataset, context_scale=0.85, target_scale=0.2, num_targets=4):\n",
        "        self.base_dataset = base_dataset\n",
        "        self.context_scale = context_scale\n",
        "        self.target_scale = target_scale\n",
        "        self.num_targets = num_targets\n",
        "\n",
        "    def __len__(self):\n",
        "        return len(self.base_dataset)\n",
        "\n",
        "    def __getitem__(self, idx):\n",
        "        image, label = self.base_dataset[idx]\n",
        "        context_block, target_blocks, _, _ = extract_blocks(image, self.context_scale, self.target_scale, self.num_targets)\n",
        "        return context_block, target_blocks, label"
      ],
      "metadata": {
        "_uuid": "772f2dc6-6685-4a8d-beda-dc9089423fbf",
        "_cell_guid": "208fc17d-fc86-444d-9d21-464f592a9cd0",
        "trusted": true,
        "jupyter": {
          "outputs_hidden": false
        },
        "id": "zv6kmoK88qK0"
      },
      "outputs": [],
      "execution_count": null
    },
    {
      "cell_type": "code",
      "source": [
        "train_ijepa_dataset = IJEPADataset(train_dataset)\n",
        "val_ijepa_dataset   = IJEPADataset(val_dataset)\n",
        "\n",
        "\n",
        "train_loader = DataLoader(train_ijepa_dataset, batch_size=32, shuffle=False)\n",
        "val_loader   = DataLoader(val_ijepa_dataset, batch_size=32, shuffle=False)"
      ],
      "metadata": {
        "_uuid": "67fe58d3-5076-436c-99b4-5350a172b545",
        "_cell_guid": "db9f91fa-4c3f-4929-a2d0-2569fce8e7d6",
        "trusted": true,
        "jupyter": {
          "outputs_hidden": false
        },
        "id": "4TjuwcOV8qK0"
      },
      "outputs": [],
      "execution_count": null
    },
    {
      "cell_type": "markdown",
      "source": [
        "# Compare Direct Loading vs Preprossed blocks"
      ],
      "metadata": {
        "id": "IKla3laPxTdE"
      }
    },
    {
      "cell_type": "code",
      "source": [
        "n_samples = 100\n",
        "extract_times = []\n",
        "for i in range(n_samples):\n",
        "    img, label = train_dataset[i]  # Assumes train_base_dataset is already defined.\n",
        "    start = time.perf_counter()\n",
        "    # Call the extraction function (adjust parameters as needed)\n",
        "    context_block, target_blocks, _, _ = extract_blocks(img, context_scale=0.85, target_scale=0.2, num_targets=4)\n",
        "    end = time.perf_counter()\n",
        "    extract_times.append(end - start)\n",
        "\n",
        "avg_extract_time = sum(extract_times) / len(extract_times)\n",
        "print(f\"Average extract_blocks time over {n_samples} samples: {avg_extract_time:.6f} seconds\")"
      ],
      "metadata": {
        "colab": {
          "base_uri": "https://localhost:8080/"
        },
        "id": "zQmM4ioFxa_R",
        "outputId": "7db636c6-e63a-4dee-ef4b-dfd36f1b836e"
      },
      "execution_count": null,
      "outputs": [
        {
          "output_type": "stream",
          "name": "stdout",
          "text": [
            "Average extract_blocks time over 100 samples: 0.002441 seconds\n"
          ]
        }
      ]
    },
    {
      "cell_type": "code",
      "source": [
        "import os\n",
        "import pickle\n",
        "import torch\n",
        "import random\n",
        "from torch.utils.data import Dataset\n",
        "import concurrent.futures\n",
        "\n",
        "# Set device for GPU acceleration if available.\n",
        "device = torch.device(\"cuda\" if torch.cuda.is_available() else \"cpu\")\n",
        "\n",
        "def extract_blocks(image, context_scale=0.85, target_scale=0.2, num_targets=4, max_overlap=0.5):\n",
        "    # Extract a central context block.\n",
        "    _, H, W = image.shape\n",
        "    context_size = int(context_scale * H)\n",
        "    top = (H - context_size) // 2\n",
        "    left = (W - context_size) // 2\n",
        "    context_block = image[:, top:top+context_size, left:left+context_size]\n",
        "    context_block = torch.nn.functional.interpolate(\n",
        "        context_block.unsqueeze(0),\n",
        "        size=(224, 224),\n",
        "        mode='bilinear',\n",
        "        align_corners=False\n",
        "    ).squeeze(0)\n",
        "\n",
        "    # Extract num_targets target blocks randomly.\n",
        "    target_blocks = []\n",
        "    for _ in range(num_targets):\n",
        "        target_size = int(target_scale * H)\n",
        "        top_t = random.randint(0, H - target_size)\n",
        "        left_t = random.randint(0, W - target_size)\n",
        "        target_block = image[:, top_t:top_t+target_size, left_t:left_t+target_size]\n",
        "        target_block = torch.nn.functional.interpolate(\n",
        "            target_block.unsqueeze(0),\n",
        "            size=(224, 224),\n",
        "            mode='bilinear',\n",
        "            align_corners=False\n",
        "        ).squeeze(0)\n",
        "        target_blocks.append(target_block)\n",
        "    target_blocks = torch.stack(target_blocks)\n",
        "    return context_block, target_blocks, (top, left, context_size), None\n",
        "\n",
        "def process_sample(args, context_scale, target_scale, num_targets):\n",
        "    sample, image_path = args\n",
        "    img, label = sample\n",
        "    # Move image to GPU if available.\n",
        "    img = img.to(device)\n",
        "    context_block, target_blocks, _, _ = extract_blocks(img, context_scale, target_scale, num_targets)\n",
        "    # Bring results back to CPU and return along with label and original image path.\n",
        "    return (context_block.cpu(), target_blocks.cpu(), label, image_path)\n",
        "\n",
        "class PrecomputedIJEPADataset(Dataset):\n",
        "    def __init__(self, base_dataset, context_scale=0.85, target_scale=0.2, num_targets=4, cache_file=None):\n",
        "        self.cache_file = cache_file\n",
        "        if cache_file and os.path.exists(cache_file):\n",
        "            # Load precomputed data from disk.\n",
        "            with open(cache_file, 'rb') as f:\n",
        "                self.data = pickle.load(f)\n",
        "        else:\n",
        "            # Create a list of samples along with their original image paths (if available).\n",
        "            if hasattr(base_dataset, 'samples'):\n",
        "                base_samples = [(base_dataset[i], base_dataset.samples[i][0]) for i in range(len(base_dataset))]\n",
        "            else:\n",
        "                base_samples = [(sample, None) for sample in base_dataset]\n",
        "                print(f\"do not have attribute samples\")\n",
        "            # Use 8 CPU cores for parallel processing.\n",
        "            with concurrent.futures.ProcessPoolExecutor(max_workers=8) as executor:\n",
        "                results = executor.map(\n",
        "                    lambda args: process_sample(args, context_scale, target_scale, num_targets),\n",
        "                    base_samples\n",
        "                )\n",
        "                self.data = list(results)\n",
        "            if cache_file:\n",
        "                with open(cache_file, 'wb') as f:\n",
        "                    pickle.dump(self.data, f)\n",
        "\n",
        "    def __len__(self):\n",
        "        return len(self.data)\n",
        "\n",
        "    def __getitem__(self, idx):\n",
        "        return self.data[idx]\n",
        "\n",
        "# Timing the loading of the dataset and DataLoader\n",
        "cache_path = os.path.join(base_dir,\"precomputed_fulldataset_aav.pkl\")\n",
        "\n",
        "start_time = time.time()\n",
        "dataset_aav_ijepa = PrecomputedIJEPADataset(dataset, cache_file=cache_path)\n",
        "end_time_train_ijepa_dataset = time.time()\n",
        "dataloader_aav_ijepa = DataLoader(train_ijepa_dataset, batch_size=32, shuffle=True)\n",
        "end_time = time.time()\n",
        "print(f\"Time taken to load dataset: {end_time_train_ijepa_dataset - start_time:.4f} seconds and DataLoader: {end_time - start_time:.4f} seconds\")\n"
      ],
      "metadata": {
        "id": "54OBcd7SgFde"
      },
      "execution_count": null,
      "outputs": []
    },
    {
      "cell_type": "code",
      "source": [
        "import time\n",
        "import torch\n",
        "from torch.utils.data import Dataset, DataLoader\n",
        "import pickle\n",
        "import os\n",
        "\n",
        "# Assume extract_blocks and train_base_dataset are defined.\n",
        "\n",
        "class PrecomputedIJEPADataset(Dataset):\n",
        "    def __init__(self, base_dataset, context_scale=0.85, target_scale=0.2, num_targets=4, cache_file=None):\n",
        "        self.cache_file = cache_file\n",
        "        if cache_file and os.path.exists(cache_file):\n",
        "            # Load precomputed data from disk.\n",
        "            with open(cache_file, 'rb') as f:\n",
        "                self.data = pickle.load(f)\n",
        "        else:\n",
        "            self.data = []\n",
        "            for img, label in base_dataset:\n",
        "                context_block, target_blocks, _, _ = extract_blocks(img, context_scale, target_scale, num_targets)\n",
        "                self.data.append((context_block, target_blocks, label))\n",
        "            if cache_file:\n",
        "                with open(cache_file, 'wb') as f:\n",
        "                    pickle.dump(self.data, f)\n",
        "\n",
        "    def __len__(self):\n",
        "        return len(self.data)\n",
        "\n",
        "    def __getitem__(self, idx):\n",
        "        return self.data[idx]\n",
        "\n",
        "# Timing the loading of the dataset and DataLoader\n",
        "cache_path = os.path.join(base_dir,\"precomputed_fulldataset_aav.pkl\")\n",
        "\n",
        "start_time = time.time()\n",
        "dataset_aav_ijepa = PrecomputedIJEPADataset(dataset, cache_file=cache_path)\n",
        "end_time_train_ijepa_dataset = time.time()\n",
        "dataloader_aav_ijepa = DataLoader(train_ijepa_dataset, batch_size=32, shuffle=True)\n",
        "end_time = time.time()\n",
        "print(f\"Time taken to load dataset: {end_time_train_ijepa_dataset - start_time:.4f} seconds and DataLoader: {end_time - start_time:.4f} seconds\")\n"
      ],
      "metadata": {
        "colab": {
          "base_uri": "https://localhost:8080/",
          "height": 332
        },
        "id": "aCLTXWwhysQu",
        "outputId": "d5c2c0aa-eb24-41d9-9bbd-0533d5107d36"
      },
      "execution_count": 11,
      "outputs": [
        {
          "output_type": "error",
          "ename": "NameError",
          "evalue": "name 'extract_blocks' is not defined",
          "traceback": [
            "\u001b[0;31m---------------------------------------------------------------------------\u001b[0m",
            "\u001b[0;31mNameError\u001b[0m                                 Traceback (most recent call last)",
            "\u001b[0;32m<ipython-input-11-0498f1f5e9fa>\u001b[0m in \u001b[0;36m<cell line: 0>\u001b[0;34m()\u001b[0m\n\u001b[1;32m     33\u001b[0m \u001b[0;34m\u001b[0m\u001b[0m\n\u001b[1;32m     34\u001b[0m \u001b[0mstart_time\u001b[0m \u001b[0;34m=\u001b[0m \u001b[0mtime\u001b[0m\u001b[0;34m.\u001b[0m\u001b[0mtime\u001b[0m\u001b[0;34m(\u001b[0m\u001b[0;34m)\u001b[0m\u001b[0;34m\u001b[0m\u001b[0;34m\u001b[0m\u001b[0m\n\u001b[0;32m---> 35\u001b[0;31m \u001b[0mdataset_aav_ijepa\u001b[0m \u001b[0;34m=\u001b[0m \u001b[0mPrecomputedIJEPADataset\u001b[0m\u001b[0;34m(\u001b[0m\u001b[0mdataset\u001b[0m\u001b[0;34m,\u001b[0m \u001b[0mcache_file\u001b[0m\u001b[0;34m=\u001b[0m\u001b[0mcache_path\u001b[0m\u001b[0;34m)\u001b[0m\u001b[0;34m\u001b[0m\u001b[0;34m\u001b[0m\u001b[0m\n\u001b[0m\u001b[1;32m     36\u001b[0m \u001b[0mend_time_train_ijepa_dataset\u001b[0m \u001b[0;34m=\u001b[0m \u001b[0mtime\u001b[0m\u001b[0;34m.\u001b[0m\u001b[0mtime\u001b[0m\u001b[0;34m(\u001b[0m\u001b[0;34m)\u001b[0m\u001b[0;34m\u001b[0m\u001b[0;34m\u001b[0m\u001b[0m\n\u001b[1;32m     37\u001b[0m \u001b[0mdataloader_aav_ijepa\u001b[0m \u001b[0;34m=\u001b[0m \u001b[0mDataLoader\u001b[0m\u001b[0;34m(\u001b[0m\u001b[0mtrain_ijepa_dataset\u001b[0m\u001b[0;34m,\u001b[0m \u001b[0mbatch_size\u001b[0m\u001b[0;34m=\u001b[0m\u001b[0;36m32\u001b[0m\u001b[0;34m,\u001b[0m \u001b[0mshuffle\u001b[0m\u001b[0;34m=\u001b[0m\u001b[0;32mTrue\u001b[0m\u001b[0;34m)\u001b[0m\u001b[0;34m\u001b[0m\u001b[0;34m\u001b[0m\u001b[0m\n",
            "\u001b[0;32m<ipython-input-11-0498f1f5e9fa>\u001b[0m in \u001b[0;36m__init__\u001b[0;34m(self, base_dataset, context_scale, target_scale, num_targets, cache_file)\u001b[0m\n\u001b[1;32m     17\u001b[0m             \u001b[0mself\u001b[0m\u001b[0;34m.\u001b[0m\u001b[0mdata\u001b[0m \u001b[0;34m=\u001b[0m \u001b[0;34m[\u001b[0m\u001b[0;34m]\u001b[0m\u001b[0;34m\u001b[0m\u001b[0;34m\u001b[0m\u001b[0m\n\u001b[1;32m     18\u001b[0m             \u001b[0;32mfor\u001b[0m \u001b[0mimg\u001b[0m\u001b[0;34m,\u001b[0m \u001b[0mlabel\u001b[0m \u001b[0;32min\u001b[0m \u001b[0mbase_dataset\u001b[0m\u001b[0;34m:\u001b[0m\u001b[0;34m\u001b[0m\u001b[0;34m\u001b[0m\u001b[0m\n\u001b[0;32m---> 19\u001b[0;31m                 \u001b[0mcontext_block\u001b[0m\u001b[0;34m,\u001b[0m \u001b[0mtarget_blocks\u001b[0m\u001b[0;34m,\u001b[0m \u001b[0m_\u001b[0m\u001b[0;34m,\u001b[0m \u001b[0m_\u001b[0m \u001b[0;34m=\u001b[0m \u001b[0mextract_blocks\u001b[0m\u001b[0;34m(\u001b[0m\u001b[0mimg\u001b[0m\u001b[0;34m,\u001b[0m \u001b[0mcontext_scale\u001b[0m\u001b[0;34m,\u001b[0m \u001b[0mtarget_scale\u001b[0m\u001b[0;34m,\u001b[0m \u001b[0mnum_targets\u001b[0m\u001b[0;34m)\u001b[0m\u001b[0;34m\u001b[0m\u001b[0;34m\u001b[0m\u001b[0m\n\u001b[0m\u001b[1;32m     20\u001b[0m                 \u001b[0mself\u001b[0m\u001b[0;34m.\u001b[0m\u001b[0mdata\u001b[0m\u001b[0;34m.\u001b[0m\u001b[0mappend\u001b[0m\u001b[0;34m(\u001b[0m\u001b[0;34m(\u001b[0m\u001b[0mcontext_block\u001b[0m\u001b[0;34m,\u001b[0m \u001b[0mtarget_blocks\u001b[0m\u001b[0;34m,\u001b[0m \u001b[0mlabel\u001b[0m\u001b[0;34m)\u001b[0m\u001b[0;34m)\u001b[0m\u001b[0;34m\u001b[0m\u001b[0;34m\u001b[0m\u001b[0m\n\u001b[1;32m     21\u001b[0m             \u001b[0;32mif\u001b[0m \u001b[0mcache_file\u001b[0m\u001b[0;34m:\u001b[0m\u001b[0;34m\u001b[0m\u001b[0;34m\u001b[0m\u001b[0m\n",
            "\u001b[0;31mNameError\u001b[0m: name 'extract_blocks' is not defined"
          ]
        }
      ]
    },
    {
      "cell_type": "code",
      "source": [
        "from collections import Counter\n",
        "counter = Counter()\n",
        "for _, _, label in train_ijepa_dataset:\n",
        "    counter[label] += 1\n",
        "\n",
        "print(counter)"
      ],
      "metadata": {
        "colab": {
          "base_uri": "https://localhost:8080/"
        },
        "id": "D4QkFEExZw4m",
        "outputId": "e0107f30-91e7-42a1-db48-f4fa64698c48"
      },
      "execution_count": null,
      "outputs": [
        {
          "output_type": "stream",
          "name": "stdout",
          "text": [
            "Counter({2: 1259, 0: 824, 1: 727})\n"
          ]
        }
      ]
    },
    {
      "cell_type": "code",
      "source": [
        "import time\n",
        "import pickle\n",
        "import os\n",
        "# ----- Measure cache file reading time -----\n",
        "cache_path = 'precomputed_aav.pkl'\n",
        "read_times = []\n",
        "n_reads = 10  # Number of times to load the cache file.\n",
        "\n",
        "for i in range(n_reads):\n",
        "    start = time.perf_counter()\n",
        "    with open(cache_path, 'rb') as f:\n",
        "        data = pickle.load(f)\n",
        "    end = time.perf_counter()\n",
        "    read_times.append(end - start)\n",
        "\n",
        "avg_read_time = sum(read_times) / len(read_times)\n",
        "print(f\"Average time to load cache file over {n_reads} runs: {avg_read_time:.6f} seconds\")"
      ],
      "metadata": {
        "colab": {
          "base_uri": "https://localhost:8080/"
        },
        "id": "_x7wLJhOyV0V",
        "outputId": "14dce3ad-f481-4329-f063-e518ef847a56"
      },
      "execution_count": null,
      "outputs": [
        {
          "output_type": "stream",
          "name": "stdout",
          "text": [
            "Average time to load cache file over 10 runs: 5.557618 seconds\n"
          ]
        }
      ]
    },
    {
      "cell_type": "code",
      "source": [
        "# Timing the loading of the dataset and DataLoader\n",
        "cache_path = 'precomputed_aav.pkl'\n",
        "start_time = time.time()\n",
        "\n",
        "train_ijepa_dataset = PrecomputedIJEPADataset(train_dataset, cache_file=cache_path)\n",
        "end_time_train_ijepa_dataset = time.time()\n",
        "train_loader = DataLoader(train_ijepa_dataset, batch_size=32, shuffle=True)\n",
        "\n",
        "end_time = time.time()\n",
        "print(f\"Time taken to load dataset: {end_time_train_ijepa_dataset - start_time:.4f} seconds and DataLoader: {end_time - start_time:.4f} seconds\")"
      ],
      "metadata": {
        "colab": {
          "base_uri": "https://localhost:8080/"
        },
        "id": "PCVlnbMXGDRb",
        "outputId": "78d69080-083f-4ffa-e083-cd1d0515e7c8"
      },
      "execution_count": null,
      "outputs": [
        {
          "output_type": "stream",
          "name": "stdout",
          "text": [
            "Time taken to load dataset: 4.4704 seconds and DataLoader: 4.4706 seconds\n"
          ]
        }
      ]
    },
    {
      "cell_type": "code",
      "source": [
        "n_samples = 100\n",
        "extract_times = []\n",
        "for i in range(n_samples):\n",
        "    start = time.perf_counter()\n",
        "    context_block, target_blocks, label = train_ijepa_dataset[i]  # Assumes train_base_dataset is already defined.\n",
        "\n",
        "    # Call the extraction function (adjust parameters as needed)\n",
        "    #context_block, target_blocks, _, _ = extract_blocks(img, context_scale=0.85, target_scale=0.2, num_targets=4)\n",
        "    end = time.perf_counter()\n",
        "    extract_times.append(end - start)\n",
        "\n",
        "avg_extract_time = sum(extract_times) / len(extract_times)\n",
        "print(f\"Average extract_blocks time over {n_samples} samples: {avg_extract_time:.6f} seconds\")"
      ],
      "metadata": {
        "colab": {
          "base_uri": "https://localhost:8080/"
        },
        "id": "hp6aB0qzGzTw",
        "outputId": "d19013a2-f61f-488b-e1ca-cae8d79c5214"
      },
      "execution_count": null,
      "outputs": [
        {
          "output_type": "stream",
          "name": "stdout",
          "text": [
            "Average extract_blocks time over 100 samples: 0.000001 seconds\n"
          ]
        }
      ]
    },
    {
      "cell_type": "code",
      "source": [
        "def get_vit_encoder():\n",
        "    model = vit_b_16(pretrained=False)\n",
        "    model.heads = nn.Identity()  # remove classification head\n",
        "    return model"
      ],
      "metadata": {
        "_uuid": "f3ad3daa-80ba-4ae8-8b4e-770815bad02e",
        "_cell_guid": "7aeb9d44-2fd8-4da1-87c0-4b992adb53db",
        "trusted": true,
        "jupyter": {
          "outputs_hidden": false
        },
        "id": "YQIK4mND8qK1"
      },
      "outputs": [],
      "execution_count": null
    },
    {
      "cell_type": "code",
      "source": [
        "\n",
        "context_encoder = get_vit_encoder().cuda()\n",
        "target_encoder  = get_vit_encoder().cuda()\n",
        "target_encoder.load_state_dict(context_encoder.state_dict())"
      ],
      "metadata": {
        "_uuid": "b79e21b1-3b97-4dfc-958f-bddb3c94c746",
        "_cell_guid": "2d8198b7-dbf5-4228-975a-8c733cea1a07",
        "trusted": true,
        "jupyter": {
          "outputs_hidden": false
        },
        "colab": {
          "base_uri": "https://localhost:8080/"
        },
        "id": "rkq_fT7g8qK1",
        "outputId": "3c60b6a1-7aa6-4647-e7a3-3e2a685a6c20"
      },
      "outputs": [
        {
          "output_type": "stream",
          "name": "stderr",
          "text": [
            "/usr/local/lib/python3.11/dist-packages/torchvision/models/_utils.py:208: UserWarning: The parameter 'pretrained' is deprecated since 0.13 and may be removed in the future, please use 'weights' instead.\n",
            "  warnings.warn(\n",
            "/usr/local/lib/python3.11/dist-packages/torchvision/models/_utils.py:223: UserWarning: Arguments other than a weight enum or `None` for 'weights' are deprecated since 0.13 and may be removed in the future. The current behavior is equivalent to passing `weights=None`.\n",
            "  warnings.warn(msg)\n"
          ]
        },
        {
          "output_type": "execute_result",
          "data": {
            "text/plain": [
              "<All keys matched successfully>"
            ]
          },
          "metadata": {},
          "execution_count": 14
        }
      ],
      "execution_count": null
    },
    {
      "cell_type": "code",
      "source": [
        "class Predictor(nn.Module):\n",
        "    def __init__(self, input_dim=768, hidden_dim=768, output_dim=768, num_targets=4):\n",
        "        super().__init__()\n",
        "        self.num_targets = num_targets\n",
        "        self.mlp = nn.Sequential(\n",
        "            nn.Linear(input_dim, hidden_dim),\n",
        "            nn.ReLU(),\n",
        "            nn.Linear(hidden_dim, output_dim * num_targets)\n",
        "        )\n",
        "    def forward(self, context_repr):\n",
        "        pred = self.mlp(context_repr)\n",
        "        # Reshape to [B, num_targets, output_dim]\n",
        "        return pred.view(-1, self.num_targets, pred.size(-1) // self.num_targets)"
      ],
      "metadata": {
        "_uuid": "e303f4ac-a09b-4f56-b997-6b364d63a675",
        "_cell_guid": "9206cc42-0845-4604-ab30-6852e28e2dcb",
        "trusted": true,
        "jupyter": {
          "outputs_hidden": false
        },
        "id": "OApD7Fy68qK1"
      },
      "outputs": [],
      "execution_count": null
    },
    {
      "cell_type": "code",
      "source": [
        "# 6. Set up optimizer, loss, and EMA update (same as your CIFAR code).\n",
        "predictor = Predictor().cuda()\n",
        "optimizer = optim.Adam(list(context_encoder.parameters()) + list(predictor.parameters()), lr=1e-3)\n",
        "criterion = nn.MSELoss()\n",
        "ema_decay = 0.99"
      ],
      "metadata": {
        "_uuid": "66d2337f-fb52-4652-9da7-242ce9d9d5e1",
        "_cell_guid": "e10ef302-1659-4a97-9bbb-2de90ac902c9",
        "trusted": true,
        "jupyter": {
          "outputs_hidden": false
        },
        "id": "ZsZNIdEk8qK2"
      },
      "outputs": [],
      "execution_count": null
    },
    {
      "cell_type": "code",
      "source": [
        "@torch.no_grad()\n",
        "def update_ema(model, model_ema, beta):\n",
        "    for param, param_ema in zip(model.parameters(), model_ema.parameters()):\n",
        "        param_ema.data.mul_(beta).add_(param.data, alpha=1 - beta)"
      ],
      "metadata": {
        "_uuid": "0e90599a-d03d-4231-a58a-1272a3613cc3",
        "_cell_guid": "aece458a-d1da-4334-804f-b054cf8ed0fc",
        "trusted": true,
        "jupyter": {
          "outputs_hidden": false
        },
        "id": "kM60lfOw8qK2"
      },
      "outputs": [],
      "execution_count": null
    },
    {
      "cell_type": "code",
      "source": [
        "# Create a directory for visualizations if it doesn't exist.\n",
        "#viz_dir = \"/kaggle/working/viz\"\n",
        "#os.makedirs(viz_dir, exist_ok=True)\n",
        "\n",
        "num_epochs = 100\n",
        "ema_decay = 0.99\n",
        "best_loss = float('inf')\n",
        "total_start_time = time.time()\n",
        "\n",
        "for epoch in range(num_epochs):\n",
        "    epoch_start_time = time.time()\n",
        "    context_encoder.train()\n",
        "    predictor.train()\n",
        "    running_loss = 0.0\n",
        "\n",
        "    # Enumerate over batches with a progress bar.\n",
        "    for batch_idx, (context_block, target_blocks, _) in enumerate(tqdm(train_loader, desc=f\"Epoch {epoch+1}/{num_epochs}\", leave=False)):\n",
        "        context_block = context_block.cuda()            # [B, C, 224, 224]\n",
        "        target_blocks = target_blocks.cuda()              # [B, num_targets, C, 224, 224]\n",
        "\n",
        "        # Forward pass through context encoder and predictor.\n",
        "        context_repr = context_encoder(context_block)     # [B, 768]\n",
        "        preds = predictor(context_repr)                   # [B, num_targets, 768]\n",
        "\n",
        "        B, num_targets, C, Ht, Wt = target_blocks.shape\n",
        "        target_blocks_flat = target_blocks.view(B * num_targets, C, Ht, Wt)\n",
        "        with torch.no_grad():\n",
        "            target_repr_flat = target_encoder(target_blocks_flat)\n",
        "        target_repr = target_repr_flat.view(B, num_targets, -1)\n",
        "\n",
        "        loss = criterion(preds, target_repr)\n",
        "        optimizer.zero_grad()\n",
        "        loss.backward()\n",
        "        optimizer.step()\n",
        "        update_ema(context_encoder, target_encoder, ema_decay)\n",
        "        running_loss += loss.item() * context_block.size(0)\n",
        "\n",
        "        # --- Visualization for first image of the current batch ---\n",
        "        '''with torch.no_grad():\n",
        "            # Get the first sample's context block and compute its feature vector.\n",
        "            context_img = context_block[0].cpu()  # shape: [C, 224, 224]\n",
        "            context_feat = context_encoder(context_block[0].unsqueeze(0)).cpu().squeeze(0)  # shape: [768]\n",
        "            # Reshape feature vector to a 2D heatmap (24x32).\n",
        "            context_heat = context_feat.view(24, 32).numpy()\n",
        "\n",
        "            # For target, choose the first target block of the first sample.\n",
        "            target_img = target_blocks[0][0].cpu()  # shape: [C, 224, 224]\n",
        "            target_feat = target_encoder(target_blocks[0][0].unsqueeze(0).to(context_block.device)).cpu().squeeze(0)\n",
        "            target_heat = target_feat.view(24, 32).numpy()\n",
        "\n",
        "            # Plot the images and corresponding heatmaps.\n",
        "            fig, axs = plt.subplots(2, 2, figsize=(10, 8))\n",
        "\n",
        "            # Display context block image.\n",
        "            if context_img.shape[0] == 1:\n",
        "                axs[0, 0].imshow(context_img.squeeze(), cmap='gray')\n",
        "            else:\n",
        "                axs[0, 0].imshow(context_img.permute(1, 2, 0))\n",
        "            axs[0, 0].set_title(\"Context Block\")\n",
        "            axs[0, 0].axis(\"off\")\n",
        "\n",
        "            # Display context feature heatmap.\n",
        "            im0 = axs[0, 1].imshow(context_heat, cmap=\"viridis\")\n",
        "            axs[0, 1].set_title(\"Context Feature Heatmap\")\n",
        "            axs[0, 1].axis(\"off\")\n",
        "            fig.colorbar(im0, ax=axs[0, 1])\n",
        "\n",
        "            # Display target block image.\n",
        "            if target_img.shape[0] == 1:\n",
        "                axs[1, 0].imshow(target_img.squeeze(), cmap='gray')\n",
        "            else:\n",
        "                axs[1, 0].imshow(target_img.permute(1, 2, 0))\n",
        "            axs[1, 0].set_title(\"Target Block\")\n",
        "            axs[1, 0].axis(\"off\")\n",
        "\n",
        "            # Display target feature heatmap.\n",
        "            im1 = axs[1, 1].imshow(target_heat, cmap=\"viridis\")\n",
        "            axs[1, 1].set_title(\"Target Feature Heatmap\")\n",
        "            axs[1, 1].axis(\"off\")\n",
        "            fig.colorbar(im1, ax=axs[1, 1])\n",
        "\n",
        "            # Save the visualization figure with epoch and batch number.\n",
        "            viz_path = os.path.join(viz_dir, f\"epoch{epoch+1}_batch{batch_idx+1}.png\")\n",
        "            plt.savefig(viz_path)\n",
        "            plt.close(fig)'''\n",
        "\n",
        "    epoch_loss = running_loss / len(train_ijepa_dataset)\n",
        "    epoch_time = time.time() - epoch_start_time\n",
        "    print(f\"Epoch {epoch+1}/{num_epochs} - Train Loss: {epoch_loss:.10f} - Epoch Time: {epoch_time:.2f}s\")\n",
        "\n",
        "    # Save checkpoint if current epoch loss is lower than previous best.\n",
        "    if epoch_loss < best_loss:\n",
        "        best_loss = epoch_loss\n",
        "        checkpoint = {\n",
        "            'epoch': epoch+1,\n",
        "            'context_encoder_state_dict': context_encoder.state_dict(),\n",
        "            'target_encoder_state_dict': target_encoder.state_dict(),\n",
        "            'predictor_state_dict': predictor.state_dict(),\n",
        "            'optimizer_state_dict': optimizer.state_dict(),\n",
        "            'loss': epoch_loss\n",
        "        }\n",
        "        torch.save(checkpoint, \"/content/drive/MyDrive/AAVDATASET/spectrogram/ijepa_checkpoint_best.pth\")\n",
        "        print(f\"Checkpoint saved at epoch {epoch+1} with loss {epoch_loss:.4f}\")\n",
        "\n",
        "\n",
        "total_train_time = time.time() - total_start_time\n",
        "print(f\"Total Training Time: {total_train_time:.2f}s\")"
      ],
      "metadata": {
        "_uuid": "c8659b2c-5286-4027-b97b-c1ac887bb5f6",
        "_cell_guid": "0182b713-044f-4839-9cfc-0369f1eec96d",
        "trusted": true,
        "jupyter": {
          "outputs_hidden": false
        },
        "colab": {
          "base_uri": "https://localhost:8080/",
          "height": 211
        },
        "id": "IjnBW1lE8qK2",
        "outputId": "24c0aab8-21da-4f5d-d816-37f23b478699"
      },
      "outputs": [
        {
          "output_type": "stream",
          "name": "stderr",
          "text": []
        },
        {
          "output_type": "error",
          "ename": "KeyboardInterrupt",
          "evalue": "",
          "traceback": [
            "\u001b[0;31m---------------------------------------------------------------------------\u001b[0m",
            "\u001b[0;31mKeyboardInterrupt\u001b[0m                         Traceback (most recent call last)",
            "\u001b[0;32m<ipython-input-20-f4b5d891e5b3>\u001b[0m in \u001b[0;36m<cell line: 0>\u001b[0;34m()\u001b[0m\n\u001b[1;32m     34\u001b[0m         \u001b[0moptimizer\u001b[0m\u001b[0;34m.\u001b[0m\u001b[0mstep\u001b[0m\u001b[0;34m(\u001b[0m\u001b[0;34m)\u001b[0m\u001b[0;34m\u001b[0m\u001b[0;34m\u001b[0m\u001b[0m\n\u001b[1;32m     35\u001b[0m         \u001b[0mupdate_ema\u001b[0m\u001b[0;34m(\u001b[0m\u001b[0mcontext_encoder\u001b[0m\u001b[0;34m,\u001b[0m \u001b[0mtarget_encoder\u001b[0m\u001b[0;34m,\u001b[0m \u001b[0mema_decay\u001b[0m\u001b[0;34m)\u001b[0m\u001b[0;34m\u001b[0m\u001b[0;34m\u001b[0m\u001b[0m\n\u001b[0;32m---> 36\u001b[0;31m         \u001b[0mrunning_loss\u001b[0m \u001b[0;34m+=\u001b[0m \u001b[0mloss\u001b[0m\u001b[0;34m.\u001b[0m\u001b[0mitem\u001b[0m\u001b[0;34m(\u001b[0m\u001b[0;34m)\u001b[0m \u001b[0;34m*\u001b[0m \u001b[0mcontext_block\u001b[0m\u001b[0;34m.\u001b[0m\u001b[0msize\u001b[0m\u001b[0;34m(\u001b[0m\u001b[0;36m0\u001b[0m\u001b[0;34m)\u001b[0m\u001b[0;34m\u001b[0m\u001b[0;34m\u001b[0m\u001b[0m\n\u001b[0m\u001b[1;32m     37\u001b[0m \u001b[0;34m\u001b[0m\u001b[0m\n\u001b[1;32m     38\u001b[0m         \u001b[0;31m# --- Visualization for first image of the current batch ---\u001b[0m\u001b[0;34m\u001b[0m\u001b[0;34m\u001b[0m\u001b[0m\n",
            "\u001b[0;31mKeyboardInterrupt\u001b[0m: "
          ]
        }
      ],
      "execution_count": null
    },
    {
      "cell_type": "markdown",
      "source": [
        "# Grid Search EMA Decay"
      ],
      "metadata": {
        "id": "0iwRsWF2Jam_"
      }
    },
    {
      "cell_type": "code",
      "source": [
        "import os\n",
        "import time\n",
        "import torch\n",
        "from torch.utils.data import DataLoader\n",
        "import matplotlib.pyplot as plt\n",
        "from tqdm import tqdm\n",
        "\n",
        "# Define candidate EMA decay values.\n",
        "ema_decay_candidates = [0.1, 0.3, 0.5, 0.7, 0.95, 0.97, 0.99, 0.999]\n",
        "num_epochs_grid = 10  # Use fewer epochs for grid search.\n",
        "grid_results = {}      # To record the best loss for each candidate.\n",
        "training_curves = {}   # To store epoch loss curves for each candidate.\n",
        "\n",
        "# Loop over each EMA decay candidate.\n",
        "for candidate in ema_decay_candidates:\n",
        "    print(f\"\\nTraining with ema_decay = {candidate}\")\n",
        "\n",
        "    # Reinitialize models for each candidate.\n",
        "    context_encoder_candidate = get_vit_encoder().cuda()\n",
        "    target_encoder_candidate = get_vit_encoder().cuda()\n",
        "    target_encoder_candidate.load_state_dict(context_encoder_candidate.state_dict())\n",
        "    predictor_candidate = Predictor().cuda()\n",
        "\n",
        "    # Set up a new optimizer.\n",
        "    optimizer_candidate = torch.optim.Adam(\n",
        "        list(context_encoder_candidate.parameters()) + list(predictor_candidate.parameters()),\n",
        "        lr=1e-3\n",
        "    )\n",
        "\n",
        "    best_loss_candidate = float('inf')\n",
        "    candidate_losses = []  # To store epoch losses for this candidate.\n",
        "\n",
        "    for epoch in range(num_epochs_grid):\n",
        "        context_encoder_candidate.train()\n",
        "        predictor_candidate.train()\n",
        "        running_loss = 0.0\n",
        "        epoch_start_time = time.time()\n",
        "\n",
        "        for batch_idx, (context_block, target_blocks, _) in enumerate(\n",
        "            tqdm(train_loader, desc=f\"Candidate {candidate} Epoch {epoch+1}/{num_epochs_grid}\", leave=False)\n",
        "        ):\n",
        "            context_block = context_block.cuda()            # [B, C, 224, 224]\n",
        "            target_blocks = target_blocks.cuda()              # [B, num_targets, C, 224, 224]\n",
        "\n",
        "            # Forward pass.\n",
        "            context_repr = context_encoder_candidate(context_block)  # [B, 768]\n",
        "            preds = predictor_candidate(context_repr)                # [B, num_targets, 768]\n",
        "\n",
        "            B, num_targets, C, Ht, Wt = target_blocks.shape\n",
        "            target_blocks_flat = target_blocks.view(B * num_targets, C, Ht, Wt)\n",
        "            with torch.no_grad():\n",
        "                target_repr_flat = target_encoder_candidate(target_blocks_flat)\n",
        "            target_repr = target_repr_flat.view(B, num_targets, -1)\n",
        "\n",
        "            loss = criterion(preds, target_repr)\n",
        "            optimizer_candidate.zero_grad()\n",
        "            loss.backward()\n",
        "            optimizer_candidate.step()\n",
        "\n",
        "            # Update target encoder with the candidate's EMA decay.\n",
        "            update_ema(context_encoder_candidate, target_encoder_candidate, candidate)\n",
        "\n",
        "            running_loss += loss.item() * context_block.size(0)\n",
        "\n",
        "        epoch_loss = running_loss / len(train_ijepa_dataset)\n",
        "        candidate_losses.append(epoch_loss)\n",
        "        epoch_time = time.time() - epoch_start_time\n",
        "        print(f\"ema_decay={candidate}, Epoch {epoch+1}/{num_epochs_grid} - Loss: {epoch_loss:.10f} - Epoch Time: {epoch_time:.2f}s\")\n",
        "\n",
        "        if epoch_loss < best_loss_candidate:\n",
        "            best_loss_candidate = epoch_loss\n",
        "\n",
        "    training_curves[candidate] = candidate_losses\n",
        "    grid_results[candidate] = best_loss_candidate\n",
        "    print(f\"Candidate ema_decay = {candidate} achieved best loss: {best_loss_candidate:.10f}\")\n",
        "\n",
        "# Print grid search results.\n",
        "print(\"\\nGrid Search Results:\")\n",
        "for candidate, loss in grid_results.items():\n",
        "    print(f\"ema_decay {candidate}: Best Loss = {loss:.10f}\")\n",
        "\n",
        "# ---------------------------\n",
        "# Plot learning curves for all EMA decay candidates.\n",
        "# ---------------------------\n",
        "plt.figure(figsize=(10, 6))\n",
        "epochs = range(1, num_epochs_grid + 1)\n",
        "for candidate, losses in training_curves.items():\n",
        "    plt.plot(epochs, losses, marker='o', label=f\"ema_decay = {candidate}\")\n",
        "plt.xlabel(\"Epoch\")\n",
        "plt.ylabel(\"Training Loss\")\n",
        "plt.title(\"EMA Decay Grid Search - Training Loss Curves\")\n",
        "plt.legend()\n",
        "plt.grid(True)\n",
        "plt.tight_layout()\n",
        "plt.savefig(\"/content/drive/MyDrive/AAVDATASET/spectrogram/ema_decay_grid_search.png\")\n",
        "plt.show()\n"
      ],
      "metadata": {
        "colab": {
          "base_uri": "https://localhost:8080/",
          "height": 1000
        },
        "id": "h3j3XL5yJlI7",
        "outputId": "ff426123-3f0b-4b50-c328-4a4f8680db00"
      },
      "execution_count": null,
      "outputs": [
        {
          "output_type": "stream",
          "name": "stdout",
          "text": [
            "\n",
            "Training with ema_decay = 0.1\n"
          ]
        },
        {
          "output_type": "stream",
          "name": "stderr",
          "text": [
            "/usr/local/lib/python3.11/dist-packages/torchvision/models/_utils.py:208: UserWarning: The parameter 'pretrained' is deprecated since 0.13 and may be removed in the future, please use 'weights' instead.\n",
            "  warnings.warn(\n",
            "/usr/local/lib/python3.11/dist-packages/torchvision/models/_utils.py:223: UserWarning: Arguments other than a weight enum or `None` for 'weights' are deprecated since 0.13 and may be removed in the future. The current behavior is equivalent to passing `weights=None`.\n",
            "  warnings.warn(msg)\n"
          ]
        },
        {
          "output_type": "stream",
          "name": "stdout",
          "text": [
            "ema_decay=0.1, Epoch 1/10 - Loss: 0.0784310110 - Epoch Time: 46.16s\n"
          ]
        },
        {
          "output_type": "stream",
          "name": "stderr",
          "text": []
        },
        {
          "output_type": "stream",
          "name": "stdout",
          "text": [
            "ema_decay=0.1, Epoch 2/10 - Loss: 0.0000022074 - Epoch Time: 46.13s\n"
          ]
        },
        {
          "output_type": "stream",
          "name": "stderr",
          "text": []
        },
        {
          "output_type": "stream",
          "name": "stdout",
          "text": [
            "ema_decay=0.1, Epoch 3/10 - Loss: 0.0000003072 - Epoch Time: 46.11s\n"
          ]
        },
        {
          "output_type": "stream",
          "name": "stderr",
          "text": []
        },
        {
          "output_type": "stream",
          "name": "stdout",
          "text": [
            "ema_decay=0.1, Epoch 4/10 - Loss: 0.0004379737 - Epoch Time: 46.14s\n"
          ]
        },
        {
          "output_type": "stream",
          "name": "stderr",
          "text": []
        },
        {
          "output_type": "stream",
          "name": "stdout",
          "text": [
            "ema_decay=0.1, Epoch 5/10 - Loss: 0.0000003881 - Epoch Time: 46.12s\n"
          ]
        },
        {
          "output_type": "stream",
          "name": "stderr",
          "text": []
        },
        {
          "output_type": "stream",
          "name": "stdout",
          "text": [
            "ema_decay=0.1, Epoch 6/10 - Loss: 0.0000002436 - Epoch Time: 46.13s\n"
          ]
        },
        {
          "output_type": "stream",
          "name": "stderr",
          "text": []
        },
        {
          "output_type": "stream",
          "name": "stdout",
          "text": [
            "ema_decay=0.1, Epoch 7/10 - Loss: 0.0003283348 - Epoch Time: 46.12s\n"
          ]
        },
        {
          "output_type": "stream",
          "name": "stderr",
          "text": []
        },
        {
          "output_type": "stream",
          "name": "stdout",
          "text": [
            "ema_decay=0.1, Epoch 8/10 - Loss: 0.0000008968 - Epoch Time: 46.13s\n"
          ]
        },
        {
          "output_type": "stream",
          "name": "stderr",
          "text": []
        },
        {
          "output_type": "stream",
          "name": "stdout",
          "text": [
            "ema_decay=0.1, Epoch 9/10 - Loss: 0.0000002289 - Epoch Time: 46.18s\n"
          ]
        },
        {
          "output_type": "stream",
          "name": "stderr",
          "text": []
        },
        {
          "output_type": "stream",
          "name": "stdout",
          "text": [
            "ema_decay=0.1, Epoch 10/10 - Loss: 0.0001838212 - Epoch Time: 46.13s\n",
            "Candidate ema_decay = 0.1 achieved best loss: 0.0000002289\n",
            "\n",
            "Training with ema_decay = 0.3\n"
          ]
        },
        {
          "output_type": "stream",
          "name": "stderr",
          "text": []
        },
        {
          "output_type": "stream",
          "name": "stdout",
          "text": [
            "ema_decay=0.3, Epoch 1/10 - Loss: 0.0700226839 - Epoch Time: 46.13s\n"
          ]
        },
        {
          "output_type": "stream",
          "name": "stderr",
          "text": []
        },
        {
          "output_type": "stream",
          "name": "stdout",
          "text": [
            "ema_decay=0.3, Epoch 2/10 - Loss: 0.0004385214 - Epoch Time: 46.09s\n"
          ]
        },
        {
          "output_type": "stream",
          "name": "stderr",
          "text": []
        },
        {
          "output_type": "stream",
          "name": "stdout",
          "text": [
            "ema_decay=0.3, Epoch 3/10 - Loss: 0.0000645120 - Epoch Time: 46.10s\n"
          ]
        },
        {
          "output_type": "stream",
          "name": "stderr",
          "text": []
        },
        {
          "output_type": "stream",
          "name": "stdout",
          "text": [
            "ema_decay=0.3, Epoch 4/10 - Loss: 0.0000002573 - Epoch Time: 46.13s\n"
          ]
        },
        {
          "output_type": "stream",
          "name": "stderr",
          "text": []
        },
        {
          "output_type": "stream",
          "name": "stdout",
          "text": [
            "ema_decay=0.3, Epoch 5/10 - Loss: 0.0006256667 - Epoch Time: 46.12s\n"
          ]
        },
        {
          "output_type": "stream",
          "name": "stderr",
          "text": []
        },
        {
          "output_type": "stream",
          "name": "stdout",
          "text": [
            "ema_decay=0.3, Epoch 6/10 - Loss: 0.0000011275 - Epoch Time: 46.10s\n"
          ]
        },
        {
          "output_type": "stream",
          "name": "stderr",
          "text": []
        },
        {
          "output_type": "stream",
          "name": "stdout",
          "text": [
            "ema_decay=0.3, Epoch 7/10 - Loss: 0.0000002301 - Epoch Time: 46.11s\n"
          ]
        },
        {
          "output_type": "stream",
          "name": "stderr",
          "text": []
        },
        {
          "output_type": "stream",
          "name": "stdout",
          "text": [
            "ema_decay=0.3, Epoch 8/10 - Loss: 0.0000002313 - Epoch Time: 46.12s\n"
          ]
        },
        {
          "output_type": "stream",
          "name": "stderr",
          "text": []
        },
        {
          "output_type": "stream",
          "name": "stdout",
          "text": [
            "ema_decay=0.3, Epoch 9/10 - Loss: 0.0001898884 - Epoch Time: 46.11s\n"
          ]
        },
        {
          "output_type": "stream",
          "name": "stderr",
          "text": []
        },
        {
          "output_type": "stream",
          "name": "stdout",
          "text": [
            "ema_decay=0.3, Epoch 10/10 - Loss: 0.0000863488 - Epoch Time: 46.07s\n",
            "Candidate ema_decay = 0.3 achieved best loss: 0.0000002301\n",
            "\n",
            "Training with ema_decay = 0.5\n"
          ]
        },
        {
          "output_type": "stream",
          "name": "stderr",
          "text": []
        },
        {
          "output_type": "stream",
          "name": "stdout",
          "text": [
            "ema_decay=0.5, Epoch 1/10 - Loss: 0.0675618922 - Epoch Time: 46.14s\n"
          ]
        },
        {
          "output_type": "stream",
          "name": "stderr",
          "text": []
        },
        {
          "output_type": "stream",
          "name": "stdout",
          "text": [
            "ema_decay=0.5, Epoch 2/10 - Loss: 0.0002461277 - Epoch Time: 46.11s\n"
          ]
        },
        {
          "output_type": "stream",
          "name": "stderr",
          "text": []
        },
        {
          "output_type": "stream",
          "name": "stdout",
          "text": [
            "ema_decay=0.5, Epoch 3/10 - Loss: 0.0002542916 - Epoch Time: 46.10s\n"
          ]
        },
        {
          "output_type": "stream",
          "name": "stderr",
          "text": []
        },
        {
          "output_type": "stream",
          "name": "stdout",
          "text": [
            "ema_decay=0.5, Epoch 4/10 - Loss: 0.0004119619 - Epoch Time: 46.12s\n"
          ]
        },
        {
          "output_type": "stream",
          "name": "stderr",
          "text": []
        },
        {
          "output_type": "stream",
          "name": "stdout",
          "text": [
            "ema_decay=0.5, Epoch 5/10 - Loss: 0.0000006873 - Epoch Time: 46.12s\n"
          ]
        },
        {
          "output_type": "stream",
          "name": "stderr",
          "text": []
        },
        {
          "output_type": "stream",
          "name": "stdout",
          "text": [
            "ema_decay=0.5, Epoch 6/10 - Loss: 0.0004438784 - Epoch Time: 46.13s\n"
          ]
        },
        {
          "output_type": "stream",
          "name": "stderr",
          "text": []
        },
        {
          "output_type": "stream",
          "name": "stdout",
          "text": [
            "ema_decay=0.5, Epoch 7/10 - Loss: 0.0000712131 - Epoch Time: 46.11s\n"
          ]
        },
        {
          "output_type": "stream",
          "name": "stderr",
          "text": []
        },
        {
          "output_type": "stream",
          "name": "stdout",
          "text": [
            "ema_decay=0.5, Epoch 8/10 - Loss: 0.0000003021 - Epoch Time: 46.12s\n"
          ]
        },
        {
          "output_type": "stream",
          "name": "stderr",
          "text": []
        },
        {
          "output_type": "stream",
          "name": "stdout",
          "text": [
            "ema_decay=0.5, Epoch 9/10 - Loss: 0.0000002980 - Epoch Time: 46.12s\n"
          ]
        },
        {
          "output_type": "stream",
          "name": "stderr",
          "text": []
        },
        {
          "output_type": "stream",
          "name": "stdout",
          "text": [
            "ema_decay=0.5, Epoch 10/10 - Loss: 0.0000003078 - Epoch Time: 46.11s\n",
            "Candidate ema_decay = 0.5 achieved best loss: 0.0000002980\n",
            "\n",
            "Training with ema_decay = 0.7\n"
          ]
        },
        {
          "output_type": "stream",
          "name": "stderr",
          "text": []
        },
        {
          "output_type": "stream",
          "name": "stdout",
          "text": [
            "ema_decay=0.7, Epoch 1/10 - Loss: 0.0688861864 - Epoch Time: 46.16s\n"
          ]
        },
        {
          "output_type": "stream",
          "name": "stderr",
          "text": []
        },
        {
          "output_type": "stream",
          "name": "stdout",
          "text": [
            "ema_decay=0.7, Epoch 2/10 - Loss: 0.0007176568 - Epoch Time: 46.13s\n"
          ]
        },
        {
          "output_type": "stream",
          "name": "stderr",
          "text": []
        },
        {
          "output_type": "stream",
          "name": "stdout",
          "text": [
            "ema_decay=0.7, Epoch 3/10 - Loss: 0.0000073857 - Epoch Time: 46.14s\n"
          ]
        },
        {
          "output_type": "stream",
          "name": "stderr",
          "text": []
        },
        {
          "output_type": "stream",
          "name": "stdout",
          "text": [
            "ema_decay=0.7, Epoch 4/10 - Loss: 0.0004270519 - Epoch Time: 46.14s\n"
          ]
        },
        {
          "output_type": "stream",
          "name": "stderr",
          "text": []
        },
        {
          "output_type": "stream",
          "name": "stdout",
          "text": [
            "ema_decay=0.7, Epoch 5/10 - Loss: 0.0000394836 - Epoch Time: 46.13s\n"
          ]
        },
        {
          "output_type": "stream",
          "name": "stderr",
          "text": []
        },
        {
          "output_type": "stream",
          "name": "stdout",
          "text": [
            "ema_decay=0.7, Epoch 6/10 - Loss: 0.0000004578 - Epoch Time: 46.07s\n"
          ]
        },
        {
          "output_type": "stream",
          "name": "stderr",
          "text": []
        },
        {
          "output_type": "stream",
          "name": "stdout",
          "text": [
            "ema_decay=0.7, Epoch 7/10 - Loss: 0.0004078798 - Epoch Time: 46.11s\n"
          ]
        },
        {
          "output_type": "stream",
          "name": "stderr",
          "text": []
        },
        {
          "output_type": "stream",
          "name": "stdout",
          "text": [
            "ema_decay=0.7, Epoch 8/10 - Loss: 0.0000036086 - Epoch Time: 46.11s\n"
          ]
        },
        {
          "output_type": "stream",
          "name": "stderr",
          "text": []
        },
        {
          "output_type": "stream",
          "name": "stdout",
          "text": [
            "ema_decay=0.7, Epoch 9/10 - Loss: 0.0000003904 - Epoch Time: 46.10s\n"
          ]
        },
        {
          "output_type": "stream",
          "name": "stderr",
          "text": []
        },
        {
          "output_type": "stream",
          "name": "stdout",
          "text": [
            "ema_decay=0.7, Epoch 10/10 - Loss: 0.0000162674 - Epoch Time: 46.13s\n",
            "Candidate ema_decay = 0.7 achieved best loss: 0.0000003904\n",
            "\n",
            "Training with ema_decay = 0.95\n"
          ]
        },
        {
          "output_type": "stream",
          "name": "stderr",
          "text": []
        },
        {
          "output_type": "stream",
          "name": "stdout",
          "text": [
            "ema_decay=0.95, Epoch 1/10 - Loss: 0.0639305694 - Epoch Time: 46.16s\n"
          ]
        },
        {
          "output_type": "stream",
          "name": "stderr",
          "text": []
        },
        {
          "output_type": "stream",
          "name": "stdout",
          "text": [
            "ema_decay=0.95, Epoch 2/10 - Loss: 0.0000024178 - Epoch Time: 46.13s\n"
          ]
        },
        {
          "output_type": "stream",
          "name": "stderr",
          "text": []
        },
        {
          "output_type": "stream",
          "name": "stdout",
          "text": [
            "ema_decay=0.95, Epoch 3/10 - Loss: 0.0000003071 - Epoch Time: 46.14s\n"
          ]
        },
        {
          "output_type": "stream",
          "name": "stderr",
          "text": []
        },
        {
          "output_type": "stream",
          "name": "stdout",
          "text": [
            "ema_decay=0.95, Epoch 4/10 - Loss: 0.0004783561 - Epoch Time: 46.11s\n"
          ]
        },
        {
          "output_type": "stream",
          "name": "stderr",
          "text": []
        },
        {
          "output_type": "stream",
          "name": "stdout",
          "text": [
            "ema_decay=0.95, Epoch 5/10 - Loss: 0.0000235722 - Epoch Time: 46.12s\n"
          ]
        },
        {
          "output_type": "stream",
          "name": "stderr",
          "text": []
        },
        {
          "output_type": "stream",
          "name": "stdout",
          "text": [
            "ema_decay=0.95, Epoch 6/10 - Loss: 0.0000003004 - Epoch Time: 46.13s\n"
          ]
        },
        {
          "output_type": "stream",
          "name": "stderr",
          "text": []
        },
        {
          "output_type": "stream",
          "name": "stdout",
          "text": [
            "ema_decay=0.95, Epoch 7/10 - Loss: 0.0003493669 - Epoch Time: 46.11s\n"
          ]
        },
        {
          "output_type": "stream",
          "name": "stderr",
          "text": []
        },
        {
          "output_type": "stream",
          "name": "stdout",
          "text": [
            "ema_decay=0.95, Epoch 8/10 - Loss: 0.0000157483 - Epoch Time: 46.10s\n"
          ]
        },
        {
          "output_type": "stream",
          "name": "stderr",
          "text": []
        },
        {
          "output_type": "stream",
          "name": "stdout",
          "text": [
            "ema_decay=0.95, Epoch 9/10 - Loss: 0.0000002845 - Epoch Time: 46.14s\n"
          ]
        },
        {
          "output_type": "stream",
          "name": "stderr",
          "text": []
        },
        {
          "output_type": "stream",
          "name": "stdout",
          "text": [
            "ema_decay=0.95, Epoch 10/10 - Loss: 0.0001868156 - Epoch Time: 46.14s\n",
            "Candidate ema_decay = 0.95 achieved best loss: 0.0000002845\n",
            "\n",
            "Training with ema_decay = 0.97\n"
          ]
        },
        {
          "output_type": "stream",
          "name": "stderr",
          "text": []
        },
        {
          "output_type": "stream",
          "name": "stdout",
          "text": [
            "ema_decay=0.97, Epoch 1/10 - Loss: 0.0612728220 - Epoch Time: 46.15s\n"
          ]
        },
        {
          "output_type": "stream",
          "name": "stderr",
          "text": []
        },
        {
          "output_type": "stream",
          "name": "stdout",
          "text": [
            "ema_decay=0.97, Epoch 2/10 - Loss: 0.0004886564 - Epoch Time: 46.11s\n"
          ]
        },
        {
          "output_type": "stream",
          "name": "stderr",
          "text": []
        },
        {
          "output_type": "stream",
          "name": "stdout",
          "text": [
            "ema_decay=0.97, Epoch 3/10 - Loss: 0.0005727063 - Epoch Time: 46.11s\n"
          ]
        },
        {
          "output_type": "stream",
          "name": "stderr",
          "text": []
        },
        {
          "output_type": "stream",
          "name": "stdout",
          "text": [
            "ema_decay=0.97, Epoch 4/10 - Loss: 0.0000440036 - Epoch Time: 46.08s\n"
          ]
        },
        {
          "output_type": "stream",
          "name": "stderr",
          "text": []
        },
        {
          "output_type": "stream",
          "name": "stdout",
          "text": [
            "ema_decay=0.97, Epoch 5/10 - Loss: 0.0000006971 - Epoch Time: 46.12s\n"
          ]
        },
        {
          "output_type": "stream",
          "name": "stderr",
          "text": []
        },
        {
          "output_type": "stream",
          "name": "stdout",
          "text": [
            "ema_decay=0.97, Epoch 6/10 - Loss: 0.0003727488 - Epoch Time: 46.13s\n"
          ]
        },
        {
          "output_type": "stream",
          "name": "stderr",
          "text": []
        },
        {
          "output_type": "stream",
          "name": "stdout",
          "text": [
            "ema_decay=0.97, Epoch 7/10 - Loss: 0.0000091222 - Epoch Time: 46.10s\n"
          ]
        },
        {
          "output_type": "stream",
          "name": "stderr",
          "text": []
        },
        {
          "output_type": "stream",
          "name": "stdout",
          "text": [
            "ema_decay=0.97, Epoch 8/10 - Loss: 0.0000006807 - Epoch Time: 46.17s\n"
          ]
        },
        {
          "output_type": "stream",
          "name": "stderr",
          "text": []
        },
        {
          "output_type": "stream",
          "name": "stdout",
          "text": [
            "ema_decay=0.97, Epoch 9/10 - Loss: 0.0003711778 - Epoch Time: 46.06s\n"
          ]
        },
        {
          "output_type": "stream",
          "name": "stderr",
          "text": []
        },
        {
          "output_type": "stream",
          "name": "stdout",
          "text": [
            "ema_decay=0.97, Epoch 10/10 - Loss: 0.0000093919 - Epoch Time: 46.10s\n",
            "Candidate ema_decay = 0.97 achieved best loss: 0.0000006807\n",
            "\n",
            "Training with ema_decay = 0.99\n"
          ]
        },
        {
          "output_type": "stream",
          "name": "stderr",
          "text": []
        },
        {
          "output_type": "stream",
          "name": "stdout",
          "text": [
            "ema_decay=0.99, Epoch 1/10 - Loss: 0.0576062427 - Epoch Time: 46.14s\n"
          ]
        },
        {
          "output_type": "stream",
          "name": "stderr",
          "text": []
        },
        {
          "output_type": "stream",
          "name": "stdout",
          "text": [
            "ema_decay=0.99, Epoch 2/10 - Loss: 0.0003909118 - Epoch Time: 46.14s\n"
          ]
        },
        {
          "output_type": "stream",
          "name": "stderr",
          "text": []
        },
        {
          "output_type": "stream",
          "name": "stdout",
          "text": [
            "ema_decay=0.99, Epoch 3/10 - Loss: 0.0003433895 - Epoch Time: 46.18s\n"
          ]
        },
        {
          "output_type": "stream",
          "name": "stderr",
          "text": []
        },
        {
          "output_type": "stream",
          "name": "stdout",
          "text": [
            "ema_decay=0.99, Epoch 4/10 - Loss: 0.0000127078 - Epoch Time: 46.12s\n"
          ]
        },
        {
          "output_type": "stream",
          "name": "stderr",
          "text": []
        },
        {
          "output_type": "stream",
          "name": "stdout",
          "text": [
            "ema_decay=0.99, Epoch 5/10 - Loss: 0.0004761853 - Epoch Time: 46.09s\n"
          ]
        },
        {
          "output_type": "stream",
          "name": "stderr",
          "text": []
        },
        {
          "output_type": "stream",
          "name": "stdout",
          "text": [
            "ema_decay=0.99, Epoch 6/10 - Loss: 0.0000064072 - Epoch Time: 46.07s\n"
          ]
        },
        {
          "output_type": "stream",
          "name": "stderr",
          "text": []
        },
        {
          "output_type": "stream",
          "name": "stdout",
          "text": [
            "ema_decay=0.99, Epoch 7/10 - Loss: 0.0000007598 - Epoch Time: 46.12s\n"
          ]
        },
        {
          "output_type": "stream",
          "name": "stderr",
          "text": []
        },
        {
          "output_type": "stream",
          "name": "stdout",
          "text": [
            "ema_decay=0.99, Epoch 8/10 - Loss: 0.0000858958 - Epoch Time: 46.13s\n"
          ]
        },
        {
          "output_type": "stream",
          "name": "stderr",
          "text": []
        },
        {
          "output_type": "stream",
          "name": "stdout",
          "text": [
            "ema_decay=0.99, Epoch 9/10 - Loss: 0.0000210222 - Epoch Time: 46.16s\n"
          ]
        },
        {
          "output_type": "stream",
          "name": "stderr",
          "text": []
        },
        {
          "output_type": "stream",
          "name": "stdout",
          "text": [
            "ema_decay=0.99, Epoch 10/10 - Loss: 0.0003163939 - Epoch Time: 46.12s\n",
            "Candidate ema_decay = 0.99 achieved best loss: 0.0000007598\n",
            "\n",
            "Training with ema_decay = 0.999\n"
          ]
        },
        {
          "output_type": "stream",
          "name": "stderr",
          "text": []
        },
        {
          "output_type": "stream",
          "name": "stdout",
          "text": [
            "ema_decay=0.999, Epoch 1/10 - Loss: 0.0524903805 - Epoch Time: 46.13s\n"
          ]
        },
        {
          "output_type": "stream",
          "name": "stderr",
          "text": []
        },
        {
          "output_type": "stream",
          "name": "stdout",
          "text": [
            "ema_decay=0.999, Epoch 2/10 - Loss: 0.0008814383 - Epoch Time: 46.11s\n"
          ]
        },
        {
          "output_type": "stream",
          "name": "stderr",
          "text": []
        },
        {
          "output_type": "stream",
          "name": "stdout",
          "text": [
            "ema_decay=0.999, Epoch 3/10 - Loss: 0.0000694917 - Epoch Time: 46.09s\n"
          ]
        },
        {
          "output_type": "stream",
          "name": "stderr",
          "text": []
        },
        {
          "output_type": "stream",
          "name": "stdout",
          "text": [
            "ema_decay=0.999, Epoch 4/10 - Loss: 0.0002007506 - Epoch Time: 46.15s\n"
          ]
        },
        {
          "output_type": "stream",
          "name": "stderr",
          "text": []
        },
        {
          "output_type": "stream",
          "name": "stdout",
          "text": [
            "ema_decay=0.999, Epoch 5/10 - Loss: 0.0001751897 - Epoch Time: 46.07s\n"
          ]
        },
        {
          "output_type": "stream",
          "name": "stderr",
          "text": []
        },
        {
          "output_type": "stream",
          "name": "stdout",
          "text": [
            "ema_decay=0.999, Epoch 6/10 - Loss: 0.0004407998 - Epoch Time: 46.12s\n"
          ]
        },
        {
          "output_type": "stream",
          "name": "stderr",
          "text": []
        },
        {
          "output_type": "stream",
          "name": "stdout",
          "text": [
            "ema_decay=0.999, Epoch 7/10 - Loss: 0.0000127813 - Epoch Time: 46.13s\n"
          ]
        },
        {
          "output_type": "stream",
          "name": "stderr",
          "text": []
        },
        {
          "output_type": "stream",
          "name": "stdout",
          "text": [
            "ema_decay=0.999, Epoch 8/10 - Loss: 0.0000065032 - Epoch Time: 46.13s\n"
          ]
        },
        {
          "output_type": "stream",
          "name": "stderr",
          "text": []
        },
        {
          "output_type": "stream",
          "name": "stdout",
          "text": [
            "ema_decay=0.999, Epoch 9/10 - Loss: 0.0000053758 - Epoch Time: 46.12s\n"
          ]
        },
        {
          "output_type": "stream",
          "name": "stderr",
          "text": []
        },
        {
          "output_type": "stream",
          "name": "stdout",
          "text": [
            "ema_decay=0.999, Epoch 10/10 - Loss: 0.0003105117 - Epoch Time: 46.11s\n",
            "Candidate ema_decay = 0.999 achieved best loss: 0.0000053758\n",
            "\n",
            "Grid Search Results:\n",
            "ema_decay 0.1: Best Loss = 0.0000002289\n",
            "ema_decay 0.3: Best Loss = 0.0000002301\n",
            "ema_decay 0.5: Best Loss = 0.0000002980\n",
            "ema_decay 0.7: Best Loss = 0.0000003904\n",
            "ema_decay 0.95: Best Loss = 0.0000002845\n",
            "ema_decay 0.97: Best Loss = 0.0000006807\n",
            "ema_decay 0.99: Best Loss = 0.0000007598\n",
            "ema_decay 0.999: Best Loss = 0.0000053758\n"
          ]
        },
        {
          "output_type": "display_data",
          "data": {
            "text/plain": [
              "<Figure size 1000x600 with 1 Axes>"
            ],
            "image/png": "[encoded data removed]"
          },
          "metadata": {}
        }
      ]
    },
    {
      "cell_type": "markdown",
      "source": [
        "# Grid Search of learning rate for the best EMA decay"
      ],
      "metadata": {
        "id": "ydZM4o4DZen6"
      }
    },
    {
      "cell_type": "code",
      "source": [
        "import os\n",
        "import time\n",
        "import torch\n",
        "from torch.utils.data import DataLoader\n",
        "import matplotlib.pyplot as plt\n",
        "from tqdm import tqdm\n",
        "\n",
        "# Define candidate learning rate values.\n",
        "lr_candidates = [1e-4, 1e-3, 1e-2, 1e-1]\n",
        "num_epochs_grid = 10  # Use a smaller number of epochs for the grid search.\n",
        "grid_results = {}      # To record the best loss for each candidate.\n",
        "training_curves = {}   # To store per-epoch loss curves for each candidate.\n",
        "\n",
        "# Loop over each learning rate candidate.\n",
        "for lr in lr_candidates:\n",
        "    print(f\"\\nTraining with learning rate = {lr}\")\n",
        "\n",
        "    # Reinitialize models for each candidate.\n",
        "    context_encoder_candidate = get_vit_encoder().cuda()\n",
        "    target_encoder_candidate = get_vit_encoder().cuda()\n",
        "    target_encoder_candidate.load_state_dict(context_encoder_candidate.state_dict())\n",
        "    predictor_candidate = Predictor().cuda()\n",
        "\n",
        "    # Set up a new optimizer with the current learning rate.\n",
        "    optimizer_candidate = torch.optim.Adam(\n",
        "        list(context_encoder_candidate.parameters()) + list(predictor_candidate.parameters()),\n",
        "        lr=lr\n",
        "    )\n",
        "\n",
        "    best_loss_candidate = float('inf')\n",
        "    candidate_losses = []  # To store the epoch loss for this candidate.\n",
        "\n",
        "    for epoch in range(num_epochs_grid):\n",
        "        context_encoder_candidate.train()\n",
        "        predictor_candidate.train()\n",
        "        running_loss = 0.0\n",
        "        epoch_start_time = time.time()\n",
        "\n",
        "        for batch_idx, (context_block, target_blocks, _) in enumerate(\n",
        "            tqdm(train_loader, desc=f\"LR {lr} Epoch {epoch+1}/{num_epochs_grid}\", leave=False)\n",
        "        ):\n",
        "            context_block = context_block.cuda()            # [B, C, 224, 224]\n",
        "            target_blocks = target_blocks.cuda()              # [B, num_targets, C, 224, 224]\n",
        "\n",
        "            # Forward pass.\n",
        "            context_repr = context_encoder_candidate(context_block)  # [B, 768]\n",
        "            preds = predictor_candidate(context_repr)                # [B, num_targets, 768]\n",
        "\n",
        "            B, num_targets, C, Ht, Wt = target_blocks.shape\n",
        "            target_blocks_flat = target_blocks.view(B * num_targets, C, Ht, Wt)\n",
        "            with torch.no_grad():\n",
        "                target_repr_flat = target_encoder_candidate(target_blocks_flat)\n",
        "            target_repr = target_repr_flat.view(B, num_targets, -1)\n",
        "\n",
        "            loss = criterion(preds, target_repr)\n",
        "            optimizer_candidate.zero_grad()\n",
        "            loss.backward()\n",
        "            optimizer_candidate.step()\n",
        "\n",
        "            # For this grid search over learning rate, we keep the EMA update constant (e.g. using a fixed value).\n",
        "            update_ema(context_encoder_candidate, target_encoder_candidate, 0.1)\n",
        "\n",
        "            running_loss += loss.item() * context_block.size(0)\n",
        "\n",
        "        epoch_loss = running_loss / len(train_ijepa_dataset)\n",
        "        candidate_losses.append(epoch_loss)\n",
        "        epoch_time = time.time() - epoch_start_time\n",
        "        print(f\"LR {lr}, Epoch {epoch+1}/{num_epochs_grid} - Loss: {epoch_loss:.15f} - Epoch Time: {epoch_time:.2f}s\")\n",
        "\n",
        "        if epoch_loss < best_loss_candidate:\n",
        "            best_loss_candidate = epoch_loss\n",
        "\n",
        "    training_curves[lr] = candidate_losses\n",
        "    grid_results[lr] = best_loss_candidate\n",
        "    print(f\"Candidate lr = {lr} achieved best loss: {best_loss_candidate:.15f}\")\n",
        "\n",
        "# Print grid search results.\n",
        "print(\"\\nGrid Search Results:\")\n",
        "for candidate, loss in grid_results.items():\n",
        "    print(f\"Learning Rate {candidate}: Best Loss = {loss:.15f}\")\n",
        "\n",
        "# ---------------------------\n",
        "# Plot learning curves for all learning rate candidates.\n",
        "# ---------------------------\n",
        "plt.figure(figsize=(10, 6))\n",
        "epochs = range(1, num_epochs_grid + 1)\n",
        "for lr, losses in training_curves.items():\n",
        "    plt.plot(epochs, losses, marker='o', label=f\"lr = {lr}\")\n",
        "plt.xlabel(\"Epoch\")\n",
        "plt.ylabel(\"Training Loss\")\n",
        "plt.title(\"Learning Rate Grid Search - Training Loss Curves\")\n",
        "plt.legend()\n",
        "plt.grid(True)\n",
        "plt.tight_layout()\n",
        "plt.savefig(\"/content/drive/MyDrive/AAVDATASET/spectrogram/learning_rate_grid_search.png\")\n",
        "plt.show()\n"
      ],
      "metadata": {
        "colab": {
          "base_uri": "https://localhost:8080/",
          "height": 1000
        },
        "id": "qIXX-3rXZkHH",
        "outputId": "69344120-89a9-455f-bc8a-6228b2621d6d"
      },
      "execution_count": null,
      "outputs": [
        {
          "output_type": "stream",
          "name": "stdout",
          "text": [
            "\n",
            "Training with learning rate = 0.0001\n"
          ]
        },
        {
          "output_type": "stream",
          "name": "stderr",
          "text": []
        },
        {
          "output_type": "stream",
          "name": "stdout",
          "text": [
            "LR 0.0001, Epoch 1/10 - Loss: 0.498063963439541 - Epoch Time: 46.14s\n"
          ]
        },
        {
          "output_type": "stream",
          "name": "stderr",
          "text": []
        },
        {
          "output_type": "stream",
          "name": "stdout",
          "text": [
            "LR 0.0001, Epoch 2/10 - Loss: 0.014219712249080 - Epoch Time: 46.11s\n"
          ]
        },
        {
          "output_type": "stream",
          "name": "stderr",
          "text": []
        },
        {
          "output_type": "stream",
          "name": "stdout",
          "text": [
            "LR 0.0001, Epoch 3/10 - Loss: 0.000540569737614 - Epoch Time: 46.12s\n"
          ]
        },
        {
          "output_type": "stream",
          "name": "stderr",
          "text": []
        },
        {
          "output_type": "stream",
          "name": "stdout",
          "text": [
            "LR 0.0001, Epoch 4/10 - Loss: 0.000160704426655 - Epoch Time: 46.12s\n"
          ]
        },
        {
          "output_type": "stream",
          "name": "stderr",
          "text": []
        },
        {
          "output_type": "stream",
          "name": "stdout",
          "text": [
            "LR 0.0001, Epoch 5/10 - Loss: 0.000124237333110 - Epoch Time: 46.11s\n"
          ]
        },
        {
          "output_type": "stream",
          "name": "stderr",
          "text": []
        },
        {
          "output_type": "stream",
          "name": "stdout",
          "text": [
            "LR 0.0001, Epoch 6/10 - Loss: 0.000136127216958 - Epoch Time: 46.12s\n"
          ]
        },
        {
          "output_type": "stream",
          "name": "stderr",
          "text": []
        },
        {
          "output_type": "stream",
          "name": "stdout",
          "text": [
            "LR 0.0001, Epoch 7/10 - Loss: 0.000239846976685 - Epoch Time: 46.12s\n"
          ]
        },
        {
          "output_type": "stream",
          "name": "stderr",
          "text": []
        },
        {
          "output_type": "stream",
          "name": "stdout",
          "text": [
            "LR 0.0001, Epoch 8/10 - Loss: 0.000641506814706 - Epoch Time: 46.13s\n"
          ]
        },
        {
          "output_type": "stream",
          "name": "stderr",
          "text": []
        },
        {
          "output_type": "stream",
          "name": "stdout",
          "text": [
            "LR 0.0001, Epoch 9/10 - Loss: 0.001284850918517 - Epoch Time: 46.15s\n"
          ]
        },
        {
          "output_type": "stream",
          "name": "stderr",
          "text": []
        },
        {
          "output_type": "stream",
          "name": "stdout",
          "text": [
            "LR 0.0001, Epoch 10/10 - Loss: 0.000487358888526 - Epoch Time: 46.13s\n",
            "Candidate lr = 0.0001 achieved best loss: 0.000124237333110\n",
            "\n",
            "Training with learning rate = 0.001\n"
          ]
        },
        {
          "output_type": "stream",
          "name": "stderr",
          "text": []
        },
        {
          "output_type": "stream",
          "name": "stdout",
          "text": [
            "LR 0.001, Epoch 1/10 - Loss: 0.072202424068591 - Epoch Time: 46.16s\n"
          ]
        },
        {
          "output_type": "stream",
          "name": "stderr",
          "text": []
        },
        {
          "output_type": "stream",
          "name": "stdout",
          "text": [
            "LR 0.001, Epoch 2/10 - Loss: 0.000551784663904 - Epoch Time: 46.10s\n"
          ]
        },
        {
          "output_type": "stream",
          "name": "stderr",
          "text": []
        },
        {
          "output_type": "stream",
          "name": "stdout",
          "text": [
            "LR 0.001, Epoch 3/10 - Loss: 0.000002770265308 - Epoch Time: 46.11s\n"
          ]
        },
        {
          "output_type": "stream",
          "name": "stderr",
          "text": []
        },
        {
          "output_type": "stream",
          "name": "stdout",
          "text": [
            "LR 0.001, Epoch 4/10 - Loss: 0.000492774643466 - Epoch Time: 46.09s\n"
          ]
        },
        {
          "output_type": "stream",
          "name": "stderr",
          "text": []
        },
        {
          "output_type": "stream",
          "name": "stdout",
          "text": [
            "LR 0.001, Epoch 5/10 - Loss: 0.000040934064353 - Epoch Time: 46.13s\n"
          ]
        },
        {
          "output_type": "stream",
          "name": "stderr",
          "text": []
        },
        {
          "output_type": "stream",
          "name": "stdout",
          "text": [
            "LR 0.001, Epoch 6/10 - Loss: 0.000000229584469 - Epoch Time: 46.12s\n"
          ]
        },
        {
          "output_type": "stream",
          "name": "stderr",
          "text": []
        },
        {
          "output_type": "stream",
          "name": "stdout",
          "text": [
            "LR 0.001, Epoch 7/10 - Loss: 0.000000230804334 - Epoch Time: 46.10s\n"
          ]
        },
        {
          "output_type": "stream",
          "name": "stderr",
          "text": []
        },
        {
          "output_type": "stream",
          "name": "stdout",
          "text": [
            "LR 0.001, Epoch 8/10 - Loss: 0.000440038617076 - Epoch Time: 46.12s\n"
          ]
        },
        {
          "output_type": "stream",
          "name": "stderr",
          "text": []
        },
        {
          "output_type": "stream",
          "name": "stdout",
          "text": [
            "LR 0.001, Epoch 9/10 - Loss: 0.000005090014799 - Epoch Time: 46.11s\n"
          ]
        },
        {
          "output_type": "stream",
          "name": "stderr",
          "text": []
        },
        {
          "output_type": "stream",
          "name": "stdout",
          "text": [
            "LR 0.001, Epoch 10/10 - Loss: 0.000000230879737 - Epoch Time: 46.11s\n",
            "Candidate lr = 0.001 achieved best loss: 0.000000229584469\n",
            "\n",
            "Training with learning rate = 0.01\n"
          ]
        },
        {
          "output_type": "stream",
          "name": "stderr",
          "text": []
        },
        {
          "output_type": "stream",
          "name": "stdout",
          "text": [
            "LR 0.01, Epoch 1/10 - Loss: 4.794489257405547 - Epoch Time: 46.18s\n"
          ]
        },
        {
          "output_type": "stream",
          "name": "stderr",
          "text": []
        },
        {
          "output_type": "stream",
          "name": "stdout",
          "text": [
            "LR 0.01, Epoch 2/10 - Loss: 0.000509592689505 - Epoch Time: 46.14s\n"
          ]
        },
        {
          "output_type": "stream",
          "name": "stderr",
          "text": []
        },
        {
          "output_type": "stream",
          "name": "stdout",
          "text": [
            "LR 0.01, Epoch 3/10 - Loss: 0.000404409178069 - Epoch Time: 46.14s\n"
          ]
        },
        {
          "output_type": "stream",
          "name": "stderr",
          "text": []
        },
        {
          "output_type": "stream",
          "name": "stdout",
          "text": [
            "LR 0.01, Epoch 4/10 - Loss: 0.000519562512666 - Epoch Time: 46.13s\n"
          ]
        },
        {
          "output_type": "stream",
          "name": "stderr",
          "text": []
        },
        {
          "output_type": "stream",
          "name": "stdout",
          "text": [
            "LR 0.01, Epoch 5/10 - Loss: 0.000000080805028 - Epoch Time: 46.13s\n"
          ]
        },
        {
          "output_type": "stream",
          "name": "stderr",
          "text": []
        },
        {
          "output_type": "stream",
          "name": "stdout",
          "text": [
            "LR 0.01, Epoch 6/10 - Loss: 0.001388133084067 - Epoch Time: 46.12s\n"
          ]
        },
        {
          "output_type": "stream",
          "name": "stderr",
          "text": []
        },
        {
          "output_type": "stream",
          "name": "stdout",
          "text": [
            "LR 0.01, Epoch 7/10 - Loss: 0.000003924084707 - Epoch Time: 46.13s\n"
          ]
        },
        {
          "output_type": "stream",
          "name": "stderr",
          "text": []
        },
        {
          "output_type": "stream",
          "name": "stdout",
          "text": [
            "LR 0.01, Epoch 8/10 - Loss: 0.000000021398943 - Epoch Time: 46.13s\n"
          ]
        },
        {
          "output_type": "stream",
          "name": "stderr",
          "text": []
        },
        {
          "output_type": "stream",
          "name": "stdout",
          "text": [
            "LR 0.01, Epoch 9/10 - Loss: 0.002202777306152 - Epoch Time: 46.14s\n"
          ]
        },
        {
          "output_type": "stream",
          "name": "stderr",
          "text": []
        },
        {
          "output_type": "stream",
          "name": "stdout",
          "text": [
            "LR 0.01, Epoch 10/10 - Loss: 0.000003295848366 - Epoch Time: 46.14s\n",
            "Candidate lr = 0.01 achieved best loss: 0.000000021398943\n",
            "\n",
            "Training with learning rate = 0.1\n"
          ]
        },
        {
          "output_type": "stream",
          "name": "stderr",
          "text": []
        },
        {
          "output_type": "stream",
          "name": "stdout",
          "text": [
            "LR 0.1, Epoch 1/10 - Loss: 203713.621873604453867 - Epoch Time: 46.18s\n"
          ]
        },
        {
          "output_type": "stream",
          "name": "stderr",
          "text": []
        },
        {
          "output_type": "stream",
          "name": "stdout",
          "text": [
            "LR 0.1, Epoch 2/10 - Loss: 1.207524002407797 - Epoch Time: 46.13s\n"
          ]
        },
        {
          "output_type": "stream",
          "name": "stderr",
          "text": []
        },
        {
          "output_type": "stream",
          "name": "stdout",
          "text": [
            "LR 0.1, Epoch 3/10 - Loss: 0.000269088017088 - Epoch Time: 46.15s\n"
          ]
        },
        {
          "output_type": "stream",
          "name": "stderr",
          "text": []
        },
        {
          "output_type": "stream",
          "name": "stdout",
          "text": [
            "LR 0.1, Epoch 4/10 - Loss: 0.000131968522193 - Epoch Time: 46.09s\n"
          ]
        },
        {
          "output_type": "stream",
          "name": "stderr",
          "text": []
        },
        {
          "output_type": "stream",
          "name": "stdout",
          "text": [
            "LR 0.1, Epoch 5/10 - Loss: 0.000148296969008 - Epoch Time: 46.13s\n"
          ]
        },
        {
          "output_type": "stream",
          "name": "stderr",
          "text": []
        },
        {
          "output_type": "stream",
          "name": "stdout",
          "text": [
            "LR 0.1, Epoch 6/10 - Loss: 0.000132987314694 - Epoch Time: 46.08s\n"
          ]
        },
        {
          "output_type": "stream",
          "name": "stderr",
          "text": []
        },
        {
          "output_type": "stream",
          "name": "stdout",
          "text": [
            "LR 0.1, Epoch 7/10 - Loss: 0.000136187865021 - Epoch Time: 46.12s\n"
          ]
        },
        {
          "output_type": "stream",
          "name": "stderr",
          "text": []
        },
        {
          "output_type": "stream",
          "name": "stdout",
          "text": [
            "LR 0.1, Epoch 8/10 - Loss: 0.000139452444604 - Epoch Time: 46.14s\n"
          ]
        },
        {
          "output_type": "stream",
          "name": "stderr",
          "text": []
        },
        {
          "output_type": "stream",
          "name": "stdout",
          "text": [
            "LR 0.1, Epoch 9/10 - Loss: 0.000142599534354 - Epoch Time: 46.15s\n"
          ]
        },
        {
          "output_type": "stream",
          "name": "stderr",
          "text": []
        },
        {
          "output_type": "stream",
          "name": "stdout",
          "text": [
            "LR 0.1, Epoch 10/10 - Loss: 0.000137863225002 - Epoch Time: 46.12s\n",
            "Candidate lr = 0.1 achieved best loss: 0.000131968522193\n",
            "\n",
            "Grid Search Results:\n",
            "Learning Rate 0.0001: Best Loss = 0.000124237333110\n",
            "Learning Rate 0.001: Best Loss = 0.000000229584469\n",
            "Learning Rate 0.01: Best Loss = 0.000000021398943\n",
            "Learning Rate 0.1: Best Loss = 0.000131968522193\n"
          ]
        },
        {
          "output_type": "display_data",
          "data": {
            "text/plain": [
              "<Figure size 1000x600 with 1 Axes>"
            ],
            "image/png": "[encoded data removed]"
          },
          "metadata": {}
        }
      ]
    },
    {
      "cell_type": "markdown",
      "source": [
        "# Train the Classifier"
      ],
      "metadata": {
        "id": "clZWxsbpZ9EO"
      }
    },
    {
      "cell_type": "markdown",
      "source": [
        "## 1. Load the Saved Checkpoint for the Self-Supervised Model"
      ],
      "metadata": {
        "id": "GQnzVW9aaDL4"
      }
    },
    {
      "cell_type": "code",
      "source": [
        "checkpoint = torch.load(os.path.join(base_dir, \"ijepa_checkpoint_best.pth\"))\n",
        "context_encoder.load_state_dict(checkpoint['context_encoder_state_dict'])\n",
        "# Freeze the context encoder.\n",
        "context_encoder.eval()\n",
        "for param in context_encoder.parameters():\n",
        "    param.requires_grad = False"
      ],
      "metadata": {
        "id": "TXG_-3UPaHTE"
      },
      "execution_count": null,
      "outputs": []
    },
    {
      "cell_type": "markdown",
      "source": [
        "## 2. Define the Classifier"
      ],
      "metadata": {
        "id": "W4p4tYAraGVn"
      }
    },
    {
      "cell_type": "code",
      "source": [
        "num_classes = 3  # Adjust this number based on your dataset.\n",
        "classifier = nn.Linear(768, num_classes).cuda()\n"
      ],
      "metadata": {
        "id": "rGFXEjdsaOW1"
      },
      "execution_count": null,
      "outputs": []
    },
    {
      "cell_type": "markdown",
      "source": [
        "## 3. Set Up Optimizer and Loss Criterion"
      ],
      "metadata": {
        "id": "X0ZKbi8UaQig"
      }
    },
    {
      "cell_type": "code",
      "source": [
        "clf_optimizer = optim.Adam(classifier.parameters(), lr=1e-3)\n",
        "criterion_cls = nn.CrossEntropyLoss()\n"
      ],
      "metadata": {
        "id": "R19laeJNaTp9"
      },
      "execution_count": null,
      "outputs": []
    },
    {
      "cell_type": "markdown",
      "source": [
        "## 4. Training Loop for the Classifier (Using Training Data Only)"
      ],
      "metadata": {
        "id": "1L2khmV-aWGm"
      }
    },
    {
      "cell_type": "code",
      "source": [
        "num_epochs_clf = 500\n",
        "best_train_acc = 0.0  # Best training accuracy so far.\n",
        "\n",
        "for epoch in range(num_epochs_clf):\n",
        "    epoch_start_time = time.time()\n",
        "    classifier.train()\n",
        "    running_loss = 0.0\n",
        "    correct_train = 0\n",
        "    total_train = 0\n",
        "\n",
        "    for context_block, _, label in train_loader:\n",
        "        context_block = context_block.cuda()  # [B, C, 224, 224]\n",
        "        label = label.cuda()\n",
        "\n",
        "        with torch.no_grad():\n",
        "            features = context_encoder(context_block)  # [B, 768]\n",
        "\n",
        "        logits = classifier(features)  # [B, num_classes]\n",
        "        loss = criterion_cls(logits, label)\n",
        "\n",
        "        clf_optimizer.zero_grad()\n",
        "        loss.backward()\n",
        "        clf_optimizer.step()\n",
        "\n",
        "        running_loss += loss.item() * context_block.size(0)\n",
        "        preds = logits.argmax(dim=1)\n",
        "        correct_train += (preds == label).sum().item()\n",
        "        total_train += label.size(0)\n",
        "\n",
        "    epoch_train_loss = running_loss / len(train_ijepa_dataset)\n",
        "    epoch_train_acc = correct_train / total_train\n",
        "    epoch_time = time.time() - epoch_start_time\n",
        "\n",
        "    print(f\"Epoch {epoch+1}/{num_epochs_clf} - Train Loss: {epoch_train_loss:.10f} | Train Acc: {epoch_train_acc*100:.10f}% | Time: {epoch_time:.2f}s\")\n",
        "\n",
        "    # Save checkpoint if training accuracy improves.\n",
        "    if epoch_train_acc > best_train_acc:\n",
        "        best_train_acc = epoch_train_acc\n",
        "        checkpoint = {\n",
        "            'epoch': epoch+1,\n",
        "            'classifier_state_dict': classifier.state_dict(),\n",
        "            'optimizer_state_dict': clf_optimizer.state_dict(),\n",
        "            'train_loss': epoch_train_loss,\n",
        "            'train_acc': epoch_train_acc\n",
        "        }\n",
        "        torch.save(checkpoint, os.path.join(base_dir,\"ijepa_classifier_best.pth\"))\n",
        "        print(f\"Checkpoint saved at epoch {epoch+1} with Train Acc: {epoch_train_acc*100:.10f}%\")\n",
        "\n",
        "print(\"Classifier training complete!\")"
      ],
      "metadata": {
        "colab": {
          "base_uri": "https://localhost:8080/"
        },
        "id": "3nQoDWvwaZ4g",
        "outputId": "9548c91f-f51a-4124-a325-1ff6977b2927"
      },
      "execution_count": null,
      "outputs": [
        {
          "output_type": "stream",
          "name": "stdout",
          "text": [
            "Epoch 1/500 - Train Loss: 1.0752848570 | Train Acc: 44.9110320285% | Time: 6.94s\n",
            "Checkpoint saved at epoch 1 with Train Acc: 44.9110320285%\n",
            "Epoch 2/500 - Train Loss: 1.0805312284 | Train Acc: 44.2348754448% | Time: 6.80s\n",
            "Epoch 3/500 - Train Loss: 1.0753464658 | Train Acc: 44.8042704626% | Time: 6.85s\n",
            "Epoch 4/500 - Train Loss: 1.0866304027 | Train Acc: 43.4163701068% | Time: 6.80s\n",
            "Epoch 5/500 - Train Loss: 1.0761554949 | Train Acc: 44.2704626335% | Time: 6.89s\n",
            "Epoch 6/500 - Train Loss: 1.0783635848 | Train Acc: 44.5195729537% | Time: 6.86s\n",
            "Epoch 7/500 - Train Loss: 1.0744730561 | Train Acc: 44.1637010676% | Time: 6.89s\n",
            "Epoch 8/500 - Train Loss: 1.0928329201 | Train Acc: 42.5622775801% | Time: 6.83s\n",
            "Epoch 9/500 - Train Loss: 1.0743028990 | Train Acc: 44.0925266904% | Time: 6.90s\n",
            "Epoch 10/500 - Train Loss: 1.0732026519 | Train Acc: 43.7722419929% | Time: 6.88s\n",
            "Epoch 11/500 - Train Loss: 1.0805278195 | Train Acc: 44.6619217082% | Time: 6.77s\n",
            "Epoch 12/500 - Train Loss: 1.0790925407 | Train Acc: 43.7366548043% | Time: 6.90s\n",
            "Epoch 13/500 - Train Loss: 1.0792014285 | Train Acc: 43.9501779359% | Time: 6.89s\n",
            "Epoch 14/500 - Train Loss: 1.0778077446 | Train Acc: 43.7010676157% | Time: 6.86s\n",
            "Epoch 15/500 - Train Loss: 1.0727791826 | Train Acc: 44.4839857651% | Time: 6.83s\n",
            "Epoch 16/500 - Train Loss: 1.0769501516 | Train Acc: 43.7010676157% | Time: 6.80s\n",
            "Epoch 17/500 - Train Loss: 1.0730231911 | Train Acc: 44.8042704626% | Time: 6.86s\n",
            "Epoch 18/500 - Train Loss: 1.0771474819 | Train Acc: 43.9145907473% | Time: 6.90s\n",
            "Epoch 19/500 - Train Loss: 1.0726093282 | Train Acc: 44.8042704626% | Time: 6.81s\n",
            "Epoch 20/500 - Train Loss: 1.0747471530 | Train Acc: 44.8398576512% | Time: 6.83s\n",
            "Epoch 21/500 - Train Loss: 1.0770063777 | Train Acc: 44.8042704626% | Time: 6.80s\n",
            "Epoch 22/500 - Train Loss: 1.0811203707 | Train Acc: 42.8113879004% | Time: 6.83s\n",
            "Epoch 23/500 - Train Loss: 1.0745977359 | Train Acc: 44.8042704626% | Time: 6.85s\n",
            "Epoch 24/500 - Train Loss: 1.0784646267 | Train Acc: 44.8042704626% | Time: 6.85s\n",
            "Epoch 25/500 - Train Loss: 1.0781458957 | Train Acc: 43.5587188612% | Time: 6.77s\n",
            "Epoch 26/500 - Train Loss: 1.0785153722 | Train Acc: 44.1992882562% | Time: 6.78s\n",
            "Epoch 27/500 - Train Loss: 1.0792464728 | Train Acc: 44.8042704626% | Time: 6.80s\n",
            "Epoch 28/500 - Train Loss: 1.0813403987 | Train Acc: 41.8149466192% | Time: 6.77s\n",
            "Epoch 29/500 - Train Loss: 1.0774721066 | Train Acc: 44.2348754448% | Time: 6.83s\n",
            "Epoch 30/500 - Train Loss: 1.0782030277 | Train Acc: 42.6690391459% | Time: 6.84s\n",
            "Epoch 31/500 - Train Loss: 1.0786318895 | Train Acc: 44.3416370107% | Time: 6.82s\n",
            "Epoch 32/500 - Train Loss: 1.0756741597 | Train Acc: 44.8398576512% | Time: 6.88s\n",
            "Epoch 33/500 - Train Loss: 1.0801451851 | Train Acc: 43.9857651246% | Time: 6.90s\n",
            "Epoch 34/500 - Train Loss: 1.0775824457 | Train Acc: 44.2704626335% | Time: 6.81s\n",
            "Epoch 35/500 - Train Loss: 1.0763339533 | Train Acc: 44.8398576512% | Time: 6.87s\n",
            "Epoch 36/500 - Train Loss: 1.0790134152 | Train Acc: 43.8790035587% | Time: 6.90s\n",
            "Epoch 37/500 - Train Loss: 1.0806533343 | Train Acc: 43.4875444840% | Time: 6.86s\n",
            "Epoch 38/500 - Train Loss: 1.0779652133 | Train Acc: 44.5907473310% | Time: 6.88s\n",
            "Epoch 39/500 - Train Loss: 1.0782233321 | Train Acc: 44.4128113879% | Time: 6.82s\n",
            "Epoch 40/500 - Train Loss: 1.0834323501 | Train Acc: 43.9145907473% | Time: 6.90s\n",
            "Epoch 41/500 - Train Loss: 1.0739356874 | Train Acc: 44.8042704626% | Time: 6.89s\n",
            "Epoch 42/500 - Train Loss: 1.0795869602 | Train Acc: 44.7686832740% | Time: 6.86s\n",
            "Epoch 43/500 - Train Loss: 1.0771054212 | Train Acc: 44.1637010676% | Time: 6.84s\n",
            "Epoch 44/500 - Train Loss: 1.0886085784 | Train Acc: 41.1032028470% | Time: 6.90s\n",
            "Epoch 45/500 - Train Loss: 1.0771916905 | Train Acc: 44.8398576512% | Time: 6.91s\n",
            "Epoch 46/500 - Train Loss: 1.0731613869 | Train Acc: 44.3060498221% | Time: 6.77s\n",
            "Epoch 47/500 - Train Loss: 1.0770513300 | Train Acc: 43.9145907473% | Time: 6.91s\n",
            "Epoch 48/500 - Train Loss: 1.0793553745 | Train Acc: 44.4128113879% | Time: 6.77s\n",
            "Epoch 49/500 - Train Loss: 1.0798416350 | Train Acc: 43.2384341637% | Time: 6.78s\n",
            "Epoch 50/500 - Train Loss: 1.0807470129 | Train Acc: 44.3772241993% | Time: 6.89s\n",
            "Epoch 51/500 - Train Loss: 1.0744580499 | Train Acc: 43.8078291815% | Time: 6.90s\n",
            "Epoch 52/500 - Train Loss: 1.0848127198 | Train Acc: 42.8469750890% | Time: 6.86s\n",
            "Epoch 53/500 - Train Loss: 1.0745454630 | Train Acc: 44.2348754448% | Time: 6.77s\n",
            "Epoch 54/500 - Train Loss: 1.0762793913 | Train Acc: 44.5551601423% | Time: 6.89s\n",
            "Epoch 55/500 - Train Loss: 1.0737071428 | Train Acc: 45.0889679715% | Time: 6.90s\n",
            "Checkpoint saved at epoch 55 with Train Acc: 45.0889679715%\n",
            "Epoch 56/500 - Train Loss: 1.0722104037 | Train Acc: 44.8042704626% | Time: 6.89s\n",
            "Epoch 57/500 - Train Loss: 1.0778536584 | Train Acc: 44.0925266904% | Time: 6.86s\n",
            "Epoch 58/500 - Train Loss: 1.0762826470 | Train Acc: 44.5907473310% | Time: 6.90s\n",
            "Epoch 59/500 - Train Loss: 1.0769123863 | Train Acc: 44.8042704626% | Time: 6.87s\n",
            "Epoch 60/500 - Train Loss: 1.0777867599 | Train Acc: 44.1637010676% | Time: 6.77s\n",
            "Epoch 61/500 - Train Loss: 1.0735957959 | Train Acc: 44.8042704626% | Time: 6.88s\n",
            "Epoch 62/500 - Train Loss: 1.0758160888 | Train Acc: 43.6298932384% | Time: 6.90s\n",
            "Epoch 63/500 - Train Loss: 1.0728979272 | Train Acc: 44.8042704626% | Time: 6.79s\n",
            "Epoch 64/500 - Train Loss: 1.0759680250 | Train Acc: 44.2704626335% | Time: 6.80s\n",
            "Epoch 65/500 - Train Loss: 1.0733528854 | Train Acc: 44.8042704626% | Time: 6.76s\n",
            "Epoch 66/500 - Train Loss: 1.0756274216 | Train Acc: 44.8042704626% | Time: 6.85s\n",
            "Epoch 67/500 - Train Loss: 1.0743603145 | Train Acc: 44.8042704626% | Time: 6.82s\n",
            "Epoch 68/500 - Train Loss: 1.0769312056 | Train Acc: 44.4128113879% | Time: 6.88s\n",
            "Epoch 69/500 - Train Loss: 1.0752812537 | Train Acc: 44.8042704626% | Time: 6.87s\n",
            "Epoch 70/500 - Train Loss: 1.0764077166 | Train Acc: 43.8434163701% | Time: 6.86s\n",
            "Epoch 71/500 - Train Loss: 1.0840187788 | Train Acc: 43.5587188612% | Time: 6.81s\n",
            "Epoch 72/500 - Train Loss: 1.0774613768 | Train Acc: 44.8042704626% | Time: 6.80s\n",
            "Epoch 73/500 - Train Loss: 1.0761227531 | Train Acc: 44.8042704626% | Time: 6.85s\n",
            "Epoch 74/500 - Train Loss: 1.0769340513 | Train Acc: 43.9501779359% | Time: 6.90s\n",
            "Epoch 75/500 - Train Loss: 1.0816809539 | Train Acc: 44.8042704626% | Time: 6.92s\n",
            "Epoch 76/500 - Train Loss: 1.0744568570 | Train Acc: 44.8754448399% | Time: 6.92s\n",
            "Epoch 77/500 - Train Loss: 1.0755806133 | Train Acc: 44.5551601423% | Time: 6.85s\n",
            "Epoch 78/500 - Train Loss: 1.0742798902 | Train Acc: 44.3772241993% | Time: 6.85s\n",
            "Epoch 79/500 - Train Loss: 1.0733555640 | Train Acc: 43.9145907473% | Time: 6.85s\n",
            "Epoch 80/500 - Train Loss: 1.0826458517 | Train Acc: 43.0249110320% | Time: 6.85s\n",
            "Epoch 81/500 - Train Loss: 1.0770725491 | Train Acc: 44.4128113879% | Time: 6.88s\n",
            "Epoch 82/500 - Train Loss: 1.0748221688 | Train Acc: 44.8042704626% | Time: 6.88s\n",
            "Epoch 83/500 - Train Loss: 1.0798260004 | Train Acc: 44.5907473310% | Time: 6.89s\n",
            "Epoch 84/500 - Train Loss: 1.0768405441 | Train Acc: 43.5943060498% | Time: 6.91s\n",
            "Epoch 85/500 - Train Loss: 1.0748207206 | Train Acc: 44.8042704626% | Time: 6.91s\n",
            "Epoch 86/500 - Train Loss: 1.0737688838 | Train Acc: 44.8042704626% | Time: 6.90s\n",
            "Epoch 87/500 - Train Loss: 1.0784491418 | Train Acc: 42.7046263345% | Time: 6.87s\n",
            "Epoch 88/500 - Train Loss: 1.0739883726 | Train Acc: 44.5907473310% | Time: 6.80s\n",
            "Epoch 89/500 - Train Loss: 1.0746657635 | Train Acc: 44.4483985765% | Time: 6.84s\n",
            "Epoch 90/500 - Train Loss: 1.0758585833 | Train Acc: 44.8398576512% | Time: 6.84s\n",
            "Epoch 91/500 - Train Loss: 1.0765191379 | Train Acc: 44.5195729537% | Time: 6.81s\n",
            "Epoch 92/500 - Train Loss: 1.0755986051 | Train Acc: 44.3060498221% | Time: 6.91s\n",
            "Epoch 93/500 - Train Loss: 1.0745729909 | Train Acc: 43.8434163701% | Time: 6.85s\n",
            "Epoch 94/500 - Train Loss: 1.0750572486 | Train Acc: 44.0213523132% | Time: 6.83s\n",
            "Epoch 95/500 - Train Loss: 1.0724128477 | Train Acc: 44.5551601423% | Time: 6.80s\n",
            "Epoch 96/500 - Train Loss: 1.0783767895 | Train Acc: 44.3060498221% | Time: 6.82s\n",
            "Epoch 97/500 - Train Loss: 1.0813201175 | Train Acc: 42.8469750890% | Time: 6.85s\n",
            "Epoch 98/500 - Train Loss: 1.0772668090 | Train Acc: 44.2348754448% | Time: 6.83s\n",
            "Epoch 99/500 - Train Loss: 1.0752170196 | Train Acc: 44.5551601423% | Time: 6.81s\n",
            "Epoch 100/500 - Train Loss: 1.0743440456 | Train Acc: 44.8042704626% | Time: 6.79s\n",
            "Epoch 101/500 - Train Loss: 1.0799478637 | Train Acc: 42.5978647687% | Time: 6.83s\n",
            "Epoch 102/500 - Train Loss: 1.0725224513 | Train Acc: 44.9110320285% | Time: 6.78s\n",
            "Epoch 103/500 - Train Loss: 1.0777783229 | Train Acc: 43.4519572954% | Time: 6.85s\n",
            "Epoch 104/500 - Train Loss: 1.0850398193 | Train Acc: 43.8434163701% | Time: 6.79s\n",
            "Epoch 105/500 - Train Loss: 1.0738125977 | Train Acc: 44.8042704626% | Time: 6.83s\n",
            "Epoch 106/500 - Train Loss: 1.0762990200 | Train Acc: 44.7330960854% | Time: 6.80s\n",
            "Epoch 107/500 - Train Loss: 1.0821101894 | Train Acc: 44.7330960854% | Time: 6.84s\n",
            "Epoch 108/500 - Train Loss: 1.0726373872 | Train Acc: 44.8042704626% | Time: 6.80s\n",
            "Epoch 109/500 - Train Loss: 1.0805485916 | Train Acc: 43.5943060498% | Time: 6.88s\n",
            "Epoch 110/500 - Train Loss: 1.0777083340 | Train Acc: 44.1281138790% | Time: 6.88s\n",
            "Epoch 111/500 - Train Loss: 1.0788905301 | Train Acc: 43.8078291815% | Time: 6.89s\n",
            "Epoch 112/500 - Train Loss: 1.0704702608 | Train Acc: 44.7330960854% | Time: 6.90s\n",
            "Epoch 113/500 - Train Loss: 1.0838461546 | Train Acc: 43.2028469751% | Time: 6.89s\n",
            "Epoch 114/500 - Train Loss: 1.0730149743 | Train Acc: 44.9110320285% | Time: 6.86s\n",
            "Epoch 115/500 - Train Loss: 1.0838771589 | Train Acc: 42.7046263345% | Time: 6.85s\n",
            "Epoch 116/500 - Train Loss: 1.0725195406 | Train Acc: 45.0889679715% | Time: 6.80s\n",
            "Epoch 117/500 - Train Loss: 1.0762772182 | Train Acc: 44.0569395018% | Time: 6.87s\n",
            "Epoch 118/500 - Train Loss: 1.0779491407 | Train Acc: 43.7722419929% | Time: 6.78s\n",
            "Epoch 119/500 - Train Loss: 1.0726974771 | Train Acc: 44.8042704626% | Time: 6.83s\n",
            "Epoch 120/500 - Train Loss: 1.0743886186 | Train Acc: 44.8042704626% | Time: 6.80s\n",
            "Epoch 121/500 - Train Loss: 1.0779718094 | Train Acc: 42.8113879004% | Time: 6.86s\n",
            "Epoch 122/500 - Train Loss: 1.0724590153 | Train Acc: 44.8042704626% | Time: 6.87s\n",
            "Epoch 123/500 - Train Loss: 1.0772728242 | Train Acc: 44.5907473310% | Time: 6.82s\n",
            "Epoch 124/500 - Train Loss: 1.0738420172 | Train Acc: 44.8042704626% | Time: 6.88s\n",
            "Epoch 125/500 - Train Loss: 1.0729639911 | Train Acc: 44.8042704626% | Time: 6.86s\n",
            "Epoch 126/500 - Train Loss: 1.0739128216 | Train Acc: 43.8434163701% | Time: 6.86s\n",
            "Epoch 127/500 - Train Loss: 1.0771966380 | Train Acc: 43.9857651246% | Time: 6.80s\n",
            "Epoch 128/500 - Train Loss: 1.0729709892 | Train Acc: 44.8042704626% | Time: 6.85s\n",
            "Epoch 129/500 - Train Loss: 1.0769129208 | Train Acc: 43.9501779359% | Time: 6.81s\n",
            "Epoch 130/500 - Train Loss: 1.0720728779 | Train Acc: 44.8042704626% | Time: 6.80s\n",
            "Epoch 131/500 - Train Loss: 1.0776524526 | Train Acc: 44.1281138790% | Time: 6.86s\n",
            "Epoch 132/500 - Train Loss: 1.0758630517 | Train Acc: 44.8042704626% | Time: 6.83s\n",
            "Epoch 133/500 - Train Loss: 1.0759876494 | Train Acc: 44.8042704626% | Time: 6.84s\n",
            "Epoch 134/500 - Train Loss: 1.0809064024 | Train Acc: 43.0960854093% | Time: 6.85s\n",
            "Epoch 135/500 - Train Loss: 1.0761942427 | Train Acc: 44.6975088968% | Time: 6.86s\n",
            "Epoch 136/500 - Train Loss: 1.0736522359 | Train Acc: 43.6654804270% | Time: 6.81s\n",
            "Epoch 137/500 - Train Loss: 1.0790093213 | Train Acc: 43.8078291815% | Time: 6.77s\n",
            "Epoch 138/500 - Train Loss: 1.0776612382 | Train Acc: 43.9857651246% | Time: 6.90s\n",
            "Epoch 139/500 - Train Loss: 1.0771755512 | Train Acc: 44.4839857651% | Time: 6.92s\n",
            "Epoch 140/500 - Train Loss: 1.0759295102 | Train Acc: 44.3416370107% | Time: 6.84s\n",
            "Epoch 141/500 - Train Loss: 1.0722176299 | Train Acc: 44.5195729537% | Time: 6.87s\n",
            "Epoch 142/500 - Train Loss: 1.0745584124 | Train Acc: 44.8042704626% | Time: 6.85s\n",
            "Epoch 143/500 - Train Loss: 1.0765797784 | Train Acc: 44.8042704626% | Time: 6.84s\n",
            "Epoch 144/500 - Train Loss: 1.0730036548 | Train Acc: 44.7686832740% | Time: 6.92s\n",
            "Epoch 145/500 - Train Loss: 1.0724212073 | Train Acc: 44.8042704626% | Time: 6.85s\n",
            "Epoch 146/500 - Train Loss: 1.0713030583 | Train Acc: 44.8042704626% | Time: 6.82s\n",
            "Epoch 147/500 - Train Loss: 1.0699644899 | Train Acc: 44.8398576512% | Time: 6.86s\n",
            "Epoch 148/500 - Train Loss: 1.0785872215 | Train Acc: 43.5231316726% | Time: 6.82s\n",
            "Epoch 149/500 - Train Loss: 1.0739312152 | Train Acc: 44.6619217082% | Time: 6.85s\n",
            "Epoch 150/500 - Train Loss: 1.0745303404 | Train Acc: 44.6619217082% | Time: 6.90s\n",
            "Epoch 151/500 - Train Loss: 1.0755795725 | Train Acc: 44.0569395018% | Time: 6.84s\n",
            "Epoch 152/500 - Train Loss: 1.0701417234 | Train Acc: 44.8042704626% | Time: 6.90s\n",
            "Epoch 153/500 - Train Loss: 1.0729756535 | Train Acc: 43.5943060498% | Time: 6.84s\n",
            "Epoch 154/500 - Train Loss: 1.0790549828 | Train Acc: 43.6298932384% | Time: 6.82s\n",
            "Epoch 155/500 - Train Loss: 1.0739128748 | Train Acc: 44.0569395018% | Time: 6.89s\n",
            "Epoch 156/500 - Train Loss: 1.0791252240 | Train Acc: 44.8042704626% | Time: 6.88s\n",
            "Epoch 157/500 - Train Loss: 1.0778781515 | Train Acc: 44.1992882562% | Time: 6.84s\n",
            "Epoch 158/500 - Train Loss: 1.0805288217 | Train Acc: 44.3060498221% | Time: 6.81s\n",
            "Epoch 159/500 - Train Loss: 1.0780493901 | Train Acc: 43.4163701068% | Time: 6.86s\n",
            "Epoch 160/500 - Train Loss: 1.0737669023 | Train Acc: 44.2348754448% | Time: 6.85s\n",
            "Epoch 161/500 - Train Loss: 1.0748955736 | Train Acc: 43.9145907473% | Time: 6.82s\n",
            "Epoch 162/500 - Train Loss: 1.0723511399 | Train Acc: 44.9110320285% | Time: 6.83s\n",
            "Epoch 163/500 - Train Loss: 1.0716134988 | Train Acc: 44.6263345196% | Time: 6.88s\n",
            "Epoch 164/500 - Train Loss: 1.0774670160 | Train Acc: 44.6263345196% | Time: 6.83s\n",
            "Epoch 165/500 - Train Loss: 1.0767280974 | Train Acc: 42.0996441281% | Time: 6.89s\n",
            "Epoch 166/500 - Train Loss: 1.0748381656 | Train Acc: 44.6619217082% | Time: 6.90s\n",
            "Epoch 167/500 - Train Loss: 1.0757166582 | Train Acc: 44.3772241993% | Time: 6.90s\n",
            "Epoch 168/500 - Train Loss: 1.0767185448 | Train Acc: 43.5943060498% | Time: 6.85s\n",
            "Epoch 169/500 - Train Loss: 1.0767856315 | Train Acc: 43.9501779359% | Time: 6.87s\n",
            "Epoch 170/500 - Train Loss: 1.0788346284 | Train Acc: 44.3060498221% | Time: 6.84s\n",
            "Epoch 171/500 - Train Loss: 1.0780430383 | Train Acc: 44.2704626335% | Time: 6.89s\n",
            "Epoch 172/500 - Train Loss: 1.0725868709 | Train Acc: 44.8042704626% | Time: 6.92s\n",
            "Epoch 173/500 - Train Loss: 1.0733258240 | Train Acc: 44.1992882562% | Time: 6.91s\n",
            "Epoch 174/500 - Train Loss: 1.0754870121 | Train Acc: 44.8042704626% | Time: 6.77s\n",
            "Epoch 175/500 - Train Loss: 1.0726706557 | Train Acc: 44.8042704626% | Time: 6.83s\n",
            "Epoch 176/500 - Train Loss: 1.0698667406 | Train Acc: 44.9466192171% | Time: 6.79s\n",
            "Epoch 177/500 - Train Loss: 1.0766889166 | Train Acc: 44.7330960854% | Time: 6.81s\n",
            "Epoch 178/500 - Train Loss: 1.0767435374 | Train Acc: 44.0925266904% | Time: 6.80s\n",
            "Epoch 179/500 - Train Loss: 1.0782141813 | Train Acc: 43.8790035587% | Time: 6.85s\n",
            "Epoch 180/500 - Train Loss: 1.0720764090 | Train Acc: 44.4839857651% | Time: 6.83s\n",
            "Epoch 181/500 - Train Loss: 1.0799566898 | Train Acc: 44.1992882562% | Time: 6.90s\n",
            "Epoch 182/500 - Train Loss: 1.0744902964 | Train Acc: 44.8398576512% | Time: 6.91s\n",
            "Epoch 183/500 - Train Loss: 1.0854926081 | Train Acc: 44.6619217082% | Time: 6.86s\n",
            "Epoch 184/500 - Train Loss: 1.0733081779 | Train Acc: 44.3060498221% | Time: 6.90s\n",
            "Epoch 185/500 - Train Loss: 1.0713461273 | Train Acc: 44.8042704626% | Time: 6.80s\n",
            "Epoch 186/500 - Train Loss: 1.0803446419 | Train Acc: 43.9857651246% | Time: 6.86s\n",
            "Epoch 187/500 - Train Loss: 1.0727955616 | Train Acc: 44.8042704626% | Time: 6.83s\n",
            "Epoch 188/500 - Train Loss: 1.0742631130 | Train Acc: 44.8042704626% | Time: 6.91s\n",
            "Epoch 189/500 - Train Loss: 1.0722651611 | Train Acc: 44.8042704626% | Time: 6.91s\n",
            "Epoch 190/500 - Train Loss: 1.0741627613 | Train Acc: 44.0569395018% | Time: 6.86s\n",
            "Epoch 191/500 - Train Loss: 1.0765505254 | Train Acc: 44.7686832740% | Time: 6.90s\n",
            "Epoch 192/500 - Train Loss: 1.0816770603 | Train Acc: 43.7722419929% | Time: 6.84s\n",
            "Epoch 193/500 - Train Loss: 1.0753682090 | Train Acc: 44.7330960854% | Time: 6.86s\n",
            "Epoch 194/500 - Train Loss: 1.0696700457 | Train Acc: 44.8042704626% | Time: 6.79s\n",
            "Epoch 195/500 - Train Loss: 1.0789615302 | Train Acc: 43.1672597865% | Time: 6.77s\n",
            "Epoch 196/500 - Train Loss: 1.0747280871 | Train Acc: 44.4839857651% | Time: 6.87s\n",
            "Epoch 197/500 - Train Loss: 1.0723655311 | Train Acc: 44.6975088968% | Time: 6.90s\n",
            "Epoch 198/500 - Train Loss: 1.0742639214 | Train Acc: 44.4839857651% | Time: 6.87s\n",
            "Epoch 199/500 - Train Loss: 1.0765952566 | Train Acc: 43.9501779359% | Time: 6.88s\n",
            "Epoch 200/500 - Train Loss: 1.0713863396 | Train Acc: 45.0177935943% | Time: 6.80s\n",
            "Epoch 201/500 - Train Loss: 1.0769031222 | Train Acc: 43.7722419929% | Time: 6.89s\n",
            "Epoch 202/500 - Train Loss: 1.0725107137 | Train Acc: 44.9466192171% | Time: 6.88s\n",
            "Epoch 203/500 - Train Loss: 1.0751653839 | Train Acc: 44.8042704626% | Time: 6.86s\n",
            "Epoch 204/500 - Train Loss: 1.0773668379 | Train Acc: 43.5231316726% | Time: 6.87s\n",
            "Epoch 205/500 - Train Loss: 1.0736456374 | Train Acc: 44.8042704626% | Time: 6.89s\n",
            "Epoch 206/500 - Train Loss: 1.0706342125 | Train Acc: 44.9822064057% | Time: 6.85s\n",
            "Epoch 207/500 - Train Loss: 1.0820778309 | Train Acc: 43.7722419929% | Time: 6.88s\n",
            "Epoch 208/500 - Train Loss: 1.0788391825 | Train Acc: 44.5551601423% | Time: 6.86s\n",
            "Epoch 209/500 - Train Loss: 1.0744163851 | Train Acc: 44.5195729537% | Time: 6.80s\n",
            "Epoch 210/500 - Train Loss: 1.0733985803 | Train Acc: 44.6975088968% | Time: 6.83s\n",
            "Epoch 211/500 - Train Loss: 1.0801484687 | Train Acc: 43.1316725979% | Time: 6.81s\n",
            "Epoch 212/500 - Train Loss: 1.0762203698 | Train Acc: 44.7686832740% | Time: 6.78s\n",
            "Epoch 213/500 - Train Loss: 1.0723582939 | Train Acc: 43.8078291815% | Time: 6.84s\n",
            "Epoch 214/500 - Train Loss: 1.0726533074 | Train Acc: 43.9145907473% | Time: 6.89s\n",
            "Epoch 215/500 - Train Loss: 1.0779999456 | Train Acc: 43.9145907473% | Time: 6.83s\n",
            "Epoch 216/500 - Train Loss: 1.0782169991 | Train Acc: 44.0569395018% | Time: 6.77s\n",
            "Epoch 217/500 - Train Loss: 1.0729668708 | Train Acc: 44.8042704626% | Time: 6.85s\n",
            "Epoch 218/500 - Train Loss: 1.0767046229 | Train Acc: 44.5907473310% | Time: 6.89s\n",
            "Epoch 219/500 - Train Loss: 1.0710559450 | Train Acc: 44.8042704626% | Time: 6.90s\n",
            "Epoch 220/500 - Train Loss: 1.0788085756 | Train Acc: 43.2740213523% | Time: 6.89s\n",
            "Epoch 221/500 - Train Loss: 1.0732133949 | Train Acc: 44.6975088968% | Time: 6.91s\n",
            "Epoch 222/500 - Train Loss: 1.0790522610 | Train Acc: 44.1992882562% | Time: 6.91s\n",
            "Epoch 223/500 - Train Loss: 1.0757869682 | Train Acc: 43.3807829181% | Time: 6.88s\n",
            "Epoch 224/500 - Train Loss: 1.0771246274 | Train Acc: 44.8754448399% | Time: 6.85s\n",
            "Epoch 225/500 - Train Loss: 1.0729475559 | Train Acc: 44.8398576512% | Time: 6.83s\n",
            "Epoch 226/500 - Train Loss: 1.0742889740 | Train Acc: 44.8398576512% | Time: 6.81s\n",
            "Epoch 227/500 - Train Loss: 1.0714710055 | Train Acc: 44.7330960854% | Time: 6.79s\n",
            "Epoch 228/500 - Train Loss: 1.0715053012 | Train Acc: 44.5551601423% | Time: 6.91s\n",
            "Epoch 229/500 - Train Loss: 1.0754409975 | Train Acc: 43.8434163701% | Time: 6.82s\n",
            "Epoch 230/500 - Train Loss: 1.0775291113 | Train Acc: 44.6975088968% | Time: 6.90s\n",
            "Epoch 231/500 - Train Loss: 1.0765920707 | Train Acc: 43.4519572954% | Time: 6.87s\n",
            "Epoch 232/500 - Train Loss: 1.0705461226 | Train Acc: 44.7330960854% | Time: 6.88s\n",
            "Epoch 233/500 - Train Loss: 1.0777789072 | Train Acc: 44.8042704626% | Time: 6.91s\n",
            "Epoch 234/500 - Train Loss: 1.0759639429 | Train Acc: 44.5195729537% | Time: 6.77s\n",
            "Epoch 235/500 - Train Loss: 1.0736020772 | Train Acc: 44.8042704626% | Time: 6.79s\n",
            "Epoch 236/500 - Train Loss: 1.0735770911 | Train Acc: 43.9857651246% | Time: 6.79s\n",
            "Epoch 237/500 - Train Loss: 1.0718183472 | Train Acc: 44.7330960854% | Time: 6.83s\n",
            "Epoch 238/500 - Train Loss: 1.0705891995 | Train Acc: 44.8042704626% | Time: 6.84s\n",
            "Epoch 239/500 - Train Loss: 1.0765711510 | Train Acc: 43.3096085409% | Time: 6.78s\n",
            "Epoch 240/500 - Train Loss: 1.0727908646 | Train Acc: 44.4839857651% | Time: 6.86s\n",
            "Epoch 241/500 - Train Loss: 1.0769381338 | Train Acc: 44.1281138790% | Time: 6.81s\n",
            "Epoch 242/500 - Train Loss: 1.0723716503 | Train Acc: 45.0533807829% | Time: 6.91s\n",
            "Epoch 243/500 - Train Loss: 1.0793240859 | Train Acc: 43.7010676157% | Time: 6.91s\n",
            "Epoch 244/500 - Train Loss: 1.0695172933 | Train Acc: 44.7686832740% | Time: 6.84s\n",
            "Epoch 245/500 - Train Loss: 1.0751598754 | Train Acc: 44.8754448399% | Time: 6.90s\n",
            "Epoch 246/500 - Train Loss: 1.0738184845 | Train Acc: 44.9110320285% | Time: 6.84s\n",
            "Epoch 247/500 - Train Loss: 1.0744773961 | Train Acc: 44.7330960854% | Time: 6.81s\n",
            "Epoch 248/500 - Train Loss: 1.0718763458 | Train Acc: 44.8398576512% | Time: 6.87s\n",
            "Epoch 249/500 - Train Loss: 1.0725949128 | Train Acc: 44.9466192171% | Time: 6.91s\n",
            "Epoch 250/500 - Train Loss: 1.0818443897 | Train Acc: 44.1992882562% | Time: 6.89s\n",
            "Epoch 251/500 - Train Loss: 1.0737217463 | Train Acc: 44.8398576512% | Time: 6.90s\n",
            "Epoch 252/500 - Train Loss: 1.0750583123 | Train Acc: 44.7330960854% | Time: 6.87s\n",
            "Epoch 253/500 - Train Loss: 1.0817956203 | Train Acc: 43.4519572954% | Time: 6.90s\n",
            "Epoch 254/500 - Train Loss: 1.0711105041 | Train Acc: 44.7686832740% | Time: 6.92s\n",
            "Epoch 255/500 - Train Loss: 1.0811957245 | Train Acc: 43.0960854093% | Time: 6.86s\n",
            "Epoch 256/500 - Train Loss: 1.0711071499 | Train Acc: 44.3060498221% | Time: 6.90s\n",
            "Epoch 257/500 - Train Loss: 1.0750168257 | Train Acc: 44.8398576512% | Time: 6.87s\n",
            "Epoch 258/500 - Train Loss: 1.0705136287 | Train Acc: 44.8398576512% | Time: 6.89s\n",
            "Epoch 259/500 - Train Loss: 1.0738254330 | Train Acc: 44.8042704626% | Time: 6.88s\n",
            "Epoch 260/500 - Train Loss: 1.0743252394 | Train Acc: 43.8434163701% | Time: 6.89s\n",
            "Epoch 261/500 - Train Loss: 1.0792987248 | Train Acc: 44.6975088968% | Time: 6.87s\n",
            "Epoch 262/500 - Train Loss: 1.0744428606 | Train Acc: 43.8434163701% | Time: 6.87s\n",
            "Epoch 263/500 - Train Loss: 1.0706961771 | Train Acc: 44.8042704626% | Time: 6.88s\n",
            "Epoch 264/500 - Train Loss: 1.0699262116 | Train Acc: 44.9822064057% | Time: 6.90s\n",
            "Epoch 265/500 - Train Loss: 1.0744252496 | Train Acc: 44.7686832740% | Time: 6.85s\n",
            "Epoch 266/500 - Train Loss: 1.0687540955 | Train Acc: 44.7330960854% | Time: 6.88s\n",
            "Epoch 267/500 - Train Loss: 1.0732401787 | Train Acc: 43.5943060498% | Time: 6.84s\n",
            "Epoch 268/500 - Train Loss: 1.0747680204 | Train Acc: 44.7330960854% | Time: 6.88s\n",
            "Epoch 269/500 - Train Loss: 1.0770280891 | Train Acc: 43.7722419929% | Time: 6.82s\n",
            "Epoch 270/500 - Train Loss: 1.0698254611 | Train Acc: 44.8398576512% | Time: 6.94s\n",
            "Epoch 271/500 - Train Loss: 1.0805210032 | Train Acc: 44.6975088968% | Time: 6.93s\n",
            "Epoch 272/500 - Train Loss: 1.0729901234 | Train Acc: 44.8398576512% | Time: 6.86s\n",
            "Epoch 273/500 - Train Loss: 1.0776094440 | Train Acc: 44.8042704626% | Time: 6.90s\n",
            "Epoch 274/500 - Train Loss: 1.0726545371 | Train Acc: 43.7722419929% | Time: 6.81s\n",
            "Epoch 275/500 - Train Loss: 1.0703224227 | Train Acc: 44.8042704626% | Time: 6.88s\n",
            "Epoch 276/500 - Train Loss: 1.0745023185 | Train Acc: 43.9857651246% | Time: 6.80s\n",
            "Epoch 277/500 - Train Loss: 1.0788910529 | Train Acc: 43.8434163701% | Time: 6.89s\n",
            "Epoch 278/500 - Train Loss: 1.0748038724 | Train Acc: 44.7686832740% | Time: 6.88s\n",
            "Epoch 279/500 - Train Loss: 1.0717041168 | Train Acc: 43.9501779359% | Time: 6.88s\n",
            "Epoch 280/500 - Train Loss: 1.0720881175 | Train Acc: 44.9110320285% | Time: 6.89s\n",
            "Epoch 281/500 - Train Loss: 1.0701822321 | Train Acc: 44.3416370107% | Time: 6.77s\n",
            "Epoch 282/500 - Train Loss: 1.0721070987 | Train Acc: 44.6975088968% | Time: 6.80s\n",
            "Epoch 283/500 - Train Loss: 1.0731270555 | Train Acc: 44.8754448399% | Time: 6.79s\n",
            "Epoch 284/500 - Train Loss: 1.0701541158 | Train Acc: 44.7686832740% | Time: 6.86s\n",
            "Epoch 285/500 - Train Loss: 1.0742531711 | Train Acc: 44.8042704626% | Time: 6.90s\n",
            "Epoch 286/500 - Train Loss: 1.0733308618 | Train Acc: 44.6975088968% | Time: 6.90s\n",
            "Epoch 287/500 - Train Loss: 1.0710770731 | Train Acc: 44.4839857651% | Time: 6.82s\n",
            "Epoch 288/500 - Train Loss: 1.0780557560 | Train Acc: 43.8078291815% | Time: 6.86s\n",
            "Epoch 289/500 - Train Loss: 1.0701150293 | Train Acc: 44.8754448399% | Time: 6.84s\n",
            "Epoch 290/500 - Train Loss: 1.0710458283 | Train Acc: 44.8042704626% | Time: 6.80s\n",
            "Epoch 291/500 - Train Loss: 1.0750648387 | Train Acc: 44.8042704626% | Time: 6.90s\n",
            "Epoch 292/500 - Train Loss: 1.0793685623 | Train Acc: 44.3060498221% | Time: 6.90s\n",
            "Epoch 293/500 - Train Loss: 1.0706605114 | Train Acc: 44.8042704626% | Time: 6.91s\n",
            "Epoch 294/500 - Train Loss: 1.0776222360 | Train Acc: 44.2348754448% | Time: 6.84s\n",
            "Epoch 295/500 - Train Loss: 1.0720249672 | Train Acc: 44.8398576512% | Time: 6.78s\n",
            "Epoch 296/500 - Train Loss: 1.0729539706 | Train Acc: 44.8398576512% | Time: 6.83s\n",
            "Epoch 297/500 - Train Loss: 1.0762207170 | Train Acc: 43.4875444840% | Time: 6.81s\n",
            "Epoch 298/500 - Train Loss: 1.0715275072 | Train Acc: 44.8042704626% | Time: 6.81s\n",
            "Epoch 299/500 - Train Loss: 1.0708163709 | Train Acc: 44.5907473310% | Time: 6.84s\n",
            "Epoch 300/500 - Train Loss: 1.0799402320 | Train Acc: 43.8434163701% | Time: 6.87s\n",
            "Epoch 301/500 - Train Loss: 1.0735095505 | Train Acc: 44.6975088968% | Time: 6.84s\n",
            "Epoch 302/500 - Train Loss: 1.0747601634 | Train Acc: 44.6975088968% | Time: 6.83s\n",
            "Epoch 303/500 - Train Loss: 1.0749395189 | Train Acc: 44.6263345196% | Time: 6.87s\n",
            "Epoch 304/500 - Train Loss: 1.0796917357 | Train Acc: 44.9822064057% | Time: 6.88s\n",
            "Epoch 305/500 - Train Loss: 1.0755021957 | Train Acc: 44.8398576512% | Time: 6.86s\n",
            "Epoch 306/500 - Train Loss: 1.0717321883 | Train Acc: 43.5943060498% | Time: 6.89s\n",
            "Epoch 307/500 - Train Loss: 1.0729609414 | Train Acc: 44.6619217082% | Time: 6.78s\n",
            "Epoch 308/500 - Train Loss: 1.0755346609 | Train Acc: 43.3807829181% | Time: 6.82s\n",
            "Epoch 309/500 - Train Loss: 1.0709329294 | Train Acc: 44.8398576512% | Time: 6.76s\n",
            "Epoch 310/500 - Train Loss: 1.0701299521 | Train Acc: 44.8754448399% | Time: 6.86s\n",
            "Epoch 311/500 - Train Loss: 1.0753690876 | Train Acc: 44.7330960854% | Time: 6.83s\n",
            "Epoch 312/500 - Train Loss: 1.0703098551 | Train Acc: 44.7686832740% | Time: 6.91s\n",
            "Epoch 313/500 - Train Loss: 1.0768417154 | Train Acc: 44.8754448399% | Time: 6.89s\n",
            "Epoch 314/500 - Train Loss: 1.0722945918 | Train Acc: 44.6619217082% | Time: 6.85s\n",
            "Epoch 315/500 - Train Loss: 1.0715023168 | Train Acc: 43.8790035587% | Time: 6.91s\n",
            "Epoch 316/500 - Train Loss: 1.0739109616 | Train Acc: 44.3772241993% | Time: 6.89s\n",
            "Epoch 317/500 - Train Loss: 1.0711174703 | Train Acc: 44.7686832740% | Time: 6.85s\n",
            "Epoch 318/500 - Train Loss: 1.0717505702 | Train Acc: 44.3416370107% | Time: 6.87s\n",
            "Epoch 319/500 - Train Loss: 1.0713493521 | Train Acc: 44.8042704626% | Time: 6.88s\n",
            "Epoch 320/500 - Train Loss: 1.0687758553 | Train Acc: 44.0569395018% | Time: 6.80s\n",
            "Epoch 321/500 - Train Loss: 1.0729799868 | Train Acc: 45.0533807829% | Time: 6.83s\n",
            "Epoch 322/500 - Train Loss: 1.0747657163 | Train Acc: 45.0533807829% | Time: 6.89s\n",
            "Epoch 323/500 - Train Loss: 1.0736923148 | Train Acc: 44.1992882562% | Time: 6.84s\n",
            "Epoch 324/500 - Train Loss: 1.0688009678 | Train Acc: 44.8754448399% | Time: 6.82s\n",
            "Epoch 325/500 - Train Loss: 1.0742447378 | Train Acc: 44.6263345196% | Time: 6.77s\n",
            "Epoch 326/500 - Train Loss: 1.0727991186 | Train Acc: 44.8754448399% | Time: 6.87s\n",
            "Epoch 327/500 - Train Loss: 1.0700308740 | Train Acc: 44.2348754448% | Time: 6.88s\n",
            "Epoch 328/500 - Train Loss: 1.0755398737 | Train Acc: 44.7686832740% | Time: 6.85s\n",
            "Epoch 329/500 - Train Loss: 1.0760979216 | Train Acc: 44.9466192171% | Time: 6.86s\n",
            "Epoch 330/500 - Train Loss: 1.0696295348 | Train Acc: 44.8754448399% | Time: 6.85s\n",
            "Epoch 331/500 - Train Loss: 1.0737583898 | Train Acc: 44.5907473310% | Time: 6.82s\n",
            "Epoch 332/500 - Train Loss: 1.0745952185 | Train Acc: 44.4128113879% | Time: 6.77s\n",
            "Epoch 333/500 - Train Loss: 1.0722000893 | Train Acc: 44.8042704626% | Time: 6.90s\n",
            "Epoch 334/500 - Train Loss: 1.0773877377 | Train Acc: 44.9466192171% | Time: 6.88s\n",
            "Epoch 335/500 - Train Loss: 1.0723469967 | Train Acc: 44.7330960854% | Time: 6.83s\n",
            "Epoch 336/500 - Train Loss: 1.0694287987 | Train Acc: 45.0533807829% | Time: 6.81s\n",
            "Epoch 337/500 - Train Loss: 1.0706978319 | Train Acc: 44.9822064057% | Time: 6.90s\n",
            "Epoch 338/500 - Train Loss: 1.0764489875 | Train Acc: 43.3451957295% | Time: 6.90s\n",
            "Epoch 339/500 - Train Loss: 1.0718445258 | Train Acc: 43.9857651246% | Time: 6.88s\n",
            "Epoch 340/500 - Train Loss: 1.0718001930 | Train Acc: 44.7330960854% | Time: 6.89s\n",
            "Epoch 341/500 - Train Loss: 1.0715222868 | Train Acc: 44.1281138790% | Time: 6.88s\n",
            "Epoch 342/500 - Train Loss: 1.0791413703 | Train Acc: 43.7010676157% | Time: 6.88s\n",
            "Epoch 343/500 - Train Loss: 1.0683566195 | Train Acc: 44.7686832740% | Time: 6.88s\n",
            "Epoch 344/500 - Train Loss: 1.0728521642 | Train Acc: 44.3416370107% | Time: 6.81s\n",
            "Epoch 345/500 - Train Loss: 1.0746691868 | Train Acc: 45.2313167260% | Time: 6.83s\n",
            "Checkpoint saved at epoch 345 with Train Acc: 45.2313167260%\n",
            "Epoch 346/500 - Train Loss: 1.0734537489 | Train Acc: 44.2348754448% | Time: 6.86s\n",
            "Epoch 347/500 - Train Loss: 1.0778883125 | Train Acc: 43.8434163701% | Time: 6.86s\n",
            "Epoch 348/500 - Train Loss: 1.0748192190 | Train Acc: 43.8790035587% | Time: 6.89s\n",
            "Epoch 349/500 - Train Loss: 1.0695850518 | Train Acc: 44.7686832740% | Time: 6.83s\n",
            "Epoch 350/500 - Train Loss: 1.0718521351 | Train Acc: 44.8398576512% | Time: 6.80s\n",
            "Epoch 351/500 - Train Loss: 1.0791034934 | Train Acc: 43.9857651246% | Time: 6.77s\n",
            "Epoch 352/500 - Train Loss: 1.0760072163 | Train Acc: 43.4163701068% | Time: 6.83s\n",
            "Epoch 353/500 - Train Loss: 1.0711565125 | Train Acc: 45.0533807829% | Time: 6.81s\n",
            "Epoch 354/500 - Train Loss: 1.0776026730 | Train Acc: 43.6298932384% | Time: 6.87s\n",
            "Epoch 355/500 - Train Loss: 1.0733330386 | Train Acc: 44.6619217082% | Time: 6.87s\n",
            "Epoch 356/500 - Train Loss: 1.0731702138 | Train Acc: 43.7010676157% | Time: 6.79s\n",
            "Epoch 357/500 - Train Loss: 1.0715909929 | Train Acc: 44.4839857651% | Time: 6.82s\n",
            "Epoch 358/500 - Train Loss: 1.0684907849 | Train Acc: 44.8398576512% | Time: 6.90s\n",
            "Epoch 359/500 - Train Loss: 1.0718885238 | Train Acc: 44.3772241993% | Time: 6.90s\n",
            "Epoch 360/500 - Train Loss: 1.0746864175 | Train Acc: 44.1992882562% | Time: 6.92s\n",
            "Epoch 361/500 - Train Loss: 1.0688499176 | Train Acc: 44.3416370107% | Time: 6.93s\n",
            "Epoch 362/500 - Train Loss: 1.0762927186 | Train Acc: 44.0925266904% | Time: 6.93s\n",
            "Epoch 363/500 - Train Loss: 1.0752463695 | Train Acc: 44.3060498221% | Time: 6.92s\n",
            "Epoch 364/500 - Train Loss: 1.0722653706 | Train Acc: 44.7686832740% | Time: 6.91s\n",
            "Epoch 365/500 - Train Loss: 1.0700677363 | Train Acc: 44.8754448399% | Time: 6.79s\n",
            "Epoch 366/500 - Train Loss: 1.0701751359 | Train Acc: 44.6975088968% | Time: 6.85s\n",
            "Epoch 367/500 - Train Loss: 1.0730686728 | Train Acc: 44.7686832740% | Time: 6.77s\n",
            "Epoch 368/500 - Train Loss: 1.0728197683 | Train Acc: 44.1637010676% | Time: 6.87s\n",
            "Epoch 369/500 - Train Loss: 1.0714808370 | Train Acc: 44.8398576512% | Time: 6.90s\n",
            "Epoch 370/500 - Train Loss: 1.0722811953 | Train Acc: 44.6619217082% | Time: 6.88s\n",
            "Epoch 371/500 - Train Loss: 1.0690744923 | Train Acc: 44.6975088968% | Time: 6.90s\n",
            "Epoch 372/500 - Train Loss: 1.0757020376 | Train Acc: 43.4163701068% | Time: 6.91s\n",
            "Epoch 373/500 - Train Loss: 1.0734833453 | Train Acc: 44.6975088968% | Time: 6.82s\n",
            "Epoch 374/500 - Train Loss: 1.0746689102 | Train Acc: 44.9822064057% | Time: 6.88s\n",
            "Epoch 375/500 - Train Loss: 1.0699793799 | Train Acc: 44.7330960854% | Time: 6.88s\n",
            "Epoch 376/500 - Train Loss: 1.0694213010 | Train Acc: 44.3060498221% | Time: 6.88s\n",
            "Epoch 377/500 - Train Loss: 1.0725824207 | Train Acc: 44.5551601423% | Time: 6.88s\n",
            "Epoch 378/500 - Train Loss: 1.0686401755 | Train Acc: 44.8398576512% | Time: 6.86s\n",
            "Epoch 379/500 - Train Loss: 1.0771739887 | Train Acc: 44.7686832740% | Time: 6.89s\n",
            "Epoch 380/500 - Train Loss: 1.0695518116 | Train Acc: 44.8398576512% | Time: 6.92s\n",
            "Epoch 381/500 - Train Loss: 1.0739072077 | Train Acc: 44.2348754448% | Time: 6.88s\n",
            "Epoch 382/500 - Train Loss: 1.0781763276 | Train Acc: 44.1281138790% | Time: 6.90s\n",
            "Epoch 383/500 - Train Loss: 1.0697584014 | Train Acc: 44.6975088968% | Time: 6.92s\n",
            "Epoch 384/500 - Train Loss: 1.0700814432 | Train Acc: 44.8042704626% | Time: 6.90s\n",
            "Epoch 385/500 - Train Loss: 1.0741323751 | Train Acc: 44.6619217082% | Time: 6.90s\n",
            "Epoch 386/500 - Train Loss: 1.0719663199 | Train Acc: 44.9110320285% | Time: 6.83s\n",
            "Epoch 387/500 - Train Loss: 1.0753874276 | Train Acc: 44.2704626335% | Time: 6.85s\n",
            "Epoch 388/500 - Train Loss: 1.0663777005 | Train Acc: 44.6975088968% | Time: 6.79s\n",
            "Epoch 389/500 - Train Loss: 1.0752882843 | Train Acc: 44.7686832740% | Time: 6.87s\n",
            "Epoch 390/500 - Train Loss: 1.0815518996 | Train Acc: 43.5587188612% | Time: 6.90s\n",
            "Epoch 391/500 - Train Loss: 1.0710264957 | Train Acc: 44.0925266904% | Time: 6.89s\n",
            "Epoch 392/500 - Train Loss: 1.0718492059 | Train Acc: 44.8754448399% | Time: 6.86s\n",
            "Epoch 393/500 - Train Loss: 1.0718538992 | Train Acc: 44.4483985765% | Time: 6.86s\n",
            "Epoch 394/500 - Train Loss: 1.0729437495 | Train Acc: 44.2704626335% | Time: 6.89s\n",
            "Epoch 395/500 - Train Loss: 1.0728353735 | Train Acc: 44.8042704626% | Time: 6.80s\n",
            "Epoch 396/500 - Train Loss: 1.0694373239 | Train Acc: 45.1601423488% | Time: 6.89s\n",
            "Epoch 397/500 - Train Loss: 1.0752850964 | Train Acc: 43.3451957295% | Time: 6.87s\n",
            "Epoch 398/500 - Train Loss: 1.0682807992 | Train Acc: 45.1245551601% | Time: 6.83s\n",
            "Epoch 399/500 - Train Loss: 1.0740115356 | Train Acc: 45.0889679715% | Time: 6.80s\n",
            "Epoch 400/500 - Train Loss: 1.0706579084 | Train Acc: 44.8042704626% | Time: 6.79s\n",
            "Epoch 401/500 - Train Loss: 1.0700530594 | Train Acc: 44.9466192171% | Time: 6.90s\n",
            "Epoch 402/500 - Train Loss: 1.0706481523 | Train Acc: 44.4128113879% | Time: 6.90s\n",
            "Epoch 403/500 - Train Loss: 1.0703590635 | Train Acc: 44.9822064057% | Time: 6.89s\n",
            "Epoch 404/500 - Train Loss: 1.0712822020 | Train Acc: 44.7686832740% | Time: 6.78s\n",
            "Epoch 405/500 - Train Loss: 1.0697841042 | Train Acc: 44.4839857651% | Time: 6.82s\n",
            "Epoch 406/500 - Train Loss: 1.0712946810 | Train Acc: 44.5551601423% | Time: 6.87s\n",
            "Epoch 407/500 - Train Loss: 1.0750932430 | Train Acc: 43.4875444840% | Time: 6.89s\n",
            "Epoch 408/500 - Train Loss: 1.0711480959 | Train Acc: 44.7686832740% | Time: 6.91s\n",
            "Epoch 409/500 - Train Loss: 1.0736434978 | Train Acc: 45.1245551601% | Time: 6.91s\n",
            "Epoch 410/500 - Train Loss: 1.0684663088 | Train Acc: 44.6975088968% | Time: 6.89s\n",
            "Epoch 411/500 - Train Loss: 1.0772000404 | Train Acc: 43.9501779359% | Time: 6.83s\n",
            "Epoch 412/500 - Train Loss: 1.0681683403 | Train Acc: 44.8398576512% | Time: 6.91s\n",
            "Epoch 413/500 - Train Loss: 1.0728939112 | Train Acc: 44.7686832740% | Time: 6.91s\n",
            "Epoch 414/500 - Train Loss: 1.0725532531 | Train Acc: 44.7330960854% | Time: 6.86s\n",
            "Epoch 415/500 - Train Loss: 1.0707016466 | Train Acc: 44.1637010676% | Time: 6.82s\n",
            "Epoch 416/500 - Train Loss: 1.0705818125 | Train Acc: 44.9110320285% | Time: 6.77s\n",
            "Epoch 417/500 - Train Loss: 1.0702622704 | Train Acc: 44.7686832740% | Time: 6.85s\n",
            "Epoch 418/500 - Train Loss: 1.0741875883 | Train Acc: 44.3060498221% | Time: 6.90s\n",
            "Epoch 419/500 - Train Loss: 1.0686021358 | Train Acc: 44.8398576512% | Time: 6.91s\n",
            "Epoch 420/500 - Train Loss: 1.0701418002 | Train Acc: 44.4483985765% | Time: 6.90s\n",
            "Epoch 421/500 - Train Loss: 1.0755502747 | Train Acc: 45.0177935943% | Time: 6.91s\n",
            "Epoch 422/500 - Train Loss: 1.0712149212 | Train Acc: 44.8754448399% | Time: 6.89s\n",
            "Epoch 423/500 - Train Loss: 1.0756667666 | Train Acc: 44.3772241993% | Time: 6.90s\n",
            "Epoch 424/500 - Train Loss: 1.0682469684 | Train Acc: 44.5907473310% | Time: 6.91s\n",
            "Epoch 425/500 - Train Loss: 1.0681091184 | Train Acc: 44.9822064057% | Time: 6.89s\n",
            "Epoch 426/500 - Train Loss: 1.0709775060 | Train Acc: 44.4839857651% | Time: 6.81s\n",
            "Epoch 427/500 - Train Loss: 1.0751432376 | Train Acc: 44.1281138790% | Time: 6.80s\n",
            "Epoch 428/500 - Train Loss: 1.0762593420 | Train Acc: 41.9217081851% | Time: 6.85s\n",
            "Epoch 429/500 - Train Loss: 1.0719700959 | Train Acc: 44.7330960854% | Time: 6.86s\n",
            "Epoch 430/500 - Train Loss: 1.0763570526 | Train Acc: 44.0569395018% | Time: 6.77s\n",
            "Epoch 431/500 - Train Loss: 1.0678879651 | Train Acc: 45.0177935943% | Time: 6.86s\n",
            "Epoch 432/500 - Train Loss: 1.0699234576 | Train Acc: 44.7686832740% | Time: 6.78s\n",
            "Epoch 433/500 - Train Loss: 1.0722952339 | Train Acc: 44.8398576512% | Time: 6.89s\n",
            "Epoch 434/500 - Train Loss: 1.0737280899 | Train Acc: 44.6263345196% | Time: 6.88s\n",
            "Epoch 435/500 - Train Loss: 1.0718615708 | Train Acc: 45.0889679715% | Time: 6.80s\n",
            "Epoch 436/500 - Train Loss: 1.0704525234 | Train Acc: 44.9110320285% | Time: 6.80s\n",
            "Epoch 437/500 - Train Loss: 1.0673771974 | Train Acc: 44.9822064057% | Time: 6.76s\n",
            "Epoch 438/500 - Train Loss: 1.0746419940 | Train Acc: 44.8754448399% | Time: 6.79s\n",
            "Epoch 439/500 - Train Loss: 1.0712430335 | Train Acc: 44.2704626335% | Time: 6.81s\n",
            "Epoch 440/500 - Train Loss: 1.0716311956 | Train Acc: 44.4128113879% | Time: 6.90s\n",
            "Epoch 441/500 - Train Loss: 1.0760909131 | Train Acc: 44.3416370107% | Time: 6.79s\n",
            "Epoch 442/500 - Train Loss: 1.0723056633 | Train Acc: 44.8754448399% | Time: 6.81s\n",
            "Epoch 443/500 - Train Loss: 1.0759026797 | Train Acc: 43.9501779359% | Time: 6.85s\n",
            "Epoch 444/500 - Train Loss: 1.0708479201 | Train Acc: 44.5195729537% | Time: 6.82s\n",
            "Epoch 445/500 - Train Loss: 1.0687997188 | Train Acc: 44.4483985765% | Time: 6.85s\n",
            "Epoch 446/500 - Train Loss: 1.0726355277 | Train Acc: 44.9822064057% | Time: 6.78s\n",
            "Epoch 447/500 - Train Loss: 1.0672312765 | Train Acc: 44.9466192171% | Time: 6.91s\n",
            "Epoch 448/500 - Train Loss: 1.0739188854 | Train Acc: 44.0569395018% | Time: 6.87s\n",
            "Epoch 449/500 - Train Loss: 1.0705693936 | Train Acc: 44.1637010676% | Time: 6.85s\n",
            "Epoch 450/500 - Train Loss: 1.0735275921 | Train Acc: 43.8078291815% | Time: 6.81s\n",
            "Epoch 451/500 - Train Loss: 1.0681577828 | Train Acc: 45.0177935943% | Time: 6.79s\n",
            "Epoch 452/500 - Train Loss: 1.0763050031 | Train Acc: 44.9822064057% | Time: 6.84s\n",
            "Epoch 453/500 - Train Loss: 1.0730388471 | Train Acc: 44.3416370107% | Time: 6.77s\n",
            "Epoch 454/500 - Train Loss: 1.0679430965 | Train Acc: 44.8042704626% | Time: 6.87s\n",
            "Epoch 455/500 - Train Loss: 1.0701766270 | Train Acc: 44.8042704626% | Time: 6.89s\n",
            "Epoch 456/500 - Train Loss: 1.0763146797 | Train Acc: 44.1992882562% | Time: 6.91s\n",
            "Epoch 457/500 - Train Loss: 1.0757826087 | Train Acc: 44.5195729537% | Time: 6.91s\n",
            "Epoch 458/500 - Train Loss: 1.0737437140 | Train Acc: 43.9145907473% | Time: 6.87s\n",
            "Epoch 459/500 - Train Loss: 1.0728327083 | Train Acc: 44.4839857651% | Time: 6.81s\n",
            "Epoch 460/500 - Train Loss: 1.0807870572 | Train Acc: 43.7010676157% | Time: 6.78s\n",
            "Epoch 461/500 - Train Loss: 1.0704259986 | Train Acc: 44.6619217082% | Time: 6.88s\n",
            "Epoch 462/500 - Train Loss: 1.0716493011 | Train Acc: 44.2348754448% | Time: 6.89s\n",
            "Epoch 463/500 - Train Loss: 1.0774093673 | Train Acc: 44.6975088968% | Time: 6.78s\n",
            "Epoch 464/500 - Train Loss: 1.0656070484 | Train Acc: 44.7686832740% | Time: 6.82s\n",
            "Epoch 465/500 - Train Loss: 1.0716614066 | Train Acc: 44.6263345196% | Time: 6.79s\n",
            "Epoch 466/500 - Train Loss: 1.0810595870 | Train Acc: 42.6334519573% | Time: 6.81s\n",
            "Epoch 467/500 - Train Loss: 1.0731534260 | Train Acc: 43.9145907473% | Time: 6.77s\n",
            "Epoch 468/500 - Train Loss: 1.0719462018 | Train Acc: 44.1281138790% | Time: 6.88s\n",
            "Epoch 469/500 - Train Loss: 1.0730720263 | Train Acc: 44.3416370107% | Time: 6.91s\n",
            "Epoch 470/500 - Train Loss: 1.0712637512 | Train Acc: 44.8754448399% | Time: 6.84s\n",
            "Epoch 471/500 - Train Loss: 1.0737007486 | Train Acc: 43.4875444840% | Time: 6.80s\n",
            "Epoch 472/500 - Train Loss: 1.0745711919 | Train Acc: 43.4875444840% | Time: 6.88s\n",
            "Epoch 473/500 - Train Loss: 1.0739610389 | Train Acc: 44.1281138790% | Time: 6.84s\n",
            "Epoch 474/500 - Train Loss: 1.0694240655 | Train Acc: 44.2348754448% | Time: 6.79s\n",
            "Epoch 475/500 - Train Loss: 1.0713373117 | Train Acc: 44.1637010676% | Time: 6.79s\n",
            "Epoch 476/500 - Train Loss: 1.0714431068 | Train Acc: 44.6619217082% | Time: 6.82s\n",
            "Epoch 477/500 - Train Loss: 1.0676258998 | Train Acc: 44.6263345196% | Time: 6.89s\n",
            "Epoch 478/500 - Train Loss: 1.0702811573 | Train Acc: 44.8042704626% | Time: 6.87s\n",
            "Epoch 479/500 - Train Loss: 1.0789823547 | Train Acc: 44.8398576512% | Time: 6.85s\n",
            "Epoch 480/500 - Train Loss: 1.0708547053 | Train Acc: 44.8042704626% | Time: 6.82s\n",
            "Epoch 481/500 - Train Loss: 1.0705074376 | Train Acc: 44.4839857651% | Time: 6.90s\n",
            "Epoch 482/500 - Train Loss: 1.0714611748 | Train Acc: 44.1637010676% | Time: 6.85s\n",
            "Epoch 483/500 - Train Loss: 1.0694817740 | Train Acc: 44.8042704626% | Time: 6.81s\n",
            "Epoch 484/500 - Train Loss: 1.0706746281 | Train Acc: 43.9145907473% | Time: 6.84s\n",
            "Epoch 485/500 - Train Loss: 1.0746260961 | Train Acc: 43.9145907473% | Time: 6.90s\n",
            "Epoch 486/500 - Train Loss: 1.0695722481 | Train Acc: 44.3060498221% | Time: 6.86s\n",
            "Epoch 487/500 - Train Loss: 1.0687485544 | Train Acc: 44.0569395018% | Time: 6.83s\n",
            "Epoch 488/500 - Train Loss: 1.0754888857 | Train Acc: 43.4163701068% | Time: 6.76s\n",
            "Epoch 489/500 - Train Loss: 1.0726581393 | Train Acc: 44.7686832740% | Time: 6.86s\n",
            "Epoch 490/500 - Train Loss: 1.0736517882 | Train Acc: 44.5907473310% | Time: 6.85s\n",
            "Epoch 491/500 - Train Loss: 1.0700753480 | Train Acc: 44.8042704626% | Time: 6.84s\n",
            "Epoch 492/500 - Train Loss: 1.0666452009 | Train Acc: 45.0177935943% | Time: 6.89s\n",
            "Epoch 493/500 - Train Loss: 1.0799102924 | Train Acc: 43.6654804270% | Time: 6.91s\n",
            "Epoch 494/500 - Train Loss: 1.0714198803 | Train Acc: 45.0177935943% | Time: 6.92s\n",
            "Epoch 495/500 - Train Loss: 1.0680891520 | Train Acc: 44.9822064057% | Time: 6.81s\n",
            "Epoch 496/500 - Train Loss: 1.0732105359 | Train Acc: 44.5195729537% | Time: 6.81s\n",
            "Epoch 497/500 - Train Loss: 1.0700473275 | Train Acc: 44.4839857651% | Time: 6.85s\n",
            "Epoch 498/500 - Train Loss: 1.0694164856 | Train Acc: 44.8042704626% | Time: 6.84s\n",
            "Epoch 499/500 - Train Loss: 1.0679176023 | Train Acc: 43.9501779359% | Time: 6.79s\n",
            "Epoch 500/500 - Train Loss: 1.0764915069 | Train Acc: 44.3416370107% | Time: 6.86s\n",
            "Classifier training complete!\n"
          ]
        }
      ]
    },
    {
      "cell_type": "code",
      "source": [
        "from google.colab import output\n",
        "output.eval_js('google.colab.kernel.disconnect()')"
      ],
      "metadata": {
        "id": "OfvaWDggmMKX"
      },
      "execution_count": null,
      "outputs": []
    },
    {
      "cell_type": "code",
      "source": [
        "!kill -9 -1"
      ],
      "metadata": {
        "id": "TDqi8kpNuRWV"
      },
      "execution_count": null,
      "outputs": []
    }
  ]
}