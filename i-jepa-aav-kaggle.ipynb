{
 "cells": [
  {
   "cell_type": "code",
   "execution_count": 1,
   "id": "48e37c78",
   "metadata": {
    "_cell_guid": "1b74e769-17ce-492e-bbf7-eb90938bae5d",
    "_uuid": "ab0f765f-50d0-4e71-934b-69036f927618",
    "collapsed": false,
    "execution": {
     "iopub.execute_input": "2025-04-01T01:42:39.375272Z",
     "iopub.status.busy": "2025-04-01T01:42:39.374981Z",
     "iopub.status.idle": "2025-04-01T01:43:04.747568Z",
     "shell.execute_reply": "2025-04-01T01:43:04.746654Z"
    },
    "id": "7Qm5o5BpuTyt",
    "jupyter": {
     "outputs_hidden": false
    },
    "papermill": {
     "duration": 25.37936,
     "end_time": "2025-04-01T01:43:04.749125",
     "exception": false,
     "start_time": "2025-04-01T01:42:39.369765",
     "status": "completed"
    },
    "tags": []
   },
   "outputs": [],
   "source": [
    "from google.colab import drive\n",
    "from torchvision import datasets, transforms\n",
    "from torch.utils.data import DataLoader, random_split\n",
    "from transformers import ViTForImageClassification, ViTImageProcessor\n",
    "from collections import Counter\n",
    "import torch.nn.functional as F\n",
    "import numpy as np\n",
    "import torch\n",
    "import torch.nn as nn\n",
    "import torch.optim as optim\n",
    "import torch.optim as optim\n",
    "import time\n",
    "from tqdm import tqdm\n",
    "import torch\n",
    "import timm\n",
    "import matplotlib.pyplot as plt\n",
    "import copy\n",
    "from torchvision.models import vit_b_16\n",
    "from collections import Counter\n",
    "from tqdm import tqdm # for progress bar\n",
    "import random\n",
    "import os"
   ]
  },
  {
   "cell_type": "code",
   "execution_count": 2,
   "id": "18b767fc",
   "metadata": {
    "_cell_guid": "d0758325-ed5a-4988-b20a-51539395a900",
    "_uuid": "b02bcb6e-1d67-4b0c-9d11-a22f3ab07a61",
    "collapsed": false,
    "execution": {
     "iopub.execute_input": "2025-04-01T01:43:04.757332Z",
     "iopub.status.busy": "2025-04-01T01:43:04.757101Z",
     "iopub.status.idle": "2025-04-01T01:43:04.760372Z",
     "shell.execute_reply": "2025-04-01T01:43:04.759568Z"
    },
    "id": "Gxnc6znruQbZ",
    "jupyter": {
     "outputs_hidden": false
    },
    "outputId": "cd3e4062-2a7d-4ea5-bffc-08f8fe8d51b5",
    "papermill": {
     "duration": 0.008472,
     "end_time": "2025-04-01T01:43:04.761527",
     "exception": false,
     "start_time": "2025-04-01T01:43:04.753055",
     "status": "completed"
    },
    "tags": []
   },
   "outputs": [],
   "source": [
    "#drive.mount('/content/drive')"
   ]
  },
  {
   "cell_type": "code",
   "execution_count": 3,
   "id": "5af8382d",
   "metadata": {
    "_cell_guid": "cfbd3054-08ff-4e37-a1dd-a9816ded260d",
    "_uuid": "2bb0d814-c433-4069-b2de-b8afb06f8c33",
    "collapsed": false,
    "execution": {
     "iopub.execute_input": "2025-04-01T01:43:04.769010Z",
     "iopub.status.busy": "2025-04-01T01:43:04.768800Z",
     "iopub.status.idle": "2025-04-01T01:43:07.858001Z",
     "shell.execute_reply": "2025-04-01T01:43:07.857043Z"
    },
    "id": "fKthbkn-t67J",
    "jupyter": {
     "outputs_hidden": false
    },
    "papermill": {
     "duration": 3.09462,
     "end_time": "2025-04-01T01:43:07.859519",
     "exception": false,
     "start_time": "2025-04-01T01:43:04.764899",
     "status": "completed"
    },
    "tags": []
   },
   "outputs": [],
   "source": [
    "data_dir = '/kaggle/input/aav-spectrogram/spectrogram'\n",
    "transform = transforms.Compose([\n",
    "    transforms.Resize((224, 224)),\n",
    "    transforms.ToTensor(),\n",
    "    transforms.Normalize(mean=[0.5], std=[0.5])\n",
    "])\n",
    "\n",
    "dataset = datasets.ImageFolder(root=data_dir, transform=transform)\n",
    "dataloader = DataLoader(dataset, batch_size=16, shuffle=True)"
   ]
  },
  {
   "cell_type": "code",
   "execution_count": 4,
   "id": "bb5062be",
   "metadata": {
    "_cell_guid": "a8f3ba24-1e87-429a-bbee-4909d3832d58",
    "_uuid": "5d688a1b-2546-4240-bbb7-5aec8d108cfc",
    "collapsed": false,
    "execution": {
     "iopub.execute_input": "2025-04-01T01:43:07.869349Z",
     "iopub.status.busy": "2025-04-01T01:43:07.869106Z",
     "iopub.status.idle": "2025-04-01T01:43:08.111386Z",
     "shell.execute_reply": "2025-04-01T01:43:08.110389Z"
    },
    "id": "C9kEg-mIKiF3",
    "jupyter": {
     "outputs_hidden": false
    },
    "outputId": "139cb538-a806-4b6b-cd22-75e8785de5f5",
    "papermill": {
     "duration": 0.248388,
     "end_time": "2025-04-01T01:43:08.112857",
     "exception": false,
     "start_time": "2025-04-01T01:43:07.864469",
     "status": "completed"
    },
    "tags": []
   },
   "outputs": [
    {
     "name": "stdout",
     "output_type": "stream",
     "text": [
      "Batch shape: torch.Size([16, 3, 224, 224])\n"
     ]
    }
   ],
   "source": [
    "# Test loading\n",
    "images, labels = next(iter(dataloader))\n",
    "print(\"Batch shape:\", images.shape)  # Should be [B, C, 224, 224]"
   ]
  },
  {
   "cell_type": "code",
   "execution_count": 5,
   "id": "ddc46856",
   "metadata": {
    "_cell_guid": "577f43b2-192c-4d42-9928-3612f02483bc",
    "_uuid": "ebcd8a59-646f-41d1-98a2-6111730750c6",
    "collapsed": false,
    "execution": {
     "iopub.execute_input": "2025-04-01T01:43:08.121157Z",
     "iopub.status.busy": "2025-04-01T01:43:08.120904Z",
     "iopub.status.idle": "2025-04-01T01:43:08.125383Z",
     "shell.execute_reply": "2025-04-01T01:43:08.124583Z"
    },
    "id": "N2As1-TPux9B",
    "jupyter": {
     "outputs_hidden": false
    },
    "papermill": {
     "duration": 0.009904,
     "end_time": "2025-04-01T01:43:08.126656",
     "exception": false,
     "start_time": "2025-04-01T01:43:08.116752",
     "status": "completed"
    },
    "tags": []
   },
   "outputs": [],
   "source": [
    "batch_size = 32\n",
    "train_size = int(0.8 * len(dataset))\n",
    "val_size = len(dataset) - train_size\n",
    "train_dataset, val_dataset = random_split(dataset, [train_size, val_size])\n",
    "\n",
    "train_loader = DataLoader(train_dataset, batch_size=batch_size, shuffle=True)\n",
    "val_loader = DataLoader(val_dataset, batch_size=batch_size)"
   ]
  },
  {
   "cell_type": "code",
   "execution_count": 6,
   "id": "4233bfbe",
   "metadata": {
    "_cell_guid": "551e8024-3177-4665-896d-27a3497990e0",
    "_uuid": "7b5e6218-b07f-4701-a372-28b857d114d6",
    "collapsed": false,
    "execution": {
     "iopub.execute_input": "2025-04-01T01:43:08.134530Z",
     "iopub.status.busy": "2025-04-01T01:43:08.134295Z",
     "iopub.status.idle": "2025-04-01T01:43:08.417813Z",
     "shell.execute_reply": "2025-04-01T01:43:08.416950Z"
    },
    "id": "rRDzaHnJKw9k",
    "jupyter": {
     "outputs_hidden": false
    },
    "outputId": "99d5d47d-b3e1-4662-ae06-b13334f1100b",
    "papermill": {
     "duration": 0.289218,
     "end_time": "2025-04-01T01:43:08.419507",
     "exception": false,
     "start_time": "2025-04-01T01:43:08.130289",
     "status": "completed"
    },
    "tags": []
   },
   "outputs": [
    {
     "data": {
      "image/png": "[encoded data removed]",
      "text/plain": [
       "<Figure size 1000x400 with 6 Axes>"
      ]
     },
     "metadata": {},
     "output_type": "display_data"
    }
   ],
   "source": [
    "plt.figure(figsize=(10, 4))\n",
    "for i in range(6):\n",
    "    img = images[i].permute(1, 2, 0) * 0.5 + 0.5  # Unnormalize\n",
    "    plt.subplot(2, 3, i+1)\n",
    "    plt.imshow(img.squeeze(), cmap='viridis')\n",
    "    plt.axis('off')\n",
    "plt.suptitle(\"Sample Spectrograms (Resized to 224Ã—224)\")\n",
    "plt.tight_layout()\n",
    "plt.show()"
   ]
  },
  {
   "cell_type": "code",
   "execution_count": 7,
   "id": "449d13a6",
   "metadata": {
    "_cell_guid": "68672c2b-407b-42e6-a744-2523bf327831",
    "_uuid": "c9b49613-e5e4-4a6f-ae14-7287ae13e3a4",
    "collapsed": false,
    "execution": {
     "iopub.execute_input": "2025-04-01T01:43:08.430680Z",
     "iopub.status.busy": "2025-04-01T01:43:08.430415Z",
     "iopub.status.idle": "2025-04-01T01:43:08.434171Z",
     "shell.execute_reply": "2025-04-01T01:43:08.433578Z"
    },
    "jupyter": {
     "outputs_hidden": false
    },
    "papermill": {
     "duration": 0.010485,
     "end_time": "2025-04-01T01:43:08.435309",
     "exception": false,
     "start_time": "2025-04-01T01:43:08.424824",
     "status": "completed"
    },
    "tags": []
   },
   "outputs": [],
   "source": [
    "\n",
    "\n",
    "def count_images_per_class(train_loader):\n",
    "    \"\"\"Counts the number of images per class in a train_loader.\n",
    "\n",
    "    Args:\n",
    "        train_loader: The DataLoader for the training dataset.\n",
    "\n",
    "    Returns:\n",
    "        A dictionary where keys are class labels and values are the corresponding counts.\n",
    "    \"\"\"\n",
    "\n",
    "    all_labels = []\n",
    "    for images, labels in tqdm(train_loader, desc=\"Counting images per class\"):\n",
    "        all_labels.extend(labels.tolist())  # Extend the list with labels from the batch\n",
    "\n",
    "    class_counts = Counter(all_labels)  # Count occurrences of each label\n",
    "\n",
    "    return class_counts"
   ]
  },
  {
   "cell_type": "code",
   "execution_count": 8,
   "id": "1546dcec",
   "metadata": {
    "_cell_guid": "46c3eb6b-6513-46a0-a732-946df9564d7e",
    "_uuid": "3e31c353-e70e-4e37-a58f-1a4d5ffab8d1",
    "collapsed": false,
    "execution": {
     "iopub.execute_input": "2025-04-01T01:43:08.445907Z",
     "iopub.status.busy": "2025-04-01T01:43:08.445699Z",
     "iopub.status.idle": "2025-04-01T01:43:08.448209Z",
     "shell.execute_reply": "2025-04-01T01:43:08.447623Z"
    },
    "jupyter": {
     "outputs_hidden": false
    },
    "papermill": {
     "duration": 0.009115,
     "end_time": "2025-04-01T01:43:08.449355",
     "exception": false,
     "start_time": "2025-04-01T01:43:08.440240",
     "status": "completed"
    },
    "tags": []
   },
   "outputs": [],
   "source": [
    "# Get the counts and print them\n",
    "#class_counts = count_images_per_class(train_loader)\n",
    "\n",
    "#print(\"Images per class in train_loader:\")\n",
    "#for class_label, count in class_counts.items():\n",
    "#    print(f\"Class {class_label}: {count} images\")"
   ]
  },
  {
   "cell_type": "code",
   "execution_count": 9,
   "id": "40995afc",
   "metadata": {
    "_cell_guid": "a8f02f58-fcb6-4234-9407-45f1c6e3e11e",
    "_uuid": "f66b9f67-0023-42ea-bea2-456f7146ab2e",
    "collapsed": false,
    "execution": {
     "iopub.execute_input": "2025-04-01T01:43:08.460590Z",
     "iopub.status.busy": "2025-04-01T01:43:08.460351Z",
     "iopub.status.idle": "2025-04-01T01:43:08.462962Z",
     "shell.execute_reply": "2025-04-01T01:43:08.462358Z"
    },
    "jupyter": {
     "outputs_hidden": false
    },
    "papermill": {
     "duration": 0.009682,
     "end_time": "2025-04-01T01:43:08.464140",
     "exception": false,
     "start_time": "2025-04-01T01:43:08.454458",
     "status": "completed"
    },
    "tags": []
   },
   "outputs": [],
   "source": [
    "# Get the counts and print them\n",
    "#class_counts = count_images_per_class(val_loader)\n",
    "\n",
    "#print(\"Images per class in train_loader:\")\n",
    "#for class_label, count in class_counts.items():\n",
    "#    print(f\"Class {class_label}: {count} images\")"
   ]
  },
  {
   "cell_type": "code",
   "execution_count": 10,
   "id": "e039ee45",
   "metadata": {
    "_cell_guid": "88bb8d1b-8f77-4ef0-9561-13154dfc48ed",
    "_uuid": "472ec271-36da-4330-89d9-beef8fa03a65",
    "collapsed": false,
    "execution": {
     "iopub.execute_input": "2025-04-01T01:43:08.474968Z",
     "iopub.status.busy": "2025-04-01T01:43:08.474738Z",
     "iopub.status.idle": "2025-04-01T01:43:08.480581Z",
     "shell.execute_reply": "2025-04-01T01:43:08.479869Z"
    },
    "jupyter": {
     "outputs_hidden": false
    },
    "papermill": {
     "duration": 0.012461,
     "end_time": "2025-04-01T01:43:08.481689",
     "exception": false,
     "start_time": "2025-04-01T01:43:08.469228",
     "status": "completed"
    },
    "tags": []
   },
   "outputs": [],
   "source": [
    "def extract_blocks(image, context_scale=0.85, target_scale=0.2, num_targets=4, max_overlap=0.5):\n",
    "    # Extract a central context block.\n",
    "    _, H, W = image.shape\n",
    "    context_size = int(context_scale * H)\n",
    "    top = (H - context_size) // 2\n",
    "    left = (W - context_size) // 2\n",
    "    context_block = image[:, top:top+context_size, left:left+context_size]\n",
    "    context_block = torch.nn.functional.interpolate(context_block.unsqueeze(0), size=(224, 224), mode='bilinear', align_corners=False).squeeze(0)\n",
    "    \n",
    "    # Extract num_targets target blocks randomly.\n",
    "    target_blocks = []\n",
    "    for _ in range(num_targets):\n",
    "        target_size = int(target_scale * H)\n",
    "        top_t = random.randint(0, H - target_size)\n",
    "        left_t = random.randint(0, W - target_size)\n",
    "        target_block = image[:, top_t:top_t+target_size, left_t:left_t+target_size]\n",
    "        target_block = torch.nn.functional.interpolate(target_block.unsqueeze(0), size=(224, 224), mode='bilinear', align_corners=False).squeeze(0)\n",
    "        target_blocks.append(target_block)\n",
    "    target_blocks = torch.stack(target_blocks)\n",
    "    return context_block, target_blocks, (top, left, context_size), None"
   ]
  },
  {
   "cell_type": "code",
   "execution_count": 11,
   "id": "7ab27983",
   "metadata": {
    "_cell_guid": "208fc17d-fc86-444d-9d21-464f592a9cd0",
    "_uuid": "772f2dc6-6685-4a8d-beda-dc9089423fbf",
    "collapsed": false,
    "execution": {
     "iopub.execute_input": "2025-04-01T01:43:08.492411Z",
     "iopub.status.busy": "2025-04-01T01:43:08.492190Z",
     "iopub.status.idle": "2025-04-01T01:43:08.496479Z",
     "shell.execute_reply": "2025-04-01T01:43:08.495724Z"
    },
    "jupyter": {
     "outputs_hidden": false
    },
    "papermill": {
     "duration": 0.010948,
     "end_time": "2025-04-01T01:43:08.497626",
     "exception": false,
     "start_time": "2025-04-01T01:43:08.486678",
     "status": "completed"
    },
    "tags": []
   },
   "outputs": [],
   "source": [
    "class IJEPADataset(torch.utils.data.Dataset):\n",
    "    def __init__(self, base_dataset, context_scale=0.85, target_scale=0.2, num_targets=4):\n",
    "        self.base_dataset = base_dataset\n",
    "        self.context_scale = context_scale\n",
    "        self.target_scale = target_scale\n",
    "        self.num_targets = num_targets\n",
    "        \n",
    "    def __len__(self):\n",
    "        return len(self.base_dataset)\n",
    "    \n",
    "    def __getitem__(self, idx):\n",
    "        image, label = self.base_dataset[idx]\n",
    "        context_block, target_blocks, _, _ = extract_blocks(image, self.context_scale, self.target_scale, self.num_targets)\n",
    "        return context_block, target_blocks, label"
   ]
  },
  {
   "cell_type": "code",
   "execution_count": 12,
   "id": "6fdedff2",
   "metadata": {
    "_cell_guid": "db9f91fa-4c3f-4929-a2d0-2569fce8e7d6",
    "_uuid": "67fe58d3-5076-436c-99b4-5350a172b545",
    "collapsed": false,
    "execution": {
     "iopub.execute_input": "2025-04-01T01:43:08.508462Z",
     "iopub.status.busy": "2025-04-01T01:43:08.508245Z",
     "iopub.status.idle": "2025-04-01T01:43:08.511939Z",
     "shell.execute_reply": "2025-04-01T01:43:08.511163Z"
    },
    "jupyter": {
     "outputs_hidden": false
    },
    "papermill": {
     "duration": 0.010303,
     "end_time": "2025-04-01T01:43:08.513082",
     "exception": false,
     "start_time": "2025-04-01T01:43:08.502779",
     "status": "completed"
    },
    "tags": []
   },
   "outputs": [],
   "source": [
    "train_ijepa_dataset = IJEPADataset(train_dataset)\n",
    "val_ijepa_dataset   = IJEPADataset(val_dataset)\n",
    "\n",
    "\n",
    "train_loader = DataLoader(train_ijepa_dataset, batch_size=32, shuffle=False)\n",
    "val_loader   = DataLoader(val_ijepa_dataset, batch_size=32, shuffle=False)"
   ]
  },
  {
   "cell_type": "code",
   "execution_count": 13,
   "id": "bf0ad95a",
   "metadata": {
    "_cell_guid": "7aeb9d44-2fd8-4da1-87c0-4b992adb53db",
    "_uuid": "f3ad3daa-80ba-4ae8-8b4e-770815bad02e",
    "collapsed": false,
    "execution": {
     "iopub.execute_input": "2025-04-01T01:43:08.524050Z",
     "iopub.status.busy": "2025-04-01T01:43:08.523854Z",
     "iopub.status.idle": "2025-04-01T01:43:08.526924Z",
     "shell.execute_reply": "2025-04-01T01:43:08.526336Z"
    },
    "jupyter": {
     "outputs_hidden": false
    },
    "papermill": {
     "duration": 0.009804,
     "end_time": "2025-04-01T01:43:08.528095",
     "exception": false,
     "start_time": "2025-04-01T01:43:08.518291",
     "status": "completed"
    },
    "tags": []
   },
   "outputs": [],
   "source": [
    "def get_vit_encoder():\n",
    "    model = vit_b_16(pretrained=False)\n",
    "    model.heads = nn.Identity()  # remove classification head\n",
    "    return model"
   ]
  },
  {
   "cell_type": "code",
   "execution_count": 14,
   "id": "e2fd6d1c",
   "metadata": {
    "_cell_guid": "2d8198b7-dbf5-4228-975a-8c733cea1a07",
    "_uuid": "b79e21b1-3b97-4dfc-958f-bddb3c94c746",
    "collapsed": false,
    "execution": {
     "iopub.execute_input": "2025-04-01T01:43:08.539066Z",
     "iopub.status.busy": "2025-04-01T01:43:08.538871Z",
     "iopub.status.idle": "2025-04-01T01:43:11.083180Z",
     "shell.execute_reply": "2025-04-01T01:43:11.082368Z"
    },
    "jupyter": {
     "outputs_hidden": false
    },
    "papermill": {
     "duration": 2.551331,
     "end_time": "2025-04-01T01:43:11.084651",
     "exception": false,
     "start_time": "2025-04-01T01:43:08.533320",
     "status": "completed"
    },
    "tags": []
   },
   "outputs": [
    {
     "name": "stderr",
     "output_type": "stream",
     "text": [
      "/usr/local/lib/python3.10/dist-packages/torchvision/models/_utils.py:208: UserWarning: The parameter 'pretrained' is deprecated since 0.13 and may be removed in the future, please use 'weights' instead.\n",
      "  warnings.warn(\n",
      "/usr/local/lib/python3.10/dist-packages/torchvision/models/_utils.py:223: UserWarning: Arguments other than a weight enum or `None` for 'weights' are deprecated since 0.13 and may be removed in the future. The current behavior is equivalent to passing `weights=None`.\n",
      "  warnings.warn(msg)\n"
     ]
    },
    {
     "data": {
      "text/plain": [
       "<All keys matched successfully>"
      ]
     },
     "execution_count": 14,
     "metadata": {},
     "output_type": "execute_result"
    }
   ],
   "source": [
    "\n",
    "context_encoder = get_vit_encoder().cuda()\n",
    "target_encoder  = get_vit_encoder().cuda()\n",
    "target_encoder.load_state_dict(context_encoder.state_dict())"
   ]
  },
  {
   "cell_type": "code",
   "execution_count": 15,
   "id": "1f417e3b",
   "metadata": {
    "_cell_guid": "9206cc42-0845-4604-ab30-6852e28e2dcb",
    "_uuid": "e303f4ac-a09b-4f56-b997-6b364d63a675",
    "collapsed": false,
    "execution": {
     "iopub.execute_input": "2025-04-01T01:43:11.096866Z",
     "iopub.status.busy": "2025-04-01T01:43:11.096594Z",
     "iopub.status.idle": "2025-04-01T01:43:11.100811Z",
     "shell.execute_reply": "2025-04-01T01:43:11.100200Z"
    },
    "jupyter": {
     "outputs_hidden": false
    },
    "papermill": {
     "duration": 0.011505,
     "end_time": "2025-04-01T01:43:11.101919",
     "exception": false,
     "start_time": "2025-04-01T01:43:11.090414",
     "status": "completed"
    },
    "tags": []
   },
   "outputs": [],
   "source": [
    "class Predictor(nn.Module):\n",
    "    def __init__(self, input_dim=768, hidden_dim=768, output_dim=768, num_targets=4):\n",
    "        super().__init__()\n",
    "        self.num_targets = num_targets\n",
    "        self.mlp = nn.Sequential(\n",
    "            nn.Linear(input_dim, hidden_dim),\n",
    "            nn.ReLU(),\n",
    "            nn.Linear(hidden_dim, output_dim * num_targets)\n",
    "        )\n",
    "    def forward(self, context_repr):\n",
    "        pred = self.mlp(context_repr)\n",
    "        # Reshape to [B, num_targets, output_dim]\n",
    "        return pred.view(-1, self.num_targets, pred.size(-1) // self.num_targets)"
   ]
  },
  {
   "cell_type": "code",
   "execution_count": 16,
   "id": "c2f19c3c",
   "metadata": {
    "_cell_guid": "e10ef302-1659-4a97-9bbb-2de90ac902c9",
    "_uuid": "66d2337f-fb52-4652-9da7-242ce9d9d5e1",
    "collapsed": false,
    "execution": {
     "iopub.execute_input": "2025-04-01T01:43:11.113497Z",
     "iopub.status.busy": "2025-04-01T01:43:11.113266Z",
     "iopub.status.idle": "2025-04-01T01:43:11.138209Z",
     "shell.execute_reply": "2025-04-01T01:43:11.137355Z"
    },
    "jupyter": {
     "outputs_hidden": false
    },
    "papermill": {
     "duration": 0.032325,
     "end_time": "2025-04-01T01:43:11.139681",
     "exception": false,
     "start_time": "2025-04-01T01:43:11.107356",
     "status": "completed"
    },
    "tags": []
   },
   "outputs": [],
   "source": [
    "# 6. Set up optimizer, loss, and EMA update (same as your CIFAR code).\n",
    "predictor = Predictor().cuda()\n",
    "optimizer = optim.Adam(list(context_encoder.parameters()) + list(predictor.parameters()), lr=1e-3)\n",
    "criterion = nn.MSELoss()\n",
    "ema_decay = 0.99"
   ]
  },
  {
   "cell_type": "code",
   "execution_count": 17,
   "id": "9e4e381e",
   "metadata": {
    "_cell_guid": "aece458a-d1da-4334-804f-b054cf8ed0fc",
    "_uuid": "0e90599a-d03d-4231-a58a-1272a3613cc3",
    "collapsed": false,
    "execution": {
     "iopub.execute_input": "2025-04-01T01:43:11.151525Z",
     "iopub.status.busy": "2025-04-01T01:43:11.151304Z",
     "iopub.status.idle": "2025-04-01T01:43:11.154873Z",
     "shell.execute_reply": "2025-04-01T01:43:11.154274Z"
    },
    "jupyter": {
     "outputs_hidden": false
    },
    "papermill": {
     "duration": 0.010708,
     "end_time": "2025-04-01T01:43:11.156119",
     "exception": false,
     "start_time": "2025-04-01T01:43:11.145411",
     "status": "completed"
    },
    "tags": []
   },
   "outputs": [],
   "source": [
    "@torch.no_grad()\n",
    "def update_ema(model, model_ema, beta):\n",
    "    for param, param_ema in zip(model.parameters(), model_ema.parameters()):\n",
    "        param_ema.data.mul_(beta).add_(param.data, alpha=1 - beta)"
   ]
  },
  {
   "cell_type": "code",
   "execution_count": 18,
   "id": "c5f4e342",
   "metadata": {
    "_cell_guid": "0182b713-044f-4839-9cfc-0369f1eec96d",
    "_uuid": "c8659b2c-5286-4027-b97b-c1ac887bb5f6",
    "collapsed": false,
    "execution": {
     "iopub.execute_input": "2025-04-01T01:43:11.168080Z",
     "iopub.status.busy": "2025-04-01T01:43:11.167874Z",
     "iopub.status.idle": "2025-04-01T09:46:34.411779Z",
     "shell.execute_reply": "2025-04-01T09:46:34.410759Z"
    },
    "jupyter": {
     "outputs_hidden": false
    },
    "papermill": {
     "duration": 29003.251308,
     "end_time": "2025-04-01T09:46:34.413053",
     "exception": false,
     "start_time": "2025-04-01T01:43:11.161745",
     "status": "completed"
    },
    "tags": []
   },
   "outputs": [
    {
     "name": "stderr",
     "output_type": "stream",
     "text": [
      "                                                            \r"
     ]
    },
    {
     "name": "stdout",
     "output_type": "stream",
     "text": [
      "Epoch 1/200 - Train Loss: 0.05602617 - Epoch Time: 150.59s\n",
      "Checkpoint saved at epoch 1 with loss 0.0560\n"
     ]
    },
    {
     "name": "stderr",
     "output_type": "stream",
     "text": [
      "                                                            \r"
     ]
    },
    {
     "name": "stdout",
     "output_type": "stream",
     "text": [
      "Epoch 2/200 - Train Loss: 0.00047655 - Epoch Time: 143.83s\n",
      "Checkpoint saved at epoch 2 with loss 0.0005\n"
     ]
    },
    {
     "name": "stderr",
     "output_type": "stream",
     "text": [
      "                                                            \r"
     ]
    },
    {
     "name": "stdout",
     "output_type": "stream",
     "text": [
      "Epoch 3/200 - Train Loss: 0.00004318 - Epoch Time: 143.37s\n",
      "Checkpoint saved at epoch 3 with loss 0.0000\n"
     ]
    },
    {
     "name": "stderr",
     "output_type": "stream",
     "text": [
      "                                                            \r"
     ]
    },
    {
     "name": "stdout",
     "output_type": "stream",
     "text": [
      "Epoch 4/200 - Train Loss: 0.00038248 - Epoch Time: 143.40s\n"
     ]
    },
    {
     "name": "stderr",
     "output_type": "stream",
     "text": [
      "                                                            \r"
     ]
    },
    {
     "name": "stdout",
     "output_type": "stream",
     "text": [
      "Epoch 5/200 - Train Loss: 0.00000160 - Epoch Time: 143.51s\n",
      "Checkpoint saved at epoch 5 with loss 0.0000\n"
     ]
    },
    {
     "name": "stderr",
     "output_type": "stream",
     "text": [
      "                                                            \r"
     ]
    },
    {
     "name": "stdout",
     "output_type": "stream",
     "text": [
      "Epoch 6/200 - Train Loss: 0.00040427 - Epoch Time: 143.74s\n"
     ]
    },
    {
     "name": "stderr",
     "output_type": "stream",
     "text": [
      "                                                            \r"
     ]
    },
    {
     "name": "stdout",
     "output_type": "stream",
     "text": [
      "Epoch 7/200 - Train Loss: 0.00000166 - Epoch Time: 143.72s\n"
     ]
    },
    {
     "name": "stderr",
     "output_type": "stream",
     "text": [
      "                                                            \r"
     ]
    },
    {
     "name": "stdout",
     "output_type": "stream",
     "text": [
      "Epoch 8/200 - Train Loss: 0.00000065 - Epoch Time: 143.75s\n",
      "Checkpoint saved at epoch 8 with loss 0.0000\n"
     ]
    },
    {
     "name": "stderr",
     "output_type": "stream",
     "text": [
      "                                                            \r"
     ]
    },
    {
     "name": "stdout",
     "output_type": "stream",
     "text": [
      "Epoch 9/200 - Train Loss: 0.00029942 - Epoch Time: 143.73s\n"
     ]
    },
    {
     "name": "stderr",
     "output_type": "stream",
     "text": [
      "                                                             \r"
     ]
    },
    {
     "name": "stdout",
     "output_type": "stream",
     "text": [
      "Epoch 10/200 - Train Loss: 0.00000152 - Epoch Time: 143.51s\n"
     ]
    },
    {
     "name": "stderr",
     "output_type": "stream",
     "text": [
      "                                                             \r"
     ]
    },
    {
     "name": "stdout",
     "output_type": "stream",
     "text": [
      "Epoch 11/200 - Train Loss: 0.00000064 - Epoch Time: 143.82s\n",
      "Checkpoint saved at epoch 11 with loss 0.0000\n"
     ]
    },
    {
     "name": "stderr",
     "output_type": "stream",
     "text": [
      "                                                             \r"
     ]
    },
    {
     "name": "stdout",
     "output_type": "stream",
     "text": [
      "Epoch 12/200 - Train Loss: 0.00026463 - Epoch Time: 143.61s\n"
     ]
    },
    {
     "name": "stderr",
     "output_type": "stream",
     "text": [
      "                                                             \r"
     ]
    },
    {
     "name": "stdout",
     "output_type": "stream",
     "text": [
      "Epoch 13/200 - Train Loss: 0.00000273 - Epoch Time: 143.32s\n"
     ]
    },
    {
     "name": "stderr",
     "output_type": "stream",
     "text": [
      "                                                             \r"
     ]
    },
    {
     "name": "stdout",
     "output_type": "stream",
     "text": [
      "Epoch 14/200 - Train Loss: 0.00000065 - Epoch Time: 143.37s\n"
     ]
    },
    {
     "name": "stderr",
     "output_type": "stream",
     "text": [
      "                                                             \r"
     ]
    },
    {
     "name": "stdout",
     "output_type": "stream",
     "text": [
      "Epoch 15/200 - Train Loss: 0.00000996 - Epoch Time: 143.33s\n"
     ]
    },
    {
     "name": "stderr",
     "output_type": "stream",
     "text": [
      "                                                             \r"
     ]
    },
    {
     "name": "stdout",
     "output_type": "stream",
     "text": [
      "Epoch 16/200 - Train Loss: 0.00027971 - Epoch Time: 143.44s\n"
     ]
    },
    {
     "name": "stderr",
     "output_type": "stream",
     "text": [
      "                                                             \r"
     ]
    },
    {
     "name": "stdout",
     "output_type": "stream",
     "text": [
      "Epoch 17/200 - Train Loss: 0.00000073 - Epoch Time: 143.53s\n"
     ]
    },
    {
     "name": "stderr",
     "output_type": "stream",
     "text": [
      "                                                             \r"
     ]
    },
    {
     "name": "stdout",
     "output_type": "stream",
     "text": [
      "Epoch 18/200 - Train Loss: 0.00000071 - Epoch Time: 143.58s\n"
     ]
    },
    {
     "name": "stderr",
     "output_type": "stream",
     "text": [
      "                                                             \r"
     ]
    },
    {
     "name": "stdout",
     "output_type": "stream",
     "text": [
      "Epoch 19/200 - Train Loss: 0.00000077 - Epoch Time: 143.42s\n"
     ]
    },
    {
     "name": "stderr",
     "output_type": "stream",
     "text": [
      "                                                             \r"
     ]
    },
    {
     "name": "stdout",
     "output_type": "stream",
     "text": [
      "Epoch 20/200 - Train Loss: 0.00021004 - Epoch Time: 144.07s\n"
     ]
    },
    {
     "name": "stderr",
     "output_type": "stream",
     "text": [
      "                                                             \r"
     ]
    },
    {
     "name": "stdout",
     "output_type": "stream",
     "text": [
      "Epoch 21/200 - Train Loss: 0.00000085 - Epoch Time: 143.66s\n"
     ]
    },
    {
     "name": "stderr",
     "output_type": "stream",
     "text": [
      "                                                             \r"
     ]
    },
    {
     "name": "stdout",
     "output_type": "stream",
     "text": [
      "Epoch 22/200 - Train Loss: 0.00000076 - Epoch Time: 143.53s\n"
     ]
    },
    {
     "name": "stderr",
     "output_type": "stream",
     "text": [
      "                                                             \r"
     ]
    },
    {
     "name": "stdout",
     "output_type": "stream",
     "text": [
      "Epoch 23/200 - Train Loss: 0.00000082 - Epoch Time: 143.74s\n"
     ]
    },
    {
     "name": "stderr",
     "output_type": "stream",
     "text": [
      "                                                             \r"
     ]
    },
    {
     "name": "stdout",
     "output_type": "stream",
     "text": [
      "Epoch 24/200 - Train Loss: 0.00017573 - Epoch Time: 143.45s\n"
     ]
    },
    {
     "name": "stderr",
     "output_type": "stream",
     "text": [
      "                                                             \r"
     ]
    },
    {
     "name": "stdout",
     "output_type": "stream",
     "text": [
      "Epoch 25/200 - Train Loss: 0.00000086 - Epoch Time: 144.01s\n"
     ]
    },
    {
     "name": "stderr",
     "output_type": "stream",
     "text": [
      "                                                             \r"
     ]
    },
    {
     "name": "stdout",
     "output_type": "stream",
     "text": [
      "Epoch 26/200 - Train Loss: 0.00000081 - Epoch Time: 143.53s\n"
     ]
    },
    {
     "name": "stderr",
     "output_type": "stream",
     "text": [
      "                                                             \r"
     ]
    },
    {
     "name": "stdout",
     "output_type": "stream",
     "text": [
      "Epoch 27/200 - Train Loss: 0.00008390 - Epoch Time: 143.41s\n"
     ]
    },
    {
     "name": "stderr",
     "output_type": "stream",
     "text": [
      "                                                             \r"
     ]
    },
    {
     "name": "stdout",
     "output_type": "stream",
     "text": [
      "Epoch 28/200 - Train Loss: 0.00010992 - Epoch Time: 143.84s\n"
     ]
    },
    {
     "name": "stderr",
     "output_type": "stream",
     "text": [
      "                                                             \r"
     ]
    },
    {
     "name": "stdout",
     "output_type": "stream",
     "text": [
      "Epoch 29/200 - Train Loss: 0.00000076 - Epoch Time: 143.55s\n"
     ]
    },
    {
     "name": "stderr",
     "output_type": "stream",
     "text": [
      "                                                             \r"
     ]
    },
    {
     "name": "stdout",
     "output_type": "stream",
     "text": [
      "Epoch 30/200 - Train Loss: 0.00011325 - Epoch Time: 143.93s\n"
     ]
    },
    {
     "name": "stderr",
     "output_type": "stream",
     "text": [
      "                                                             \r"
     ]
    },
    {
     "name": "stdout",
     "output_type": "stream",
     "text": [
      "Epoch 31/200 - Train Loss: 0.00000574 - Epoch Time: 143.63s\n"
     ]
    },
    {
     "name": "stderr",
     "output_type": "stream",
     "text": [
      "                                                             \r"
     ]
    },
    {
     "name": "stdout",
     "output_type": "stream",
     "text": [
      "Epoch 32/200 - Train Loss: 0.00000085 - Epoch Time: 143.40s\n"
     ]
    },
    {
     "name": "stderr",
     "output_type": "stream",
     "text": [
      "                                                             \r"
     ]
    },
    {
     "name": "stdout",
     "output_type": "stream",
     "text": [
      "Epoch 33/200 - Train Loss: 0.00007778 - Epoch Time: 143.60s\n"
     ]
    },
    {
     "name": "stderr",
     "output_type": "stream",
     "text": [
      "                                                             \r"
     ]
    },
    {
     "name": "stdout",
     "output_type": "stream",
     "text": [
      "Epoch 34/200 - Train Loss: 0.00001536 - Epoch Time: 143.66s\n"
     ]
    },
    {
     "name": "stderr",
     "output_type": "stream",
     "text": [
      "                                                             \r"
     ]
    },
    {
     "name": "stdout",
     "output_type": "stream",
     "text": [
      "Epoch 35/200 - Train Loss: 0.00000115 - Epoch Time: 143.81s\n"
     ]
    },
    {
     "name": "stderr",
     "output_type": "stream",
     "text": [
      "                                                             \r"
     ]
    },
    {
     "name": "stdout",
     "output_type": "stream",
     "text": [
      "Epoch 36/200 - Train Loss: 0.00010874 - Epoch Time: 143.93s\n"
     ]
    },
    {
     "name": "stderr",
     "output_type": "stream",
     "text": [
      "                                                             \r"
     ]
    },
    {
     "name": "stdout",
     "output_type": "stream",
     "text": [
      "Epoch 37/200 - Train Loss: 0.00000173 - Epoch Time: 144.50s\n"
     ]
    },
    {
     "name": "stderr",
     "output_type": "stream",
     "text": [
      "                                                             \r"
     ]
    },
    {
     "name": "stdout",
     "output_type": "stream",
     "text": [
      "Epoch 38/200 - Train Loss: 0.00002180 - Epoch Time: 144.01s\n"
     ]
    },
    {
     "name": "stderr",
     "output_type": "stream",
     "text": [
      "                                                             \r"
     ]
    },
    {
     "name": "stdout",
     "output_type": "stream",
     "text": [
      "Epoch 39/200 - Train Loss: 0.00010987 - Epoch Time: 144.08s\n"
     ]
    },
    {
     "name": "stderr",
     "output_type": "stream",
     "text": [
      "                                                             \r"
     ]
    },
    {
     "name": "stdout",
     "output_type": "stream",
     "text": [
      "Epoch 40/200 - Train Loss: 0.00000132 - Epoch Time: 144.16s\n"
     ]
    },
    {
     "name": "stderr",
     "output_type": "stream",
     "text": [
      "                                                             \r"
     ]
    },
    {
     "name": "stdout",
     "output_type": "stream",
     "text": [
      "Epoch 41/200 - Train Loss: 0.00018210 - Epoch Time: 144.12s\n"
     ]
    },
    {
     "name": "stderr",
     "output_type": "stream",
     "text": [
      "                                                             \r"
     ]
    },
    {
     "name": "stdout",
     "output_type": "stream",
     "text": [
      "Epoch 42/200 - Train Loss: 0.00061059 - Epoch Time: 144.17s\n"
     ]
    },
    {
     "name": "stderr",
     "output_type": "stream",
     "text": [
      "                                                             \r"
     ]
    },
    {
     "name": "stdout",
     "output_type": "stream",
     "text": [
      "Epoch 43/200 - Train Loss: 0.00000074 - Epoch Time: 144.21s\n"
     ]
    },
    {
     "name": "stderr",
     "output_type": "stream",
     "text": [
      "                                                             \r"
     ]
    },
    {
     "name": "stdout",
     "output_type": "stream",
     "text": [
      "Epoch 44/200 - Train Loss: 0.00000068 - Epoch Time: 143.99s\n"
     ]
    },
    {
     "name": "stderr",
     "output_type": "stream",
     "text": [
      "                                                             \r"
     ]
    },
    {
     "name": "stdout",
     "output_type": "stream",
     "text": [
      "Epoch 45/200 - Train Loss: 0.00000070 - Epoch Time: 144.20s\n"
     ]
    },
    {
     "name": "stderr",
     "output_type": "stream",
     "text": [
      "                                                             \r"
     ]
    },
    {
     "name": "stdout",
     "output_type": "stream",
     "text": [
      "Epoch 46/200 - Train Loss: 0.00000077 - Epoch Time: 144.38s\n"
     ]
    },
    {
     "name": "stderr",
     "output_type": "stream",
     "text": [
      "                                                             \r"
     ]
    },
    {
     "name": "stdout",
     "output_type": "stream",
     "text": [
      "Epoch 47/200 - Train Loss: 0.00007700 - Epoch Time: 144.39s\n"
     ]
    },
    {
     "name": "stderr",
     "output_type": "stream",
     "text": [
      "                                                             \r"
     ]
    },
    {
     "name": "stdout",
     "output_type": "stream",
     "text": [
      "Epoch 48/200 - Train Loss: 0.00000085 - Epoch Time: 144.41s\n"
     ]
    },
    {
     "name": "stderr",
     "output_type": "stream",
     "text": [
      "                                                             \r"
     ]
    },
    {
     "name": "stdout",
     "output_type": "stream",
     "text": [
      "Epoch 49/200 - Train Loss: 0.00057324 - Epoch Time: 144.26s\n"
     ]
    },
    {
     "name": "stderr",
     "output_type": "stream",
     "text": [
      "                                                             \r"
     ]
    },
    {
     "name": "stdout",
     "output_type": "stream",
     "text": [
      "Epoch 50/200 - Train Loss: 0.00073737 - Epoch Time: 145.56s\n"
     ]
    },
    {
     "name": "stderr",
     "output_type": "stream",
     "text": [
      "                                                             \r"
     ]
    },
    {
     "name": "stdout",
     "output_type": "stream",
     "text": [
      "Epoch 51/200 - Train Loss: 0.00000051 - Epoch Time: 146.04s\n",
      "Checkpoint saved at epoch 51 with loss 0.0000\n"
     ]
    },
    {
     "name": "stderr",
     "output_type": "stream",
     "text": [
      "                                                             \r"
     ]
    },
    {
     "name": "stdout",
     "output_type": "stream",
     "text": [
      "Epoch 52/200 - Train Loss: 0.00000037 - Epoch Time: 145.53s\n",
      "Checkpoint saved at epoch 52 with loss 0.0000\n"
     ]
    },
    {
     "name": "stderr",
     "output_type": "stream",
     "text": [
      "                                                             \r"
     ]
    },
    {
     "name": "stdout",
     "output_type": "stream",
     "text": [
      "Epoch 53/200 - Train Loss: 0.00000035 - Epoch Time: 145.02s\n",
      "Checkpoint saved at epoch 53 with loss 0.0000\n"
     ]
    },
    {
     "name": "stderr",
     "output_type": "stream",
     "text": [
      "                                                             \r"
     ]
    },
    {
     "name": "stdout",
     "output_type": "stream",
     "text": [
      "Epoch 54/200 - Train Loss: 0.00000037 - Epoch Time: 145.09s\n"
     ]
    },
    {
     "name": "stderr",
     "output_type": "stream",
     "text": [
      "                                                             \r"
     ]
    },
    {
     "name": "stdout",
     "output_type": "stream",
     "text": [
      "Epoch 55/200 - Train Loss: 0.00000037 - Epoch Time: 145.27s\n"
     ]
    },
    {
     "name": "stderr",
     "output_type": "stream",
     "text": [
      "                                                             \r"
     ]
    },
    {
     "name": "stdout",
     "output_type": "stream",
     "text": [
      "Epoch 56/200 - Train Loss: 0.00000039 - Epoch Time: 145.22s\n"
     ]
    },
    {
     "name": "stderr",
     "output_type": "stream",
     "text": [
      "                                                             \r"
     ]
    },
    {
     "name": "stdout",
     "output_type": "stream",
     "text": [
      "Epoch 57/200 - Train Loss: 0.00000043 - Epoch Time: 145.70s\n"
     ]
    },
    {
     "name": "stderr",
     "output_type": "stream",
     "text": [
      "                                                             \r"
     ]
    },
    {
     "name": "stdout",
     "output_type": "stream",
     "text": [
      "Epoch 58/200 - Train Loss: 0.00000043 - Epoch Time: 145.37s\n"
     ]
    },
    {
     "name": "stderr",
     "output_type": "stream",
     "text": [
      "                                                             \r"
     ]
    },
    {
     "name": "stdout",
     "output_type": "stream",
     "text": [
      "Epoch 59/200 - Train Loss: 0.00003896 - Epoch Time: 145.01s\n"
     ]
    },
    {
     "name": "stderr",
     "output_type": "stream",
     "text": [
      "                                                             \r"
     ]
    },
    {
     "name": "stdout",
     "output_type": "stream",
     "text": [
      "Epoch 60/200 - Train Loss: 0.00002496 - Epoch Time: 145.21s\n"
     ]
    },
    {
     "name": "stderr",
     "output_type": "stream",
     "text": [
      "                                                             \r"
     ]
    },
    {
     "name": "stdout",
     "output_type": "stream",
     "text": [
      "Epoch 61/200 - Train Loss: 0.00000703 - Epoch Time: 144.83s\n"
     ]
    },
    {
     "name": "stderr",
     "output_type": "stream",
     "text": [
      "                                                             \r"
     ]
    },
    {
     "name": "stdout",
     "output_type": "stream",
     "text": [
      "Epoch 62/200 - Train Loss: 0.00000049 - Epoch Time: 144.49s\n"
     ]
    },
    {
     "name": "stderr",
     "output_type": "stream",
     "text": [
      "                                                             \r"
     ]
    },
    {
     "name": "stdout",
     "output_type": "stream",
     "text": [
      "Epoch 63/200 - Train Loss: 0.00000052 - Epoch Time: 144.89s\n"
     ]
    },
    {
     "name": "stderr",
     "output_type": "stream",
     "text": [
      "                                                             \r"
     ]
    },
    {
     "name": "stdout",
     "output_type": "stream",
     "text": [
      "Epoch 64/200 - Train Loss: 0.00004996 - Epoch Time: 145.15s\n"
     ]
    },
    {
     "name": "stderr",
     "output_type": "stream",
     "text": [
      "                                                             \r"
     ]
    },
    {
     "name": "stdout",
     "output_type": "stream",
     "text": [
      "Epoch 65/200 - Train Loss: 0.00000055 - Epoch Time: 144.96s\n"
     ]
    },
    {
     "name": "stderr",
     "output_type": "stream",
     "text": [
      "                                                             \r"
     ]
    },
    {
     "name": "stdout",
     "output_type": "stream",
     "text": [
      "Epoch 66/200 - Train Loss: 0.00000056 - Epoch Time: 145.40s\n"
     ]
    },
    {
     "name": "stderr",
     "output_type": "stream",
     "text": [
      "                                                             \r"
     ]
    },
    {
     "name": "stdout",
     "output_type": "stream",
     "text": [
      "Epoch 67/200 - Train Loss: 0.00072034 - Epoch Time: 144.92s\n"
     ]
    },
    {
     "name": "stderr",
     "output_type": "stream",
     "text": [
      "                                                             \r"
     ]
    },
    {
     "name": "stdout",
     "output_type": "stream",
     "text": [
      "Epoch 68/200 - Train Loss: 0.00091360 - Epoch Time: 145.01s\n"
     ]
    },
    {
     "name": "stderr",
     "output_type": "stream",
     "text": [
      "                                                             \r"
     ]
    },
    {
     "name": "stdout",
     "output_type": "stream",
     "text": [
      "Epoch 69/200 - Train Loss: 0.00000024 - Epoch Time: 144.62s\n",
      "Checkpoint saved at epoch 69 with loss 0.0000\n"
     ]
    },
    {
     "name": "stderr",
     "output_type": "stream",
     "text": [
      "                                                             \r"
     ]
    },
    {
     "name": "stdout",
     "output_type": "stream",
     "text": [
      "Epoch 70/200 - Train Loss: 0.00000012 - Epoch Time: 144.52s\n",
      "Checkpoint saved at epoch 70 with loss 0.0000\n"
     ]
    },
    {
     "name": "stderr",
     "output_type": "stream",
     "text": [
      "                                                             \r"
     ]
    },
    {
     "name": "stdout",
     "output_type": "stream",
     "text": [
      "Epoch 71/200 - Train Loss: 0.00000011 - Epoch Time: 144.59s\n",
      "Checkpoint saved at epoch 71 with loss 0.0000\n"
     ]
    },
    {
     "name": "stderr",
     "output_type": "stream",
     "text": [
      "                                                             \r"
     ]
    },
    {
     "name": "stdout",
     "output_type": "stream",
     "text": [
      "Epoch 72/200 - Train Loss: 0.00000011 - Epoch Time: 145.19s\n",
      "Checkpoint saved at epoch 72 with loss 0.0000\n"
     ]
    },
    {
     "name": "stderr",
     "output_type": "stream",
     "text": [
      "                                                             \r"
     ]
    },
    {
     "name": "stdout",
     "output_type": "stream",
     "text": [
      "Epoch 73/200 - Train Loss: 0.00000011 - Epoch Time: 145.23s\n"
     ]
    },
    {
     "name": "stderr",
     "output_type": "stream",
     "text": [
      "                                                             \r"
     ]
    },
    {
     "name": "stdout",
     "output_type": "stream",
     "text": [
      "Epoch 74/200 - Train Loss: 0.00000012 - Epoch Time: 145.43s\n"
     ]
    },
    {
     "name": "stderr",
     "output_type": "stream",
     "text": [
      "                                                             \r"
     ]
    },
    {
     "name": "stdout",
     "output_type": "stream",
     "text": [
      "Epoch 75/200 - Train Loss: 0.00000012 - Epoch Time: 145.25s\n"
     ]
    },
    {
     "name": "stderr",
     "output_type": "stream",
     "text": [
      "                                                             \r"
     ]
    },
    {
     "name": "stdout",
     "output_type": "stream",
     "text": [
      "Epoch 76/200 - Train Loss: 0.00000013 - Epoch Time: 144.20s\n"
     ]
    },
    {
     "name": "stderr",
     "output_type": "stream",
     "text": [
      "                                                             \r"
     ]
    },
    {
     "name": "stdout",
     "output_type": "stream",
     "text": [
      "Epoch 77/200 - Train Loss: 0.00000014 - Epoch Time: 144.61s\n"
     ]
    },
    {
     "name": "stderr",
     "output_type": "stream",
     "text": [
      "                                                             \r"
     ]
    },
    {
     "name": "stdout",
     "output_type": "stream",
     "text": [
      "Epoch 78/200 - Train Loss: 0.00000013 - Epoch Time: 143.90s\n"
     ]
    },
    {
     "name": "stderr",
     "output_type": "stream",
     "text": [
      "                                                             \r"
     ]
    },
    {
     "name": "stdout",
     "output_type": "stream",
     "text": [
      "Epoch 79/200 - Train Loss: 0.00000013 - Epoch Time: 144.36s\n"
     ]
    },
    {
     "name": "stderr",
     "output_type": "stream",
     "text": [
      "                                                             \r"
     ]
    },
    {
     "name": "stdout",
     "output_type": "stream",
     "text": [
      "Epoch 80/200 - Train Loss: 0.00000013 - Epoch Time: 144.66s\n"
     ]
    },
    {
     "name": "stderr",
     "output_type": "stream",
     "text": [
      "                                                             \r"
     ]
    },
    {
     "name": "stdout",
     "output_type": "stream",
     "text": [
      "Epoch 81/200 - Train Loss: 0.00000013 - Epoch Time: 144.22s\n"
     ]
    },
    {
     "name": "stderr",
     "output_type": "stream",
     "text": [
      "                                                             \r"
     ]
    },
    {
     "name": "stdout",
     "output_type": "stream",
     "text": [
      "Epoch 82/200 - Train Loss: 0.00001745 - Epoch Time: 144.43s\n"
     ]
    },
    {
     "name": "stderr",
     "output_type": "stream",
     "text": [
      "                                                             \r"
     ]
    },
    {
     "name": "stdout",
     "output_type": "stream",
     "text": [
      "Epoch 83/200 - Train Loss: 0.00000020 - Epoch Time: 144.48s\n"
     ]
    },
    {
     "name": "stderr",
     "output_type": "stream",
     "text": [
      "                                                             \r"
     ]
    },
    {
     "name": "stdout",
     "output_type": "stream",
     "text": [
      "Epoch 84/200 - Train Loss: 0.00000013 - Epoch Time: 144.64s\n"
     ]
    },
    {
     "name": "stderr",
     "output_type": "stream",
     "text": [
      "                                                             \r"
     ]
    },
    {
     "name": "stdout",
     "output_type": "stream",
     "text": [
      "Epoch 85/200 - Train Loss: 0.00000015 - Epoch Time: 144.72s\n"
     ]
    },
    {
     "name": "stderr",
     "output_type": "stream",
     "text": [
      "                                                             \r"
     ]
    },
    {
     "name": "stdout",
     "output_type": "stream",
     "text": [
      "Epoch 86/200 - Train Loss: 0.00000015 - Epoch Time: 144.32s\n"
     ]
    },
    {
     "name": "stderr",
     "output_type": "stream",
     "text": [
      "                                                             \r"
     ]
    },
    {
     "name": "stdout",
     "output_type": "stream",
     "text": [
      "Epoch 87/200 - Train Loss: 0.00006263 - Epoch Time: 144.41s\n"
     ]
    },
    {
     "name": "stderr",
     "output_type": "stream",
     "text": [
      "                                                             \r"
     ]
    },
    {
     "name": "stdout",
     "output_type": "stream",
     "text": [
      "Epoch 88/200 - Train Loss: 0.00000269 - Epoch Time: 144.58s\n"
     ]
    },
    {
     "name": "stderr",
     "output_type": "stream",
     "text": [
      "                                                             \r"
     ]
    },
    {
     "name": "stdout",
     "output_type": "stream",
     "text": [
      "Epoch 89/200 - Train Loss: 0.00001891 - Epoch Time: 144.87s\n"
     ]
    },
    {
     "name": "stderr",
     "output_type": "stream",
     "text": [
      "                                                             \r"
     ]
    },
    {
     "name": "stdout",
     "output_type": "stream",
     "text": [
      "Epoch 90/200 - Train Loss: 0.00000020 - Epoch Time: 144.42s\n"
     ]
    },
    {
     "name": "stderr",
     "output_type": "stream",
     "text": [
      "                                                             \r"
     ]
    },
    {
     "name": "stdout",
     "output_type": "stream",
     "text": [
      "Epoch 91/200 - Train Loss: 0.00000438 - Epoch Time: 144.54s\n"
     ]
    },
    {
     "name": "stderr",
     "output_type": "stream",
     "text": [
      "                                                             \r"
     ]
    },
    {
     "name": "stdout",
     "output_type": "stream",
     "text": [
      "Epoch 92/200 - Train Loss: 0.00000373 - Epoch Time: 144.90s\n"
     ]
    },
    {
     "name": "stderr",
     "output_type": "stream",
     "text": [
      "                                                             \r"
     ]
    },
    {
     "name": "stdout",
     "output_type": "stream",
     "text": [
      "Epoch 93/200 - Train Loss: 0.00002257 - Epoch Time: 144.87s\n"
     ]
    },
    {
     "name": "stderr",
     "output_type": "stream",
     "text": [
      "                                                             \r"
     ]
    },
    {
     "name": "stdout",
     "output_type": "stream",
     "text": [
      "Epoch 94/200 - Train Loss: 0.00000909 - Epoch Time: 144.95s\n"
     ]
    },
    {
     "name": "stderr",
     "output_type": "stream",
     "text": [
      "                                                             \r"
     ]
    },
    {
     "name": "stdout",
     "output_type": "stream",
     "text": [
      "Epoch 95/200 - Train Loss: 0.00002099 - Epoch Time: 144.61s\n"
     ]
    },
    {
     "name": "stderr",
     "output_type": "stream",
     "text": [
      "                                                             \r"
     ]
    },
    {
     "name": "stdout",
     "output_type": "stream",
     "text": [
      "Epoch 96/200 - Train Loss: 0.00175968 - Epoch Time: 145.46s\n"
     ]
    },
    {
     "name": "stderr",
     "output_type": "stream",
     "text": [
      "                                                             \r"
     ]
    },
    {
     "name": "stdout",
     "output_type": "stream",
     "text": [
      "Epoch 97/200 - Train Loss: 0.00000271 - Epoch Time: 148.30s\n"
     ]
    },
    {
     "name": "stderr",
     "output_type": "stream",
     "text": [
      "                                                             \r"
     ]
    },
    {
     "name": "stdout",
     "output_type": "stream",
     "text": [
      "Epoch 98/200 - Train Loss: 0.00000005 - Epoch Time: 150.39s\n",
      "Checkpoint saved at epoch 98 with loss 0.0000\n"
     ]
    },
    {
     "name": "stderr",
     "output_type": "stream",
     "text": [
      "                                                             \r"
     ]
    },
    {
     "name": "stdout",
     "output_type": "stream",
     "text": [
      "Epoch 99/200 - Train Loss: 0.00000005 - Epoch Time: 149.97s\n",
      "Checkpoint saved at epoch 99 with loss 0.0000\n"
     ]
    },
    {
     "name": "stderr",
     "output_type": "stream",
     "text": [
      "                                                              \r"
     ]
    },
    {
     "name": "stdout",
     "output_type": "stream",
     "text": [
      "Epoch 100/200 - Train Loss: 0.00000005 - Epoch Time: 150.33s\n",
      "Checkpoint saved at epoch 100 with loss 0.0000\n"
     ]
    },
    {
     "name": "stderr",
     "output_type": "stream",
     "text": [
      "                                                              \r"
     ]
    },
    {
     "name": "stdout",
     "output_type": "stream",
     "text": [
      "Epoch 101/200 - Train Loss: 0.00000005 - Epoch Time: 149.65s\n"
     ]
    },
    {
     "name": "stderr",
     "output_type": "stream",
     "text": [
      "                                                              \r"
     ]
    },
    {
     "name": "stdout",
     "output_type": "stream",
     "text": [
      "Epoch 102/200 - Train Loss: 0.00000005 - Epoch Time: 150.03s\n"
     ]
    },
    {
     "name": "stderr",
     "output_type": "stream",
     "text": [
      "                                                              \r"
     ]
    },
    {
     "name": "stdout",
     "output_type": "stream",
     "text": [
      "Epoch 103/200 - Train Loss: 0.00000005 - Epoch Time: 149.26s\n"
     ]
    },
    {
     "name": "stderr",
     "output_type": "stream",
     "text": [
      "                                                              \r"
     ]
    },
    {
     "name": "stdout",
     "output_type": "stream",
     "text": [
      "Epoch 104/200 - Train Loss: 0.00000005 - Epoch Time: 149.12s\n"
     ]
    },
    {
     "name": "stderr",
     "output_type": "stream",
     "text": [
      "                                                              \r"
     ]
    },
    {
     "name": "stdout",
     "output_type": "stream",
     "text": [
      "Epoch 105/200 - Train Loss: 0.00000005 - Epoch Time: 149.51s\n"
     ]
    },
    {
     "name": "stderr",
     "output_type": "stream",
     "text": [
      "                                                              \r"
     ]
    },
    {
     "name": "stdout",
     "output_type": "stream",
     "text": [
      "Epoch 106/200 - Train Loss: 0.00000005 - Epoch Time: 150.03s\n"
     ]
    },
    {
     "name": "stderr",
     "output_type": "stream",
     "text": [
      "                                                              \r"
     ]
    },
    {
     "name": "stdout",
     "output_type": "stream",
     "text": [
      "Epoch 107/200 - Train Loss: 0.00000006 - Epoch Time: 147.15s\n"
     ]
    },
    {
     "name": "stderr",
     "output_type": "stream",
     "text": [
      "                                                              \r"
     ]
    },
    {
     "name": "stdout",
     "output_type": "stream",
     "text": [
      "Epoch 108/200 - Train Loss: 0.00000005 - Epoch Time: 149.02s\n"
     ]
    },
    {
     "name": "stderr",
     "output_type": "stream",
     "text": [
      "                                                              \r"
     ]
    },
    {
     "name": "stdout",
     "output_type": "stream",
     "text": [
      "Epoch 109/200 - Train Loss: 0.00000006 - Epoch Time: 145.13s\n"
     ]
    },
    {
     "name": "stderr",
     "output_type": "stream",
     "text": [
      "                                                              \r"
     ]
    },
    {
     "name": "stdout",
     "output_type": "stream",
     "text": [
      "Epoch 110/200 - Train Loss: 0.00000006 - Epoch Time: 145.29s\n"
     ]
    },
    {
     "name": "stderr",
     "output_type": "stream",
     "text": [
      "                                                              \r"
     ]
    },
    {
     "name": "stdout",
     "output_type": "stream",
     "text": [
      "Epoch 111/200 - Train Loss: 0.00000006 - Epoch Time: 145.36s\n"
     ]
    },
    {
     "name": "stderr",
     "output_type": "stream",
     "text": [
      "                                                              \r"
     ]
    },
    {
     "name": "stdout",
     "output_type": "stream",
     "text": [
      "Epoch 112/200 - Train Loss: 0.00000006 - Epoch Time: 145.95s\n"
     ]
    },
    {
     "name": "stderr",
     "output_type": "stream",
     "text": [
      "                                                              \r"
     ]
    },
    {
     "name": "stdout",
     "output_type": "stream",
     "text": [
      "Epoch 113/200 - Train Loss: 0.00001390 - Epoch Time: 145.31s\n"
     ]
    },
    {
     "name": "stderr",
     "output_type": "stream",
     "text": [
      "                                                              \r"
     ]
    },
    {
     "name": "stdout",
     "output_type": "stream",
     "text": [
      "Epoch 114/200 - Train Loss: 0.00000007 - Epoch Time: 145.90s\n"
     ]
    },
    {
     "name": "stderr",
     "output_type": "stream",
     "text": [
      "                                                              \r"
     ]
    },
    {
     "name": "stdout",
     "output_type": "stream",
     "text": [
      "Epoch 115/200 - Train Loss: 0.00000006 - Epoch Time: 145.33s\n"
     ]
    },
    {
     "name": "stderr",
     "output_type": "stream",
     "text": [
      "                                                              \r"
     ]
    },
    {
     "name": "stdout",
     "output_type": "stream",
     "text": [
      "Epoch 116/200 - Train Loss: 0.00000007 - Epoch Time: 144.73s\n"
     ]
    },
    {
     "name": "stderr",
     "output_type": "stream",
     "text": [
      "                                                              \r"
     ]
    },
    {
     "name": "stdout",
     "output_type": "stream",
     "text": [
      "Epoch 117/200 - Train Loss: 0.00000007 - Epoch Time: 144.63s\n"
     ]
    },
    {
     "name": "stderr",
     "output_type": "stream",
     "text": [
      "                                                              \r"
     ]
    },
    {
     "name": "stdout",
     "output_type": "stream",
     "text": [
      "Epoch 118/200 - Train Loss: 0.00000008 - Epoch Time: 144.45s\n"
     ]
    },
    {
     "name": "stderr",
     "output_type": "stream",
     "text": [
      "                                                              \r"
     ]
    },
    {
     "name": "stdout",
     "output_type": "stream",
     "text": [
      "Epoch 119/200 - Train Loss: 0.00006802 - Epoch Time: 144.25s\n"
     ]
    },
    {
     "name": "stderr",
     "output_type": "stream",
     "text": [
      "                                                              \r"
     ]
    },
    {
     "name": "stdout",
     "output_type": "stream",
     "text": [
      "Epoch 120/200 - Train Loss: 0.00000025 - Epoch Time: 144.49s\n"
     ]
    },
    {
     "name": "stderr",
     "output_type": "stream",
     "text": [
      "                                                              \r"
     ]
    },
    {
     "name": "stdout",
     "output_type": "stream",
     "text": [
      "Epoch 121/200 - Train Loss: 0.00001282 - Epoch Time: 144.42s\n"
     ]
    },
    {
     "name": "stderr",
     "output_type": "stream",
     "text": [
      "                                                              \r"
     ]
    },
    {
     "name": "stdout",
     "output_type": "stream",
     "text": [
      "Epoch 122/200 - Train Loss: 0.00000007 - Epoch Time: 144.07s\n"
     ]
    },
    {
     "name": "stderr",
     "output_type": "stream",
     "text": [
      "                                                              \r"
     ]
    },
    {
     "name": "stdout",
     "output_type": "stream",
     "text": [
      "Epoch 123/200 - Train Loss: 0.00000008 - Epoch Time: 144.37s\n"
     ]
    },
    {
     "name": "stderr",
     "output_type": "stream",
     "text": [
      "                                                              \r"
     ]
    },
    {
     "name": "stdout",
     "output_type": "stream",
     "text": [
      "Epoch 124/200 - Train Loss: 0.00000009 - Epoch Time: 144.45s\n"
     ]
    },
    {
     "name": "stderr",
     "output_type": "stream",
     "text": [
      "                                                              \r"
     ]
    },
    {
     "name": "stdout",
     "output_type": "stream",
     "text": [
      "Epoch 125/200 - Train Loss: 0.00001400 - Epoch Time: 144.17s\n"
     ]
    },
    {
     "name": "stderr",
     "output_type": "stream",
     "text": [
      "                                                              \r"
     ]
    },
    {
     "name": "stdout",
     "output_type": "stream",
     "text": [
      "Epoch 126/200 - Train Loss: 0.00000285 - Epoch Time: 144.13s\n"
     ]
    },
    {
     "name": "stderr",
     "output_type": "stream",
     "text": [
      "                                                              \r"
     ]
    },
    {
     "name": "stdout",
     "output_type": "stream",
     "text": [
      "Epoch 127/200 - Train Loss: 0.00000299 - Epoch Time: 144.50s\n"
     ]
    },
    {
     "name": "stderr",
     "output_type": "stream",
     "text": [
      "                                                              \r"
     ]
    },
    {
     "name": "stdout",
     "output_type": "stream",
     "text": [
      "Epoch 128/200 - Train Loss: 0.00001202 - Epoch Time: 144.27s\n"
     ]
    },
    {
     "name": "stderr",
     "output_type": "stream",
     "text": [
      "                                                              \r"
     ]
    },
    {
     "name": "stdout",
     "output_type": "stream",
     "text": [
      "Epoch 129/200 - Train Loss: 0.00000979 - Epoch Time: 144.40s\n"
     ]
    },
    {
     "name": "stderr",
     "output_type": "stream",
     "text": [
      "                                                              \r"
     ]
    },
    {
     "name": "stdout",
     "output_type": "stream",
     "text": [
      "Epoch 130/200 - Train Loss: 0.00000949 - Epoch Time: 144.12s\n"
     ]
    },
    {
     "name": "stderr",
     "output_type": "stream",
     "text": [
      "                                                              \r"
     ]
    },
    {
     "name": "stdout",
     "output_type": "stream",
     "text": [
      "Epoch 131/200 - Train Loss: 0.00001286 - Epoch Time: 144.14s\n"
     ]
    },
    {
     "name": "stderr",
     "output_type": "stream",
     "text": [
      "                                                              \r"
     ]
    },
    {
     "name": "stdout",
     "output_type": "stream",
     "text": [
      "Epoch 132/200 - Train Loss: 0.00001007 - Epoch Time: 144.14s\n"
     ]
    },
    {
     "name": "stderr",
     "output_type": "stream",
     "text": [
      "                                                              \r"
     ]
    },
    {
     "name": "stdout",
     "output_type": "stream",
     "text": [
      "Epoch 133/200 - Train Loss: 0.00001749 - Epoch Time: 144.23s\n"
     ]
    },
    {
     "name": "stderr",
     "output_type": "stream",
     "text": [
      "                                                              \r"
     ]
    },
    {
     "name": "stdout",
     "output_type": "stream",
     "text": [
      "Epoch 134/200 - Train Loss: 0.00001222 - Epoch Time: 144.80s\n"
     ]
    },
    {
     "name": "stderr",
     "output_type": "stream",
     "text": [
      "                                                              \r"
     ]
    },
    {
     "name": "stdout",
     "output_type": "stream",
     "text": [
      "Epoch 135/200 - Train Loss: 0.00033536 - Epoch Time: 144.59s\n"
     ]
    },
    {
     "name": "stderr",
     "output_type": "stream",
     "text": [
      "                                                              \r"
     ]
    },
    {
     "name": "stdout",
     "output_type": "stream",
     "text": [
      "Epoch 136/200 - Train Loss: 0.00002530 - Epoch Time: 144.65s\n"
     ]
    },
    {
     "name": "stderr",
     "output_type": "stream",
     "text": [
      "                                                              \r"
     ]
    },
    {
     "name": "stdout",
     "output_type": "stream",
     "text": [
      "Epoch 137/200 - Train Loss: 0.00000006 - Epoch Time: 144.64s\n"
     ]
    },
    {
     "name": "stderr",
     "output_type": "stream",
     "text": [
      "                                                              \r"
     ]
    },
    {
     "name": "stdout",
     "output_type": "stream",
     "text": [
      "Epoch 138/200 - Train Loss: 0.00000006 - Epoch Time: 145.04s\n"
     ]
    },
    {
     "name": "stderr",
     "output_type": "stream",
     "text": [
      "                                                              \r"
     ]
    },
    {
     "name": "stdout",
     "output_type": "stream",
     "text": [
      "Epoch 139/200 - Train Loss: 0.00000407 - Epoch Time: 144.87s\n"
     ]
    },
    {
     "name": "stderr",
     "output_type": "stream",
     "text": [
      "                                                              \r"
     ]
    },
    {
     "name": "stdout",
     "output_type": "stream",
     "text": [
      "Epoch 140/200 - Train Loss: 0.00000008 - Epoch Time: 144.27s\n"
     ]
    },
    {
     "name": "stderr",
     "output_type": "stream",
     "text": [
      "                                                              \r"
     ]
    },
    {
     "name": "stdout",
     "output_type": "stream",
     "text": [
      "Epoch 141/200 - Train Loss: 0.00000006 - Epoch Time: 144.41s\n"
     ]
    },
    {
     "name": "stderr",
     "output_type": "stream",
     "text": [
      "                                                              \r"
     ]
    },
    {
     "name": "stdout",
     "output_type": "stream",
     "text": [
      "Epoch 142/200 - Train Loss: 0.00000006 - Epoch Time: 144.85s\n"
     ]
    },
    {
     "name": "stderr",
     "output_type": "stream",
     "text": [
      "                                                              \r"
     ]
    },
    {
     "name": "stdout",
     "output_type": "stream",
     "text": [
      "Epoch 143/200 - Train Loss: 0.00000006 - Epoch Time: 144.53s\n"
     ]
    },
    {
     "name": "stderr",
     "output_type": "stream",
     "text": [
      "                                                              \r"
     ]
    },
    {
     "name": "stdout",
     "output_type": "stream",
     "text": [
      "Epoch 144/200 - Train Loss: 0.00000584 - Epoch Time: 144.83s\n"
     ]
    },
    {
     "name": "stderr",
     "output_type": "stream",
     "text": [
      "                                                              \r"
     ]
    },
    {
     "name": "stdout",
     "output_type": "stream",
     "text": [
      "Epoch 145/200 - Train Loss: 0.00000009 - Epoch Time: 144.31s\n"
     ]
    },
    {
     "name": "stderr",
     "output_type": "stream",
     "text": [
      "                                                              \r"
     ]
    },
    {
     "name": "stdout",
     "output_type": "stream",
     "text": [
      "Epoch 146/200 - Train Loss: 0.00000007 - Epoch Time: 144.40s\n"
     ]
    },
    {
     "name": "stderr",
     "output_type": "stream",
     "text": [
      "                                                              \r"
     ]
    },
    {
     "name": "stdout",
     "output_type": "stream",
     "text": [
      "Epoch 147/200 - Train Loss: 0.00000008 - Epoch Time: 144.50s\n"
     ]
    },
    {
     "name": "stderr",
     "output_type": "stream",
     "text": [
      "                                                              \r"
     ]
    },
    {
     "name": "stdout",
     "output_type": "stream",
     "text": [
      "Epoch 148/200 - Train Loss: 0.00003889 - Epoch Time: 144.70s\n"
     ]
    },
    {
     "name": "stderr",
     "output_type": "stream",
     "text": [
      "                                                              \r"
     ]
    },
    {
     "name": "stdout",
     "output_type": "stream",
     "text": [
      "Epoch 149/200 - Train Loss: 0.00000040 - Epoch Time: 144.58s\n"
     ]
    },
    {
     "name": "stderr",
     "output_type": "stream",
     "text": [
      "                                                              \r"
     ]
    },
    {
     "name": "stdout",
     "output_type": "stream",
     "text": [
      "Epoch 150/200 - Train Loss: 0.00000008 - Epoch Time: 144.69s\n"
     ]
    },
    {
     "name": "stderr",
     "output_type": "stream",
     "text": [
      "                                                              \r"
     ]
    },
    {
     "name": "stdout",
     "output_type": "stream",
     "text": [
      "Epoch 151/200 - Train Loss: 0.00000704 - Epoch Time: 144.51s\n"
     ]
    },
    {
     "name": "stderr",
     "output_type": "stream",
     "text": [
      "                                                              \r"
     ]
    },
    {
     "name": "stdout",
     "output_type": "stream",
     "text": [
      "Epoch 152/200 - Train Loss: 0.00002867 - Epoch Time: 144.56s\n"
     ]
    },
    {
     "name": "stderr",
     "output_type": "stream",
     "text": [
      "                                                              \r"
     ]
    },
    {
     "name": "stdout",
     "output_type": "stream",
     "text": [
      "Epoch 153/200 - Train Loss: 0.00000049 - Epoch Time: 144.41s\n"
     ]
    },
    {
     "name": "stderr",
     "output_type": "stream",
     "text": [
      "                                                              \r"
     ]
    },
    {
     "name": "stdout",
     "output_type": "stream",
     "text": [
      "Epoch 154/200 - Train Loss: 0.00000416 - Epoch Time: 144.14s\n"
     ]
    },
    {
     "name": "stderr",
     "output_type": "stream",
     "text": [
      "                                                              \r"
     ]
    },
    {
     "name": "stdout",
     "output_type": "stream",
     "text": [
      "Epoch 155/200 - Train Loss: 0.00000388 - Epoch Time: 144.71s\n"
     ]
    },
    {
     "name": "stderr",
     "output_type": "stream",
     "text": [
      "                                                              \r"
     ]
    },
    {
     "name": "stdout",
     "output_type": "stream",
     "text": [
      "Epoch 156/200 - Train Loss: 0.00000453 - Epoch Time: 144.56s\n"
     ]
    },
    {
     "name": "stderr",
     "output_type": "stream",
     "text": [
      "                                                              \r"
     ]
    },
    {
     "name": "stdout",
     "output_type": "stream",
     "text": [
      "Epoch 157/200 - Train Loss: 0.00001584 - Epoch Time: 144.81s\n"
     ]
    },
    {
     "name": "stderr",
     "output_type": "stream",
     "text": [
      "                                                              \r"
     ]
    },
    {
     "name": "stdout",
     "output_type": "stream",
     "text": [
      "Epoch 158/200 - Train Loss: 0.00000305 - Epoch Time: 144.71s\n"
     ]
    },
    {
     "name": "stderr",
     "output_type": "stream",
     "text": [
      "                                                              \r"
     ]
    },
    {
     "name": "stdout",
     "output_type": "stream",
     "text": [
      "Epoch 159/200 - Train Loss: 0.00109819 - Epoch Time: 145.23s\n"
     ]
    },
    {
     "name": "stderr",
     "output_type": "stream",
     "text": [
      "                                                              \r"
     ]
    },
    {
     "name": "stdout",
     "output_type": "stream",
     "text": [
      "Epoch 160/200 - Train Loss: 0.00000100 - Epoch Time: 144.81s\n"
     ]
    },
    {
     "name": "stderr",
     "output_type": "stream",
     "text": [
      "                                                              \r"
     ]
    },
    {
     "name": "stdout",
     "output_type": "stream",
     "text": [
      "Epoch 161/200 - Train Loss: 0.00000002 - Epoch Time: 144.67s\n",
      "Checkpoint saved at epoch 161 with loss 0.0000\n"
     ]
    },
    {
     "name": "stderr",
     "output_type": "stream",
     "text": [
      "                                                              \r"
     ]
    },
    {
     "name": "stdout",
     "output_type": "stream",
     "text": [
      "Epoch 162/200 - Train Loss: 0.00000002 - Epoch Time: 145.13s\n",
      "Checkpoint saved at epoch 162 with loss 0.0000\n"
     ]
    },
    {
     "name": "stderr",
     "output_type": "stream",
     "text": [
      "                                                              \r"
     ]
    },
    {
     "name": "stdout",
     "output_type": "stream",
     "text": [
      "Epoch 163/200 - Train Loss: 0.00000002 - Epoch Time: 145.17s\n",
      "Checkpoint saved at epoch 163 with loss 0.0000\n"
     ]
    },
    {
     "name": "stderr",
     "output_type": "stream",
     "text": [
      "                                                              \r"
     ]
    },
    {
     "name": "stdout",
     "output_type": "stream",
     "text": [
      "Epoch 164/200 - Train Loss: 0.00000002 - Epoch Time: 145.16s\n"
     ]
    },
    {
     "name": "stderr",
     "output_type": "stream",
     "text": [
      "                                                              \r"
     ]
    },
    {
     "name": "stdout",
     "output_type": "stream",
     "text": [
      "Epoch 165/200 - Train Loss: 0.00000002 - Epoch Time: 144.46s\n"
     ]
    },
    {
     "name": "stderr",
     "output_type": "stream",
     "text": [
      "                                                              \r"
     ]
    },
    {
     "name": "stdout",
     "output_type": "stream",
     "text": [
      "Epoch 166/200 - Train Loss: 0.00000002 - Epoch Time: 144.69s\n"
     ]
    },
    {
     "name": "stderr",
     "output_type": "stream",
     "text": [
      "                                                              \r"
     ]
    },
    {
     "name": "stdout",
     "output_type": "stream",
     "text": [
      "Epoch 167/200 - Train Loss: 0.00000002 - Epoch Time: 144.69s\n"
     ]
    },
    {
     "name": "stderr",
     "output_type": "stream",
     "text": [
      "                                                              \r"
     ]
    },
    {
     "name": "stdout",
     "output_type": "stream",
     "text": [
      "Epoch 168/200 - Train Loss: 0.00000002 - Epoch Time: 143.94s\n"
     ]
    },
    {
     "name": "stderr",
     "output_type": "stream",
     "text": [
      "                                                              \r"
     ]
    },
    {
     "name": "stdout",
     "output_type": "stream",
     "text": [
      "Epoch 169/200 - Train Loss: 0.00000002 - Epoch Time: 144.11s\n"
     ]
    },
    {
     "name": "stderr",
     "output_type": "stream",
     "text": [
      "                                                              \r"
     ]
    },
    {
     "name": "stdout",
     "output_type": "stream",
     "text": [
      "Epoch 170/200 - Train Loss: 0.00000002 - Epoch Time: 143.96s\n"
     ]
    },
    {
     "name": "stderr",
     "output_type": "stream",
     "text": [
      "                                                              \r"
     ]
    },
    {
     "name": "stdout",
     "output_type": "stream",
     "text": [
      "Epoch 171/200 - Train Loss: 0.00000002 - Epoch Time: 144.84s\n"
     ]
    },
    {
     "name": "stderr",
     "output_type": "stream",
     "text": [
      "                                                              \r"
     ]
    },
    {
     "name": "stdout",
     "output_type": "stream",
     "text": [
      "Epoch 172/200 - Train Loss: 0.00000002 - Epoch Time: 144.32s\n"
     ]
    },
    {
     "name": "stderr",
     "output_type": "stream",
     "text": [
      "                                                              \r"
     ]
    },
    {
     "name": "stdout",
     "output_type": "stream",
     "text": [
      "Epoch 173/200 - Train Loss: 0.00000002 - Epoch Time: 144.08s\n"
     ]
    },
    {
     "name": "stderr",
     "output_type": "stream",
     "text": [
      "                                                              \r"
     ]
    },
    {
     "name": "stdout",
     "output_type": "stream",
     "text": [
      "Epoch 174/200 - Train Loss: 0.00000002 - Epoch Time: 144.17s\n"
     ]
    },
    {
     "name": "stderr",
     "output_type": "stream",
     "text": [
      "                                                              \r"
     ]
    },
    {
     "name": "stdout",
     "output_type": "stream",
     "text": [
      "Epoch 175/200 - Train Loss: 0.00000002 - Epoch Time: 143.46s\n"
     ]
    },
    {
     "name": "stderr",
     "output_type": "stream",
     "text": [
      "                                                              \r"
     ]
    },
    {
     "name": "stdout",
     "output_type": "stream",
     "text": [
      "Epoch 176/200 - Train Loss: 0.00000002 - Epoch Time: 144.56s\n"
     ]
    },
    {
     "name": "stderr",
     "output_type": "stream",
     "text": [
      "                                                              \r"
     ]
    },
    {
     "name": "stdout",
     "output_type": "stream",
     "text": [
      "Epoch 177/200 - Train Loss: 0.00000003 - Epoch Time: 144.54s\n"
     ]
    },
    {
     "name": "stderr",
     "output_type": "stream",
     "text": [
      "                                                              \r"
     ]
    },
    {
     "name": "stdout",
     "output_type": "stream",
     "text": [
      "Epoch 178/200 - Train Loss: 0.00000004 - Epoch Time: 144.48s\n"
     ]
    },
    {
     "name": "stderr",
     "output_type": "stream",
     "text": [
      "                                                              \r"
     ]
    },
    {
     "name": "stdout",
     "output_type": "stream",
     "text": [
      "Epoch 179/200 - Train Loss: 0.00000008 - Epoch Time: 144.19s\n"
     ]
    },
    {
     "name": "stderr",
     "output_type": "stream",
     "text": [
      "                                                              \r"
     ]
    },
    {
     "name": "stdout",
     "output_type": "stream",
     "text": [
      "Epoch 180/200 - Train Loss: 0.00000013 - Epoch Time: 144.13s\n"
     ]
    },
    {
     "name": "stderr",
     "output_type": "stream",
     "text": [
      "                                                              \r"
     ]
    },
    {
     "name": "stdout",
     "output_type": "stream",
     "text": [
      "Epoch 181/200 - Train Loss: 0.00000022 - Epoch Time: 144.39s\n"
     ]
    },
    {
     "name": "stderr",
     "output_type": "stream",
     "text": [
      "                                                              \r"
     ]
    },
    {
     "name": "stdout",
     "output_type": "stream",
     "text": [
      "Epoch 182/200 - Train Loss: 0.00000047 - Epoch Time: 143.75s\n"
     ]
    },
    {
     "name": "stderr",
     "output_type": "stream",
     "text": [
      "                                                              \r"
     ]
    },
    {
     "name": "stdout",
     "output_type": "stream",
     "text": [
      "Epoch 183/200 - Train Loss: 0.00000114 - Epoch Time: 144.11s\n"
     ]
    },
    {
     "name": "stderr",
     "output_type": "stream",
     "text": [
      "                                                              \r"
     ]
    },
    {
     "name": "stdout",
     "output_type": "stream",
     "text": [
      "Epoch 184/200 - Train Loss: 0.00000215 - Epoch Time: 143.76s\n"
     ]
    },
    {
     "name": "stderr",
     "output_type": "stream",
     "text": [
      "                                                              \r"
     ]
    },
    {
     "name": "stdout",
     "output_type": "stream",
     "text": [
      "Epoch 185/200 - Train Loss: 0.00000429 - Epoch Time: 143.94s\n"
     ]
    },
    {
     "name": "stderr",
     "output_type": "stream",
     "text": [
      "                                                              \r"
     ]
    },
    {
     "name": "stdout",
     "output_type": "stream",
     "text": [
      "Epoch 186/200 - Train Loss: 0.00000630 - Epoch Time: 143.84s\n"
     ]
    },
    {
     "name": "stderr",
     "output_type": "stream",
     "text": [
      "                                                              \r"
     ]
    },
    {
     "name": "stdout",
     "output_type": "stream",
     "text": [
      "Epoch 187/200 - Train Loss: 0.00000225 - Epoch Time: 143.90s\n"
     ]
    },
    {
     "name": "stderr",
     "output_type": "stream",
     "text": [
      "                                                              \r"
     ]
    },
    {
     "name": "stdout",
     "output_type": "stream",
     "text": [
      "Epoch 188/200 - Train Loss: 0.00000292 - Epoch Time: 144.40s\n"
     ]
    },
    {
     "name": "stderr",
     "output_type": "stream",
     "text": [
      "                                                              \r"
     ]
    },
    {
     "name": "stdout",
     "output_type": "stream",
     "text": [
      "Epoch 189/200 - Train Loss: 0.00000624 - Epoch Time: 143.78s\n"
     ]
    },
    {
     "name": "stderr",
     "output_type": "stream",
     "text": [
      "                                                              \r"
     ]
    },
    {
     "name": "stdout",
     "output_type": "stream",
     "text": [
      "Epoch 190/200 - Train Loss: 0.00000421 - Epoch Time: 143.87s\n"
     ]
    },
    {
     "name": "stderr",
     "output_type": "stream",
     "text": [
      "                                                              \r"
     ]
    },
    {
     "name": "stdout",
     "output_type": "stream",
     "text": [
      "Epoch 191/200 - Train Loss: 0.00004297 - Epoch Time: 144.13s\n"
     ]
    },
    {
     "name": "stderr",
     "output_type": "stream",
     "text": [
      "                                                              \r"
     ]
    },
    {
     "name": "stdout",
     "output_type": "stream",
     "text": [
      "Epoch 192/200 - Train Loss: 0.00000099 - Epoch Time: 143.87s\n"
     ]
    },
    {
     "name": "stderr",
     "output_type": "stream",
     "text": [
      "                                                              \r"
     ]
    },
    {
     "name": "stdout",
     "output_type": "stream",
     "text": [
      "Epoch 193/200 - Train Loss: 0.00000003 - Epoch Time: 143.93s\n"
     ]
    },
    {
     "name": "stderr",
     "output_type": "stream",
     "text": [
      "                                                              \r"
     ]
    },
    {
     "name": "stdout",
     "output_type": "stream",
     "text": [
      "Epoch 194/200 - Train Loss: 0.00001186 - Epoch Time: 144.15s\n"
     ]
    },
    {
     "name": "stderr",
     "output_type": "stream",
     "text": [
      "                                                              \r"
     ]
    },
    {
     "name": "stdout",
     "output_type": "stream",
     "text": [
      "Epoch 195/200 - Train Loss: 0.00000012 - Epoch Time: 144.00s\n"
     ]
    },
    {
     "name": "stderr",
     "output_type": "stream",
     "text": [
      "                                                              \r"
     ]
    },
    {
     "name": "stdout",
     "output_type": "stream",
     "text": [
      "Epoch 196/200 - Train Loss: 0.00000202 - Epoch Time: 144.48s\n"
     ]
    },
    {
     "name": "stderr",
     "output_type": "stream",
     "text": [
      "                                                              \r"
     ]
    },
    {
     "name": "stdout",
     "output_type": "stream",
     "text": [
      "Epoch 197/200 - Train Loss: 0.00000520 - Epoch Time: 143.91s\n"
     ]
    },
    {
     "name": "stderr",
     "output_type": "stream",
     "text": [
      "                                                              \r"
     ]
    },
    {
     "name": "stdout",
     "output_type": "stream",
     "text": [
      "Epoch 198/200 - Train Loss: 0.00000542 - Epoch Time: 143.89s\n"
     ]
    },
    {
     "name": "stderr",
     "output_type": "stream",
     "text": [
      "                                                              \r"
     ]
    },
    {
     "name": "stdout",
     "output_type": "stream",
     "text": [
      "Epoch 199/200 - Train Loss: 0.00000598 - Epoch Time: 144.29s\n"
     ]
    },
    {
     "name": "stderr",
     "output_type": "stream",
     "text": [
      "                                                              "
     ]
    },
    {
     "name": "stdout",
     "output_type": "stream",
     "text": [
      "Epoch 200/200 - Train Loss: 0.00000957 - Epoch Time: 143.92s\n",
      "Total Training Time: 29003.24s\n"
     ]
    },
    {
     "name": "stderr",
     "output_type": "stream",
     "text": [
      "\r"
     ]
    }
   ],
   "source": [
    "# Create a directory for visualizations if it doesn't exist.\n",
    "viz_dir = \"/kaggle/working/viz\"\n",
    "os.makedirs(viz_dir, exist_ok=True)\n",
    "\n",
    "num_epochs = 200\n",
    "ema_decay = 0.99\n",
    "best_loss = float('inf')\n",
    "total_start_time = time.time()\n",
    "\n",
    "for epoch in range(num_epochs):\n",
    "    epoch_start_time = time.time()\n",
    "    context_encoder.train()\n",
    "    predictor.train()\n",
    "    running_loss = 0.0\n",
    "    \n",
    "    # Enumerate over batches with a progress bar.\n",
    "    for batch_idx, (context_block, target_blocks, _) in enumerate(tqdm(train_loader, desc=f\"Epoch {epoch+1}/{num_epochs}\", leave=False)):\n",
    "        context_block = context_block.cuda()            # [B, C, 224, 224]\n",
    "        target_blocks = target_blocks.cuda()              # [B, num_targets, C, 224, 224]\n",
    "        \n",
    "        # Forward pass through context encoder and predictor.\n",
    "        context_repr = context_encoder(context_block)     # [B, 768]\n",
    "        preds = predictor(context_repr)                   # [B, num_targets, 768]\n",
    "        \n",
    "        B, num_targets, C, Ht, Wt = target_blocks.shape\n",
    "        target_blocks_flat = target_blocks.view(B * num_targets, C, Ht, Wt)\n",
    "        with torch.no_grad():\n",
    "            target_repr_flat = target_encoder(target_blocks_flat)\n",
    "        target_repr = target_repr_flat.view(B, num_targets, -1)\n",
    "        \n",
    "        loss = criterion(preds, target_repr)\n",
    "        optimizer.zero_grad()\n",
    "        loss.backward()\n",
    "        optimizer.step()\n",
    "        update_ema(context_encoder, target_encoder, ema_decay)\n",
    "        running_loss += loss.item() * context_block.size(0)\n",
    "        \n",
    "        # --- Visualization for first image of the current batch ---\n",
    "        '''with torch.no_grad():\n",
    "            # Get the first sample's context block and compute its feature vector.\n",
    "            context_img = context_block[0].cpu()  # shape: [C, 224, 224]\n",
    "            context_feat = context_encoder(context_block[0].unsqueeze(0)).cpu().squeeze(0)  # shape: [768]\n",
    "            # Reshape feature vector to a 2D heatmap (24x32).\n",
    "            context_heat = context_feat.view(24, 32).numpy()\n",
    "            \n",
    "            # For target, choose the first target block of the first sample.\n",
    "            target_img = target_blocks[0][0].cpu()  # shape: [C, 224, 224]\n",
    "            target_feat = target_encoder(target_blocks[0][0].unsqueeze(0).to(context_block.device)).cpu().squeeze(0)\n",
    "            target_heat = target_feat.view(24, 32).numpy()\n",
    "            \n",
    "            # Plot the images and corresponding heatmaps.\n",
    "            fig, axs = plt.subplots(2, 2, figsize=(10, 8))\n",
    "            \n",
    "            # Display context block image.\n",
    "            if context_img.shape[0] == 1:\n",
    "                axs[0, 0].imshow(context_img.squeeze(), cmap='gray')\n",
    "            else:\n",
    "                axs[0, 0].imshow(context_img.permute(1, 2, 0))\n",
    "            axs[0, 0].set_title(\"Context Block\")\n",
    "            axs[0, 0].axis(\"off\")\n",
    "            \n",
    "            # Display context feature heatmap.\n",
    "            im0 = axs[0, 1].imshow(context_heat, cmap=\"viridis\")\n",
    "            axs[0, 1].set_title(\"Context Feature Heatmap\")\n",
    "            axs[0, 1].axis(\"off\")\n",
    "            fig.colorbar(im0, ax=axs[0, 1])\n",
    "            \n",
    "            # Display target block image.\n",
    "            if target_img.shape[0] == 1:\n",
    "                axs[1, 0].imshow(target_img.squeeze(), cmap='gray')\n",
    "            else:\n",
    "                axs[1, 0].imshow(target_img.permute(1, 2, 0))\n",
    "            axs[1, 0].set_title(\"Target Block\")\n",
    "            axs[1, 0].axis(\"off\")\n",
    "            \n",
    "            # Display target feature heatmap.\n",
    "            im1 = axs[1, 1].imshow(target_heat, cmap=\"viridis\")\n",
    "            axs[1, 1].set_title(\"Target Feature Heatmap\")\n",
    "            axs[1, 1].axis(\"off\")\n",
    "            fig.colorbar(im1, ax=axs[1, 1])\n",
    "            \n",
    "            # Save the visualization figure with epoch and batch number.\n",
    "            viz_path = os.path.join(viz_dir, f\"epoch{epoch+1}_batch{batch_idx+1}.png\")\n",
    "            plt.savefig(viz_path)\n",
    "            plt.close(fig)'''\n",
    "    \n",
    "    epoch_loss = running_loss / len(train_ijepa_dataset)\n",
    "    epoch_time = time.time() - epoch_start_time\n",
    "    print(f\"Epoch {epoch+1}/{num_epochs} - Train Loss: {epoch_loss:.8f} - Epoch Time: {epoch_time:.2f}s\")\n",
    "    \n",
    "    # Save checkpoint if current epoch loss is lower than previous best.\n",
    "    if epoch_loss < best_loss:\n",
    "        best_loss = epoch_loss\n",
    "        checkpoint = {\n",
    "            'epoch': epoch+1,\n",
    "            'context_encoder_state_dict': context_encoder.state_dict(),\n",
    "            'target_encoder_state_dict': target_encoder.state_dict(),\n",
    "            'predictor_state_dict': predictor.state_dict(),\n",
    "            'optimizer_state_dict': optimizer.state_dict(),\n",
    "            'loss': epoch_loss\n",
    "        }\n",
    "        torch.save(checkpoint, \"/kaggle/working/ijepa_checkpoint_best.pth\")\n",
    "        print(f\"Checkpoint saved at epoch {epoch+1} with loss {epoch_loss:.4f}\")\n",
    "\n",
    "total_train_time = time.time() - total_start_time\n",
    "print(f\"Total Training Time: {total_train_time:.2f}s\")"
   ]
  }
 ],
 "metadata": {
  "accelerator": "GPU",
  "colab": {
   "authorship_tag": "ABX9TyPzRU4Sa85efB68njv1CUKU",
   "gpuType": "A100",
   "include_colab_link": true,
   "machine_shape": "hm",
   "provenance": []
  },
  "kaggle": {
   "accelerator": "gpu",
   "dataSources": [
    {
     "datasetId": 7010008,
     "sourceId": 11224133,
     "sourceType": "datasetVersion"
    }
   ],
   "isGpuEnabled": true,
   "isInternetEnabled": true,
   "language": "python",
   "sourceType": "notebook"
  },
  "kernelspec": {
   "display_name": "Python 3",
   "language": "python",
   "name": "python3"
  },
  "language_info": {
   "codemirror_mode": {
    "name": "ipython",
    "version": 3
   },
   "file_extension": ".py",
   "mimetype": "text/x-python",
   "name": "python",
   "nbconvert_exporter": "python",
   "pygments_lexer": "ipython3",
   "version": "3.10.12"
  },
  "papermill": {
   "default_parameters": {},
   "duration": 29041.32107,
   "end_time": "2025-04-01T09:46:38.068210",
   "environment_variables": {},
   "exception": null,
   "input_path": "__notebook__.ipynb",
   "output_path": "__notebook__.ipynb",
   "parameters": {},
   "start_time": "2025-04-01T01:42:36.747140",
   "version": "2.6.0"
  }
 },
 "nbformat": 4,
 "nbformat_minor": 5
}
