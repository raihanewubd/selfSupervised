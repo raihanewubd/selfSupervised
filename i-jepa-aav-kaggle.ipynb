{
 "cells": [
  {
   "cell_type": "code",
   "execution_count": 1,
   "id": "804b1518",
   "metadata": {
    "_cell_guid": "1b74e769-17ce-492e-bbf7-eb90938bae5d",
    "_uuid": "ab0f765f-50d0-4e71-934b-69036f927618",
    "collapsed": false,
    "execution": {
     "iopub.execute_input": "2025-04-01T01:36:23.190594Z",
     "iopub.status.busy": "2025-04-01T01:36:23.190320Z",
     "iopub.status.idle": "2025-04-01T01:36:48.842778Z",
     "shell.execute_reply": "2025-04-01T01:36:48.842045Z"
    },
    "id": "7Qm5o5BpuTyt",
    "jupyter": {
     "outputs_hidden": false
    },
    "papermill": {
     "duration": 25.659208,
     "end_time": "2025-04-01T01:36:48.844411",
     "exception": false,
     "start_time": "2025-04-01T01:36:23.185203",
     "status": "completed"
    },
    "tags": []
   },
   "outputs": [],
   "source": [
    "from google.colab import drive\n",
    "from torchvision import datasets, transforms\n",
    "from torch.utils.data import DataLoader, random_split\n",
    "from transformers import ViTForImageClassification, ViTImageProcessor\n",
    "from collections import Counter\n",
    "import torch.nn.functional as F\n",
    "import numpy as np\n",
    "import torch\n",
    "import torch.nn as nn\n",
    "import torch.optim as optim\n",
    "import torch.optim as optim\n",
    "import time\n",
    "from tqdm import tqdm\n",
    "import torch\n",
    "import timm\n",
    "import matplotlib.pyplot as plt\n",
    "import copy\n",
    "from torchvision.models import vit_b_16\n",
    "from collections import Counter\n",
    "from tqdm import tqdm # for progress bar\n",
    "import random\n",
    "import os"
   ]
  },
  {
   "cell_type": "code",
   "execution_count": 2,
   "id": "29e59fde",
   "metadata": {
    "_cell_guid": "d0758325-ed5a-4988-b20a-51539395a900",
    "_uuid": "b02bcb6e-1d67-4b0c-9d11-a22f3ab07a61",
    "collapsed": false,
    "execution": {
     "iopub.execute_input": "2025-04-01T01:36:48.852950Z",
     "iopub.status.busy": "2025-04-01T01:36:48.852668Z",
     "iopub.status.idle": "2025-04-01T01:36:48.855786Z",
     "shell.execute_reply": "2025-04-01T01:36:48.855101Z"
    },
    "id": "Gxnc6znruQbZ",
    "jupyter": {
     "outputs_hidden": false
    },
    "outputId": "cd3e4062-2a7d-4ea5-bffc-08f8fe8d51b5",
    "papermill": {
     "duration": 0.008293,
     "end_time": "2025-04-01T01:36:48.856923",
     "exception": false,
     "start_time": "2025-04-01T01:36:48.848630",
     "status": "completed"
    },
    "tags": []
   },
   "outputs": [],
   "source": [
    "#drive.mount('/content/drive')"
   ]
  },
  {
   "cell_type": "code",
   "execution_count": 3,
   "id": "6926bf45",
   "metadata": {
    "_cell_guid": "cfbd3054-08ff-4e37-a1dd-a9816ded260d",
    "_uuid": "2bb0d814-c433-4069-b2de-b8afb06f8c33",
    "collapsed": false,
    "execution": {
     "iopub.execute_input": "2025-04-01T01:36:48.864564Z",
     "iopub.status.busy": "2025-04-01T01:36:48.864343Z",
     "iopub.status.idle": "2025-04-01T01:36:51.815804Z",
     "shell.execute_reply": "2025-04-01T01:36:51.814875Z"
    },
    "id": "fKthbkn-t67J",
    "jupyter": {
     "outputs_hidden": false
    },
    "papermill": {
     "duration": 2.95709,
     "end_time": "2025-04-01T01:36:51.817409",
     "exception": false,
     "start_time": "2025-04-01T01:36:48.860319",
     "status": "completed"
    },
    "tags": []
   },
   "outputs": [],
   "source": [
    "data_dir = '/kaggle/input/aav-spectrogram/spectrogram'\n",
    "transform = transforms.Compose([\n",
    "    transforms.Resize((224, 224)),\n",
    "    transforms.ToTensor(),\n",
    "    transforms.Normalize(mean=[0.5], std=[0.5])\n",
    "])\n",
    "\n",
    "dataset = datasets.ImageFolder(root=data_dir, transform=transform)\n",
    "dataloader = DataLoader(dataset, batch_size=16, shuffle=True)"
   ]
  },
  {
   "cell_type": "code",
   "execution_count": 4,
   "id": "bd3fe1cc",
   "metadata": {
    "_cell_guid": "a8f3ba24-1e87-429a-bbee-4909d3832d58",
    "_uuid": "5d688a1b-2546-4240-bbb7-5aec8d108cfc",
    "collapsed": false,
    "execution": {
     "iopub.execute_input": "2025-04-01T01:36:51.831631Z",
     "iopub.status.busy": "2025-04-01T01:36:51.831355Z",
     "iopub.status.idle": "2025-04-01T01:36:52.081568Z",
     "shell.execute_reply": "2025-04-01T01:36:52.080678Z"
    },
    "id": "C9kEg-mIKiF3",
    "jupyter": {
     "outputs_hidden": false
    },
    "outputId": "139cb538-a806-4b6b-cd22-75e8785de5f5",
    "papermill": {
     "duration": 0.257267,
     "end_time": "2025-04-01T01:36:52.083074",
     "exception": false,
     "start_time": "2025-04-01T01:36:51.825807",
     "status": "completed"
    },
    "tags": []
   },
   "outputs": [
    {
     "name": "stdout",
     "output_type": "stream",
     "text": [
      "Batch shape: torch.Size([16, 3, 224, 224])\n"
     ]
    }
   ],
   "source": [
    "# Test loading\n",
    "images, labels = next(iter(dataloader))\n",
    "print(\"Batch shape:\", images.shape)  # Should be [B, C, 224, 224]"
   ]
  },
  {
   "cell_type": "code",
   "execution_count": 5,
   "id": "7b070dfb",
   "metadata": {
    "_cell_guid": "577f43b2-192c-4d42-9928-3612f02483bc",
    "_uuid": "ebcd8a59-646f-41d1-98a2-6111730750c6",
    "collapsed": false,
    "execution": {
     "iopub.execute_input": "2025-04-01T01:36:52.091484Z",
     "iopub.status.busy": "2025-04-01T01:36:52.091227Z",
     "iopub.status.idle": "2025-04-01T01:36:52.095682Z",
     "shell.execute_reply": "2025-04-01T01:36:52.095002Z"
    },
    "id": "N2As1-TPux9B",
    "jupyter": {
     "outputs_hidden": false
    },
    "papermill": {
     "duration": 0.01019,
     "end_time": "2025-04-01T01:36:52.097115",
     "exception": false,
     "start_time": "2025-04-01T01:36:52.086925",
     "status": "completed"
    },
    "tags": []
   },
   "outputs": [],
   "source": [
    "batch_size = 32\n",
    "train_size = int(0.8 * len(dataset))\n",
    "val_size = len(dataset) - train_size\n",
    "train_dataset, val_dataset = random_split(dataset, [train_size, val_size])\n",
    "\n",
    "train_loader = DataLoader(train_dataset, batch_size=batch_size, shuffle=True)\n",
    "val_loader = DataLoader(val_dataset, batch_size=batch_size)"
   ]
  },
  {
   "cell_type": "code",
   "execution_count": 6,
   "id": "dbf718b1",
   "metadata": {
    "_cell_guid": "551e8024-3177-4665-896d-27a3497990e0",
    "_uuid": "7b5e6218-b07f-4701-a372-28b857d114d6",
    "collapsed": false,
    "execution": {
     "iopub.execute_input": "2025-04-01T01:36:52.105110Z",
     "iopub.status.busy": "2025-04-01T01:36:52.104886Z",
     "iopub.status.idle": "2025-04-01T01:36:52.398987Z",
     "shell.execute_reply": "2025-04-01T01:36:52.398108Z"
    },
    "id": "rRDzaHnJKw9k",
    "jupyter": {
     "outputs_hidden": false
    },
    "outputId": "99d5d47d-b3e1-4662-ae06-b13334f1100b",
    "papermill": {
     "duration": 0.299614,
     "end_time": "2025-04-01T01:36:52.400358",
     "exception": false,
     "start_time": "2025-04-01T01:36:52.100744",
     "status": "completed"
    },
    "tags": []
   },
   "outputs": [
    {
     "data": {
      "image/png": "[encoded data removed]",
      "text/plain": [
       "<Figure size 1000x400 with 6 Axes>"
      ]
     },
     "metadata": {},
     "output_type": "display_data"
    }
   ],
   "source": [
    "plt.figure(figsize=(10, 4))\n",
    "for i in range(6):\n",
    "    img = images[i].permute(1, 2, 0) * 0.5 + 0.5  # Unnormalize\n",
    "    plt.subplot(2, 3, i+1)\n",
    "    plt.imshow(img.squeeze(), cmap='viridis')\n",
    "    plt.axis('off')\n",
    "plt.suptitle(\"Sample Spectrograms (Resized to 224Ã—224)\")\n",
    "plt.tight_layout()\n",
    "plt.show()"
   ]
  },
  {
   "cell_type": "code",
   "execution_count": 7,
   "id": "51d009ac",
   "metadata": {
    "_cell_guid": "68672c2b-407b-42e6-a744-2523bf327831",
    "_uuid": "c9b49613-e5e4-4a6f-ae14-7287ae13e3a4",
    "collapsed": false,
    "execution": {
     "iopub.execute_input": "2025-04-01T01:36:52.412558Z",
     "iopub.status.busy": "2025-04-01T01:36:52.412293Z",
     "iopub.status.idle": "2025-04-01T01:36:52.416478Z",
     "shell.execute_reply": "2025-04-01T01:36:52.415745Z"
    },
    "jupyter": {
     "outputs_hidden": false
    },
    "papermill": {
     "duration": 0.011395,
     "end_time": "2025-04-01T01:36:52.417631",
     "exception": false,
     "start_time": "2025-04-01T01:36:52.406236",
     "status": "completed"
    },
    "tags": []
   },
   "outputs": [],
   "source": [
    "\n",
    "\n",
    "def count_images_per_class(train_loader):\n",
    "    \"\"\"Counts the number of images per class in a train_loader.\n",
    "\n",
    "    Args:\n",
    "        train_loader: The DataLoader for the training dataset.\n",
    "\n",
    "    Returns:\n",
    "        A dictionary where keys are class labels and values are the corresponding counts.\n",
    "    \"\"\"\n",
    "\n",
    "    all_labels = []\n",
    "    for images, labels in tqdm(train_loader, desc=\"Counting images per class\"):\n",
    "        all_labels.extend(labels.tolist())  # Extend the list with labels from the batch\n",
    "\n",
    "    class_counts = Counter(all_labels)  # Count occurrences of each label\n",
    "\n",
    "    return class_counts"
   ]
  },
  {
   "cell_type": "code",
   "execution_count": 8,
   "id": "8fb36f34",
   "metadata": {
    "_cell_guid": "46c3eb6b-6513-46a0-a732-946df9564d7e",
    "_uuid": "3e31c353-e70e-4e37-a58f-1a4d5ffab8d1",
    "collapsed": false,
    "execution": {
     "iopub.execute_input": "2025-04-01T01:36:52.429153Z",
     "iopub.status.busy": "2025-04-01T01:36:52.428939Z",
     "iopub.status.idle": "2025-04-01T01:37:10.121758Z",
     "shell.execute_reply": "2025-04-01T01:37:10.120728Z"
    },
    "jupyter": {
     "outputs_hidden": false
    },
    "papermill": {
     "duration": 17.70021,
     "end_time": "2025-04-01T01:37:10.123107",
     "exception": false,
     "start_time": "2025-04-01T01:36:52.422897",
     "status": "completed"
    },
    "tags": []
   },
   "outputs": [
    {
     "name": "stderr",
     "output_type": "stream",
     "text": [
      "Counting images per class: 100%|██████████| 88/88 [00:17<00:00,  4.98it/s]"
     ]
    },
    {
     "name": "stdout",
     "output_type": "stream",
     "text": [
      "Images per class in train_loader:\n",
      "Class 0: 830 images\n",
      "Class 2: 1235 images\n",
      "Class 1: 745 images\n"
     ]
    },
    {
     "name": "stderr",
     "output_type": "stream",
     "text": [
      "\n"
     ]
    }
   ],
   "source": [
    "# Get the counts and print them\n",
    "class_counts = count_images_per_class(train_loader)\n",
    "\n",
    "print(\"Images per class in train_loader:\")\n",
    "for class_label, count in class_counts.items():\n",
    "    print(f\"Class {class_label}: {count} images\")"
   ]
  },
  {
   "cell_type": "code",
   "execution_count": 9,
   "id": "e683b7cf",
   "metadata": {
    "_cell_guid": "a8f02f58-fcb6-4234-9407-45f1c6e3e11e",
    "_uuid": "f66b9f67-0023-42ea-bea2-456f7146ab2e",
    "collapsed": false,
    "execution": {
     "iopub.execute_input": "2025-04-01T01:37:10.145405Z",
     "iopub.status.busy": "2025-04-01T01:37:10.145121Z",
     "iopub.status.idle": "2025-04-01T01:37:14.454541Z",
     "shell.execute_reply": "2025-04-01T01:37:14.453560Z"
    },
    "jupyter": {
     "outputs_hidden": false
    },
    "papermill": {
     "duration": 4.321671,
     "end_time": "2025-04-01T01:37:14.455732",
     "exception": false,
     "start_time": "2025-04-01T01:37:10.134061",
     "status": "completed"
    },
    "tags": []
   },
   "outputs": [
    {
     "name": "stderr",
     "output_type": "stream",
     "text": [
      "Counting images per class: 100%|██████████| 22/22 [00:04<00:00,  5.12it/s]"
     ]
    },
    {
     "name": "stdout",
     "output_type": "stream",
     "text": [
      "Images per class in train_loader:\n",
      "Class 0: 205 images\n",
      "Class 2: 321 images\n",
      "Class 1: 177 images\n"
     ]
    },
    {
     "name": "stderr",
     "output_type": "stream",
     "text": [
      "\n"
     ]
    }
   ],
   "source": [
    "# Get the counts and print them\n",
    "class_counts = count_images_per_class(val_loader)\n",
    "\n",
    "print(\"Images per class in train_loader:\")\n",
    "for class_label, count in class_counts.items():\n",
    "    print(f\"Class {class_label}: {count} images\")"
   ]
  },
  {
   "cell_type": "code",
   "execution_count": 10,
   "id": "0a53372a",
   "metadata": {
    "_cell_guid": "88bb8d1b-8f77-4ef0-9561-13154dfc48ed",
    "_uuid": "472ec271-36da-4330-89d9-beef8fa03a65",
    "collapsed": false,
    "execution": {
     "iopub.execute_input": "2025-04-01T01:37:14.478770Z",
     "iopub.status.busy": "2025-04-01T01:37:14.478470Z",
     "iopub.status.idle": "2025-04-01T01:37:14.484495Z",
     "shell.execute_reply": "2025-04-01T01:37:14.483839Z"
    },
    "jupyter": {
     "outputs_hidden": false
    },
    "papermill": {
     "duration": 0.018518,
     "end_time": "2025-04-01T01:37:14.485782",
     "exception": false,
     "start_time": "2025-04-01T01:37:14.467264",
     "status": "completed"
    },
    "tags": []
   },
   "outputs": [],
   "source": [
    "def extract_blocks(image, context_scale=0.85, target_scale=0.2, num_targets=4, max_overlap=0.5):\n",
    "    # Extract a central context block.\n",
    "    _, H, W = image.shape\n",
    "    context_size = int(context_scale * H)\n",
    "    top = (H - context_size) // 2\n",
    "    left = (W - context_size) // 2\n",
    "    context_block = image[:, top:top+context_size, left:left+context_size]\n",
    "    context_block = torch.nn.functional.interpolate(context_block.unsqueeze(0), size=(224, 224), mode='bilinear', align_corners=False).squeeze(0)\n",
    "    \n",
    "    # Extract num_targets target blocks randomly.\n",
    "    target_blocks = []\n",
    "    for _ in range(num_targets):\n",
    "        target_size = int(target_scale * H)\n",
    "        top_t = random.randint(0, H - target_size)\n",
    "        left_t = random.randint(0, W - target_size)\n",
    "        target_block = image[:, top_t:top_t+target_size, left_t:left_t+target_size]\n",
    "        target_block = torch.nn.functional.interpolate(target_block.unsqueeze(0), size=(224, 224), mode='bilinear', align_corners=False).squeeze(0)\n",
    "        target_blocks.append(target_block)\n",
    "    target_blocks = torch.stack(target_blocks)\n",
    "    return context_block, target_blocks, (top, left, context_size), None"
   ]
  },
  {
   "cell_type": "code",
   "execution_count": 11,
   "id": "e3a45b23",
   "metadata": {
    "_cell_guid": "208fc17d-fc86-444d-9d21-464f592a9cd0",
    "_uuid": "772f2dc6-6685-4a8d-beda-dc9089423fbf",
    "collapsed": false,
    "execution": {
     "iopub.execute_input": "2025-04-01T01:37:14.507952Z",
     "iopub.status.busy": "2025-04-01T01:37:14.507726Z",
     "iopub.status.idle": "2025-04-01T01:37:14.512367Z",
     "shell.execute_reply": "2025-04-01T01:37:14.511704Z"
    },
    "jupyter": {
     "outputs_hidden": false
    },
    "papermill": {
     "duration": 0.016989,
     "end_time": "2025-04-01T01:37:14.513526",
     "exception": false,
     "start_time": "2025-04-01T01:37:14.496537",
     "status": "completed"
    },
    "tags": []
   },
   "outputs": [],
   "source": [
    "class IJEPADataset(torch.utils.data.Dataset):\n",
    "    def __init__(self, base_dataset, context_scale=0.85, target_scale=0.2, num_targets=4):\n",
    "        self.base_dataset = base_dataset\n",
    "        self.context_scale = context_scale\n",
    "        self.target_scale = target_scale\n",
    "        self.num_targets = num_targets\n",
    "        \n",
    "    def __len__(self):\n",
    "        return len(self.base_dataset)\n",
    "    \n",
    "    def __getitem__(self, idx):\n",
    "        image, label = self.base_dataset[idx]\n",
    "        context_block, target_blocks, _, _ = extract_blocks(image, self.context_scale, self.target_scale, self.num_targets)\n",
    "        return context_block, target_blocks, label"
   ]
  },
  {
   "cell_type": "code",
   "execution_count": 12,
   "id": "3740ae26",
   "metadata": {
    "_cell_guid": "db9f91fa-4c3f-4929-a2d0-2569fce8e7d6",
    "_uuid": "67fe58d3-5076-436c-99b4-5350a172b545",
    "collapsed": false,
    "execution": {
     "iopub.execute_input": "2025-04-01T01:37:14.536891Z",
     "iopub.status.busy": "2025-04-01T01:37:14.536575Z",
     "iopub.status.idle": "2025-04-01T01:37:14.540324Z",
     "shell.execute_reply": "2025-04-01T01:37:14.539711Z"
    },
    "jupyter": {
     "outputs_hidden": false
    },
    "papermill": {
     "duration": 0.016746,
     "end_time": "2025-04-01T01:37:14.541526",
     "exception": false,
     "start_time": "2025-04-01T01:37:14.524780",
     "status": "completed"
    },
    "tags": []
   },
   "outputs": [],
   "source": [
    "train_ijepa_dataset = IJEPADataset(train_dataset)\n",
    "val_ijepa_dataset   = IJEPADataset(val_dataset)\n",
    "\n",
    "\n",
    "train_loader = DataLoader(train_ijepa_dataset, batch_size=32, shuffle=False)\n",
    "val_loader   = DataLoader(val_ijepa_dataset, batch_size=32, shuffle=False)"
   ]
  },
  {
   "cell_type": "code",
   "execution_count": 13,
   "id": "c08fdbb7",
   "metadata": {
    "_cell_guid": "7aeb9d44-2fd8-4da1-87c0-4b992adb53db",
    "_uuid": "f3ad3daa-80ba-4ae8-8b4e-770815bad02e",
    "collapsed": false,
    "execution": {
     "iopub.execute_input": "2025-04-01T01:37:14.564024Z",
     "iopub.status.busy": "2025-04-01T01:37:14.563778Z",
     "iopub.status.idle": "2025-04-01T01:37:14.567062Z",
     "shell.execute_reply": "2025-04-01T01:37:14.566400Z"
    },
    "jupyter": {
     "outputs_hidden": false
    },
    "papermill": {
     "duration": 0.015735,
     "end_time": "2025-04-01T01:37:14.568274",
     "exception": false,
     "start_time": "2025-04-01T01:37:14.552539",
     "status": "completed"
    },
    "tags": []
   },
   "outputs": [],
   "source": [
    "def get_vit_encoder():\n",
    "    model = vit_b_16(pretrained=False)\n",
    "    model.heads = nn.Identity()  # remove classification head\n",
    "    return model"
   ]
  },
  {
   "cell_type": "code",
   "execution_count": 14,
   "id": "417f159c",
   "metadata": {
    "_cell_guid": "2d8198b7-dbf5-4228-975a-8c733cea1a07",
    "_uuid": "b79e21b1-3b97-4dfc-958f-bddb3c94c746",
    "collapsed": false,
    "execution": {
     "iopub.execute_input": "2025-04-01T01:37:14.590844Z",
     "iopub.status.busy": "2025-04-01T01:37:14.590540Z",
     "iopub.status.idle": "2025-04-01T01:37:17.278646Z",
     "shell.execute_reply": "2025-04-01T01:37:17.277613Z"
    },
    "jupyter": {
     "outputs_hidden": false
    },
    "papermill": {
     "duration": 2.701195,
     "end_time": "2025-04-01T01:37:17.280236",
     "exception": false,
     "start_time": "2025-04-01T01:37:14.579041",
     "status": "completed"
    },
    "tags": []
   },
   "outputs": [
    {
     "name": "stderr",
     "output_type": "stream",
     "text": [
      "/usr/local/lib/python3.10/dist-packages/torchvision/models/_utils.py:208: UserWarning: The parameter 'pretrained' is deprecated since 0.13 and may be removed in the future, please use 'weights' instead.\n",
      "  warnings.warn(\n",
      "/usr/local/lib/python3.10/dist-packages/torchvision/models/_utils.py:223: UserWarning: Arguments other than a weight enum or `None` for 'weights' are deprecated since 0.13 and may be removed in the future. The current behavior is equivalent to passing `weights=None`.\n",
      "  warnings.warn(msg)\n"
     ]
    },
    {
     "data": {
      "text/plain": [
       "<All keys matched successfully>"
      ]
     },
     "execution_count": 14,
     "metadata": {},
     "output_type": "execute_result"
    }
   ],
   "source": [
    "\n",
    "context_encoder = get_vit_encoder().cuda()\n",
    "target_encoder  = get_vit_encoder().cuda()\n",
    "target_encoder.load_state_dict(context_encoder.state_dict())"
   ]
  },
  {
   "cell_type": "code",
   "execution_count": 15,
   "id": "34a500c8",
   "metadata": {
    "_cell_guid": "9206cc42-0845-4604-ab30-6852e28e2dcb",
    "_uuid": "e303f4ac-a09b-4f56-b997-6b364d63a675",
    "collapsed": false,
    "execution": {
     "iopub.execute_input": "2025-04-01T01:37:17.304554Z",
     "iopub.status.busy": "2025-04-01T01:37:17.304265Z",
     "iopub.status.idle": "2025-04-01T01:37:17.309379Z",
     "shell.execute_reply": "2025-04-01T01:37:17.308469Z"
    },
    "jupyter": {
     "outputs_hidden": false
    },
    "papermill": {
     "duration": 0.018589,
     "end_time": "2025-04-01T01:37:17.310744",
     "exception": false,
     "start_time": "2025-04-01T01:37:17.292155",
     "status": "completed"
    },
    "tags": []
   },
   "outputs": [],
   "source": [
    "class Predictor(nn.Module):\n",
    "    def __init__(self, input_dim=768, hidden_dim=768, output_dim=768, num_targets=4):\n",
    "        super().__init__()\n",
    "        self.num_targets = num_targets\n",
    "        self.mlp = nn.Sequential(\n",
    "            nn.Linear(input_dim, hidden_dim),\n",
    "            nn.ReLU(),\n",
    "            nn.Linear(hidden_dim, output_dim * num_targets)\n",
    "        )\n",
    "    def forward(self, context_repr):\n",
    "        pred = self.mlp(context_repr)\n",
    "        # Reshape to [B, num_targets, output_dim]\n",
    "        return pred.view(-1, self.num_targets, pred.size(-1) // self.num_targets)"
   ]
  },
  {
   "cell_type": "code",
   "execution_count": 16,
   "id": "9f913b5c",
   "metadata": {
    "_cell_guid": "e10ef302-1659-4a97-9bbb-2de90ac902c9",
    "_uuid": "66d2337f-fb52-4652-9da7-242ce9d9d5e1",
    "collapsed": false,
    "execution": {
     "iopub.execute_input": "2025-04-01T01:37:17.334478Z",
     "iopub.status.busy": "2025-04-01T01:37:17.334237Z",
     "iopub.status.idle": "2025-04-01T01:37:17.361769Z",
     "shell.execute_reply": "2025-04-01T01:37:17.360892Z"
    },
    "jupyter": {
     "outputs_hidden": false
    },
    "papermill": {
     "duration": 0.040943,
     "end_time": "2025-04-01T01:37:17.363112",
     "exception": false,
     "start_time": "2025-04-01T01:37:17.322169",
     "status": "completed"
    },
    "tags": []
   },
   "outputs": [],
   "source": [
    "# 6. Set up optimizer, loss, and EMA update (same as your CIFAR code).\n",
    "predictor = Predictor().cuda()\n",
    "optimizer = optim.Adam(list(context_encoder.parameters()) + list(predictor.parameters()), lr=1e-3)\n",
    "criterion = nn.MSELoss()\n",
    "ema_decay = 0.99"
   ]
  },
  {
   "cell_type": "code",
   "execution_count": 17,
   "id": "bb8feb21",
   "metadata": {
    "_cell_guid": "aece458a-d1da-4334-804f-b054cf8ed0fc",
    "_uuid": "0e90599a-d03d-4231-a58a-1272a3613cc3",
    "collapsed": false,
    "execution": {
     "iopub.execute_input": "2025-04-01T01:37:17.386730Z",
     "iopub.status.busy": "2025-04-01T01:37:17.386470Z",
     "iopub.status.idle": "2025-04-01T01:37:17.390391Z",
     "shell.execute_reply": "2025-04-01T01:37:17.389704Z"
    },
    "jupyter": {
     "outputs_hidden": false
    },
    "papermill": {
     "duration": 0.017037,
     "end_time": "2025-04-01T01:37:17.391703",
     "exception": false,
     "start_time": "2025-04-01T01:37:17.374666",
     "status": "completed"
    },
    "tags": []
   },
   "outputs": [],
   "source": [
    "@torch.no_grad()\n",
    "def update_ema(model, model_ema, beta):\n",
    "    for param, param_ema in zip(model.parameters(), model_ema.parameters()):\n",
    "        param_ema.data.mul_(beta).add_(param.data, alpha=1 - beta)"
   ]
  },
  {
   "cell_type": "code",
   "execution_count": 18,
   "id": "df994ed8",
   "metadata": {
    "_cell_guid": "0182b713-044f-4839-9cfc-0369f1eec96d",
    "_uuid": "c8659b2c-5286-4027-b97b-c1ac887bb5f6",
    "collapsed": false,
    "execution": {
     "iopub.execute_input": "2025-04-01T01:37:17.417104Z",
     "iopub.status.busy": "2025-04-01T01:37:17.416825Z",
     "iopub.status.idle": "2025-04-01T01:39:43.534605Z",
     "shell.execute_reply": "2025-04-01T01:39:43.533577Z"
    },
    "jupyter": {
     "outputs_hidden": false
    },
    "papermill": {
     "duration": 146.132028,
     "end_time": "2025-04-01T01:39:43.536176",
     "exception": false,
     "start_time": "2025-04-01T01:37:17.404148",
     "status": "completed"
    },
    "tags": []
   },
   "outputs": [
    {
     "name": "stderr",
     "output_type": "stream",
     "text": [
      "                                                          \r"
     ]
    },
    {
     "name": "stdout",
     "output_type": "stream",
     "text": [
      "Epoch 1/1 - Train Loss: 0.0533 - Epoch Time: 144.25s\n",
      "Checkpoint saved at epoch 1 with loss 0.0533\n",
      "Total Training Time: 146.11s\n"
     ]
    }
   ],
   "source": [
    "# Create a directory for visualizations if it doesn't exist.\n",
    "viz_dir = \"/kaggle/working/viz\"\n",
    "os.makedirs(viz_dir, exist_ok=True)\n",
    "\n",
    "num_epochs = 1\n",
    "ema_decay = 0.99\n",
    "best_loss = float('inf')\n",
    "total_start_time = time.time()\n",
    "\n",
    "for epoch in range(num_epochs):\n",
    "    epoch_start_time = time.time()\n",
    "    context_encoder.train()\n",
    "    predictor.train()\n",
    "    running_loss = 0.0\n",
    "    \n",
    "    # Enumerate over batches with a progress bar.\n",
    "    for batch_idx, (context_block, target_blocks, _) in enumerate(tqdm(train_loader, desc=f\"Epoch {epoch+1}/{num_epochs}\", leave=False)):\n",
    "        context_block = context_block.cuda()            # [B, C, 224, 224]\n",
    "        target_blocks = target_blocks.cuda()              # [B, num_targets, C, 224, 224]\n",
    "        \n",
    "        # Forward pass through context encoder and predictor.\n",
    "        context_repr = context_encoder(context_block)     # [B, 768]\n",
    "        preds = predictor(context_repr)                   # [B, num_targets, 768]\n",
    "        \n",
    "        B, num_targets, C, Ht, Wt = target_blocks.shape\n",
    "        target_blocks_flat = target_blocks.view(B * num_targets, C, Ht, Wt)\n",
    "        with torch.no_grad():\n",
    "            target_repr_flat = target_encoder(target_blocks_flat)\n",
    "        target_repr = target_repr_flat.view(B, num_targets, -1)\n",
    "        \n",
    "        loss = criterion(preds, target_repr)\n",
    "        optimizer.zero_grad()\n",
    "        loss.backward()\n",
    "        optimizer.step()\n",
    "        update_ema(context_encoder, target_encoder, ema_decay)\n",
    "        running_loss += loss.item() * context_block.size(0)\n",
    "        \n",
    "        # --- Visualization for first image of the current batch ---\n",
    "        '''with torch.no_grad():\n",
    "            # Get the first sample's context block and compute its feature vector.\n",
    "            context_img = context_block[0].cpu()  # shape: [C, 224, 224]\n",
    "            context_feat = context_encoder(context_block[0].unsqueeze(0)).cpu().squeeze(0)  # shape: [768]\n",
    "            # Reshape feature vector to a 2D heatmap (24x32).\n",
    "            context_heat = context_feat.view(24, 32).numpy()\n",
    "            \n",
    "            # For target, choose the first target block of the first sample.\n",
    "            target_img = target_blocks[0][0].cpu()  # shape: [C, 224, 224]\n",
    "            target_feat = target_encoder(target_blocks[0][0].unsqueeze(0).to(context_block.device)).cpu().squeeze(0)\n",
    "            target_heat = target_feat.view(24, 32).numpy()\n",
    "            \n",
    "            # Plot the images and corresponding heatmaps.\n",
    "            fig, axs = plt.subplots(2, 2, figsize=(10, 8))\n",
    "            \n",
    "            # Display context block image.\n",
    "            if context_img.shape[0] == 1:\n",
    "                axs[0, 0].imshow(context_img.squeeze(), cmap='gray')\n",
    "            else:\n",
    "                axs[0, 0].imshow(context_img.permute(1, 2, 0))\n",
    "            axs[0, 0].set_title(\"Context Block\")\n",
    "            axs[0, 0].axis(\"off\")\n",
    "            \n",
    "            # Display context feature heatmap.\n",
    "            im0 = axs[0, 1].imshow(context_heat, cmap=\"viridis\")\n",
    "            axs[0, 1].set_title(\"Context Feature Heatmap\")\n",
    "            axs[0, 1].axis(\"off\")\n",
    "            fig.colorbar(im0, ax=axs[0, 1])\n",
    "            \n",
    "            # Display target block image.\n",
    "            if target_img.shape[0] == 1:\n",
    "                axs[1, 0].imshow(target_img.squeeze(), cmap='gray')\n",
    "            else:\n",
    "                axs[1, 0].imshow(target_img.permute(1, 2, 0))\n",
    "            axs[1, 0].set_title(\"Target Block\")\n",
    "            axs[1, 0].axis(\"off\")\n",
    "            \n",
    "            # Display target feature heatmap.\n",
    "            im1 = axs[1, 1].imshow(target_heat, cmap=\"viridis\")\n",
    "            axs[1, 1].set_title(\"Target Feature Heatmap\")\n",
    "            axs[1, 1].axis(\"off\")\n",
    "            fig.colorbar(im1, ax=axs[1, 1])\n",
    "            \n",
    "            # Save the visualization figure with epoch and batch number.\n",
    "            viz_path = os.path.join(viz_dir, f\"epoch{epoch+1}_batch{batch_idx+1}.png\")\n",
    "            plt.savefig(viz_path)\n",
    "            plt.close(fig)'''\n",
    "    \n",
    "    epoch_loss = running_loss / len(train_ijepa_dataset)\n",
    "    epoch_time = time.time() - epoch_start_time\n",
    "    print(f\"Epoch {epoch+1}/{num_epochs} - Train Loss: {epoch_loss:.4f} - Epoch Time: {epoch_time:.2f}s\")\n",
    "    \n",
    "    # Save checkpoint if current epoch loss is lower than previous best.\n",
    "    if epoch_loss < best_loss:\n",
    "        best_loss = epoch_loss\n",
    "        checkpoint = {\n",
    "            'epoch': epoch+1,\n",
    "            'context_encoder_state_dict': context_encoder.state_dict(),\n",
    "            'target_encoder_state_dict': target_encoder.state_dict(),\n",
    "            'predictor_state_dict': predictor.state_dict(),\n",
    "            'optimizer_state_dict': optimizer.state_dict(),\n",
    "            'loss': epoch_loss\n",
    "        }\n",
    "        torch.save(checkpoint, \"/kaggle/working/ijepa_checkpoint_best.pth\")\n",
    "        print(f\"Checkpoint saved at epoch {epoch+1} with loss {epoch_loss:.4f}\")\n",
    "\n",
    "total_train_time = time.time() - total_start_time\n",
    "print(f\"Total Training Time: {total_train_time:.2f}s\")"
   ]
  }
 ],
 "metadata": {
  "accelerator": "GPU",
  "colab": {
   "authorship_tag": "ABX9TyPzRU4Sa85efB68njv1CUKU",
   "gpuType": "A100",
   "include_colab_link": true,
   "machine_shape": "hm",
   "provenance": []
  },
  "kaggle": {
   "accelerator": "gpu",
   "dataSources": [
    {
     "datasetId": 7010008,
     "sourceId": 11224133,
     "sourceType": "datasetVersion"
    }
   ],
   "isGpuEnabled": true,
   "isInternetEnabled": true,
   "language": "python",
   "sourceType": "notebook"
  },
  "kernelspec": {
   "display_name": "Python 3",
   "language": "python",
   "name": "python3"
  },
  "language_info": {
   "codemirror_mode": {
    "name": "ipython",
    "version": 3
   },
   "file_extension": ".py",
   "mimetype": "text/x-python",
   "name": "python",
   "nbconvert_exporter": "python",
   "pygments_lexer": "ipython3",
   "version": "3.10.12"
  },
  "papermill": {
   "default_parameters": {},
   "duration": 205.917842,
   "end_time": "2025-04-01T01:39:46.403189",
   "environment_variables": {},
   "exception": null,
   "input_path": "__notebook__.ipynb",
   "output_path": "__notebook__.ipynb",
   "parameters": {},
   "start_time": "2025-04-01T01:36:20.485347",
   "version": "2.6.0"
  }
 },
 "nbformat": 4,
 "nbformat_minor": 5
}
