{
  "cells": [
    {
      "cell_type": "markdown",
      "metadata": {
        "id": "view-in-github",
        "colab_type": "text"
      },
      "source": [
        "<a href=\"https://colab.research.google.com/github/raihanewubd/selfSupervised/blob/main/AAV_SelSupervised_01.ipynb\" target=\"_parent\"><img src=\"https://colab.research.google.com/assets/colab-badge.svg\" alt=\"Open In Colab\"/></a>"
      ]
    },
    {
      "cell_type": "code",
      "execution_count": null,
      "metadata": {
        "id": "WYQX6eZXJH7s"
      },
      "outputs": [],
      "source": [
        "import torch\n",
        "import torch.nn as nn\n",
        "\n",
        "import torch.nn.functional as F\n",
        "import torch.optim as optim\n",
        "\n",
        "import torchvision\n",
        "import torchvision.transforms as T\n",
        "import torchvision.transforms as transforms\n",
        "import torchvision.models as models\n",
        "import torchvision.datasets as datasets\n",
        "from torch.utils.data import DataLoader, Dataset, random_split, Subset\n",
        "import numpy as np\n",
        "from PIL import Image\n",
        "from google.colab import drive\n",
        "from sklearn.metrics import classification_report\n",
        "import matplotlib.pyplot as plt\n",
        "\n",
        "import os\n",
        "import zipfile\n",
        "import glob\n",
        "import shutil\n",
        "from collections import Counter\n",
        "from scipy import stats\n",
        "from collections import Counter"
      ]
    },
    {
      "cell_type": "code",
      "execution_count": null,
      "metadata": {
        "colab": {
          "base_uri": "https://localhost:8080/"
        },
        "id": "3BlH6VveJNQM",
        "outputId": "cae92ea1-23b4-4c95-9f24-ca903470fda4"
      },
      "outputs": [
        {
          "output_type": "stream",
          "name": "stdout",
          "text": [
            "Mounted at /content/drive\n"
          ]
        }
      ],
      "source": [
        "drive.mount('/content/drive')"
      ]
    },
    {
      "cell_type": "code",
      "execution_count": null,
      "metadata": {
        "id": "cf7UNXT0Jk0q"
      },
      "outputs": [],
      "source": [
        "# Define dataset path\n",
        "zip_path = \"/content/drive/MyDrive/AAVDATASET/100mV1s_segment_raw.zip\"\n",
        "extract_path = \"/content/dataset1/\"\n",
        "# Unzip dataset\n",
        "if not os.path.exists(extract_path):\n",
        "    with zipfile.ZipFile(zip_path, 'r') as zip_ref:\n",
        "        zip_ref.extractall(extract_path)"
      ]
    },
    {
      "cell_type": "code",
      "execution_count": null,
      "metadata": {
        "id": "tyVKL3NYJrjm"
      },
      "outputs": [],
      "source": [
        "data_dir = '/content/dataset/train_val_photos'"
      ]
    },
    {
      "cell_type": "code",
      "execution_count": null,
      "metadata": {
        "id": "qadr_KeKJ9Nm"
      },
      "outputs": [],
      "source": [
        "# Define contrastive (SimCLR-style) transformations.\n",
        "contrastive_transforms = transforms.Compose([\n",
        "    transforms.RandomResizedCrop(size=224, scale=(0.2, 1.0)),\n",
        "    transforms.RandomHorizontalFlip(),\n",
        "    transforms.RandomApply([transforms.ColorJitter(0.4, 0.4, 0.4, 0.1)], p=0.8),\n",
        "    transforms.RandomGrayscale(p=0.2),\n",
        "    transforms.ToTensor(),\n",
        "    transforms.Normalize(mean=[0.485, 0.456, 0.406],\n",
        "                         std=[0.229, 0.224, 0.225])\n",
        "])"
      ]
    },
    {
      "cell_type": "code",
      "execution_count": null,
      "metadata": {
        "id": "jwb7o9SSKAWt"
      },
      "outputs": [],
      "source": [
        "class ContrastiveLearningViewGenerator:\n",
        "    \"\"\"\n",
        "    Given a base transformation, generate two augmented views of the same image.\n",
        "    \"\"\"\n",
        "    def __init__(self, base_transform):\n",
        "        self.base_transform = base_transform\n",
        "\n",
        "    def __call__(self, x):\n",
        "        return [self.base_transform(x), self.base_transform(x)]\n"
      ]
    },
    {
      "cell_type": "code",
      "execution_count": null,
      "metadata": {
        "colab": {
          "base_uri": "https://localhost:8080/"
        },
        "id": "MFhwsz7aJxKw",
        "outputId": "29ac1526-7f6b-4112-e0f2-689f175cb837"
      },
      "outputs": [
        {
          "name": "stdout",
          "output_type": "stream",
          "text": [
            "Dataset class mapping: {'Double': 0, 'Empty': 1, 'Single': 2}\n"
          ]
        }
      ],
      "source": [
        "# Valid image extensions.\n",
        "valid_extensions = ('.jpg', '.jpeg', '.png', '.ppm', '.bmp', '.pgm', '.tif', '.tiff', '.webp')\n",
        "def is_valid_file(file_path):\n",
        "    if any(part.startswith('.') for part in file_path.split(os.sep)):\n",
        "        return False\n",
        "    return file_path.lower().endswith(valid_extensions)\n",
        "\n",
        "# Directory of your dataset (assumes folder structure as before)\n",
        "data_dir = '/content/dataset/train_val_photos'\n",
        "transform = ContrastiveLearningViewGenerator(contrastive_transforms)\n",
        "dataset = datasets.ImageFolder(root=data_dir, transform=transform, is_valid_file=is_valid_file)\n",
        "print(\"Dataset class mapping:\", dataset.class_to_idx)\n",
        "\n",
        "batch_size = 128\n",
        "train_loader = DataLoader(dataset, batch_size=batch_size, shuffle=True, num_workers=4, drop_last=True)"
      ]
    },
    {
      "cell_type": "code",
      "execution_count": null,
      "metadata": {
        "id": "kJIoBX9lKaAn"
      },
      "outputs": [],
      "source": [
        "class SimCLRResNet50(nn.Module):\n",
        "    def __init__(self, projection_dim=128):\n",
        "        super(SimCLRResNet50, self).__init__()\n",
        "        # Load a pretrained ResNet50 model\n",
        "        self.backbone = models.resnet50(pretrained=True)\n",
        "        # Remove the final fully connected layer; output will be a 2048-dim feature vector.\n",
        "        self.backbone.fc = nn.Identity()\n",
        "        # Define a projection head: a two-layer MLP.\n",
        "        self.projection_head = nn.Sequential(\n",
        "            nn.Linear(2048, 1024),\n",
        "            nn.ReLU(),\n",
        "            nn.Linear(1024, projection_dim)\n",
        "        )\n",
        "\n",
        "    def forward(self, x):\n",
        "        features = self.backbone(x)           # Shape: (batch, 2048)\n",
        "        projections = self.projection_head(features)\n",
        "        return F.normalize(projections, dim=1)  # L2 normalization"
      ]
    },
    {
      "cell_type": "code",
      "execution_count": null,
      "metadata": {
        "colab": {
          "base_uri": "https://localhost:8080/"
        },
        "id": "WHBlB4xNKdIR",
        "outputId": "da34c639-fc20-476b-8548-3b45c39d2c2c"
      },
      "outputs": [
        {
          "name": "stderr",
          "output_type": "stream",
          "text": [
            "/usr/local/lib/python3.11/dist-packages/torchvision/models/_utils.py:208: UserWarning: The parameter 'pretrained' is deprecated since 0.13 and may be removed in the future, please use 'weights' instead.\n",
            "  warnings.warn(\n",
            "/usr/local/lib/python3.11/dist-packages/torchvision/models/_utils.py:223: UserWarning: Arguments other than a weight enum or `None` for 'weights' are deprecated since 0.13 and may be removed in the future. The current behavior is equivalent to passing `weights=ResNet50_Weights.IMAGENET1K_V1`. You can also use `weights=ResNet50_Weights.DEFAULT` to get the most up-to-date weights.\n",
            "  warnings.warn(msg)\n",
            "Downloading: \"https://download.pytorch.org/models/resnet50-0676ba61.pth\" to /root/.cache/torch/hub/checkpoints/resnet50-0676ba61.pth\n",
            "100%|██████████| 97.8M/97.8M [00:00<00:00, 204MB/s]\n"
          ]
        }
      ],
      "source": [
        "model = SimCLRResNet50(projection_dim=128)\n",
        "device = torch.device(\"cuda\" if torch.cuda.is_available() else \"cpu\")\n",
        "model = model.to(device)"
      ]
    },
    {
      "cell_type": "code",
      "execution_count": null,
      "metadata": {
        "id": "W4P5efmcKigk"
      },
      "outputs": [],
      "source": [
        "class NTXentLoss(nn.Module):\n",
        "    \"\"\"\n",
        "    Normalized Temperature-Scaled Cross Entropy Loss.\n",
        "    \"\"\"\n",
        "    def __init__(self, batch_size, temperature=0.5, device='cpu'):\n",
        "        super(NTXentLoss, self).__init__()\n",
        "        self.batch_size = batch_size\n",
        "        self.temperature = temperature\n",
        "        self.device = device\n",
        "        self.criterion = nn.CrossEntropyLoss(reduction=\"sum\")\n",
        "        self.mask = self._get_correlated_mask().to(device)\n",
        "\n",
        "    def _get_correlated_mask(self):\n",
        "        N = 2 * self.batch_size\n",
        "        mask = torch.ones((N, N), dtype=bool)\n",
        "        mask = mask.fill_diagonal_(0)\n",
        "        for i in range(self.batch_size):\n",
        "            mask[i, self.batch_size + i] = 0\n",
        "            mask[self.batch_size + i, i] = 0\n",
        "        return mask\n",
        "\n",
        "    def forward(self, z_i, z_j):\n",
        "        N = 2 * self.batch_size\n",
        "        # Concatenate projections from both views.\n",
        "        z = torch.cat([z_i, z_j], dim=0)  # Shape: (2B, projection_dim)\n",
        "        # Cosine similarity matrix.\n",
        "        sim = torch.matmul(z, z.T) / self.temperature\n",
        "        # Positive similarities on the diagonal offset by batch_size.\n",
        "        sim_i_j = torch.diag(sim, self.batch_size)\n",
        "        sim_j_i = torch.diag(sim, -self.batch_size)\n",
        "        positives = torch.cat([sim_i_j, sim_j_i], dim=0).reshape(N, 1)\n",
        "        negatives = sim[self.mask].reshape(N, -1)\n",
        "        labels = torch.zeros(N, dtype=torch.long).to(self.device)\n",
        "        logits = torch.cat([positives, negatives], dim=1)\n",
        "        loss = self.criterion(logits, labels)\n",
        "        loss = loss / N\n",
        "        return loss\n",
        "\n",
        "nt_xent_loss = NTXentLoss(batch_size=batch_size, temperature=0.5, device=device)"
      ]
    },
    {
      "cell_type": "code",
      "execution_count": null,
      "metadata": {
        "colab": {
          "background_save": true,
          "base_uri": "https://localhost:8080/"
        },
        "id": "jD5ia0unKr-Y",
        "outputId": "832031ed-4268-4123-9fb9-7352df9f264b"
      },
      "outputs": [
        {
          "name": "stdout",
          "output_type": "stream",
          "text": [
            "Epoch [1/50] Loss: 4.8943\n",
            "Epoch [2/50] Loss: 4.4959\n",
            "Epoch [3/50] Loss: 4.3831\n",
            "Epoch [4/50] Loss: 4.3317\n"
          ]
        }
      ],
      "source": [
        "optimizer = optim.Adam(model.parameters(), lr=3e-4)\n",
        "num_epochs = 50  # Adjust number of epochs as needed\n",
        "\n",
        "for epoch in range(num_epochs):\n",
        "    model.train()\n",
        "    total_loss = 0.0\n",
        "    for (imgs, _) in train_loader:\n",
        "        # Each sample returns two augmented views.\n",
        "        # imgs shape: [batch_size, 2, C, H, W]\n",
        "        imgs = torch.stack(imgs, dim=1).to(device)  # (B, 2, C, H, W)\n",
        "        img1 = imgs[:, 0, :, :, :]\n",
        "        img2 = imgs[:, 1, :, :, :]\n",
        "\n",
        "        optimizer.zero_grad()\n",
        "        z_i = model(img1)  # Projections for view 1\n",
        "        z_j = model(img2)  # Projections for view 2\n",
        "\n",
        "        loss = nt_xent_loss(z_i, z_j)\n",
        "        loss.backward()\n",
        "        optimizer.step()\n",
        "\n",
        "        total_loss += loss.item()\n",
        "\n",
        "    avg_loss = total_loss / len(train_loader)\n",
        "    print(f\"Epoch [{epoch+1}/{num_epochs}] Loss: {avg_loss:.4f}\")\n",
        "\n",
        "print(\"Contrastive training with ResNet50 completed!\")"
      ]
    },
    {
      "cell_type": "code",
      "source": [
        "# Define valid image extensions and a function to filter out hidden files\n",
        "valid_extensions = ('.jpg', '.jpeg', '.png', '.ppm', '.bmp', '.pgm', '.tif', '.tiff', '.webp')\n",
        "def is_valid_file(file_path):\n",
        "    if any(part.startswith('.') for part in file_path.split(os.sep)):\n",
        "        return False\n",
        "    return file_path.lower().endswith(valid_extensions)\n",
        "\n",
        "# Define transformations: ResNet50 expects 224x224 images with ImageNet normalization\n",
        "transform = transforms.Compose([\n",
        "    transforms.Resize((224, 224)),\n",
        "    transforms.ToTensor(),\n",
        "    transforms.Normalize(mean=[0.485, 0.456, 0.406],\n",
        "                         std=[0.229, 0.224, 0.225])\n",
        "])\n",
        "\n",
        "# Load dataset using ImageFolder\n",
        "dataset = datasets.ImageFolder(root=data_dir, transform=transform, is_valid_file=is_valid_file)\n",
        "print(\"Full dataset class mapping:\", dataset.class_to_idx)\n",
        "# For example, you might see: {'Double': 0, 'Single': 1, 'Unkown': 2}\n",
        "\n",
        "# Filter out the known classes (\"Double\" and \"Single\")\n",
        "known_class_names = ['Double', 'Single']\n",
        "known_classes = [dataset.class_to_idx[name] for name in known_class_names]\n",
        "known_indices = [i for i, (_, label) in enumerate(dataset.samples) if label in known_classes]\n",
        "known_dataset = Subset(dataset, known_indices)\n",
        "\n",
        "# Split the known dataset into training (80%) and validation (20%) sets\n",
        "train_size = int(0.8 * len(known_dataset))\n",
        "val_size = len(known_dataset) - train_size\n",
        "train_dataset, val_dataset = random_split(known_dataset, [train_size, val_size])\n",
        "\n",
        "# Create DataLoaders\n",
        "train_loader = DataLoader(train_dataset, batch_size=32, shuffle=True, num_workers=2)\n",
        "val_loader = DataLoader(val_dataset, batch_size=32, shuffle=False, num_workers=2)"
      ],
      "metadata": {
        "colab": {
          "base_uri": "https://localhost:8080/"
        },
        "id": "lNR4bHVjTvV5",
        "outputId": "ea84e5b4-c09c-491a-c414-435736c8f847"
      },
      "execution_count": null,
      "outputs": [
        {
          "output_type": "stream",
          "name": "stdout",
          "text": [
            "Full dataset class mapping: {'Double': 0, 'Single': 1}\n"
          ]
        }
      ]
    },
    {
      "cell_type": "code",
      "source": [
        "# Check unique labels in the known_dataset\n",
        "all_labels = [label for _, label in known_dataset]\n",
        "print(\"Unique labels in known_dataset:\", set(all_labels))"
      ],
      "metadata": {
        "colab": {
          "base_uri": "https://localhost:8080/"
        },
        "id": "r8FxWi6zUQ0F",
        "outputId": "10f420d7-b7ce-4957-b84e-9f79d02efc05"
      },
      "execution_count": null,
      "outputs": [
        {
          "output_type": "stream",
          "name": "stdout",
          "text": [
            "Unique labels in known_dataset: {0, 1}\n"
          ]
        }
      ]
    },
    {
      "cell_type": "code",
      "source": [
        "import os\n",
        "os.environ[\"CUDA_LAUNCH_BLOCKING\"] = \"1\"\n"
      ],
      "metadata": {
        "id": "rVWZYv0pUVy9"
      },
      "execution_count": null,
      "outputs": []
    },
    {
      "cell_type": "code",
      "source": [
        "# Instantiate and modify ResNet50\n",
        "model = models.resnet50(pretrained=True)\n",
        "num_features = model.fc.in_features\n",
        "model.fc = nn.Linear(num_features, 2)  # Two classes: \"Double\" and \"Single\"\n",
        "\n",
        "device = torch.device(\"cuda\" if torch.cuda.is_available() else \"cpu\")\n",
        "model = model.to(device)\n",
        "\n",
        "criterion = nn.CrossEntropyLoss()\n",
        "optimizer = optim.Adam(model.parameters(), lr=0.001)\n",
        "num_epochs = 10"
      ],
      "metadata": {
        "colab": {
          "base_uri": "https://localhost:8080/"
        },
        "id": "Xk2eO4cGUdDh",
        "outputId": "c9d0f688-7530-4777-ae47-476612f75c98"
      },
      "execution_count": null,
      "outputs": [
        {
          "output_type": "stream",
          "name": "stderr",
          "text": [
            "/usr/local/lib/python3.11/dist-packages/torchvision/models/_utils.py:208: UserWarning: The parameter 'pretrained' is deprecated since 0.13 and may be removed in the future, please use 'weights' instead.\n",
            "  warnings.warn(\n",
            "/usr/local/lib/python3.11/dist-packages/torchvision/models/_utils.py:223: UserWarning: Arguments other than a weight enum or `None` for 'weights' are deprecated since 0.13 and may be removed in the future. The current behavior is equivalent to passing `weights=ResNet50_Weights.IMAGENET1K_V1`. You can also use `weights=ResNet50_Weights.DEFAULT` to get the most up-to-date weights.\n",
            "  warnings.warn(msg)\n"
          ]
        }
      ]
    },
    {
      "cell_type": "code",
      "source": [
        "##############################################\n",
        "# 4. Training Loop with Validation\n",
        "##############################################\n",
        "\n",
        "for epoch in range(num_epochs):\n",
        "    # Training phase\n",
        "    model.train()\n",
        "    running_loss = 0.0\n",
        "    running_corrects = 0\n",
        "    for images, labels in train_loader:\n",
        "        try:\n",
        "            images = images.to(device)  # Move images to GPU\n",
        "            labels = labels.to(device)  # Move labels to GPU\n",
        "\n",
        "            optimizer.zero_grad()\n",
        "            outputs = model(images)\n",
        "            loss = criterion(outputs, labels)\n",
        "            loss.backward()\n",
        "            optimizer.step()\n",
        "\n",
        "            running_loss += loss.item() * images.size(0)\n",
        "            _, preds = torch.max(outputs, 1)\n",
        "            running_corrects += torch.sum(preds == labels.data)\n",
        "\n",
        "        except RuntimeError as e:\n",
        "            print(f\"Error occurred during training: {e}\")\n",
        "            print(f\"Image shape: {images.shape}\")\n",
        "            print(f\"Labels: {labels}\")\n",
        "            # You might want to save the problematic image for further inspection\n",
        "            # torchvision.utils.save_image(images[0], 'problematic_image.png')\n",
        "            break  # Exit the loop to prevent further errors\n",
        "    epoch_loss = running_loss / len(train_dataset)\n",
        "    epoch_acc = running_corrects.double() / len(train_dataset)\n",
        "\n",
        "    # Validation phase\n",
        "    model.eval()\n",
        "    val_loss = 0.0\n",
        "    val_corrects = 0\n",
        "    with torch.no_grad():\n",
        "        for images, labels in val_loader:\n",
        "            images = images.to(device)\n",
        "            labels = labels.to(device)\n",
        "            outputs = model(images)\n",
        "            loss = criterion(outputs, labels)\n",
        "            val_loss += loss.item() * images.size(0)\n",
        "            _, preds = torch.max(outputs, 1)\n",
        "            val_corrects += torch.sum(preds == labels.data)\n",
        "\n",
        "    val_loss = val_loss / len(val_dataset)\n",
        "    val_acc = val_corrects.double() / len(val_dataset)\n",
        "\n",
        "    print(f\"Epoch [{epoch+1}/{num_epochs}] \"\n",
        "          f\"Train Loss: {epoch_loss:.4f}, Train Acc: {epoch_acc:.4f} | \"\n",
        "          f\"Val Loss: {val_loss:.4f}, Val Acc: {val_acc:.4f}\")\n",
        "\n",
        "# Save the fine-tuned model\n",
        "torch.save(model.state_dict(), \"resnet50_finetuned.pth\")\n",
        "print(\"Model saved as 'resnet50_finetuned.pth'\")"
      ],
      "metadata": {
        "colab": {
          "base_uri": "https://localhost:8080/"
        },
        "id": "F_7qyRTFSNPn",
        "outputId": "0632a59a-78bc-4c85-f3bd-c7f483a8a405"
      },
      "execution_count": null,
      "outputs": [
        {
          "output_type": "stream",
          "name": "stdout",
          "text": [
            "Epoch [1/10] Train Loss: 0.2220, Train Acc: 0.9137 | Val Loss: 2.9097, Val Acc: 0.5236\n",
            "Epoch [2/10] Train Loss: 0.1195, Train Acc: 0.9669 | Val Loss: 3.2235, Val Acc: 0.5259\n",
            "Epoch [3/10] Train Loss: 0.1080, Train Acc: 0.9616 | Val Loss: 2.8051, Val Acc: 0.6203\n",
            "Epoch [4/10] Train Loss: 0.1046, Train Acc: 0.9669 | Val Loss: 1.1347, Val Acc: 0.7146\n",
            "Epoch [5/10] Train Loss: 0.0761, Train Acc: 0.9752 | Val Loss: 0.1346, Val Acc: 0.9434\n",
            "Epoch [6/10] Train Loss: 0.0733, Train Acc: 0.9728 | Val Loss: 2.4247, Val Acc: 0.5354\n",
            "Epoch [7/10] Train Loss: 0.0681, Train Acc: 0.9770 | Val Loss: 0.0756, Val Acc: 0.9811\n",
            "Epoch [8/10] Train Loss: 0.0419, Train Acc: 0.9870 | Val Loss: 3.1346, Val Acc: 0.5236\n",
            "Epoch [9/10] Train Loss: 0.0626, Train Acc: 0.9840 | Val Loss: 0.7144, Val Acc: 0.7476\n",
            "Epoch [10/10] Train Loss: 0.0241, Train Acc: 0.9929 | Val Loss: 0.2116, Val Acc: 0.9340\n",
            "Model saved as 'resnet50_finetuned.pth'\n"
          ]
        }
      ]
    },
    {
      "cell_type": "markdown",
      "source": [
        "# 1. Data Augmentation and Dataset Setup"
      ],
      "metadata": {
        "id": "p2SAXRcccpEU"
      }
    },
    {
      "cell_type": "code",
      "source": [
        "# Define a set of augmentations for contrastive learning (SimCLR-style)\n",
        "contrastive_transforms = transforms.Compose([\n",
        "    transforms.RandomResizedCrop(size=224, scale=(0.2, 1.0)),\n",
        "    transforms.RandomHorizontalFlip(),\n",
        "    transforms.RandomApply([transforms.ColorJitter(0.4, 0.4, 0.4, 0.1)], p=0.8),\n",
        "    transforms.RandomGrayscale(p=0.2),\n",
        "    transforms.ToTensor(),\n",
        "    transforms.Normalize(mean=[0.485, 0.456, 0.406],\n",
        "                         std=[0.229, 0.224, 0.225])\n",
        "])\n",
        "\n",
        "# A wrapper that produces two augmented views for each image\n",
        "class ContrastiveLearningViewGenerator:\n",
        "    def __init__(self, base_transform):\n",
        "        self.base_transform = base_transform\n",
        "    def __call__(self, x):\n",
        "        return [self.base_transform(x), self.base_transform(x)]\n",
        "\n",
        "# Optionally, filter valid files (if needed)\n",
        "def is_valid_file(file_path):\n",
        "    valid_extensions = ('.jpg', '.jpeg', '.png', '.ppm', '.bmp', '.pgm', '.tif', '.tiff', '.webp')\n",
        "    if any(part.startswith('.') for part in file_path.split(os.sep)):\n",
        "        return False\n",
        "    return file_path.lower().endswith(valid_extensions)"
      ],
      "metadata": {
        "id": "gBGwIPuycoh5"
      },
      "execution_count": null,
      "outputs": []
    },
    {
      "cell_type": "code",
      "source": [
        "data_dir = '/content/dataset1/train_val_photos'\n",
        "view_generator = ContrastiveLearningViewGenerator(contrastive_transforms)\n",
        "dataset = datasets.ImageFolder(root=data_dir, transform=view_generator, is_valid_file=is_valid_file)\n",
        "print(\"Dataset class mapping:\", dataset.class_to_idx)"
      ],
      "metadata": {
        "colab": {
          "base_uri": "https://localhost:8080/"
        },
        "id": "MUCPjQWqcwta",
        "outputId": "0e386190-b0ae-4eb4-96a3-f16b16a75649"
      },
      "execution_count": null,
      "outputs": [
        {
          "output_type": "stream",
          "name": "stdout",
          "text": [
            "Dataset class mapping: {'Double': 0, 'Single': 1, 'Unknown': 2}\n"
          ]
        }
      ]
    },
    {
      "cell_type": "code",
      "source": [
        "# Use all data for contrastive learning; you can include unknown samples if desired.\n",
        "batch_size = 128\n",
        "train_loader = DataLoader(dataset, batch_size=batch_size, shuffle=True, num_workers=4, drop_last=True)\n"
      ],
      "metadata": {
        "id": "99jph6aLc--i"
      },
      "execution_count": null,
      "outputs": []
    },
    {
      "cell_type": "markdown",
      "source": [
        "# 2. Build the Model Using Fine-Tuned ResNet50"
      ],
      "metadata": {
        "id": "d_CIHIYLdFJy"
      }
    },
    {
      "cell_type": "code",
      "source": [
        "model_ft = models.resnet50(pretrained=False)\n",
        "num_features = model_ft.fc.in_features\n",
        "model_ft.fc = nn.Linear(num_features, 2)  # Originally fine-tuned for 2 classes\n",
        "model_ft.load_state_dict(torch.load(\"resnet50_finetuned.pth\"))\n",
        "model_ft.eval()\n"
      ],
      "metadata": {
        "colab": {
          "base_uri": "https://localhost:8080/"
        },
        "id": "LPZdrfaXdMPY",
        "outputId": "cf0bf484-d683-49d8-e468-6d6a78775944"
      },
      "execution_count": null,
      "outputs": [
        {
          "output_type": "stream",
          "name": "stderr",
          "text": [
            "/usr/local/lib/python3.11/dist-packages/torchvision/models/_utils.py:223: UserWarning: Arguments other than a weight enum or `None` for 'weights' are deprecated since 0.13 and may be removed in the future. The current behavior is equivalent to passing `weights=None`.\n",
            "  warnings.warn(msg)\n"
          ]
        },
        {
          "output_type": "execute_result",
          "data": {
            "text/plain": [
              "ResNet(\n",
              "  (conv1): Conv2d(3, 64, kernel_size=(7, 7), stride=(2, 2), padding=(3, 3), bias=False)\n",
              "  (bn1): BatchNorm2d(64, eps=1e-05, momentum=0.1, affine=True, track_running_stats=True)\n",
              "  (relu): ReLU(inplace=True)\n",
              "  (maxpool): MaxPool2d(kernel_size=3, stride=2, padding=1, dilation=1, ceil_mode=False)\n",
              "  (layer1): Sequential(\n",
              "    (0): Bottleneck(\n",
              "      (conv1): Conv2d(64, 64, kernel_size=(1, 1), stride=(1, 1), bias=False)\n",
              "      (bn1): BatchNorm2d(64, eps=1e-05, momentum=0.1, affine=True, track_running_stats=True)\n",
              "      (conv2): Conv2d(64, 64, kernel_size=(3, 3), stride=(1, 1), padding=(1, 1), bias=False)\n",
              "      (bn2): BatchNorm2d(64, eps=1e-05, momentum=0.1, affine=True, track_running_stats=True)\n",
              "      (conv3): Conv2d(64, 256, kernel_size=(1, 1), stride=(1, 1), bias=False)\n",
              "      (bn3): BatchNorm2d(256, eps=1e-05, momentum=0.1, affine=True, track_running_stats=True)\n",
              "      (relu): ReLU(inplace=True)\n",
              "      (downsample): Sequential(\n",
              "        (0): Conv2d(64, 256, kernel_size=(1, 1), stride=(1, 1), bias=False)\n",
              "        (1): BatchNorm2d(256, eps=1e-05, momentum=0.1, affine=True, track_running_stats=True)\n",
              "      )\n",
              "    )\n",
              "    (1): Bottleneck(\n",
              "      (conv1): Conv2d(256, 64, kernel_size=(1, 1), stride=(1, 1), bias=False)\n",
              "      (bn1): BatchNorm2d(64, eps=1e-05, momentum=0.1, affine=True, track_running_stats=True)\n",
              "      (conv2): Conv2d(64, 64, kernel_size=(3, 3), stride=(1, 1), padding=(1, 1), bias=False)\n",
              "      (bn2): BatchNorm2d(64, eps=1e-05, momentum=0.1, affine=True, track_running_stats=True)\n",
              "      (conv3): Conv2d(64, 256, kernel_size=(1, 1), stride=(1, 1), bias=False)\n",
              "      (bn3): BatchNorm2d(256, eps=1e-05, momentum=0.1, affine=True, track_running_stats=True)\n",
              "      (relu): ReLU(inplace=True)\n",
              "    )\n",
              "    (2): Bottleneck(\n",
              "      (conv1): Conv2d(256, 64, kernel_size=(1, 1), stride=(1, 1), bias=False)\n",
              "      (bn1): BatchNorm2d(64, eps=1e-05, momentum=0.1, affine=True, track_running_stats=True)\n",
              "      (conv2): Conv2d(64, 64, kernel_size=(3, 3), stride=(1, 1), padding=(1, 1), bias=False)\n",
              "      (bn2): BatchNorm2d(64, eps=1e-05, momentum=0.1, affine=True, track_running_stats=True)\n",
              "      (conv3): Conv2d(64, 256, kernel_size=(1, 1), stride=(1, 1), bias=False)\n",
              "      (bn3): BatchNorm2d(256, eps=1e-05, momentum=0.1, affine=True, track_running_stats=True)\n",
              "      (relu): ReLU(inplace=True)\n",
              "    )\n",
              "  )\n",
              "  (layer2): Sequential(\n",
              "    (0): Bottleneck(\n",
              "      (conv1): Conv2d(256, 128, kernel_size=(1, 1), stride=(1, 1), bias=False)\n",
              "      (bn1): BatchNorm2d(128, eps=1e-05, momentum=0.1, affine=True, track_running_stats=True)\n",
              "      (conv2): Conv2d(128, 128, kernel_size=(3, 3), stride=(2, 2), padding=(1, 1), bias=False)\n",
              "      (bn2): BatchNorm2d(128, eps=1e-05, momentum=0.1, affine=True, track_running_stats=True)\n",
              "      (conv3): Conv2d(128, 512, kernel_size=(1, 1), stride=(1, 1), bias=False)\n",
              "      (bn3): BatchNorm2d(512, eps=1e-05, momentum=0.1, affine=True, track_running_stats=True)\n",
              "      (relu): ReLU(inplace=True)\n",
              "      (downsample): Sequential(\n",
              "        (0): Conv2d(256, 512, kernel_size=(1, 1), stride=(2, 2), bias=False)\n",
              "        (1): BatchNorm2d(512, eps=1e-05, momentum=0.1, affine=True, track_running_stats=True)\n",
              "      )\n",
              "    )\n",
              "    (1): Bottleneck(\n",
              "      (conv1): Conv2d(512, 128, kernel_size=(1, 1), stride=(1, 1), bias=False)\n",
              "      (bn1): BatchNorm2d(128, eps=1e-05, momentum=0.1, affine=True, track_running_stats=True)\n",
              "      (conv2): Conv2d(128, 128, kernel_size=(3, 3), stride=(1, 1), padding=(1, 1), bias=False)\n",
              "      (bn2): BatchNorm2d(128, eps=1e-05, momentum=0.1, affine=True, track_running_stats=True)\n",
              "      (conv3): Conv2d(128, 512, kernel_size=(1, 1), stride=(1, 1), bias=False)\n",
              "      (bn3): BatchNorm2d(512, eps=1e-05, momentum=0.1, affine=True, track_running_stats=True)\n",
              "      (relu): ReLU(inplace=True)\n",
              "    )\n",
              "    (2): Bottleneck(\n",
              "      (conv1): Conv2d(512, 128, kernel_size=(1, 1), stride=(1, 1), bias=False)\n",
              "      (bn1): BatchNorm2d(128, eps=1e-05, momentum=0.1, affine=True, track_running_stats=True)\n",
              "      (conv2): Conv2d(128, 128, kernel_size=(3, 3), stride=(1, 1), padding=(1, 1), bias=False)\n",
              "      (bn2): BatchNorm2d(128, eps=1e-05, momentum=0.1, affine=True, track_running_stats=True)\n",
              "      (conv3): Conv2d(128, 512, kernel_size=(1, 1), stride=(1, 1), bias=False)\n",
              "      (bn3): BatchNorm2d(512, eps=1e-05, momentum=0.1, affine=True, track_running_stats=True)\n",
              "      (relu): ReLU(inplace=True)\n",
              "    )\n",
              "    (3): Bottleneck(\n",
              "      (conv1): Conv2d(512, 128, kernel_size=(1, 1), stride=(1, 1), bias=False)\n",
              "      (bn1): BatchNorm2d(128, eps=1e-05, momentum=0.1, affine=True, track_running_stats=True)\n",
              "      (conv2): Conv2d(128, 128, kernel_size=(3, 3), stride=(1, 1), padding=(1, 1), bias=False)\n",
              "      (bn2): BatchNorm2d(128, eps=1e-05, momentum=0.1, affine=True, track_running_stats=True)\n",
              "      (conv3): Conv2d(128, 512, kernel_size=(1, 1), stride=(1, 1), bias=False)\n",
              "      (bn3): BatchNorm2d(512, eps=1e-05, momentum=0.1, affine=True, track_running_stats=True)\n",
              "      (relu): ReLU(inplace=True)\n",
              "    )\n",
              "  )\n",
              "  (layer3): Sequential(\n",
              "    (0): Bottleneck(\n",
              "      (conv1): Conv2d(512, 256, kernel_size=(1, 1), stride=(1, 1), bias=False)\n",
              "      (bn1): BatchNorm2d(256, eps=1e-05, momentum=0.1, affine=True, track_running_stats=True)\n",
              "      (conv2): Conv2d(256, 256, kernel_size=(3, 3), stride=(2, 2), padding=(1, 1), bias=False)\n",
              "      (bn2): BatchNorm2d(256, eps=1e-05, momentum=0.1, affine=True, track_running_stats=True)\n",
              "      (conv3): Conv2d(256, 1024, kernel_size=(1, 1), stride=(1, 1), bias=False)\n",
              "      (bn3): BatchNorm2d(1024, eps=1e-05, momentum=0.1, affine=True, track_running_stats=True)\n",
              "      (relu): ReLU(inplace=True)\n",
              "      (downsample): Sequential(\n",
              "        (0): Conv2d(512, 1024, kernel_size=(1, 1), stride=(2, 2), bias=False)\n",
              "        (1): BatchNorm2d(1024, eps=1e-05, momentum=0.1, affine=True, track_running_stats=True)\n",
              "      )\n",
              "    )\n",
              "    (1): Bottleneck(\n",
              "      (conv1): Conv2d(1024, 256, kernel_size=(1, 1), stride=(1, 1), bias=False)\n",
              "      (bn1): BatchNorm2d(256, eps=1e-05, momentum=0.1, affine=True, track_running_stats=True)\n",
              "      (conv2): Conv2d(256, 256, kernel_size=(3, 3), stride=(1, 1), padding=(1, 1), bias=False)\n",
              "      (bn2): BatchNorm2d(256, eps=1e-05, momentum=0.1, affine=True, track_running_stats=True)\n",
              "      (conv3): Conv2d(256, 1024, kernel_size=(1, 1), stride=(1, 1), bias=False)\n",
              "      (bn3): BatchNorm2d(1024, eps=1e-05, momentum=0.1, affine=True, track_running_stats=True)\n",
              "      (relu): ReLU(inplace=True)\n",
              "    )\n",
              "    (2): Bottleneck(\n",
              "      (conv1): Conv2d(1024, 256, kernel_size=(1, 1), stride=(1, 1), bias=False)\n",
              "      (bn1): BatchNorm2d(256, eps=1e-05, momentum=0.1, affine=True, track_running_stats=True)\n",
              "      (conv2): Conv2d(256, 256, kernel_size=(3, 3), stride=(1, 1), padding=(1, 1), bias=False)\n",
              "      (bn2): BatchNorm2d(256, eps=1e-05, momentum=0.1, affine=True, track_running_stats=True)\n",
              "      (conv3): Conv2d(256, 1024, kernel_size=(1, 1), stride=(1, 1), bias=False)\n",
              "      (bn3): BatchNorm2d(1024, eps=1e-05, momentum=0.1, affine=True, track_running_stats=True)\n",
              "      (relu): ReLU(inplace=True)\n",
              "    )\n",
              "    (3): Bottleneck(\n",
              "      (conv1): Conv2d(1024, 256, kernel_size=(1, 1), stride=(1, 1), bias=False)\n",
              "      (bn1): BatchNorm2d(256, eps=1e-05, momentum=0.1, affine=True, track_running_stats=True)\n",
              "      (conv2): Conv2d(256, 256, kernel_size=(3, 3), stride=(1, 1), padding=(1, 1), bias=False)\n",
              "      (bn2): BatchNorm2d(256, eps=1e-05, momentum=0.1, affine=True, track_running_stats=True)\n",
              "      (conv3): Conv2d(256, 1024, kernel_size=(1, 1), stride=(1, 1), bias=False)\n",
              "      (bn3): BatchNorm2d(1024, eps=1e-05, momentum=0.1, affine=True, track_running_stats=True)\n",
              "      (relu): ReLU(inplace=True)\n",
              "    )\n",
              "    (4): Bottleneck(\n",
              "      (conv1): Conv2d(1024, 256, kernel_size=(1, 1), stride=(1, 1), bias=False)\n",
              "      (bn1): BatchNorm2d(256, eps=1e-05, momentum=0.1, affine=True, track_running_stats=True)\n",
              "      (conv2): Conv2d(256, 256, kernel_size=(3, 3), stride=(1, 1), padding=(1, 1), bias=False)\n",
              "      (bn2): BatchNorm2d(256, eps=1e-05, momentum=0.1, affine=True, track_running_stats=True)\n",
              "      (conv3): Conv2d(256, 1024, kernel_size=(1, 1), stride=(1, 1), bias=False)\n",
              "      (bn3): BatchNorm2d(1024, eps=1e-05, momentum=0.1, affine=True, track_running_stats=True)\n",
              "      (relu): ReLU(inplace=True)\n",
              "    )\n",
              "    (5): Bottleneck(\n",
              "      (conv1): Conv2d(1024, 256, kernel_size=(1, 1), stride=(1, 1), bias=False)\n",
              "      (bn1): BatchNorm2d(256, eps=1e-05, momentum=0.1, affine=True, track_running_stats=True)\n",
              "      (conv2): Conv2d(256, 256, kernel_size=(3, 3), stride=(1, 1), padding=(1, 1), bias=False)\n",
              "      (bn2): BatchNorm2d(256, eps=1e-05, momentum=0.1, affine=True, track_running_stats=True)\n",
              "      (conv3): Conv2d(256, 1024, kernel_size=(1, 1), stride=(1, 1), bias=False)\n",
              "      (bn3): BatchNorm2d(1024, eps=1e-05, momentum=0.1, affine=True, track_running_stats=True)\n",
              "      (relu): ReLU(inplace=True)\n",
              "    )\n",
              "  )\n",
              "  (layer4): Sequential(\n",
              "    (0): Bottleneck(\n",
              "      (conv1): Conv2d(1024, 512, kernel_size=(1, 1), stride=(1, 1), bias=False)\n",
              "      (bn1): BatchNorm2d(512, eps=1e-05, momentum=0.1, affine=True, track_running_stats=True)\n",
              "      (conv2): Conv2d(512, 512, kernel_size=(3, 3), stride=(2, 2), padding=(1, 1), bias=False)\n",
              "      (bn2): BatchNorm2d(512, eps=1e-05, momentum=0.1, affine=True, track_running_stats=True)\n",
              "      (conv3): Conv2d(512, 2048, kernel_size=(1, 1), stride=(1, 1), bias=False)\n",
              "      (bn3): BatchNorm2d(2048, eps=1e-05, momentum=0.1, affine=True, track_running_stats=True)\n",
              "      (relu): ReLU(inplace=True)\n",
              "      (downsample): Sequential(\n",
              "        (0): Conv2d(1024, 2048, kernel_size=(1, 1), stride=(2, 2), bias=False)\n",
              "        (1): BatchNorm2d(2048, eps=1e-05, momentum=0.1, affine=True, track_running_stats=True)\n",
              "      )\n",
              "    )\n",
              "    (1): Bottleneck(\n",
              "      (conv1): Conv2d(2048, 512, kernel_size=(1, 1), stride=(1, 1), bias=False)\n",
              "      (bn1): BatchNorm2d(512, eps=1e-05, momentum=0.1, affine=True, track_running_stats=True)\n",
              "      (conv2): Conv2d(512, 512, kernel_size=(3, 3), stride=(1, 1), padding=(1, 1), bias=False)\n",
              "      (bn2): BatchNorm2d(512, eps=1e-05, momentum=0.1, affine=True, track_running_stats=True)\n",
              "      (conv3): Conv2d(512, 2048, kernel_size=(1, 1), stride=(1, 1), bias=False)\n",
              "      (bn3): BatchNorm2d(2048, eps=1e-05, momentum=0.1, affine=True, track_running_stats=True)\n",
              "      (relu): ReLU(inplace=True)\n",
              "    )\n",
              "    (2): Bottleneck(\n",
              "      (conv1): Conv2d(2048, 512, kernel_size=(1, 1), stride=(1, 1), bias=False)\n",
              "      (bn1): BatchNorm2d(512, eps=1e-05, momentum=0.1, affine=True, track_running_stats=True)\n",
              "      (conv2): Conv2d(512, 512, kernel_size=(3, 3), stride=(1, 1), padding=(1, 1), bias=False)\n",
              "      (bn2): BatchNorm2d(512, eps=1e-05, momentum=0.1, affine=True, track_running_stats=True)\n",
              "      (conv3): Conv2d(512, 2048, kernel_size=(1, 1), stride=(1, 1), bias=False)\n",
              "      (bn3): BatchNorm2d(2048, eps=1e-05, momentum=0.1, affine=True, track_running_stats=True)\n",
              "      (relu): ReLU(inplace=True)\n",
              "    )\n",
              "  )\n",
              "  (avgpool): AdaptiveAvgPool2d(output_size=(1, 1))\n",
              "  (fc): Linear(in_features=2048, out_features=2, bias=True)\n",
              ")"
            ]
          },
          "metadata": {},
          "execution_count": 18
        }
      ]
    },
    {
      "cell_type": "code",
      "source": [
        "# Remove the classification head (set it to Identity) to use the backbone for feature extraction\n",
        "model_ft.fc = nn.Identity()\n"
      ],
      "metadata": {
        "id": "XOWOIAQ5dPkK"
      },
      "execution_count": null,
      "outputs": []
    },
    {
      "cell_type": "code",
      "source": [
        "# Define a projection head (an MLP) for SimCLR\n",
        "class ProjectionHead(nn.Module):\n",
        "    def __init__(self, input_dim=2048, projection_dim=128):\n",
        "        super(ProjectionHead, self).__init__()\n",
        "        self.net = nn.Sequential(\n",
        "            nn.Linear(input_dim, 1024),\n",
        "            nn.ReLU(),\n",
        "            nn.Linear(1024, projection_dim)\n",
        "        )\n",
        "    def forward(self, x):\n",
        "        x = self.net(x)\n",
        "        return F.normalize(x, dim=1)"
      ],
      "metadata": {
        "id": "i5XbrGTZdSas"
      },
      "execution_count": null,
      "outputs": []
    },
    {
      "cell_type": "code",
      "source": [
        "# Combine the backbone and projection head into one model\n",
        "class SimCLRModel(nn.Module):\n",
        "    def __init__(self, backbone, projection_dim=128):\n",
        "        super(SimCLRModel, self).__init__()\n",
        "        self.backbone = backbone  # Pre-trained fine-tuned ResNet50 backbone\n",
        "        self.projection_head = ProjectionHead(input_dim=2048, projection_dim=projection_dim)\n",
        "    def forward(self, x):\n",
        "        features = self.backbone(x)\n",
        "        projections = self.projection_head(features)\n",
        "        return projections"
      ],
      "metadata": {
        "id": "Ittferw2dYio"
      },
      "execution_count": null,
      "outputs": []
    },
    {
      "cell_type": "code",
      "source": [
        "# Instantiate the SimCLR model using the fine-tuned backbone\n",
        "model = SimCLRModel(backbone=model_ft, projection_dim=128)\n",
        "device = torch.device(\"cuda\" if torch.cuda.is_available() else \"cpu\")\n",
        "model = model.to(device)"
      ],
      "metadata": {
        "id": "31Z1TPQLdaig"
      },
      "execution_count": null,
      "outputs": []
    },
    {
      "cell_type": "markdown",
      "source": [
        "# 3. Define the NT-Xent Loss (Contrastive Loss)"
      ],
      "metadata": {
        "id": "cLYBRVksdc-s"
      }
    },
    {
      "cell_type": "code",
      "source": [
        "class NTXentLoss(nn.Module):\n",
        "    def __init__(self, batch_size, temperature=0.5, device='cpu'):\n",
        "        super(NTXentLoss, self).__init__()\n",
        "        self.batch_size = batch_size\n",
        "        self.temperature = temperature\n",
        "        self.device = device\n",
        "        self.criterion = nn.CrossEntropyLoss(reduction=\"sum\")\n",
        "        self.mask = self._get_correlated_mask().to(device)\n",
        "\n",
        "    def _get_correlated_mask(self):\n",
        "        N = 2 * self.batch_size\n",
        "        mask = torch.ones((N, N), dtype=bool)\n",
        "        mask = mask.fill_diagonal_(0)\n",
        "        for i in range(self.batch_size):\n",
        "            mask[i, self.batch_size + i] = 0\n",
        "            mask[self.batch_size + i, i] = 0\n",
        "        return mask\n",
        "\n",
        "    def forward(self, z_i, z_j):\n",
        "        N = 2 * self.batch_size\n",
        "        z = torch.cat([z_i, z_j], dim=0)  # shape: (2B, projection_dim)\n",
        "        sim = torch.matmul(z, z.T) / self.temperature  # cosine similarity matrix\n",
        "        sim_i_j = torch.diag(sim, self.batch_size)\n",
        "        sim_j_i = torch.diag(sim, -self.batch_size)\n",
        "        positives = torch.cat([sim_i_j, sim_j_i], dim=0).reshape(N, 1)\n",
        "        negatives = sim[self.mask].reshape(N, -1)\n",
        "        labels = torch.zeros(N, dtype=torch.long).to(self.device)\n",
        "        logits = torch.cat([positives, negatives], dim=1)\n",
        "        loss = self.criterion(logits, labels)\n",
        "        loss = loss / N\n",
        "        return loss\n",
        "nt_xent_loss = NTXentLoss(batch_size=batch_size, temperature=0.5, device=device)"
      ],
      "metadata": {
        "id": "92_KL8hkdgnn"
      },
      "execution_count": null,
      "outputs": []
    },
    {
      "cell_type": "markdown",
      "source": [
        "# Training Loop for Contrastive Learning"
      ],
      "metadata": {
        "id": "SgMcL_JddojS"
      }
    },
    {
      "cell_type": "code",
      "source": [
        "optimizer = optim.Adam(model.parameters(), lr=3e-4)\n",
        "num_epochs = 50  # Adjust as needed\n",
        "\n",
        "for epoch in range(num_epochs):\n",
        "    model.train()\n",
        "    total_loss = 0.0\n",
        "    for (imgs, _) in train_loader:\n",
        "        # Each sample returns two augmented views: shape [B, 2, C, H, W]\n",
        "        imgs = torch.stack(imgs, dim=1).to(device)  # (B, 2, C, H, W)\n",
        "        img1 = imgs[:, 0, :, :, :]\n",
        "        img2 = imgs[:, 1, :, :, :]\n",
        "\n",
        "        optimizer.zero_grad()\n",
        "        z_i = model(img1)  # Projections for view 1\n",
        "        z_j = model(img2)  # Projections for view 2\n",
        "\n",
        "        loss = nt_xent_loss(z_i, z_j)\n",
        "        loss.backward()\n",
        "        optimizer.step()\n",
        "\n",
        "        total_loss += loss.item()\n",
        "\n",
        "    avg_loss = total_loss / len(train_loader)\n",
        "    print(f\"Epoch [{epoch+1}/{num_epochs}] Loss: {avg_loss:.4f}\")\n",
        "\n",
        "print(\"SimCLR training complete!\")"
      ],
      "metadata": {
        "colab": {
          "base_uri": "https://localhost:8080/"
        },
        "id": "1GlSHsdGdlwE",
        "outputId": "b60c63d7-c65f-4625-aeed-b6f26d4df1ee"
      },
      "execution_count": null,
      "outputs": [
        {
          "output_type": "stream",
          "name": "stdout",
          "text": [
            "Epoch [1/50] Loss: 5.5495\n",
            "Epoch [2/50] Loss: 5.5410\n",
            "Epoch [3/50] Loss: 5.5275\n",
            "Epoch [4/50] Loss: 5.4337\n",
            "Epoch [5/50] Loss: 5.3289\n",
            "Epoch [6/50] Loss: 5.1756\n",
            "Epoch [7/50] Loss: 5.0084\n",
            "Epoch [8/50] Loss: 4.8862\n",
            "Epoch [9/50] Loss: 4.7346\n",
            "Epoch [10/50] Loss: 4.6655\n",
            "Epoch [11/50] Loss: 4.5850\n",
            "Epoch [12/50] Loss: 4.5505\n",
            "Epoch [13/50] Loss: 4.5033\n",
            "Epoch [14/50] Loss: 4.4735\n",
            "Epoch [15/50] Loss: 4.4676\n",
            "Epoch [16/50] Loss: 4.4391\n",
            "Epoch [17/50] Loss: 4.4404\n",
            "Epoch [18/50] Loss: 4.4165\n",
            "Epoch [19/50] Loss: 4.3809\n",
            "Epoch [20/50] Loss: 4.3496\n",
            "Epoch [21/50] Loss: 4.3660\n",
            "Epoch [22/50] Loss: 4.3401\n",
            "Epoch [23/50] Loss: 4.3241\n",
            "Epoch [24/50] Loss: 4.3197\n",
            "Epoch [25/50] Loss: 4.3070\n",
            "Epoch [26/50] Loss: 4.2834\n",
            "Epoch [27/50] Loss: 4.2832\n",
            "Epoch [28/50] Loss: 4.2765\n",
            "Epoch [29/50] Loss: 4.2823\n",
            "Epoch [30/50] Loss: 4.2478\n",
            "Epoch [31/50] Loss: 4.2597\n",
            "Epoch [32/50] Loss: 4.2523\n",
            "Epoch [33/50] Loss: 4.2405\n",
            "Epoch [34/50] Loss: 4.2515\n",
            "Epoch [35/50] Loss: 4.2442\n",
            "Epoch [36/50] Loss: 4.2343\n",
            "Epoch [37/50] Loss: 4.2405\n",
            "Epoch [38/50] Loss: 4.2231\n",
            "Epoch [39/50] Loss: 4.2086\n",
            "Epoch [40/50] Loss: 4.1967\n",
            "Epoch [41/50] Loss: 4.2062\n",
            "Epoch [42/50] Loss: 4.2194\n",
            "Epoch [43/50] Loss: 4.2103\n",
            "Epoch [44/50] Loss: 4.2075\n",
            "Epoch [45/50] Loss: 4.2117\n",
            "Epoch [46/50] Loss: 4.1895\n",
            "Epoch [47/50] Loss: 4.1842\n",
            "Epoch [48/50] Loss: 4.1703\n",
            "Epoch [49/50] Loss: 4.1899\n",
            "Epoch [50/50] Loss: 4.1766\n",
            "SimCLR training complete!\n"
          ]
        }
      ]
    },
    {
      "cell_type": "markdown",
      "source": [
        "# Downstream Task"
      ],
      "metadata": {
        "id": "tms3nHW3iRNI"
      }
    },
    {
      "cell_type": "code",
      "source": [
        "# Define transforms for ResNet50 (224x224 with ImageNet normalization)\n",
        "transform = transforms.Compose([\n",
        "    transforms.Resize((224, 224)),\n",
        "    transforms.ToTensor(),\n",
        "    transforms.Normalize(mean=[0.485, 0.456, 0.406],\n",
        "                         std=[0.229, 0.224, 0.225])\n",
        "])\n",
        "\n",
        "# Directory of your dataset\n",
        "data_dir = '/content/dataset1/train_val_photos'\n",
        "\n",
        "# Load full dataset (ImageFolder expects a folder per class)\n",
        "dataset = datasets.ImageFolder(root=data_dir, transform=transform)\n",
        "print(\"Full dataset class mapping:\", dataset.class_to_idx)\n",
        "# e.g., {'Double': 0, 'Single': 1, 'Unkown': 2}\n",
        "\n",
        "# For training, we use only the known classes: \"Double\" and \"Single\"\n",
        "known_class_names = ['Double', 'Single']\n",
        "known_classes = [dataset.class_to_idx[name] for name in known_class_names]\n",
        "known_indices = [i for i, (_, label) in enumerate(dataset.samples) if label in known_classes]\n",
        "known_dataset = Subset(dataset, known_indices)\n",
        "\n",
        "# Split known_dataset into training (80%) and validation (20%)\n",
        "train_size = int(0.8 * len(known_dataset))\n",
        "val_size = len(known_dataset) - train_size\n",
        "train_dataset, val_dataset = random_split(known_dataset, [train_size, val_size])\n",
        "\n",
        "train_loader = DataLoader(train_dataset, batch_size=32, shuffle=True, num_workers=2)\n",
        "val_loader   = DataLoader(val_dataset, batch_size=32, shuffle=False, num_workers=2)\n",
        "\n",
        "# For evaluation, use the full dataset (which includes the \"Unkown\" class)\n",
        "eval_loader = DataLoader(dataset, batch_size=32, shuffle=False, num_workers=2)"
      ],
      "metadata": {
        "colab": {
          "base_uri": "https://localhost:8080/"
        },
        "id": "YgQSS86biT62",
        "outputId": "f8a723e0-9f22-46fa-8869-a3dc841909b0"
      },
      "execution_count": null,
      "outputs": [
        {
          "output_type": "stream",
          "name": "stdout",
          "text": [
            "Full dataset class mapping: {'Double': 0, 'Single': 1, 'Unknown': 2}\n"
          ]
        }
      ]
    },
    {
      "cell_type": "code",
      "source": [
        "# Instantiate a ResNet50 model without pretrained weights\n",
        "backbone = models.resnet50(pretrained=False)\n",
        "num_features = backbone.fc.in_features\n",
        "\n",
        "# Replace the final fully connected layer with an Identity layer so the backbone outputs a 2048-dim feature vector.\n",
        "backbone.fc = nn.Identity()\n",
        "\n",
        "# Load the fine-tuned state dictionary with strict=False to ignore fc weights in the state dict\n",
        "state_dict = torch.load(\"resnet50_finetuned.pth\")\n",
        "backbone.load_state_dict(state_dict, strict=False)\n",
        "backbone.eval()  # Set to evaluation mode\n",
        "\n",
        "# Move backbone to device\n",
        "device = torch.device(\"cuda\" if torch.cuda.is_available() else \"cpu\")\n",
        "backbone = backbone.to(device)\n",
        "\n",
        "# Optionally freeze the backbone (for linear evaluation)\n",
        "for param in backbone.parameters():\n",
        "    param.requires_grad = False"
      ],
      "metadata": {
        "colab": {
          "base_uri": "https://localhost:8080/"
        },
        "id": "2QtfTZj2ic0G",
        "outputId": "9ba17f24-e7a7-4252-e479-df947d02cd1a"
      },
      "execution_count": null,
      "outputs": [
        {
          "output_type": "stream",
          "name": "stderr",
          "text": [
            "/usr/local/lib/python3.11/dist-packages/torchvision/models/_utils.py:208: UserWarning: The parameter 'pretrained' is deprecated since 0.13 and may be removed in the future, please use 'weights' instead.\n",
            "  warnings.warn(\n",
            "/usr/local/lib/python3.11/dist-packages/torchvision/models/_utils.py:223: UserWarning: Arguments other than a weight enum or `None` for 'weights' are deprecated since 0.13 and may be removed in the future. The current behavior is equivalent to passing `weights=None`.\n",
            "  warnings.warn(msg)\n"
          ]
        }
      ]
    },
    {
      "cell_type": "code",
      "source": [
        "# Define the downstream model: backbone + linear classifier\n",
        "class DownstreamModel(nn.Module):\n",
        "    def __init__(self, backbone, num_classes=2):\n",
        "        super(DownstreamModel, self).__init__()\n",
        "        self.backbone = backbone  # Feature extractor (2048-dim output)\n",
        "        self.classifier = nn.Linear(2048, num_classes)  # New linear classifier for known classes\n",
        "    def forward(self, x):\n",
        "        features = self.backbone(x)  # (B, 2048)\n",
        "        out = self.classifier(features)  # (B, num_classes)\n",
        "        return out"
      ],
      "metadata": {
        "id": "lgyOOxlkjD-7"
      },
      "execution_count": null,
      "outputs": []
    },
    {
      "cell_type": "code",
      "source": [
        "# Instantiate downstream model (2 classes: \"Double\" and \"Single\")\n",
        "model = DownstreamModel(backbone, num_classes=2).to(device)\n",
        "\n",
        "criterion = nn.CrossEntropyLoss()\n",
        "optimizer = optim.Adam(model.classifier.parameters(), lr=0.001)  # Only train classifier head\n"
      ],
      "metadata": {
        "id": "htvvp5f3jGTQ"
      },
      "execution_count": null,
      "outputs": []
    },
    {
      "cell_type": "code",
      "source": [
        "# -------------------------------\n",
        "# 3. Training Loop (Downstream Task)\n",
        "# -------------------------------\n",
        "\n",
        "num_epochs = 10\n",
        "for epoch in range(num_epochs):\n",
        "    model.train()\n",
        "    running_loss = 0.0\n",
        "    running_corrects = 0\n",
        "\n",
        "    for images, labels in train_loader:\n",
        "        images = images.to(device)\n",
        "        labels = labels.to(device)\n",
        "\n",
        "        optimizer.zero_grad()\n",
        "        outputs = model(images)\n",
        "        loss = criterion(outputs, labels)\n",
        "        loss.backward()\n",
        "        optimizer.step()\n",
        "\n",
        "        running_loss += loss.item() * images.size(0)\n",
        "        _, preds = torch.max(outputs, 1)\n",
        "        running_corrects += torch.sum(preds == labels.data)\n",
        "\n",
        "    epoch_loss = running_loss / len(train_dataset)\n",
        "    epoch_acc = running_corrects.double() / len(train_dataset)\n",
        "    print(f\"Epoch {epoch+1}/{num_epochs} - Train Loss: {epoch_loss:.4f}, Acc: {epoch_acc:.4f}\")\n",
        "\n",
        "    # Validation phase\n",
        "    model.eval()\n",
        "    val_loss = 0.0\n",
        "    val_corrects = 0\n",
        "    with torch.no_grad():\n",
        "        for images, labels in val_loader:\n",
        "            images = images.to(device)\n",
        "            labels = labels.to(device)\n",
        "            outputs = model(images)\n",
        "            loss = criterion(outputs, labels)\n",
        "            val_loss += loss.item() * images.size(0)\n",
        "            _, preds = torch.max(outputs, 1)\n",
        "            val_corrects += torch.sum(preds == labels.data)\n",
        "    val_loss = val_loss / len(val_dataset)\n",
        "    val_acc = val_corrects.double() / len(val_dataset)\n",
        "    print(f\"Epoch {epoch+1}/{num_epochs} - Val Loss: {val_loss:.4f}, Acc: {val_acc:.4f}\")\n"
      ],
      "metadata": {
        "colab": {
          "base_uri": "https://localhost:8080/"
        },
        "id": "cdOh7rTXjJSM",
        "outputId": "aed73d88-13b1-44da-bd13-5403607ae753"
      },
      "execution_count": null,
      "outputs": [
        {
          "output_type": "stream",
          "name": "stdout",
          "text": [
            "Epoch 1/10 - Train Loss: 0.0533, Acc: 0.9846\n",
            "Epoch 1/10 - Val Loss: 0.0146, Acc: 0.9976\n",
            "Epoch 2/10 - Train Loss: 0.0402, Acc: 0.9894\n",
            "Epoch 2/10 - Val Loss: 0.0137, Acc: 0.9976\n",
            "Epoch 3/10 - Train Loss: 0.0351, Acc: 0.9900\n",
            "Epoch 3/10 - Val Loss: 0.0221, Acc: 0.9953\n",
            "Epoch 4/10 - Train Loss: 0.0239, Acc: 0.9917\n",
            "Epoch 4/10 - Val Loss: 0.0127, Acc: 0.9953\n",
            "Epoch 5/10 - Train Loss: 0.0352, Acc: 0.9882\n",
            "Epoch 5/10 - Val Loss: 0.0198, Acc: 0.9953\n",
            "Epoch 6/10 - Train Loss: 0.0413, Acc: 0.9882\n",
            "Epoch 6/10 - Val Loss: 0.0134, Acc: 0.9929\n",
            "Epoch 7/10 - Train Loss: 0.0339, Acc: 0.9900\n",
            "Epoch 7/10 - Val Loss: 0.0187, Acc: 0.9953\n",
            "Epoch 8/10 - Train Loss: 0.0378, Acc: 0.9876\n",
            "Epoch 8/10 - Val Loss: 0.0143, Acc: 0.9929\n",
            "Epoch 9/10 - Train Loss: 0.0273, Acc: 0.9935\n",
            "Epoch 9/10 - Val Loss: 0.0135, Acc: 0.9953\n",
            "Epoch 10/10 - Train Loss: 0.0396, Acc: 0.9882\n",
            "Epoch 10/10 - Val Loss: 0.0154, Acc: 0.9929\n"
          ]
        }
      ]
    },
    {
      "cell_type": "code",
      "source": [
        "# -------------------------------\n",
        "# 4. Evaluation on Full Dataset\n",
        "# -------------------------------\n",
        "model.eval()\n",
        "all_preds = []\n",
        "all_labels = []\n",
        "with torch.no_grad():\n",
        "    for images, labels in eval_loader:\n",
        "        images = images.to(device)\n",
        "        outputs = model(images)\n",
        "        _, preds = torch.max(outputs, 1)\n",
        "        all_preds.extend(preds.cpu().numpy())\n",
        "        all_labels.extend(labels.cpu().numpy())\n",
        "\n",
        "print(\"Classification Report on Evaluation Dataset:\")\n",
        "target_names = list(dataset.class_to_idx.keys())\n",
        "print(classification_report(all_labels, all_preds, target_names=target_names))"
      ],
      "metadata": {
        "colab": {
          "base_uri": "https://localhost:8080/"
        },
        "id": "5Pvc6rpYjemn",
        "outputId": "194b1226-b62e-4086-9e9d-2df6ca9df3d3"
      },
      "execution_count": null,
      "outputs": [
        {
          "output_type": "stream",
          "name": "stdout",
          "text": [
            "Classification Report on Evaluation Dataset:\n",
            "              precision    recall  f1-score   support\n",
            "\n",
            "      Double       0.86      1.00      0.92      1028\n",
            "      Single       0.70      0.99      0.82      1088\n",
            "     Unknown       0.00      0.00      0.00       616\n",
            "\n",
            "    accuracy                           0.77      2732\n",
            "   macro avg       0.52      0.66      0.58      2732\n",
            "weighted avg       0.60      0.77      0.67      2732\n",
            "\n"
          ]
        },
        {
          "output_type": "stream",
          "name": "stderr",
          "text": [
            "/usr/local/lib/python3.11/dist-packages/sklearn/metrics/_classification.py:1565: UndefinedMetricWarning: Precision is ill-defined and being set to 0.0 in labels with no predicted samples. Use `zero_division` parameter to control this behavior.\n",
            "  _warn_prf(average, modifier, f\"{metric.capitalize()} is\", len(result))\n",
            "/usr/local/lib/python3.11/dist-packages/sklearn/metrics/_classification.py:1565: UndefinedMetricWarning: Precision is ill-defined and being set to 0.0 in labels with no predicted samples. Use `zero_division` parameter to control this behavior.\n",
            "  _warn_prf(average, modifier, f\"{metric.capitalize()} is\", len(result))\n",
            "/usr/local/lib/python3.11/dist-packages/sklearn/metrics/_classification.py:1565: UndefinedMetricWarning: Precision is ill-defined and being set to 0.0 in labels with no predicted samples. Use `zero_division` parameter to control this behavior.\n",
            "  _warn_prf(average, modifier, f\"{metric.capitalize()} is\", len(result))\n"
          ]
        }
      ]
    },
    {
      "cell_type": "code",
      "source": [
        "# -------------------------------\n",
        "# 4. Evaluation with Open-Set Recognition\n",
        "# -------------------------------\n",
        "# Here we incorporate a simple open-set technique by thresholding the max softmax probability.\n",
        "# If the maximum probability is below a chosen threshold, we label the sample as \"Unknown\" (label 2).\n",
        "\n",
        "unknown_threshold = 0.95  # Adjust this threshold based on validation performance\n",
        "\n",
        "model.eval()\n",
        "all_preds = []\n",
        "all_labels = []\n",
        "with torch.no_grad():\n",
        "    for images, labels in eval_loader:\n",
        "        images = images.to(device)\n",
        "        outputs = model(images)\n",
        "        probs = F.softmax(outputs, dim=1)\n",
        "        max_probs, preds = torch.max(probs, dim=1)\n",
        "        preds = preds.cpu().numpy()\n",
        "        max_probs = max_probs.cpu().numpy()\n",
        "        for i in range(len(preds)):\n",
        "            # If the max probability is below the threshold, assign \"Unknown\" label (2)\n",
        "            if max_probs[i] < unknown_threshold:\n",
        "                all_preds.append(2)\n",
        "            else:\n",
        "                all_preds.append(preds[i])\n",
        "        all_labels.extend(labels.cpu().numpy())\n",
        "\n",
        "# Print classification report using sklearn's classification_report\n",
        "from sklearn.metrics import classification_report\n",
        "# Assuming dataset.class_to_idx maps {'Double': 0, 'Single': 1, 'Unkown': 2}\n",
        "target_names = list(dataset.class_to_idx.keys())\n",
        "print(\"Classification Report with Open-Set Recognition:\")\n",
        "print(classification_report(all_labels, all_preds, target_names=target_names))\n"
      ],
      "metadata": {
        "colab": {
          "base_uri": "https://localhost:8080/"
        },
        "id": "SFfCf96foM1P",
        "outputId": "b4a82fb6-93ca-4214-853d-0c09ffcdb8d0"
      },
      "execution_count": null,
      "outputs": [
        {
          "output_type": "stream",
          "name": "stdout",
          "text": [
            "Classification Report with Open-Set Recognition:\n",
            "              precision    recall  f1-score   support\n",
            "\n",
            "      Double       0.96      0.99      0.98      1028\n",
            "      Single       0.78      0.96      0.86      1088\n",
            "     Unknown       0.85      0.46      0.60       616\n",
            "\n",
            "    accuracy                           0.86      2732\n",
            "   macro avg       0.86      0.80      0.81      2732\n",
            "weighted avg       0.86      0.86      0.85      2732\n",
            "\n"
          ]
        }
      ]
    },
    {
      "cell_type": "code",
      "source": [
        "import seaborn as sns\n",
        "import matplotlib.pyplot as plt\n",
        "from sklearn.metrics import confusion_matrix, roc_curve, auc\n",
        "from sklearn.preprocessing import label_binarize\n",
        "\n",
        "# ---- Confusion Matrix ----\n",
        "# Compute confusion matrix using scikit-learn\n",
        "cm = confusion_matrix(all_labels, all_preds)\n",
        "target_names = list(dataset.class_to_idx.keys())\n",
        "plt.figure(figsize=(8, 6))\n",
        "sns.heatmap(cm, annot=True, fmt='d', cmap='Blues',\n",
        "            xticklabels=target_names, yticklabels=target_names)\n",
        "plt.ylabel('True Label')\n",
        "plt.xlabel('Predicted Label')\n",
        "plt.title('Confusion Matrix')\n",
        "plt.show()"
      ],
      "metadata": {
        "colab": {
          "base_uri": "https://localhost:8080/",
          "height": 564
        },
        "id": "Ydu6baYeqDMX",
        "outputId": "f14f8410-b9c7-474a-e839-3f6baad7a6b5"
      },
      "execution_count": null,
      "outputs": [
        {
          "output_type": "display_data",
          "data": {
            "text/plain": [
              "<Figure size 800x600 with 2 Axes>"
            ],
            "image/png": "[encoded data removed]"
          },
          "metadata": {}
        }
      ]
    },
    {
      "cell_type": "code",
      "source": [
        "# ---- ROC Curves ----\n",
        "# For ROC curves, we need continuous scores for each class.\n",
        "# Our downstream model outputs logits for known classes. We compute softmax probabilities,\n",
        "# and define the unknown score as 1 - max(probability among known classes).\n",
        "all_scores = []  # Will store (B, 3) arrays for each batch: [score_double, score_single, score_unknown]\n",
        "all_labels_list = []  # True labels for each batch\n",
        "model.eval()\n",
        "with torch.no_grad():\n",
        "    for images, labels in eval_loader:\n",
        "        images = images.to(device)\n",
        "        outputs = model(images)  # logits for known classes (shape: [B, 2])\n",
        "        probs = F.softmax(outputs, dim=1)  # probabilities for known classes\n",
        "        max_probs, _ = torch.max(probs, dim=1, keepdim=True)  # shape: (B, 1)\n",
        "        p_unknown = 1 - max_probs  # Higher when the model is less confident on known classes.\n",
        "        # Concatenate known class probabilities with the unknown score:\n",
        "        scores = torch.cat([probs, p_unknown], dim=1)  # shape: (B, 3)\n",
        "        all_scores.append(scores.cpu().numpy())\n",
        "        all_labels_list.append(labels.cpu().numpy())\n",
        "all_scores = np.concatenate(all_scores, axis=0)  # shape: (N, 3)\n",
        "all_labels_arr = np.concatenate(all_labels_list, axis=0)  # shape: (N,)\n",
        "\n",
        "# For multi-class ROC, we need to binarize the true labels.\n",
        "y_true_bin = label_binarize(all_labels_arr, classes=[0, 1, 2])  # shape: (N, 3)\n",
        "\n",
        "# Compute ROC curve and AUC for each class.\n",
        "fpr = dict()\n",
        "tpr = dict()\n",
        "roc_auc = dict()\n",
        "for i in range(3):\n",
        "    fpr[i], tpr[i], _ = roc_curve(y_true_bin[:, i], all_scores[:, i])\n",
        "    roc_auc[i] = auc(fpr[i], tpr[i])\n",
        "\n",
        "# Plot ROC curves.\n",
        "plt.figure(figsize=(8, 6))\n",
        "for i, class_name in enumerate(target_names):\n",
        "    plt.plot(fpr[i], tpr[i], label=f'{class_name} (AUC = {roc_auc[i]:.2f})')\n",
        "plt.plot([0, 1], [0, 1], 'k--', label='Random')\n",
        "plt.xlim([0, 1])\n",
        "plt.ylim([0, 1])\n",
        "plt.xlabel('False Positive Rate')\n",
        "plt.ylabel('True Positive Rate')\n",
        "plt.title('ROC Curves for Each Class')\n",
        "plt.legend(loc=\"lower right\")\n",
        "plt.show()"
      ],
      "metadata": {
        "colab": {
          "base_uri": "https://localhost:8080/",
          "height": 564
        },
        "id": "iqYkDvKLqMrC",
        "outputId": "3e93dad3-e17e-4edc-fa85-970967d33eba"
      },
      "execution_count": null,
      "outputs": [
        {
          "output_type": "display_data",
          "data": {
            "text/plain": [
              "<Figure size 800x600 with 1 Axes>"
            ],
            "image/png": "[encoded data removed]"
          },
          "metadata": {}
        }
      ]
    },
    {
      "cell_type": "markdown",
      "source": [
        "# Model Setup: Backbone + Projection Head + Classifier"
      ],
      "metadata": {
        "id": "VOS-GuHVsJFV"
      }
    },
    {
      "cell_type": "code",
      "source": [
        "# --- Load Fine-Tuned ResNet50 Backbone ---\n",
        "# Load the fine-tuned ResNet50 (trained on \"Double\" and \"Single\")\n",
        "backbone = models.resnet50(pretrained=False)\n",
        "num_features = backbone.fc.in_features\n",
        "# Replace final FC with Identity to get a 2048-dim feature vector\n",
        "backbone.fc = nn.Identity()\n",
        "backbone.load_state_dict(torch.load(\"resnet50_finetuned.pth\"))\n",
        "backbone.eval()  # Set to eval mode\n",
        "# Optionally, freeze the backbone\n",
        "for param in backbone.parameters():\n",
        "    param.requires_grad = False"
      ],
      "metadata": {
        "colab": {
          "base_uri": "https://localhost:8080/",
          "height": 446
        },
        "id": "cmJQeRjBsM-j",
        "outputId": "aa737b80-3d94-4818-df6a-fc1e80ae648e"
      },
      "execution_count": null,
      "outputs": [
        {
          "output_type": "stream",
          "name": "stderr",
          "text": [
            "/usr/local/lib/python3.11/dist-packages/torchvision/models/_utils.py:208: UserWarning: The parameter 'pretrained' is deprecated since 0.13 and may be removed in the future, please use 'weights' instead.\n",
            "  warnings.warn(\n",
            "/usr/local/lib/python3.11/dist-packages/torchvision/models/_utils.py:223: UserWarning: Arguments other than a weight enum or `None` for 'weights' are deprecated since 0.13 and may be removed in the future. The current behavior is equivalent to passing `weights=None`.\n",
            "  warnings.warn(msg)\n"
          ]
        },
        {
          "output_type": "error",
          "ename": "FileNotFoundError",
          "evalue": "[Errno 2] No such file or directory: 'resnet50_finetuned.pth'",
          "traceback": [
            "\u001b[0;31m---------------------------------------------------------------------------\u001b[0m",
            "\u001b[0;31mFileNotFoundError\u001b[0m                         Traceback (most recent call last)",
            "\u001b[0;32m<ipython-input-3-99887aa76191>\u001b[0m in \u001b[0;36m<cell line: 0>\u001b[0;34m()\u001b[0m\n\u001b[1;32m      5\u001b[0m \u001b[0;31m# Replace final FC with Identity to get a 2048-dim feature vector\u001b[0m\u001b[0;34m\u001b[0m\u001b[0;34m\u001b[0m\u001b[0m\n\u001b[1;32m      6\u001b[0m \u001b[0mbackbone\u001b[0m\u001b[0;34m.\u001b[0m\u001b[0mfc\u001b[0m \u001b[0;34m=\u001b[0m \u001b[0mnn\u001b[0m\u001b[0;34m.\u001b[0m\u001b[0mIdentity\u001b[0m\u001b[0;34m(\u001b[0m\u001b[0;34m)\u001b[0m\u001b[0;34m\u001b[0m\u001b[0;34m\u001b[0m\u001b[0m\n\u001b[0;32m----> 7\u001b[0;31m \u001b[0mbackbone\u001b[0m\u001b[0;34m.\u001b[0m\u001b[0mload_state_dict\u001b[0m\u001b[0;34m(\u001b[0m\u001b[0mtorch\u001b[0m\u001b[0;34m.\u001b[0m\u001b[0mload\u001b[0m\u001b[0;34m(\u001b[0m\u001b[0;34m\"resnet50_finetuned.pth\"\u001b[0m\u001b[0;34m)\u001b[0m\u001b[0;34m)\u001b[0m\u001b[0;34m\u001b[0m\u001b[0;34m\u001b[0m\u001b[0m\n\u001b[0m\u001b[1;32m      8\u001b[0m \u001b[0mbackbone\u001b[0m\u001b[0;34m.\u001b[0m\u001b[0meval\u001b[0m\u001b[0;34m(\u001b[0m\u001b[0;34m)\u001b[0m  \u001b[0;31m# Set to eval mode\u001b[0m\u001b[0;34m\u001b[0m\u001b[0;34m\u001b[0m\u001b[0m\n\u001b[1;32m      9\u001b[0m \u001b[0;31m# Optionally, freeze the backbone\u001b[0m\u001b[0;34m\u001b[0m\u001b[0;34m\u001b[0m\u001b[0m\n",
            "\u001b[0;32m/usr/local/lib/python3.11/dist-packages/torch/serialization.py\u001b[0m in \u001b[0;36mload\u001b[0;34m(f, map_location, pickle_module, weights_only, mmap, **pickle_load_args)\u001b[0m\n\u001b[1;32m   1423\u001b[0m         \u001b[0mpickle_load_args\u001b[0m\u001b[0;34m[\u001b[0m\u001b[0;34m\"encoding\"\u001b[0m\u001b[0;34m]\u001b[0m \u001b[0;34m=\u001b[0m \u001b[0;34m\"utf-8\"\u001b[0m\u001b[0;34m\u001b[0m\u001b[0;34m\u001b[0m\u001b[0m\n\u001b[1;32m   1424\u001b[0m \u001b[0;34m\u001b[0m\u001b[0m\n\u001b[0;32m-> 1425\u001b[0;31m     \u001b[0;32mwith\u001b[0m \u001b[0m_open_file_like\u001b[0m\u001b[0;34m(\u001b[0m\u001b[0mf\u001b[0m\u001b[0;34m,\u001b[0m \u001b[0;34m\"rb\"\u001b[0m\u001b[0;34m)\u001b[0m \u001b[0;32mas\u001b[0m \u001b[0mopened_file\u001b[0m\u001b[0;34m:\u001b[0m\u001b[0;34m\u001b[0m\u001b[0;34m\u001b[0m\u001b[0m\n\u001b[0m\u001b[1;32m   1426\u001b[0m         \u001b[0;32mif\u001b[0m \u001b[0m_is_zipfile\u001b[0m\u001b[0;34m(\u001b[0m\u001b[0mopened_file\u001b[0m\u001b[0;34m)\u001b[0m\u001b[0;34m:\u001b[0m\u001b[0;34m\u001b[0m\u001b[0;34m\u001b[0m\u001b[0m\n\u001b[1;32m   1427\u001b[0m             \u001b[0;31m# The zipfile reader is going to advance the current file position.\u001b[0m\u001b[0;34m\u001b[0m\u001b[0;34m\u001b[0m\u001b[0m\n",
            "\u001b[0;32m/usr/local/lib/python3.11/dist-packages/torch/serialization.py\u001b[0m in \u001b[0;36m_open_file_like\u001b[0;34m(name_or_buffer, mode)\u001b[0m\n\u001b[1;32m    749\u001b[0m \u001b[0;32mdef\u001b[0m \u001b[0m_open_file_like\u001b[0m\u001b[0;34m(\u001b[0m\u001b[0mname_or_buffer\u001b[0m\u001b[0;34m,\u001b[0m \u001b[0mmode\u001b[0m\u001b[0;34m)\u001b[0m\u001b[0;34m:\u001b[0m\u001b[0;34m\u001b[0m\u001b[0;34m\u001b[0m\u001b[0m\n\u001b[1;32m    750\u001b[0m     \u001b[0;32mif\u001b[0m \u001b[0m_is_path\u001b[0m\u001b[0;34m(\u001b[0m\u001b[0mname_or_buffer\u001b[0m\u001b[0;34m)\u001b[0m\u001b[0;34m:\u001b[0m\u001b[0;34m\u001b[0m\u001b[0;34m\u001b[0m\u001b[0m\n\u001b[0;32m--> 751\u001b[0;31m         \u001b[0;32mreturn\u001b[0m \u001b[0m_open_file\u001b[0m\u001b[0;34m(\u001b[0m\u001b[0mname_or_buffer\u001b[0m\u001b[0;34m,\u001b[0m \u001b[0mmode\u001b[0m\u001b[0;34m)\u001b[0m\u001b[0;34m\u001b[0m\u001b[0;34m\u001b[0m\u001b[0m\n\u001b[0m\u001b[1;32m    752\u001b[0m     \u001b[0;32melse\u001b[0m\u001b[0;34m:\u001b[0m\u001b[0;34m\u001b[0m\u001b[0;34m\u001b[0m\u001b[0m\n\u001b[1;32m    753\u001b[0m         \u001b[0;32mif\u001b[0m \u001b[0;34m\"w\"\u001b[0m \u001b[0;32min\u001b[0m \u001b[0mmode\u001b[0m\u001b[0;34m:\u001b[0m\u001b[0;34m\u001b[0m\u001b[0;34m\u001b[0m\u001b[0m\n",
            "\u001b[0;32m/usr/local/lib/python3.11/dist-packages/torch/serialization.py\u001b[0m in \u001b[0;36m__init__\u001b[0;34m(self, name, mode)\u001b[0m\n\u001b[1;32m    730\u001b[0m \u001b[0;32mclass\u001b[0m \u001b[0m_open_file\u001b[0m\u001b[0;34m(\u001b[0m\u001b[0m_opener\u001b[0m\u001b[0;34m)\u001b[0m\u001b[0;34m:\u001b[0m\u001b[0;34m\u001b[0m\u001b[0;34m\u001b[0m\u001b[0m\n\u001b[1;32m    731\u001b[0m     \u001b[0;32mdef\u001b[0m \u001b[0m__init__\u001b[0m\u001b[0;34m(\u001b[0m\u001b[0mself\u001b[0m\u001b[0;34m,\u001b[0m \u001b[0mname\u001b[0m\u001b[0;34m,\u001b[0m \u001b[0mmode\u001b[0m\u001b[0;34m)\u001b[0m\u001b[0;34m:\u001b[0m\u001b[0;34m\u001b[0m\u001b[0;34m\u001b[0m\u001b[0m\n\u001b[0;32m--> 732\u001b[0;31m         \u001b[0msuper\u001b[0m\u001b[0;34m(\u001b[0m\u001b[0;34m)\u001b[0m\u001b[0;34m.\u001b[0m\u001b[0m__init__\u001b[0m\u001b[0;34m(\u001b[0m\u001b[0mopen\u001b[0m\u001b[0;34m(\u001b[0m\u001b[0mname\u001b[0m\u001b[0;34m,\u001b[0m \u001b[0mmode\u001b[0m\u001b[0;34m)\u001b[0m\u001b[0;34m)\u001b[0m\u001b[0;34m\u001b[0m\u001b[0;34m\u001b[0m\u001b[0m\n\u001b[0m\u001b[1;32m    733\u001b[0m \u001b[0;34m\u001b[0m\u001b[0m\n\u001b[1;32m    734\u001b[0m     \u001b[0;32mdef\u001b[0m \u001b[0m__exit__\u001b[0m\u001b[0;34m(\u001b[0m\u001b[0mself\u001b[0m\u001b[0;34m,\u001b[0m \u001b[0;34m*\u001b[0m\u001b[0margs\u001b[0m\u001b[0;34m)\u001b[0m\u001b[0;34m:\u001b[0m\u001b[0;34m\u001b[0m\u001b[0;34m\u001b[0m\u001b[0m\n",
            "\u001b[0;31mFileNotFoundError\u001b[0m: [Errno 2] No such file or directory: 'resnet50_finetuned.pth'"
          ]
        }
      ]
    }
  ],
  "metadata": {
    "accelerator": "GPU",
    "colab": {
      "gpuType": "A100",
      "machine_shape": "hm",
      "provenance": [],
      "authorship_tag": "ABX9TyMyWkynoyo3bRLdAWQ/sppZ",
      "include_colab_link": true
    },
    "kernelspec": {
      "display_name": "Python 3",
      "name": "python3"
    },
    "language_info": {
      "name": "python"
    }
  },
  "nbformat": 4,
  "nbformat_minor": 0
}